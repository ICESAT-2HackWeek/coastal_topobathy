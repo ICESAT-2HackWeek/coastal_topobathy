{
 "cells": [
  {
   "cell_type": "markdown",
   "id": "suffering-union",
   "metadata": {
    "tags": []
   },
   "source": [
    "# USACE topobathy vis with Google Earth Engine"
   ]
  },
  {
   "cell_type": "markdown",
   "id": "649d863c-5ad1-4b9f-9fa0-416ff04396a4",
   "metadata": {},
   "source": [
    "## Computing environment\n",
    "\n",
    "We'll be using the following Python libraries in this notebook:"
   ]
  },
  {
   "cell_type": "code",
   "execution_count": 1,
   "id": "2a5720d5-d805-4c24-a92e-a2238805cdbf",
   "metadata": {},
   "outputs": [],
   "source": [
    "%matplotlib widget\n",
    "import ee\n",
    "import geemap"
   ]
  },
  {
   "cell_type": "code",
   "execution_count": 2,
   "id": "eec14c50",
   "metadata": {
    "collapsed": false,
    "jupyter": {
     "outputs_hidden": false
    },
    "pycharm": {
     "name": "#%%\n"
    }
   },
   "outputs": [],
   "source": [
    "import sys\n",
    "sys.path.append('../')"
   ]
  },
  {
   "cell_type": "code",
   "execution_count": 3,
   "id": "9b4b00c0",
   "metadata": {
    "collapsed": false,
    "jupyter": {
     "outputs_hidden": false
    },
    "pycharm": {
     "name": "#%%\n"
    }
   },
   "outputs": [],
   "source": [
    "from coastal.gis import dist_latlon2meters\n",
    "from coastal.plot import plot_from_oa_url"
   ]
  },
  {
   "cell_type": "markdown",
   "id": "ebd24061-0682-492d-81de-f212c82b73ae",
   "metadata": {
    "tags": []
   },
   "source": [
    "## Google Earth Engine Authentication and Initialization\n",
    "GEE requires you to authenticate your access, so if `ee.Initialize()` does not work you first need to run `ee.Authenticate()`. This gives you a link at which you can use your google account that is associated with GEE to get an authorization code. Copy the authorization code into the input field and hit *enter* to complete authentication. "
   ]
  },
  {
   "cell_type": "code",
   "execution_count": 4,
   "id": "43ab62f4-b763-41df-a62a-0e41910a4db6",
   "metadata": {},
   "outputs": [],
   "source": [
    "try:\n",
    "    ee.Initialize()\n",
    "except: \n",
    "    ee.Authenticate()\n",
    "    ee.Initialize()"
   ]
  },
  {
   "cell_type": "markdown",
   "id": "f3330569-7f58-4347-bee2-a53056a10693",
   "metadata": {},
   "source": [
    "## Visualize USACE Topobathy data for Alaska\n",
    "\n",
    "Data are from https://chs.coast.noaa.gov/htdata/raster2/elevation/ and are stored as an imageCollection [here](https://code.earthengine.google.com/?asset=projects/uaf-coastal-mapping/assets/USACE_AK_DEM)"
   ]
  },
  {
   "cell_type": "code",
   "execution_count": 5,
   "id": "aa0b7688-48f4-4b00-939a-e7e82165ace6",
   "metadata": {},
   "outputs": [
    {
     "name": "stdout",
     "output_type": "stream",
     "text": [
      "Number of DEMs in the collection (all of AK 2019):  1147\n"
     ]
    }
   ],
   "source": [
    "topobathyColl = ee.ImageCollection('projects/uaf-coastal-mapping/assets/USACE_AK_DEM')\n",
    "print('Number of DEMs in the collection (all of AK 2019): ', topobathyColl.size().getInfo())"
   ]
  },
  {
   "cell_type": "markdown",
   "id": "485bd666-7389-4ce4-93b1-09fb349679f0",
   "metadata": {},
   "source": [
    "Interactive map to visualize the entire collection. You can zoom around and see where the USACE collected data in western Alaska in 2019."
   ]
  },
  {
   "cell_type": "code",
   "execution_count": 6,
   "id": "1f9a3337-eefd-4934-84e5-74d9e37c2501",
   "metadata": {},
   "outputs": [
    {
     "data": {
      "application/vnd.jupyter.widget-view+json": {
       "model_id": "cc6492bdc8e84f6b8b8705f06afd3b1b",
       "version_major": 2,
       "version_minor": 0
      },
      "text/plain": [
       "Map(center=[64.58021590637387, -163.0222151036337], controls=(WidgetControl(options=['position', 'transparent_…"
      ]
     },
     "metadata": {},
     "output_type": "display_data"
    }
   ],
   "source": [
    "# initiate our map object with geemap\n",
    "Map = geemap.Map()\n",
    "Map.setCenter(-163.0222151036337, 64.58021590637386, zoom=7);\n",
    "# Add a satellite basemap\n",
    "Map.add_basemap('SATELLITE') \n",
    "Map.layer_opacity(name='Google Satellite', value=0.8)\n",
    "# Define our visualization parameters for the DEM collection\n",
    "vis = {\n",
    "    'min': -4,\n",
    "    'max': 100,\n",
    "    'palette': ['440154', '433982', '30678D', '218F8B', '36B677', '8ED542', 'FDE725'], # viridis color palette because I like it :) \n",
    "}\n",
    "Map.addLayer(topobathyColl, vis, 'Topobathy')\n",
    "Map.add_minimap(zoom=3)\n",
    "\n",
    "Map"
   ]
  },
  {
   "cell_type": "markdown",
   "id": "5893f85d-20f4-484f-8cde-b175cc70420e",
   "metadata": {},
   "source": [
    "#### Select by geographic region of interest"
   ]
  },
  {
   "cell_type": "code",
   "execution_count": 7,
   "id": "99416329-2538-4fb7-a9dc-fcfb1d9f2712",
   "metadata": {},
   "outputs": [],
   "source": [
    "# Specify region of interest from geojson file\n",
    "fn = 'data/whitemountain.geojson' # a geojson for white mountain, AK. You could also use a shapefile, etc. \n",
    "aoi = geemap.geojson_to_ee(fn)"
   ]
  },
  {
   "cell_type": "code",
   "execution_count": 8,
   "id": "74117e43-dd14-4200-a125-7f05b405f08f",
   "metadata": {},
   "outputs": [
    {
     "name": "stdout",
     "output_type": "stream",
     "text": [
      "Number of White Mountain area DEMs:  456\n"
     ]
    }
   ],
   "source": [
    "whiteMtn = topobathyColl.filterBounds(aoi)\n",
    "print('Number of White Mountain area DEMs: ', whiteMtn.size().getInfo())\n",
    "\n",
    "# access other collection details with .getInfo (note this can take a while). "
   ]
  },
  {
   "cell_type": "code",
   "execution_count": 9,
   "id": "31eca2a4-0f9d-4648-8668-7e99ea4b1238",
   "metadata": {},
   "outputs": [
    {
     "data": {
      "application/vnd.jupyter.widget-view+json": {
       "model_id": "21f9fbff437b4b9684e4dee2eb62f3e5",
       "version_major": 2,
       "version_minor": 0
      },
      "text/plain": [
       "Map(center=[64.58021590637387, -163.0222151036337], controls=(WidgetControl(options=['position', 'transparent_…"
      ]
     },
     "metadata": {},
     "output_type": "display_data"
    }
   ],
   "source": [
    "# initiate our map object with geemap\n",
    "Map = geemap.Map()\n",
    "Map.setCenter(-163.0222151036337, 64.58021590637386, zoom=8);\n",
    "# Add a satellite basemap\n",
    "Map.add_basemap('SATELLITE') \n",
    "Map.layer_opacity(name='Google Satellite', value=0.8)\n",
    "# Define our visualization parameters for the DEM collection\n",
    "vis = {\n",
    "    'min': -4,\n",
    "    'max': 130,\n",
    "    'palette': ['440154', '433982', '30678D', '218F8B', '36B677', '8ED542', 'FDE725'], # viridis color palette because I like it :) \n",
    "}\n",
    "Map.addLayer(whiteMtn, vis, 'Topobathy')\n",
    "Map.addLayer(aoi, {}, 'White Mountain, AK')\n",
    "Map.layer_opacity(name='White Mountain, AK', value=0.6)\n",
    "Map.add_minimap(zoom=3)\n",
    "\n",
    "Map"
   ]
  },
  {
   "cell_type": "markdown",
   "id": "079ee4d8-239e-4781-9663-7fdd8046f8f0",
   "metadata": {},
   "source": [
    "## Overlay with example IS2 track:\n",
    "### with OpenAltimetry"
   ]
  },
  {
   "cell_type": "code",
   "execution_count": 10,
   "id": "816c413d-ac88-4a00-a693-b31ea6e72976",
   "metadata": {},
   "outputs": [],
   "source": [
    "%%capture\n",
    "# get data from OpenAltimetry (following DataVis tutorial)\n",
    "url = 'http://openaltimetry.org/data/api/icesat2/atl06?date=2019-11-01&minx=-163.22047900505012&miny=64.27523261959732&maxx=-162.71950245931393&maxy=64.77401189132661&trackId=541&beamName=gt3r&beamName=gt3l&beamName=gt2r&beamName=gt2l&beamName=gt1r&beamName=gt1l&outputFormat=json'\n",
    "gtx = 'gt2r'\n",
    "myplot, mydata = plot_from_oa_url(url=url, gtx=gtx, title='White Mountain ICE-Sat2 from OA')\n",
    "myplot.savefig('white_mountain_2019-11-01.jpg', dpi=300)"
   ]
  },
  {
   "cell_type": "code",
   "execution_count": 11,
   "id": "596d892e-fd31-4041-be87-c26a3ef19815",
   "metadata": {},
   "outputs": [
    {
     "data": {
      "image/png": "[encoded data removed]",
      "text/plain": [
       "<Figure size 1000x600 with 1 Axes>"
      ]
     },
     "execution_count": 11,
     "metadata": {},
     "output_type": "execute_result"
    }
   ],
   "source": [
    "myplot"
   ]
  },
  {
   "cell_type": "markdown",
   "id": "1bb301f1-3f21-4c83-bb89-8b383afde5fd",
   "metadata": {
    "tags": []
   },
   "source": [
    "#### Ground Track Stats & Map\n"
   ]
  },
  {
   "cell_type": "code",
   "execution_count": 12,
   "id": "17832d30-25f9-454c-98ea-1b908f20b37a",
   "metadata": {},
   "outputs": [
    {
     "name": "stdout",
     "output_type": "stream",
     "text": [
      "The ground track is about 55.7 kilometers long.\n"
     ]
    }
   ],
   "source": [
    "lat1, lat2 = mydata.atl08.lat[0], mydata.atl08.lat.iloc[-1]\n",
    "lon1, lon2 = mydata.atl08.lon[0], mydata.atl08.lon.iloc[-1]\n",
    "\n",
    "ground_track_length = dist_latlon2meters(lat1, lon1, lat2, lon2)\n",
    "print('The ground track is about %.1f kilometers long.' % (ground_track_length/1e3))"
   ]
  },
  {
   "cell_type": "markdown",
   "id": "63bc84b6-6493-48b8-859e-978ac5b3458b",
   "metadata": {},
   "source": [
    "Now we need to add our ICESat-2 gound track to that map. Let's use the lon/lat coordinates of the ATL08 data product for this.  \n",
    "We also need to specify which **Coordinate Reference System (CRS)** our data is in. The longitude/latitude system that we are all quite familiar with is referenced by [`EPSG:4326`](https://epsg.io/4326). To add the ground track to the map we need to turn it into an [Earth Engine \"Feature Collection\"](https://developers.google.com/earth-engine/guides/feature_collections)."
   ]
  },
  {
   "cell_type": "code",
   "execution_count": 13,
   "id": "d7ac4275-4765-457b-8cc3-022ce06276cb",
   "metadata": {},
   "outputs": [],
   "source": [
    "ground_track_coordinates = list(zip(mydata.atl08.lon, mydata.atl08.lat))\n",
    "ground_track_projection = 'EPSG:4326' # <-- this specifies that our data longitude/latitude in degrees [https://epsg.io/4326]\n",
    "gtx_feature = ee.FeatureCollection(ee.Geometry.LineString(coords=ground_track_coordinates, \n",
    "                                      proj=ground_track_projection, \n",
    "                                      geodesic=True))\n",
    "# gtx_feature # check that it is a feature collection for GEE"
   ]
  },
  {
   "cell_type": "code",
   "execution_count": 14,
   "id": "4369e40f-1351-4682-8cbf-e44fef6f5075",
   "metadata": {},
   "outputs": [
    {
     "data": {
      "application/vnd.jupyter.widget-view+json": {
       "model_id": "21f9fbff437b4b9684e4dee2eb62f3e5",
       "version_major": 2,
       "version_minor": 0
      },
      "text/plain": [
       "Map(center=[64.58021590637387, -163.0222151036337], controls=(WidgetControl(options=['position', 'transparent_…"
      ]
     },
     "metadata": {},
     "output_type": "display_data"
    }
   ],
   "source": [
    "# overlay the track on our map. \n",
    "Map.addLayer(gtx_feature, {'color': 'red'}, 'ground track')\n",
    "Map"
   ]
  }
 ],
 "metadata": {
  "kernelspec": {
   "display_name": "Python 3 (ipykernel)",
   "language": "python",
   "name": "python3"
  },
  "language_info": {
   "codemirror_mode": {
    "name": "ipython",
    "version": 3
   },
   "file_extension": ".py",
   "mimetype": "text/x-python",
   "name": "python",
   "nbconvert_exporter": "python",
   "pygments_lexer": "ipython3",
   "version": "3.9.10"
  },
  "widgets": {
   "application/vnd.jupyter.widget-state+json": {
    "state": {
     "00117a9f30d8431bbd7b25b99141a814": {
      "model_module": "@jupyter-widgets/controls",
      "model_module_version": "1.5.0",
      "model_name": "DescriptionStyleModel",
      "state": {
       "description_width": ""
      }
     },
     "003696bc4a5449139dc4542ebfa24039": {
      "model_module": "@jupyter-widgets/controls",
      "model_module_version": "1.5.0",
      "model_name": "DescriptionStyleModel",
      "state": {
       "description_width": ""
      }
     },
     "00418583d25c4d24b30144d4d71a4506": {
      "model_module": "@jupyter-widgets/base",
      "model_module_version": "1.2.0",
      "model_name": "LayoutModel",
      "state": {
       "height": "auto",
       "padding": "0px 0px 0px 4px",
       "width": "auto"
      }
     },
     "005fbda7424b401bb5ac6217a316dcca": {
      "model_module": "@jupyter-widgets/controls",
      "model_module_version": "1.5.0",
      "model_name": "DescriptionStyleModel",
      "state": {
       "description_width": ""
      }
     },
     "0094140fff1e4a4487357df747266d58": {
      "model_module": "jupyter-leaflet",
      "model_module_version": "^0.15.0",
      "model_name": "LeafletTileLayerModel",
      "state": {
       "_model_module_version": "^0.15.0",
       "_view_module_version": "^0.15.0",
       "attribution": "Datenquelle: basemap.at",
       "max_native_zoom": 18,
       "max_zoom": 19,
       "min_native_zoom": 0,
       "name": "BasemapAT.grau",
       "options": [
        "attribution",
        "detect_retina",
        "max_native_zoom",
        "max_zoom",
        "min_native_zoom",
        "min_zoom",
        "no_wrap",
        "tile_size",
        "tms"
       ],
       "url": "https://maps.wien.gv.at/basemap/bmapgrau/normal/google3857/{z}/{y}/{x}.png"
      }
     },
     "00daee0927314096835fb5ffdb02a868": {
      "model_module": "@jupyter-widgets/controls",
      "model_module_version": "1.5.0",
      "model_name": "ToggleButtonModel",
      "state": {
       "button_style": "primary",
       "icon": "adjust",
       "layout": "IPY_MODEL_0bc11896f66d4b9a93cd39e95e016129",
       "style": "IPY_MODEL_c2e9efa2cd4841a28bb06215dd646847",
       "tooltip": "Planet imagery"
      }
     },
     "00dd356ea2294d47b364e561bb525f00": {
      "model_module": "jupyter-leaflet",
      "model_module_version": "^0.15.0",
      "model_name": "LeafletWidgetControlModel",
      "state": {
       "_model_module": "jupyter-leaflet",
       "_model_module_version": "^0.15.0",
       "_view_count": null,
       "_view_module": "jupyter-leaflet",
       "_view_module_version": "^0.15.0",
       "options": [
        "position",
        "transparent_bg"
       ],
       "position": "topleft",
       "widget": "IPY_MODEL_9233d728069c404e98be90704e72148d"
      }
     },
     "010f0530279843a28c3c8a389f9d13f8": {
      "model_module": "@jupyter-widgets/controls",
      "model_module_version": "1.5.0",
      "model_name": "DescriptionStyleModel",
      "state": {
       "description_width": ""
      }
     },
     "020866fd4207494494abfab71d3a22da": {
      "model_module": "jupyter-leaflet",
      "model_module_version": "^0.15.0",
      "model_name": "LeafletFullScreenControlModel",
      "state": {
       "_model_module_version": "^0.15.0",
       "_view_module_version": "^0.15.0",
       "options": [
        "position"
       ]
      }
     },
     "02eaf7631a694e5a9bb7e4ee45ae9e20": {
      "model_module": "jupyter-leaflet",
      "model_module_version": "^0.15.0",
      "model_name": "LeafletTileLayerModel",
      "state": {
       "_model_module_version": "^0.15.0",
       "_view_module_version": "^0.15.0",
       "attribution": "Justice Map",
       "max_native_zoom": 18,
       "max_zoom": 22,
       "min_native_zoom": 0,
       "name": "JusticeMap.americanIndian",
       "options": [
        "attribution",
        "detect_retina",
        "max_native_zoom",
        "max_zoom",
        "min_native_zoom",
        "min_zoom",
        "no_wrap",
        "tile_size",
        "tms"
       ],
       "url": "https://www.justicemap.org/tile/county/indian/{z}/{x}/{y}.png"
      }
     },
     "045c75e05a124059a717b7252823f2dd": {
      "model_module": "@jupyter-widgets/controls",
      "model_module_version": "1.5.0",
      "model_name": "ToggleButtonsModel",
      "state": {
       "_options_labels": [
        "OK",
        "Cancel"
       ],
       "button_style": "primary",
       "icons": [],
       "index": null,
       "layout": "IPY_MODEL_670c18e139754a27825ce3235e79add8",
       "style": "IPY_MODEL_e43e7b89640e4473938b104f896e35ac",
       "tooltips": [
        "OK",
        "Cancel"
       ]
      }
     },
     "050197e1f1b24b69a2fbccf770ee54cc": {
      "model_module": "@jupyter-widgets/base",
      "model_module_version": "1.2.0",
      "model_name": "LayoutModel",
      "state": {}
     },
     "052f600b207f474797a2b380bae6e287": {
      "model_module": "jupyter-leaflet",
      "model_module_version": "^0.15.0",
      "model_name": "LeafletTileLayerModel",
      "state": {
       "_model_module_version": "^0.15.0",
       "_view_module_version": "^0.15.0",
       "attribution": "Tiles courtesy of the U.S. Geological Survey",
       "max_native_zoom": 18,
       "max_zoom": 20,
       "min_native_zoom": 0,
       "name": "USGS.USTopo",
       "options": [
        "attribution",
        "detect_retina",
        "max_native_zoom",
        "max_zoom",
        "min_native_zoom",
        "min_zoom",
        "no_wrap",
        "tile_size",
        "tms"
       ],
       "url": "https://basemap.nationalmap.gov/arcgis/rest/services/USGSTopo/MapServer/tile/{z}/{y}/{x}"
      }
     },
     "0654be91e24345c086b55a5b201bf103": {
      "model_module": "@jupyter-widgets/controls",
      "model_module_version": "1.5.0",
      "model_name": "DescriptionStyleModel",
      "state": {
       "description_width": ""
      }
     },
     "067777035be84af4b4b78d532c6d94b8": {
      "model_module": "jupyter-leaflet",
      "model_module_version": "^0.15.0",
      "model_name": "LeafletTileLayerModel",
      "state": {
       "_model_module_version": "^0.15.0",
       "_view_module_version": "^0.15.0",
       "attribution": "(C) OpenStreetMap contributors, Tiles style by Humanitarian OpenStreetMap Team hosted by OpenStreetMap France",
       "max_native_zoom": 18,
       "max_zoom": 19,
       "min_native_zoom": 0,
       "name": "OpenStreetMap.HOT",
       "options": [
        "attribution",
        "detect_retina",
        "max_native_zoom",
        "max_zoom",
        "min_native_zoom",
        "min_zoom",
        "no_wrap",
        "tile_size",
        "tms"
       ],
       "url": "https://a.tile.openstreetmap.fr/hot/{z}/{x}/{y}.png"
      }
     },
     "06f97c0e544c445b856f0c4fabd12aca": {
      "model_module": "jupyter-leaflet",
      "model_module_version": "^0.15.0",
      "model_name": "LeafletTileLayerModel",
      "state": {
       "_model_module_version": "^0.15.0",
       "_view_module_version": "^0.15.0",
       "attribution": "Imagery provided by services from the Global Imagery Browse Services (GIBS), operated by the NASA/GSFC/Earth Science Data and Information System (ESDIS) with funding provided by NASA/HQ.",
       "max_native_zoom": 18,
       "max_zoom": 8,
       "min_native_zoom": 0,
       "name": "NASAGIBS.ModisTerraSnowCover",
       "options": [
        "attribution",
        "detect_retina",
        "max_native_zoom",
        "max_zoom",
        "min_native_zoom",
        "min_zoom",
        "no_wrap",
        "tile_size",
        "tms"
       ],
       "url": "https://map1.vis.earthdata.nasa.gov/wmts-webmerc/MODIS_Terra_NDSI_Snow_Cover/default//GoogleMapsCompatible_Level8/{z}/{y}/{x}.png"
      }
     },
     "073682bcecf14c3a9e866dd9ccf1a7e4": {
      "model_module": "jupyter-leaflet",
      "model_module_version": "^0.15.0",
      "model_name": "LeafletTileLayerModel",
      "state": {
       "_model_module_version": "^0.15.0",
       "_view_module_version": "^0.15.0",
       "attribution": "Map data: (C) OpenStreetMap contributors | Map style: (C) waymarkedtrails.org (CC-BY-SA)",
       "max_native_zoom": 18,
       "min_native_zoom": 0,
       "name": "WaymarkedTrails.mtb",
       "options": [
        "attribution",
        "detect_retina",
        "max_native_zoom",
        "max_zoom",
        "min_native_zoom",
        "min_zoom",
        "no_wrap",
        "tile_size",
        "tms"
       ],
       "url": "https://tile.waymarkedtrails.org/mtb/{z}/{x}/{y}.png"
      }
     },
     "08428b335c0f4aa9a08f37d675cf6fc4": {
      "model_module": "jupyter-matplotlib",
      "model_module_version": "^0.10.5",
      "model_name": "ToolbarModel",
      "state": {
       "collapsed": true,
       "layout": "IPY_MODEL_75cefa07d7cb4acabfdeb557d4e830ae",
       "orientation": "vertical",
       "toolitems": [
        [
         "Home",
         "Reset original view",
         "home",
         "home"
        ],
        [
         "Back",
         "Back to previous view",
         "arrow-left",
         "back"
        ],
        [
         "Forward",
         "Forward to next view",
         "arrow-right",
         "forward"
        ],
        [
         "Pan",
         "Left button pans, Right button zooms\nx/y fixes axis, CTRL fixes aspect",
         "arrows",
         "pan"
        ],
        [
         "Zoom",
         "Zoom to rectangle\nx/y fixes axis",
         "square-o",
         "zoom"
        ],
        [
         "Download",
         "Download plot",
         "floppy-o",
         "save_figure"
        ]
       ]
      }
     },
     "090ff616b34942e0b587c1a191a482b8": {
      "model_module": "@jupyter-widgets/controls",
      "model_module_version": "1.5.0",
      "model_name": "DescriptionStyleModel",
      "state": {
       "description_width": ""
      }
     },
     "091c9aef3f314149833e5709998793b6": {
      "model_module": "@jupyter-widgets/controls",
      "model_module_version": "1.5.0",
      "model_name": "HBoxModel",
      "state": {
       "children": [
        "IPY_MODEL_73a18639c58348ff9eb5572851396f63",
        "IPY_MODEL_a006cd0b45bf41d3a838c0a8d97d4c95"
       ],
       "layout": "IPY_MODEL_e6ae85b49c864dee8e73bb0a7629cbec"
      }
     },
     "09429a537c1b43b48d3c2d2a5bc5ca77": {
      "model_module": "@jupyter-widgets/base",
      "model_module_version": "1.2.0",
      "model_name": "LayoutModel",
      "state": {
       "max_width": "57px",
       "min_width": "57px"
      }
     },
     "0964e9b217094ca38641930edade37dd": {
      "model_module": "jupyter-leaflet",
      "model_module_version": "^0.15.0",
      "model_name": "LeafletTileLayerModel",
      "state": {
       "_model_module_version": "^0.15.0",
       "_view_module_version": "^0.15.0",
       "attribution": "Tiles (C) Esri -- National Geographic, Esri, DeLorme, NAVTEQ, UNEP-WCMC, USGS, NASA, ESA, METI, NRCAN, GEBCO, NOAA, iPC",
       "max_native_zoom": 18,
       "max_zoom": 16,
       "min_native_zoom": 0,
       "name": "Esri.NatGeoWorldMap",
       "options": [
        "attribution",
        "detect_retina",
        "max_native_zoom",
        "max_zoom",
        "min_native_zoom",
        "min_zoom",
        "no_wrap",
        "tile_size",
        "tms"
       ],
       "url": "https://server.arcgisonline.com/ArcGIS/rest/services/NatGeo_World_Map/MapServer/tile/{z}/{y}/{x}"
      }
     },
     "099a1583b2f242b4bc7e8778f2a349d7": {
      "model_module": "jupyter-leaflet",
      "model_module_version": "^0.15.0",
      "model_name": "LeafletWidgetControlModel",
      "state": {
       "_model_module": "jupyter-leaflet",
       "_model_module_version": "^0.15.0",
       "_view_count": null,
       "_view_module": "jupyter-leaflet",
       "_view_module_version": "^0.15.0",
       "options": [
        "position",
        "transparent_bg"
       ],
       "position": "bottomright",
       "widget": "IPY_MODEL_1e95c7e440b945f7b643852f35f99cbb"
      }
     },
     "09be6fa40c6c44a3885b62f035f60cc3": {
      "model_module": "@jupyter-widgets/base",
      "model_module_version": "1.2.0",
      "model_name": "LayoutModel",
      "state": {
       "display": "none",
       "grid_gap": "0px 0px",
       "grid_template_areas": "\n                    'pathlist filename'\n                    'dircontent dircontent'\n                    ",
       "grid_template_columns": "60% 40%",
       "grid_template_rows": "auto auto",
       "width": "auto"
      }
     },
     "0a0c7ac691e64367afca23d8a257b72c": {
      "model_module": "@jupyter-widgets/controls",
      "model_module_version": "1.5.0",
      "model_name": "TextModel",
      "state": {
       "layout": "IPY_MODEL_e7f9e9ce17cb4546bf58a05f9dc12959",
       "placeholder": "Search by place name or address",
       "style": "IPY_MODEL_71cbf0ab9c9445aa9b9d2c60c8d31d40"
      }
     },
     "0a1bdc0f25e44d28aba93b19d1d8d0a2": {
      "model_module": "jupyter-leaflet",
      "model_module_version": "^0.15.0",
      "model_name": "LeafletTileLayerModel",
      "state": {
       "_model_module_version": "^0.15.0",
       "_view_module_version": "^0.15.0",
       "attribution": "(C) OpenStreetMap contributors (C) CARTO",
       "max_native_zoom": 18,
       "max_zoom": 20,
       "min_native_zoom": 0,
       "name": "CartoDB.PositronOnlyLabels",
       "options": [
        "attribution",
        "detect_retina",
        "max_native_zoom",
        "max_zoom",
        "min_native_zoom",
        "min_zoom",
        "no_wrap",
        "tile_size",
        "tms"
       ],
       "url": "https://a.basemaps.cartocdn.com/light_only_labels/{z}/{x}/{y}.png"
      }
     },
     "0a87b288c7f54d9aa3f74c481fae65a2": {
      "model_module": "jupyter-leaflet",
      "model_module_version": "^0.15.0",
      "model_name": "LeafletAwesomeIconModel",
      "state": {
       "_model_module_version": "^0.15.0",
       "_view_module_version": "^0.15.0",
       "icon_color": "darkgreen",
       "marker_color": "green",
       "name": "check"
      }
     },
     "0aae5c2cf1864b9b98b7db5deee60a63": {
      "model_module": "@jupyter-widgets/output",
      "model_module_version": "1.0.0",
      "model_name": "OutputModel",
      "state": {
       "layout": "IPY_MODEL_c64a5cd7b8bc4fddb34ca9d53d86f8d8"
      }
     },
     "0b00ddad966a4492a25b4fdf3833b8a5": {
      "model_module": "@jupyter-widgets/controls",
      "model_module_version": "1.5.0",
      "model_name": "ButtonModel",
      "state": {
       "description": "Select",
       "layout": "IPY_MODEL_bb05f7f8655c461f8b156ae714998966",
       "style": "IPY_MODEL_34a7eaf7ecc94b1b9d679bc853adf480"
      }
     },
     "0bc11896f66d4b9a93cd39e95e016129": {
      "model_module": "@jupyter-widgets/base",
      "model_module_version": "1.2.0",
      "model_name": "LayoutModel",
      "state": {
       "height": "auto",
       "padding": "0px 0px 0px 4px",
       "width": "auto"
      }
     },
     "0c08b68a6dae462e9df9396868b15019": {
      "model_module": "@jupyter-widgets/base",
      "model_module_version": "1.2.0",
      "model_name": "LayoutModel",
      "state": {}
     },
     "0cc800be9dc548a2b90810965936c87a": {
      "model_module": "jupyter-leaflet",
      "model_module_version": "^0.15.0",
      "model_name": "LeafletTileLayerModel",
      "state": {
       "_model_module_version": "^0.15.0",
       "_view_module_version": "^0.15.0",
       "attribution": "Tiles (C) Esri -- Esri, DeLorme, NAVTEQ",
       "max_native_zoom": 18,
       "max_zoom": 16,
       "min_native_zoom": 0,
       "name": "Esri.WorldGrayCanvas",
       "options": [
        "attribution",
        "detect_retina",
        "max_native_zoom",
        "max_zoom",
        "min_native_zoom",
        "min_zoom",
        "no_wrap",
        "tile_size",
        "tms"
       ],
       "url": "https://server.arcgisonline.com/ArcGIS/rest/services/Canvas/World_Light_Gray_Base/MapServer/tile/{z}/{y}/{x}"
      }
     },
     "0db033cc74bf4cbc8a2f9cec02f13a35": {
      "model_module": "jupyter-leaflet",
      "model_module_version": "^0.15.0",
      "model_name": "LeafletTileLayerModel",
      "state": {
       "_model_module_version": "^0.15.0",
       "_view_module_version": "^0.15.0",
       "attribution": "(C) OpenStreetMap contributors, Tiles courtesy of Breton OpenStreetMap Team",
       "max_native_zoom": 18,
       "max_zoom": 19,
       "min_native_zoom": 0,
       "name": "OpenStreetMap.BZH",
       "options": [
        "attribution",
        "detect_retina",
        "max_native_zoom",
        "max_zoom",
        "min_native_zoom",
        "min_zoom",
        "no_wrap",
        "tile_size",
        "tms"
       ],
       "url": "https://tile.openstreetmap.bzh/br/{z}/{x}/{y}.png"
      }
     },
     "0e7272cb8d934e2d80c67a15ee825bdf": {
      "model_module": "@jupyter-widgets/controls",
      "model_module_version": "1.5.0",
      "model_name": "DescriptionStyleModel",
      "state": {
       "description_width": ""
      }
     },
     "0fbd4e037d944e099bceb12dfccf65db": {
      "model_module": "@jupyter-widgets/controls",
      "model_module_version": "1.5.0",
      "model_name": "DescriptionStyleModel",
      "state": {
       "description_width": ""
      }
     },
     "0fcca2856fe648e6921ce1e52353219c": {
      "model_module": "jupyter-leaflet",
      "model_module_version": "^0.15.0",
      "model_name": "LeafletAwesomeIconModel",
      "state": {
       "_model_module_version": "^0.15.0",
       "_view_module_version": "^0.15.0",
       "icon_color": "darkgreen",
       "marker_color": "green",
       "name": "check"
      }
     },
     "0fd62453c1474a08be3583cbfc101968": {
      "model_module": "jupyter-leaflet",
      "model_module_version": "^0.15.0",
      "model_name": "LeafletTileLayerModel",
      "state": {
       "_model_module_version": "^0.15.0",
       "_view_module_version": "^0.15.0",
       "attribution": "Google",
       "max_native_zoom": 18,
       "max_zoom": 22,
       "min_native_zoom": 0,
       "name": "Google Terrain",
       "options": [
        "attribution",
        "detect_retina",
        "max_native_zoom",
        "max_zoom",
        "min_native_zoom",
        "min_zoom",
        "no_wrap",
        "tile_size",
        "tms"
       ],
       "url": "https://mt1.google.com/vt/lyrs=p&x={x}&y={y}&z={z}"
      }
     },
     "10efd024ee6f4aa9b41229fab8ca1e78": {
      "model_module": "@jupyter-widgets/base",
      "model_module_version": "1.2.0",
      "model_name": "LayoutModel",
      "state": {
       "height": "auto",
       "padding": "0px 0px 0px 4px",
       "width": "auto"
      }
     },
     "1121448a50ed40b0b908fbbee6106cd5": {
      "model_module": "@jupyter-widgets/controls",
      "model_module_version": "1.5.0",
      "model_name": "HBoxModel",
      "state": {
       "_view_count": 2,
       "children": [
        "IPY_MODEL_16ad3963453347ccb17b4b0b5f6a5cbf"
       ],
       "layout": "IPY_MODEL_c3b6c09edf1a45bbb79e3e9990a62dc7"
      }
     },
     "116df497a038434db316e076834d9ce0": {
      "model_module": "@jupyter-widgets/base",
      "model_module_version": "1.2.0",
      "model_name": "LayoutModel",
      "state": {
       "height": "auto",
       "padding": "0px 0px 0px 4px",
       "width": "auto"
      }
     },
     "13a45068f4cc4ecca4bdc4fd3e78de7d": {
      "model_module": "@jupyter-widgets/controls",
      "model_module_version": "1.5.0",
      "model_name": "DescriptionStyleModel",
      "state": {
       "description_width": ""
      }
     },
     "1417dc96405c43e9a28cda47350215bc": {
      "model_module": "@jupyter-widgets/base",
      "model_module_version": "1.2.0",
      "model_name": "LayoutModel",
      "state": {
       "grid_area": "filename",
       "width": "auto"
      }
     },
     "14b6583dde5e4e20b1400bbfc624ad66": {
      "model_module": "@jupyter-widgets/base",
      "model_module_version": "1.2.0",
      "model_name": "LayoutModel",
      "state": {
       "height": "150px",
       "width": "150px"
      }
     },
     "14b96a03a48b4434a9f1877a98f7521e": {
      "model_module": "@jupyter-widgets/controls",
      "model_module_version": "1.5.0",
      "model_name": "ToggleButtonModel",
      "state": {
       "button_style": "primary",
       "icon": "eraser",
       "layout": "IPY_MODEL_a12ed07bc3374bafad6dc104fef790b1",
       "style": "IPY_MODEL_ecf0431675874e6396f1683fdef021c3",
       "tooltip": "Remove all drawn features"
      }
     },
     "14cd10dd708147338f1300b54f568cf4": {
      "model_module": "@jupyter-widgets/base",
      "model_module_version": "1.2.0",
      "model_name": "LayoutModel",
      "state": {
       "height": "auto",
       "padding": "0px 0px 0px 4px",
       "width": "auto"
      }
     },
     "14fb87cef37b43e9a99a8daf5d14ad73": {
      "model_module": "@jupyter-widgets/base",
      "model_module_version": "1.2.0",
      "model_name": "LayoutModel",
      "state": {}
     },
     "158cff0ea479425da595056ea5ea02e3": {
      "model_module": "@here/map-widget-for-jupyter",
      "model_module_version": "^1.1.3",
      "model_name": "DefaultLayersModel",
      "state": {
       "_model_module": "@here/map-widget-for-jupyter",
       "_model_module_version": "^1.1.3",
       "_view_count": null,
       "_view_module": "@here/map-widget-for-jupyter",
       "_view_module_version": "^1.1.3",
       "layer_name": "raster.normal.labels",
       "ppi": null
      }
     },
     "1634627450eb4bde913329cb8d7700a6": {
      "model_module": "jupyter-leaflet",
      "model_module_version": "^0.15.0",
      "model_name": "LeafletWidgetControlModel",
      "state": {
       "_model_module": "jupyter-leaflet",
       "_model_module_version": "^0.15.0",
       "_view_count": null,
       "_view_module": "jupyter-leaflet",
       "_view_module_version": "^0.15.0",
       "options": [
        "position",
        "transparent_bg"
       ],
       "position": "topright",
       "widget": "IPY_MODEL_0aae5c2cf1864b9b98b7db5deee60a63"
      }
     },
     "16ad3963453347ccb17b4b0b5f6a5cbf": {
      "model_module": "@jupyter-widgets/controls",
      "model_module_version": "1.5.0",
      "model_name": "ToggleButtonModel",
      "state": {
       "icon": "globe",
       "layout": "IPY_MODEL_a4a3602e64d0469681543cd538b0c01e",
       "style": "IPY_MODEL_471bfd9231fc4054a77f41ddbfb371b2",
       "tooltip": "Search location/data"
      }
     },
     "16d8f39a1585493f8966dd62eb691ab8": {
      "model_module": "@jupyter-widgets/controls",
      "model_module_version": "1.5.0",
      "model_name": "ToggleButtonModel",
      "state": {
       "button_style": "primary",
       "icon": "google",
       "layout": "IPY_MODEL_10efd024ee6f4aa9b41229fab8ca1e78",
       "style": "IPY_MODEL_6a53c8f8edeb491086fc351d8b3174d8",
       "tooltip": "GEE Toolbox for cloud computing"
      }
     },
     "18201dd10e134ae3b3f76bffa8e14fd4": {
      "model_module": "@jupyter-widgets/controls",
      "model_module_version": "1.5.0",
      "model_name": "DescriptionStyleModel",
      "state": {
       "description_width": ""
      }
     },
     "18d16a8a9dc545728304fcc0c1ea1139": {
      "model_module": "jupyter-leaflet",
      "model_module_version": "^0.15.0",
      "model_name": "LeafletTileLayerModel",
      "state": {
       "_model_module_version": "^0.15.0",
       "_view_module_version": "^0.15.0",
       "attribution": "Geoportail France",
       "max_native_zoom": 18,
       "max_zoom": 19,
       "min_native_zoom": 0,
       "name": "GeoportailFrance.orthos",
       "options": [
        "attribution",
        "detect_retina",
        "max_native_zoom",
        "max_zoom",
        "min_native_zoom",
        "min_zoom",
        "no_wrap",
        "tile_size",
        "tms"
       ],
       "url": "https://wxs.ign.fr/choisirgeoportail/geoportail/wmts?REQUEST=GetTile&SERVICE=WMTS&VERSION=1.0.0&STYLE=normal&TILEMATRIXSET=PM&FORMAT=image/jpeg&LAYER=ORTHOIMAGERY.ORTHOPHOTOS&TILEMATRIX={z}&TILEROW={y}&TILECOL={x}"
      }
     },
     "194b2eb779084d4c893ae5c6e628e2bd": {
      "model_module": "@jupyter-widgets/controls",
      "model_module_version": "1.5.0",
      "model_name": "VBoxModel",
      "state": {
       "_view_count": 1,
       "children": [
        "IPY_MODEL_a006cd0b45bf41d3a838c0a8d97d4c95"
       ],
       "layout": "IPY_MODEL_f1de013608424118aeff1a8b85273d78"
      }
     },
     "1b176e13152d4949a9120c857cf61571": {
      "model_module": "@jupyter-widgets/controls",
      "model_module_version": "1.5.0",
      "model_name": "ToggleButtonModel",
      "state": {
       "button_style": "primary",
       "icon": "camera",
       "layout": "IPY_MODEL_eb424c598eea48c6aada437b631f2e21",
       "style": "IPY_MODEL_3b7d723bc4e64e1baa15540282acb7c9",
       "tooltip": "Save map as HTML or image"
      }
     },
     "1b2c5c79259a470da225b5364e0f035e": {
      "model_module": "@jupyter-widgets/controls",
      "model_module_version": "1.5.0",
      "model_name": "ToggleButtonModel",
      "state": {
       "button_style": "primary",
       "icon": "folder-open",
       "layout": "IPY_MODEL_4ec02376063a4f42a33d03839efe1e40",
       "style": "IPY_MODEL_d355610b60684a6184fd81a8f53da6c8",
       "tooltip": "Open local vector/raster data"
      }
     },
     "1b9c124841bf4743a22888cba07fb022": {
      "model_module": "@jupyter-widgets/controls",
      "model_module_version": "1.5.0",
      "model_name": "ToggleButtonModel",
      "state": {
       "button_style": "primary",
       "icon": "eraser",
       "layout": "IPY_MODEL_552f85931a524e639816597adbafaccb",
       "style": "IPY_MODEL_26a1a90392024cdaba48148205b2b26f",
       "tooltip": "Remove all drawn features"
      }
     },
     "1b9d2340220c410da23ff834b396bdff": {
      "model_module": "@jupyter-widgets/base",
      "model_module_version": "1.2.0",
      "model_name": "LayoutModel",
      "state": {}
     },
     "1e8ec7d61ae04eb0a16aaa6c6f14c79e": {
      "model_module": "jupyter-leaflet",
      "model_module_version": "^0.15.0",
      "model_name": "LeafletTileLayerModel",
      "state": {
       "_model_module_version": "^0.15.0",
       "_view_module_version": "^0.15.0",
       "attribution": "Map tiles by Stamen Design, CC BY 3.0 -- Map data (C) OpenStreetMap contributors",
       "max_native_zoom": 18,
       "max_zoom": 20,
       "min_native_zoom": 0,
       "name": "Stamen.TonerLabels",
       "options": [
        "attribution",
        "detect_retina",
        "max_native_zoom",
        "max_zoom",
        "min_native_zoom",
        "min_zoom",
        "no_wrap",
        "tile_size",
        "tms"
       ],
       "url": "https://stamen-tiles-a.a.ssl.fastly.net/toner-labels/{z}/{x}/{y}.png"
      }
     },
     "1e8eff3f732d4899ac9801864ec85cc5": {
      "model_module": "@jupyter-widgets/controls",
      "model_module_version": "1.5.0",
      "model_name": "DescriptionStyleModel",
      "state": {
       "description_width": ""
      }
     },
     "1e95c7e440b945f7b643852f35f99cbb": {
      "model_module": "jupyter-leaflet",
      "model_module_version": "^0.15.0",
      "model_name": "LeafletMapModel",
      "state": {
       "_model_module_version": "^0.15.0",
       "_view_module_version": "^0.15.0",
       "bottom": 614,
       "center": [
        64.58021590637387,
        -163.0222151036337
       ],
       "default_style": "IPY_MODEL_e8fb6a2128d24cb095f547a3ba5bc9b1",
       "dragging_style": "IPY_MODEL_a12569b37b3b4d4b89f15e8a56f3567e",
       "east": -149.76562500000003,
       "fullscreen": false,
       "interpolation": "bilinear",
       "layers": [
        "IPY_MODEL_aaab2fc5244e4ff7ac1bd2bec5750ebb"
       ],
       "layout": "IPY_MODEL_14b6583dde5e4e20b1400bbfc624ad66",
       "left": 22,
       "modisdate": "2022-04-04",
       "north": 69.65708627301174,
       "options": [
        "bounce_at_zoom_limits",
        "box_zoom",
        "center",
        "close_popup_on_click",
        "double_click_zoom",
        "dragging",
        "fullscreen",
        "inertia",
        "inertia_deceleration",
        "inertia_max_speed",
        "interpolation",
        "keyboard",
        "keyboard_pan_offset",
        "keyboard_zoom_offset",
        "max_zoom",
        "min_zoom",
        "prefer_canvas",
        "scroll_wheel_zoom",
        "tap",
        "tap_tolerance",
        "touch_zoom",
        "world_copy_jump",
        "zoom",
        "zoom_animation_threshold",
        "zoom_delta",
        "zoom_snap",
        "zoom_start"
       ],
       "prefer_canvas": false,
       "right": 172,
       "south": 58.263287052486035,
       "style": "IPY_MODEL_671942eb4f3043ffa89937a1e3f758ef",
       "top": 464,
       "west": -176.13281250000003,
       "window_url": "https://uwhackweeks.2i2c.cloud/user/eeholmes/lab/tree/coastal_topobathy/examples/AK_topobathy_vis.ipynb",
       "zoom": 3
      }
     },
     "1f12b1f03d3540048c026d3c8675e768": {
      "model_module": "jupyter-leaflet",
      "model_module_version": "^0.15.0",
      "model_name": "LeafletTileLayerModel",
      "state": {
       "_model_module_version": "^0.15.0",
       "_view_module_version": "^0.15.0",
       "attribution": "Justice Map",
       "max_native_zoom": 18,
       "max_zoom": 22,
       "min_native_zoom": 0,
       "name": "JusticeMap.black",
       "options": [
        "attribution",
        "detect_retina",
        "max_native_zoom",
        "max_zoom",
        "min_native_zoom",
        "min_zoom",
        "no_wrap",
        "tile_size",
        "tms"
       ],
       "url": "https://www.justicemap.org/tile/county/black/{z}/{x}/{y}.png"
      }
     },
     "1f57a47d59f34751bc05a370c0ea3f9b": {
      "model_module": "@here/map-widget-for-jupyter",
      "model_module_version": "^1.1.3",
      "model_name": "DefaultLayersModel",
      "state": {
       "_model_module": "@here/map-widget-for-jupyter",
       "_model_module_version": "^1.1.3",
       "_view_count": null,
       "_view_module": "@here/map-widget-for-jupyter",
       "_view_module_version": "^1.1.3",
       "layer_name": "raster.normal.map",
       "ppi": null
      }
     },
     "1f71c7af8c814c4d974e9012b41732cc": {
      "model_module": "jupyter-leaflet",
      "model_module_version": "^0.15.0",
      "model_name": "LeafletMapStyleModel",
      "state": {
       "_model_module_version": "^0.15.0"
      }
     },
     "1ff99a6956c1433787c4dadf866f1e88": {
      "model_module": "jupyter-leaflet",
      "model_module_version": "^0.15.0",
      "model_name": "LeafletTileLayerModel",
      "state": {
       "_model_module_version": "^0.15.0",
       "_view_module_version": "^0.15.0",
       "attribution": "Google Earth Engine",
       "max_native_zoom": 18,
       "max_zoom": 24,
       "min_native_zoom": 0,
       "name": "ground track",
       "options": [
        "attribution",
        "detect_retina",
        "max_native_zoom",
        "max_zoom",
        "min_native_zoom",
        "min_zoom",
        "no_wrap",
        "tile_size",
        "tms"
       ],
       "url": "https://earthengine.googleapis.com/v1alpha/projects/earthengine-legacy/maps/0d383364c7709d55aae7f53837b89bc7-adf5b70d1dc84424fff0b798834460f8/tiles/{z}/{x}/{y}"
      }
     },
     "200a0ca1219143bbadef04a8aba959a0": {
      "model_module": "jupyter-leaflet",
      "model_module_version": "^0.15.0",
      "model_name": "LeafletTileLayerModel",
      "state": {
       "_model_module_version": "^0.15.0",
       "_view_module_version": "^0.15.0",
       "attribution": "Kaartgegevens (C) Kadaster",
       "max_native_zoom": 18,
       "max_zoom": 19,
       "min_native_zoom": 0,
       "name": "nlmaps.water",
       "options": [
        "attribution",
        "detect_retina",
        "max_native_zoom",
        "max_zoom",
        "min_native_zoom",
        "min_zoom",
        "no_wrap",
        "tile_size",
        "tms"
       ],
       "url": "https://service.pdok.nl/brt/achtergrondkaart/wmts/v2_0/water/EPSG:3857/{z}/{x}/{y}.png"
      }
     },
     "20a4459ef1a54f2cb99bba003e4c8906": {
      "model_module": "@jupyter-widgets/base",
      "model_module_version": "1.2.0",
      "model_name": "LayoutModel",
      "state": {}
     },
     "20b1b55d7d8949df8fbad489f0866a47": {
      "model_module": "jupyter-leaflet",
      "model_module_version": "^0.15.0",
      "model_name": "LeafletTileLayerModel",
      "state": {
       "_model_module_version": "^0.15.0",
       "_view_module_version": "^0.15.0",
       "attribution": "![](https://docs.onemap.sg/maps/images/oneMap64-01.png) New OneMap | Map data (C) contributors, Singapore Land Authority",
       "max_native_zoom": 18,
       "min_native_zoom": 0,
       "name": "OneMapSG.LandLot",
       "options": [
        "attribution",
        "detect_retina",
        "max_native_zoom",
        "max_zoom",
        "min_native_zoom",
        "min_zoom",
        "no_wrap",
        "tile_size",
        "tms"
       ],
       "url": "https://maps-a.onemap.sg/v3/LandLot/{z}/{x}/{y}.png"
      }
     },
     "21a7bc483d214991ba77ac8ce0f55ac8": {
      "model_module": "jupyter-leaflet",
      "model_module_version": "^0.15.0",
      "model_name": "LeafletTileLayerModel",
      "state": {
       "_model_module_version": "^0.15.0",
       "_view_module_version": "^0.15.0",
       "attribution": "(C) OpenStreetMap contributors (C) CARTO",
       "max_native_zoom": 18,
       "max_zoom": 20,
       "min_native_zoom": 0,
       "name": "CartoDB.VoyagerNoLabels",
       "options": [
        "attribution",
        "detect_retina",
        "max_native_zoom",
        "max_zoom",
        "min_native_zoom",
        "min_zoom",
        "no_wrap",
        "tile_size",
        "tms"
       ],
       "url": "https://a.basemaps.cartocdn.com/rastertiles/voyager_nolabels/{z}/{x}/{y}.png"
      }
     },
     "21f9fbff437b4b9684e4dee2eb62f3e5": {
      "model_module": "jupyter-leaflet",
      "model_module_version": "^0.15.0",
      "model_name": "LeafletMapModel",
      "state": {
       "_model_module_version": "^0.15.0",
       "_view_module_version": "^0.15.0",
       "bottom": 17535,
       "center": [
        64.58021590637387,
        -163.0222151036337
       ],
       "controls": [
        "IPY_MODEL_26b113b54ec042fb802e8fcee03e9f2f",
        "IPY_MODEL_4ba4384ddaf944269571de4dcdabcd72",
        "IPY_MODEL_ae189cbd26bd4bdd8bc929b03d1cc1e8",
        "IPY_MODEL_db13b2bfddc84245ae2db224ae41d1de",
        "IPY_MODEL_baa6dfe01ec04f418554de22c3416912",
        "IPY_MODEL_8d2dcf1cd2984570b570a4d3016498bf",
        "IPY_MODEL_a0a47a37cbd843a0b4cd7bb0a1ae42ab",
        "IPY_MODEL_f9cd6fb6aa61481ca33461450b6cfff1",
        "IPY_MODEL_f96a1ff87cee4c89b238d41f261be3b6"
       ],
       "default_style": "IPY_MODEL_891063cc11e7441db90daf3f41bae240",
       "dragging_style": "IPY_MODEL_d933c78d522d459c8dc36ff12c5bf7ea",
       "east": -161.2957763671875,
       "fullscreen": false,
       "interpolation": "bilinear",
       "layers": [
        "IPY_MODEL_fe9214109b1240ae800311d4945c74d8",
        "IPY_MODEL_aaab2fc5244e4ff7ac1bd2bec5750ebb",
        "IPY_MODEL_3776df3a5d3640ffa2dbf9da36cd377f",
        "IPY_MODEL_51134ff18cfa48008534509371ee1510",
        "IPY_MODEL_a158406bac874b9287fa691dbe5e75b3",
        "IPY_MODEL_1ff99a6956c1433787c4dadf866f1e88"
       ],
       "layout": "IPY_MODEL_f6b8fd844fd54c8eb5fb3efca8028ad8",
       "left": 2776,
       "max_zoom": 24,
       "modisdate": "2022-04-04",
       "north": 65.27739103149503,
       "options": [
        "bounce_at_zoom_limits",
        "box_zoom",
        "center",
        "close_popup_on_click",
        "double_click_zoom",
        "dragging",
        "fullscreen",
        "inertia",
        "inertia_deceleration",
        "inertia_max_speed",
        "interpolation",
        "keyboard",
        "keyboard_pan_offset",
        "keyboard_zoom_offset",
        "max_zoom",
        "min_zoom",
        "prefer_canvas",
        "scroll_wheel_zoom",
        "tap",
        "tap_tolerance",
        "touch_zoom",
        "world_copy_jump",
        "zoom",
        "zoom_animation_threshold",
        "zoom_delta",
        "zoom_snap",
        "zoom_start"
       ],
       "prefer_canvas": false,
       "right": 3405,
       "scroll_wheel_zoom": true,
       "south": 63.86245588950273,
       "style": "IPY_MODEL_2ecc92dcf37e4382835bf210e123c4bd",
       "top": 16935,
       "west": -164.75097656250003,
       "window_url": "https://uwhackweeks.2i2c.cloud/user/eeholmes/lab/tree/coastal_topobathy/examples/AK_topobathy_vis.ipynb",
       "zoom": 8
      }
     },
     "235a9327831248829cb9cf8ef846c1e0": {
      "model_module": "jupyter-leaflet",
      "model_module_version": "^0.15.0",
      "model_name": "LeafletTileLayerModel",
      "state": {
       "_model_module_version": "^0.15.0",
       "_view_module_version": "^0.15.0",
       "attribution": "Justice Map",
       "max_native_zoom": 18,
       "max_zoom": 22,
       "min_native_zoom": 0,
       "name": "JusticeMap.white",
       "options": [
        "attribution",
        "detect_retina",
        "max_native_zoom",
        "max_zoom",
        "min_native_zoom",
        "min_zoom",
        "no_wrap",
        "tile_size",
        "tms"
       ],
       "url": "https://www.justicemap.org/tile/county/white/{z}/{x}/{y}.png"
      }
     },
     "237a63e71bb44c4b9752aea650825694": {
      "model_module": "@jupyter-widgets/controls",
      "model_module_version": "1.5.0",
      "model_name": "DescriptionStyleModel",
      "state": {
       "description_width": ""
      }
     },
     "23eff27352c94d77b304e723dfd0f170": {
      "model_module": "@jupyter-widgets/controls",
      "model_module_version": "1.5.0",
      "model_name": "ToggleButtonsModel",
      "state": {
       "_options_labels": [
        "OK",
        "Cancel"
       ],
       "button_style": "primary",
       "icons": [],
       "index": null,
       "layout": "IPY_MODEL_14fb87cef37b43e9a99a8daf5d14ad73",
       "style": "IPY_MODEL_503e6e5dbc544c3b9010710dd3c4666f",
       "tooltips": [
        "OK",
        "Cancel"
       ]
      }
     },
     "23f75cc113964fbbaa92bbacddffa58e": {
      "model_module": "jupyter-leaflet",
      "model_module_version": "^0.15.0",
      "model_name": "LeafletTileLayerModel",
      "state": {
       "_model_module_version": "^0.15.0",
       "_view_module_version": "^0.15.0",
       "attribution": "Justice Map",
       "max_native_zoom": 18,
       "max_zoom": 22,
       "min_native_zoom": 0,
       "name": "JusticeMap.multi",
       "options": [
        "attribution",
        "detect_retina",
        "max_native_zoom",
        "max_zoom",
        "min_native_zoom",
        "min_zoom",
        "no_wrap",
        "tile_size",
        "tms"
       ],
       "url": "https://www.justicemap.org/tile/county/multi/{z}/{x}/{y}.png"
      }
     },
     "23f944c002bf45f489b9139661afde75": {
      "model_module": "@jupyter-widgets/controls",
      "model_module_version": "1.5.0",
      "model_name": "ToggleButtonModel",
      "state": {
       "button_style": "primary",
       "icon": "line-chart",
       "layout": "IPY_MODEL_a74072d1ee4a4a359a1396896363ed0b",
       "style": "IPY_MODEL_4d4ee63132124793a366990cf7c9efe2",
       "tooltip": "Creating and plotting transects"
      }
     },
     "24a00dde2f0e4745b9737c367420a0de": {
      "model_module": "jupyter-leaflet",
      "model_module_version": "^0.15.0",
      "model_name": "LeafletWidgetControlModel",
      "state": {
       "_model_module": "jupyter-leaflet",
       "_model_module_version": "^0.15.0",
       "_view_count": null,
       "_view_module": "jupyter-leaflet",
       "_view_module_version": "^0.15.0",
       "options": [
        "position",
        "transparent_bg"
       ],
       "position": "topright",
       "widget": "IPY_MODEL_7e141a57851c460e881705d2ff0ae218"
      }
     },
     "24a9cb6e6c8e43c8ac8e2c3432753f77": {
      "model_module": "@jupyter-widgets/controls",
      "model_module_version": "1.5.0",
      "model_name": "ButtonStyleModel",
      "state": {}
     },
     "25dfbb2362cd4f9f9e853e188635b0b4": {
      "model_module": "@jupyter-widgets/controls",
      "model_module_version": "1.5.0",
      "model_name": "ToggleButtonModel",
      "state": {
       "button_style": "primary",
       "icon": "line-chart",
       "layout": "IPY_MODEL_913cee026b81447bbb931e29b54742fd",
       "style": "IPY_MODEL_ce31a43f87cd4e9aa716da988cff5a7f",
       "tooltip": "Creating and plotting transects"
      }
     },
     "25f5fb07be3b4b239c8c1377eb2af289": {
      "model_module": "jupyter-leaflet",
      "model_module_version": "^0.15.0",
      "model_name": "LeafletTileLayerModel",
      "state": {
       "_model_module_version": "^0.15.0",
       "_view_module_version": "^0.15.0",
       "attribution": "Imagery provided by services from the Global Imagery Browse Services (GIBS), operated by the NASA/GSFC/Earth Science Data and Information System (ESDIS) with funding provided by NASA/HQ.",
       "max_native_zoom": 18,
       "max_zoom": 9,
       "min_native_zoom": 0,
       "name": "NASAGIBS.ModisTerraTrueColorCR",
       "options": [
        "attribution",
        "detect_retina",
        "max_native_zoom",
        "max_zoom",
        "min_native_zoom",
        "min_zoom",
        "no_wrap",
        "tile_size",
        "tms"
       ],
       "url": "https://map1.vis.earthdata.nasa.gov/wmts-webmerc/MODIS_Terra_CorrectedReflectance_TrueColor/default//GoogleMapsCompatible_Level9/{z}/{y}/{x}.jpg"
      }
     },
     "264162d2cbc94fb9910ba0b6f73ed001": {
      "model_module": "jupyter-leaflet",
      "model_module_version": "^0.15.0",
      "model_name": "LeafletTileLayerModel",
      "state": {
       "_model_module_version": "^0.15.0",
       "_view_module_version": "^0.15.0",
       "attribution": "Tiles &copy; Esri &mdash; Esri, DeLorme, NAVTEQ, TomTom, Intermap, iPC, USGS, FAO, NPS, NRCAN, GeoBase, Kadaster NL, Ordnance Survey, Esri Japan, METI, Esri China (Hong Kong), and the GIS User Community",
       "max_native_zoom": 18,
       "max_zoom": 24,
       "min_native_zoom": 0,
       "name": "Esri.ArcticOceanBase",
       "options": [
        "attribution",
        "detect_retina",
        "max_native_zoom",
        "max_zoom",
        "min_native_zoom",
        "min_zoom",
        "no_wrap",
        "tile_size",
        "tms"
       ],
       "url": "http://server.arcgisonline.com/ArcGIS/rest/services/Polar/Arctic_Ocean_Base/MapServer/tile/{z}/{y}/{x}"
      }
     },
     "26a1a90392024cdaba48148205b2b26f": {
      "model_module": "@jupyter-widgets/controls",
      "model_module_version": "1.5.0",
      "model_name": "DescriptionStyleModel",
      "state": {
       "description_width": ""
      }
     },
     "26a3706d2173411585af2fc2c14d1cac": {
      "model_module": "jupyter-leaflet",
      "model_module_version": "^0.15.0",
      "model_name": "LeafletWMSLayerModel",
      "state": {
       "_model_module_version": "^0.15.0",
       "_view_module_version": "^0.15.0",
       "attribution": "MRLC",
       "crs": {
        "custom": false,
        "name": "EPSG3857"
       },
       "format": "image/png",
       "layers": "NLCD_2019_Land_Cover_L48",
       "max_native_zoom": 18,
       "min_native_zoom": 0,
       "name": "NLCD 2019 CONUS Land Cover",
       "options": [
        "attribution",
        "detect_retina",
        "format",
        "layers",
        "max_native_zoom",
        "max_zoom",
        "min_native_zoom",
        "min_zoom",
        "no_wrap",
        "styles",
        "tile_size",
        "tms",
        "transparent",
        "uppercase"
       ],
       "transparent": true,
       "url": "https://www.mrlc.gov/geoserver/mrlc_display/NLCD_2019_Land_Cover_L48/wms?"
      }
     },
     "26b113b54ec042fb802e8fcee03e9f2f": {
      "model_module": "jupyter-leaflet",
      "model_module_version": "^0.15.0",
      "model_name": "LeafletWidgetControlModel",
      "state": {
       "_model_module": "jupyter-leaflet",
       "_model_module_version": "^0.15.0",
       "_view_count": null,
       "_view_module": "jupyter-leaflet",
       "_view_module_version": "^0.15.0",
       "options": [
        "position",
        "transparent_bg"
       ],
       "position": "topleft",
       "widget": "IPY_MODEL_1121448a50ed40b0b908fbbee6106cd5"
      }
     },
     "27f7602f14ab48ddab57074dc75204dc": {
      "model_module": "jupyter-leaflet",
      "model_module_version": "^0.15.0",
      "model_name": "LeafletTileLayerModel",
      "state": {
       "_model_module_version": "^0.15.0",
       "_view_module_version": "^0.15.0",
       "attribution": "Tiles (C) Esri -- Source: US National Park Service",
       "max_native_zoom": 18,
       "max_zoom": 8,
       "min_native_zoom": 0,
       "name": "Esri.WorldPhysical",
       "options": [
        "attribution",
        "detect_retina",
        "max_native_zoom",
        "max_zoom",
        "min_native_zoom",
        "min_zoom",
        "no_wrap",
        "tile_size",
        "tms"
       ],
       "url": "https://server.arcgisonline.com/ArcGIS/rest/services/World_Physical_Map/MapServer/tile/{z}/{y}/{x}"
      }
     },
     "2848c19263b44e15a596ee4a0b7323e5": {
      "model_module": "jupyter-leaflet",
      "model_module_version": "^0.15.0",
      "model_name": "LeafletDrawControlModel",
      "state": {
       "_model_module_version": "^0.15.0",
       "_view_module_version": "^0.15.0",
       "circle": {
        "shapeOptions": {
         "color": "#3388ff"
        }
       },
       "edit": false,
       "options": [
        "position"
       ],
       "polygon": {},
       "polyline": {},
       "rectangle": {
        "shapeOptions": {
         "color": "#3388ff"
        }
       },
       "remove": false
      }
     },
     "28753eb68fc045108f2689f36a755a3c": {
      "model_module": "jupyter-leaflet",
      "model_module_version": "^0.15.0",
      "model_name": "LeafletTileLayerModel",
      "state": {
       "_model_module_version": "^0.15.0",
       "_view_module_version": "^0.15.0",
       "attribution": "Datenquelle: basemap.at",
       "max_native_zoom": 18,
       "max_zoom": 20,
       "min_native_zoom": 0,
       "name": "BasemapAT.basemap",
       "options": [
        "attribution",
        "detect_retina",
        "max_native_zoom",
        "max_zoom",
        "min_native_zoom",
        "min_zoom",
        "no_wrap",
        "tile_size",
        "tms"
       ],
       "url": "https://maps.wien.gv.at/basemap/geolandbasemap/normal/google3857/{z}/{y}/{x}.png"
      }
     },
     "2902f1f6b4d94872ba3597318d0a4df5": {
      "model_module": "@jupyter-widgets/controls",
      "model_module_version": "1.5.0",
      "model_name": "DescriptionStyleModel",
      "state": {
       "description_width": ""
      }
     },
     "299163cf339d4c9eb1e200bfddd4fa30": {
      "model_module": "@here/map-widget-for-jupyter",
      "model_module_version": "^1.1.3",
      "model_name": "DefaultLayersModel",
      "state": {
       "_model_module": "@here/map-widget-for-jupyter",
       "_model_module_version": "^1.1.3",
       "_view_count": null,
       "_view_module": "@here/map-widget-for-jupyter",
       "_view_module_version": "^1.1.3",
       "ppi": null
      }
     },
     "29e00e6f7bcc495c90ed5c20dd7dd370": {
      "model_module": "@jupyter-widgets/controls",
      "model_module_version": "1.5.0",
      "model_name": "HTMLModel",
      "state": {
       "layout": "IPY_MODEL_5af13d9097504d20b41f67640e674b70",
       "placeholder": "",
       "style": "IPY_MODEL_868f428c48294b91bedbdb2b1bb7bcf8",
       "value": "<span style=\"color:black;\">No selection</span>"
      }
     },
     "2a90abfae5034ec0991a694f0ccd1972": {
      "model_module": "jupyter-leaflet",
      "model_module_version": "^0.15.0",
      "model_name": "LeafletMapStyleModel",
      "state": {
       "_model_module_version": "^0.15.0"
      }
     },
     "2aa21d21ef5d4785ae03b5ec5d022ddf": {
      "model_module": "jupyter-leaflet",
      "model_module_version": "^0.15.0",
      "model_name": "LeafletTileLayerModel",
      "state": {
       "_model_module_version": "^0.15.0",
       "_view_module_version": "^0.15.0",
       "attribution": "&copy; <a href=\"https://www.openstreetmap.org/copyright\">OpenStreetMap</a> contributors",
       "base": true,
       "max_native_zoom": 18,
       "max_zoom": 19,
       "min_native_zoom": 0,
       "min_zoom": 1,
       "name": "OpenStreetMap.Mapnik",
       "options": [
        "attribution",
        "detect_retina",
        "max_native_zoom",
        "max_zoom",
        "min_native_zoom",
        "min_zoom",
        "no_wrap",
        "tile_size",
        "tms"
       ],
       "url": "https://a.tile.openstreetmap.org/{z}/{x}/{y}.png"
      }
     },
     "2b94dd0695ed403d87cc81b993a11c8e": {
      "model_module": "jupyter-leaflet",
      "model_module_version": "^0.15.0",
      "model_name": "LeafletTileLayerModel",
      "state": {
       "_model_module_version": "^0.15.0",
       "_view_module_version": "^0.15.0",
       "attribution": "(C) OpenStreetMap contributors (C) CARTO",
       "max_native_zoom": 18,
       "max_zoom": 20,
       "min_native_zoom": 0,
       "name": "CartoDB.Positron",
       "options": [
        "attribution",
        "detect_retina",
        "max_native_zoom",
        "max_zoom",
        "min_native_zoom",
        "min_zoom",
        "no_wrap",
        "tile_size",
        "tms"
       ],
       "url": "https://a.basemaps.cartocdn.com/light_all/{z}/{x}/{y}.png"
      }
     },
     "2c1659e02dfa47b0ae040438c9912eb6": {
      "model_module": "@jupyter-widgets/base",
      "model_module_version": "1.2.0",
      "model_name": "LayoutModel",
      "state": {
       "display": "none"
      }
     },
     "2d5afd5e47db45caada71906e8425b53": {
      "model_module": "@jupyter-widgets/base",
      "model_module_version": "1.2.0",
      "model_name": "LayoutModel",
      "state": {}
     },
     "2e28b8e1f1eb4c618cd47ddc21d6fd5b": {
      "model_module": "jupyter-leaflet",
      "model_module_version": "^0.15.0",
      "model_name": "LeafletZoomControlModel",
      "state": {
       "_model_module_version": "^0.15.0",
       "_view_module_version": "^0.15.0",
       "options": [
        "position",
        "zoom_in_text",
        "zoom_in_title",
        "zoom_out_text",
        "zoom_out_title"
       ]
      }
     },
     "2e2972213645492fa32f2284a888a0a8": {
      "model_module": "@jupyter-widgets/controls",
      "model_module_version": "1.5.0",
      "model_name": "DescriptionStyleModel",
      "state": {
       "description_width": ""
      }
     },
     "2ecc92dcf37e4382835bf210e123c4bd": {
      "model_module": "jupyter-leaflet",
      "model_module_version": "^0.15.0",
      "model_name": "LeafletMapStyleModel",
      "state": {
       "_model_module_version": "^0.15.0"
      }
     },
     "2f14ea8d3de245e0ad3a2aef9c3d4fea": {
      "model_module": "@jupyter-widgets/controls",
      "model_module_version": "1.5.0",
      "model_name": "ToggleButtonsModel",
      "state": {
       "_options_labels": [
        "HTML",
        "PNG",
        "JPG"
       ],
       "button_style": "",
       "icons": [],
       "index": 0,
       "layout": "IPY_MODEL_6ca37b5ea0da4c7f897c24bce0096cf4",
       "style": "IPY_MODEL_9e5ae68abc514ad2b9fda3b1e0602194",
       "tooltips": [
        "Save the map as an HTML file",
        "Take a screenshot and save as a PNG file",
        "Take a screenshot and save as a JPG file"
       ]
      }
     },
     "3010487efd1b4822a65242acf8235c92": {
      "model_module": "jupyter-leaflet",
      "model_module_version": "^0.15.0",
      "model_name": "LeafletTileLayerModel",
      "state": {
       "_model_module_version": "^0.15.0",
       "_view_module_version": "^0.15.0",
       "attribution": "Map data: (C) OpenStreetMap contributors, SRTM | Map style: (C) OpenTopoMap (CC-BY-SA)",
       "max_native_zoom": 18,
       "max_zoom": 17,
       "min_native_zoom": 0,
       "name": "OpenTopoMap",
       "options": [
        "attribution",
        "detect_retina",
        "max_native_zoom",
        "max_zoom",
        "min_native_zoom",
        "min_zoom",
        "no_wrap",
        "tile_size",
        "tms"
       ],
       "url": "https://a.tile.opentopomap.org/{z}/{x}/{y}.png"
      }
     },
     "305b00ec2bbd491e8ee033978d04b59e": {
      "model_module": "@jupyter-widgets/base",
      "model_module_version": "1.2.0",
      "model_name": "LayoutModel",
      "state": {
       "width": "500px"
      }
     },
     "314c32d8044e44f18d89a10edd7be4a3": {
      "model_module": "jupyter-leaflet",
      "model_module_version": "^0.15.0",
      "model_name": "LeafletTileLayerModel",
      "state": {
       "_model_module_version": "^0.15.0",
       "_view_module_version": "^0.15.0",
       "attribution": "Imagery provided by services from the Global Imagery Browse Services (GIBS), operated by the NASA/GSFC/Earth Science Data and Information System (<a href=\"https://earthdata.nasa.gov\">ESDIS</a>) with funding provided by NASA/HQ.",
       "max_native_zoom": 18,
       "max_zoom": 9,
       "min_native_zoom": 0,
       "name": "NASAGIBS.ModisTerraBands721CR",
       "options": [
        "attribution",
        "detect_retina",
        "max_native_zoom",
        "max_zoom",
        "min_native_zoom",
        "min_zoom",
        "no_wrap",
        "tile_size",
        "tms"
       ],
       "url": "https://gibs.earthdata.nasa.gov/wmts/epsg3857/best/MODIS_Terra_CorrectedReflectance_Bands721/default//GoogleMapsCompatible_Level9/{z}/{y}/{x}.jpg"
      }
     },
     "315e02e1f0ee424c8e2f518be32a08db": {
      "model_module": "@jupyter-widgets/controls",
      "model_module_version": "1.5.0",
      "model_name": "DescriptionStyleModel",
      "state": {
       "description_width": ""
      }
     },
     "3288701a0a7a4358a6544f1d3d4a2a80": {
      "model_module": "@jupyter-widgets/controls",
      "model_module_version": "1.5.0",
      "model_name": "DescriptionStyleModel",
      "state": {
       "description_width": ""
      }
     },
     "32bc08301a3a4d6fbc2106944e53eda6": {
      "model_module": "@jupyter-widgets/base",
      "model_module_version": "1.2.0",
      "model_name": "LayoutModel",
      "state": {
       "width": "auto"
      }
     },
     "34a7eaf7ecc94b1b9d679bc853adf480": {
      "model_module": "@jupyter-widgets/controls",
      "model_module_version": "1.5.0",
      "model_name": "ButtonStyleModel",
      "state": {}
     },
     "351cb2eab0e34e07bc1d9e183d02200c": {
      "model_module": "jupyter-leaflet",
      "model_module_version": "^0.15.0",
      "model_name": "LeafletTileLayerModel",
      "state": {
       "_model_module_version": "^0.15.0",
       "_view_module_version": "^0.15.0",
       "attribution": "(C) Stadia Maps, (C) OpenMapTiles (C) OpenStreetMap contributors",
       "max_native_zoom": 18,
       "max_zoom": 20,
       "min_native_zoom": 0,
       "name": "Stadia.Outdoors",
       "options": [
        "attribution",
        "detect_retina",
        "max_native_zoom",
        "max_zoom",
        "min_native_zoom",
        "min_zoom",
        "no_wrap",
        "tile_size",
        "tms"
       ],
       "url": "https://tiles.stadiamaps.com/tiles/outdoors/{z}/{x}/{y}.png"
      }
     },
     "359e7fd33cf84cd188febe545f65ca12": {
      "model_module": "jupyter-leaflet",
      "model_module_version": "^0.15.0",
      "model_name": "LeafletMarkerModel",
      "state": {
       "_model_module_version": "^0.15.0",
       "_view_module_version": "^0.15.0",
       "icon": "IPY_MODEL_0a87b288c7f54d9aa3f74c481fae65a2",
       "options": [
        "alt",
        "draggable",
        "keyboard",
        "rise_offset",
        "rise_on_hover",
        "rotation_angle",
        "rotation_origin",
        "title",
        "z_index_offset"
       ]
      }
     },
     "3603bc310cd74b3baa0bec7f28fe7799": {
      "model_module": "@jupyter-widgets/base",
      "model_module_version": "1.2.0",
      "model_name": "LayoutModel",
      "state": {
       "height": "auto",
       "padding": "0px 0px 0px 4px",
       "width": "auto"
      }
     },
     "362555d8cc544d72b83195ebb8a11eb0": {
      "model_module": "@jupyter-widgets/controls",
      "model_module_version": "1.5.0",
      "model_name": "ButtonModel",
      "state": {
       "description": "Cancel",
       "layout": "IPY_MODEL_896165f8d79847028da7c86817f10d05",
       "style": "IPY_MODEL_3c4fc7c994174371b380b85e2e2e624c"
      }
     },
     "3776df3a5d3640ffa2dbf9da36cd377f": {
      "model_module": "jupyter-leaflet",
      "model_module_version": "^0.15.0",
      "model_name": "LeafletTileLayerModel",
      "state": {
       "_model_module_version": "^0.15.0",
       "_view_module_version": "^0.15.0",
       "attribution": "Google",
       "max_native_zoom": 18,
       "max_zoom": 22,
       "min_native_zoom": 0,
       "name": "Google Satellite",
       "opacity": 0.8,
       "options": [
        "attribution",
        "detect_retina",
        "max_native_zoom",
        "max_zoom",
        "min_native_zoom",
        "min_zoom",
        "no_wrap",
        "tile_size",
        "tms"
       ],
       "url": "https://mt1.google.com/vt/lyrs=s&x={x}&y={y}&z={z}"
      }
     },
     "38b3df0dc76e4ac6acfa02c8b1904aa3": {
      "model_module": "@jupyter-widgets/base",
      "model_module_version": "1.2.0",
      "model_name": "LayoutModel",
      "state": {
       "height": "28px",
       "padding": "0px 0px 0px 4px",
       "width": "28px"
      }
     },
     "3a3d96b85a6f4696bc7306d17ac1547d": {
      "model_module": "@jupyter-widgets/controls",
      "model_module_version": "1.5.0",
      "model_name": "SelectModel",
      "state": {
       "_options_labels": [
        "📁 ..",
        "📁 data",
        "AK_topobathy_vis.ipynb",
        "OpenAltimetry_example.ipynb",
        "README.txt",
        "SlideRule_example.ipynb",
        "SlideRule_getData.ipynb",
        "geemap_tutorial_exercise1.jpg",
        "white_mountain_2019-11-01.jpg"
       ],
       "index": null,
       "layout": "IPY_MODEL_de7e8ee873364e8c89692c4d2e787a17",
       "rows": 8,
       "style": "IPY_MODEL_010f0530279843a28c3c8a389f9d13f8"
      }
     },
     "3ae7f4a138a34b99b493d96f63feabbf": {
      "model_module": "@jupyter-widgets/controls",
      "model_module_version": "1.5.0",
      "model_name": "ToggleButtonsStyleModel",
      "state": {
       "button_width": "",
       "description_width": ""
      }
     },
     "3b56d183dd9647a6802db769f6d3d3d3": {
      "model_module": "jupyter-leaflet",
      "model_module_version": "^0.15.0",
      "model_name": "LeafletTileLayerModel",
      "state": {
       "_model_module_version": "^0.15.0",
       "_view_module_version": "^0.15.0",
       "attribution": "Kaartgegevens (C) Kadaster",
       "max_native_zoom": 18,
       "max_zoom": 19,
       "min_native_zoom": 0,
       "name": "nlmaps.grijs",
       "options": [
        "attribution",
        "detect_retina",
        "max_native_zoom",
        "max_zoom",
        "min_native_zoom",
        "min_zoom",
        "no_wrap",
        "tile_size",
        "tms"
       ],
       "url": "https://service.pdok.nl/brt/achtergrondkaart/wmts/v2_0/grijs/EPSG:3857/{z}/{x}/{y}.png"
      }
     },
     "3b7d723bc4e64e1baa15540282acb7c9": {
      "model_module": "@jupyter-widgets/controls",
      "model_module_version": "1.5.0",
      "model_name": "DescriptionStyleModel",
      "state": {
       "description_width": ""
      }
     },
     "3c4fc7c994174371b380b85e2e2e624c": {
      "model_module": "@jupyter-widgets/controls",
      "model_module_version": "1.5.0",
      "model_name": "ButtonStyleModel",
      "state": {}
     },
     "3c6335674f43415cb63757a14282708b": {
      "model_module": "@jupyter-widgets/base",
      "model_module_version": "1.2.0",
      "model_name": "LayoutModel",
      "state": {
       "height": "auto",
       "padding": "0px 0px 0px 4px",
       "width": "auto"
      }
     },
     "3cbb40ff04284b4aa756b89ba7021cf7": {
      "model_module": "@jupyter-widgets/controls",
      "model_module_version": "1.5.0",
      "model_name": "RadioButtonsModel",
      "state": {
       "index": null,
       "layout": "IPY_MODEL_f996dc8bcbe442368e95d08b32280229",
       "style": "IPY_MODEL_0e7272cb8d934e2d80c67a15ee825bdf"
      }
     },
     "3da111bc015b4862848d6d97c1c55ad9": {
      "model_module": "@jupyter-widgets/base",
      "model_module_version": "1.2.0",
      "model_name": "LayoutModel",
      "state": {
       "height": "auto",
       "padding": "0px 0px 0px 4px",
       "width": "auto"
      }
     },
     "3e18aa5f09084574af6d2aea6b3e48c6": {
      "model_module": "jupyter-leaflet",
      "model_module_version": "^0.15.0",
      "model_name": "LeafletTileLayerModel",
      "state": {
       "_model_module_version": "^0.15.0",
       "_view_module_version": "^0.15.0",
       "attribution": "Justice Map",
       "max_native_zoom": 18,
       "max_zoom": 22,
       "min_native_zoom": 0,
       "name": "JusticeMap.hispanic",
       "options": [
        "attribution",
        "detect_retina",
        "max_native_zoom",
        "max_zoom",
        "min_native_zoom",
        "min_zoom",
        "no_wrap",
        "tile_size",
        "tms"
       ],
       "url": "https://www.justicemap.org/tile/county/hispanic/{z}/{x}/{y}.png"
      }
     },
     "3fb2fe09e11243a088bad91a89f65a75": {
      "model_module": "@jupyter-widgets/controls",
      "model_module_version": "1.5.0",
      "model_name": "VBoxModel",
      "state": {
       "children": [
        "IPY_MODEL_a3475e753c1d4c0e90992ece5ec43ba4",
        "IPY_MODEL_feb0e36889f0431fa703f769e5c58b7d",
        "IPY_MODEL_ba8bd43f12e7469b93a80d85a3233fac"
       ],
       "layout": "IPY_MODEL_305b00ec2bbd491e8ee033978d04b59e"
      }
     },
     "40cd63fa9c7348a09f9a0aa4ce7eb398": {
      "model_module": "jupyter-leaflet",
      "model_module_version": "^0.15.0",
      "model_name": "LeafletTileLayerModel",
      "state": {
       "_model_module_version": "^0.15.0",
       "_view_module_version": "^0.15.0",
       "attribution": "Imagery provided by services from the Global Imagery Browse Services (GIBS), operated by the NASA/GSFC/Earth Science Data and Information System (<a href=\"https://earthdata.nasa.gov\">ESDIS</a>) with funding provided by NASA/HQ.",
       "max_native_zoom": 18,
       "max_zoom": 5,
       "min_native_zoom": 0,
       "name": "NASAGIBS.BlueMarble3031",
       "options": [
        "attribution",
        "detect_retina",
        "max_native_zoom",
        "max_zoom",
        "min_native_zoom",
        "min_zoom",
        "no_wrap",
        "tile_size",
        "tms"
       ],
       "url": "https://gibs.earthdata.nasa.gov/wmts/epsg3031/best/BlueMarble_NextGeneration/default/EPSG3031_500m/{z}/{y}/{x}.jpeg"
      }
     },
     "420b1ee5ad5b4a308e1b671f80a79deb": {
      "model_module": "@here/map-widget-for-jupyter",
      "model_module_version": "^1.1.3",
      "model_name": "DefaultLayersModel",
      "state": {
       "_model_module": "@here/map-widget-for-jupyter",
       "_model_module_version": "^1.1.3",
       "_view_count": null,
       "_view_module": "@here/map-widget-for-jupyter",
       "_view_module_version": "^1.1.3",
       "layer_name": "raster.terrain.base",
       "ppi": null
      }
     },
     "42167390e56b4e97a5527b88f63ead5e": {
      "model_module": "jupyter-leaflet",
      "model_module_version": "^0.15.0",
      "model_name": "LeafletTileLayerModel",
      "state": {
       "_model_module_version": "^0.15.0",
       "_view_module_version": "^0.15.0",
       "attribution": "Justice Map",
       "max_native_zoom": 18,
       "max_zoom": 22,
       "min_native_zoom": 0,
       "name": "JusticeMap.nonWhite",
       "options": [
        "attribution",
        "detect_retina",
        "max_native_zoom",
        "max_zoom",
        "min_native_zoom",
        "min_zoom",
        "no_wrap",
        "tile_size",
        "tms"
       ],
       "url": "https://www.justicemap.org/tile/county/nonwhite/{z}/{x}/{y}.png"
      }
     },
     "430b61f698bb47969b22f48f64f6c1ad": {
      "model_module": "jupyter-leaflet",
      "model_module_version": "^0.15.0",
      "model_name": "LeafletTileLayerModel",
      "state": {
       "_model_module_version": "^0.15.0",
       "_view_module_version": "^0.15.0",
       "attribution": "![](https://docs.onemap.sg/maps/images/oneMap64-01.png) New OneMap | Map data (C) contributors, Singapore Land Authority",
       "max_native_zoom": 18,
       "min_native_zoom": 0,
       "name": "OneMapSG.Original",
       "options": [
        "attribution",
        "detect_retina",
        "max_native_zoom",
        "max_zoom",
        "min_native_zoom",
        "min_zoom",
        "no_wrap",
        "tile_size",
        "tms"
       ],
       "url": "https://maps-a.onemap.sg/v3/Original/{z}/{x}/{y}.png"
      }
     },
     "433f8fe7eb524525bf0b934a2554d646": {
      "model_module": "jupyter-leaflet",
      "model_module_version": "^0.15.0",
      "model_name": "LeafletTileLayerModel",
      "state": {
       "_model_module_version": "^0.15.0",
       "_view_module_version": "^0.15.0",
       "attribution": "Imagery provided by services from the Global Imagery Browse Services (GIBS), operated by the NASA/GSFC/Earth Science Data and Information System (ESDIS) with funding provided by NASA/HQ.",
       "max_native_zoom": 18,
       "max_zoom": 8,
       "min_native_zoom": 0,
       "name": "NASAGIBS.ViirsEarthAtNight2012",
       "options": [
        "attribution",
        "detect_retina",
        "max_native_zoom",
        "max_zoom",
        "min_native_zoom",
        "min_zoom",
        "no_wrap",
        "tile_size",
        "tms"
       ],
       "url": "https://map1.vis.earthdata.nasa.gov/wmts-webmerc/VIIRS_CityLights_2012/default//GoogleMapsCompatible_Level8/{z}/{y}/{x}.jpg"
      }
     },
     "439c746ab6d6430ea9676d778264f398": {
      "model_module": "jupyter-leaflet",
      "model_module_version": "^0.15.0",
      "model_name": "LeafletTileLayerModel",
      "state": {
       "_model_module_version": "^0.15.0",
       "_view_module_version": "^0.15.0",
       "attribution": "Map data: (C) OpenStreetMap contributors | Map style: (C) waymarkedtrails.org (CC-BY-SA)",
       "max_native_zoom": 18,
       "min_native_zoom": 0,
       "name": "WaymarkedTrails.cycling",
       "options": [
        "attribution",
        "detect_retina",
        "max_native_zoom",
        "max_zoom",
        "min_native_zoom",
        "min_zoom",
        "no_wrap",
        "tile_size",
        "tms"
       ],
       "url": "https://tile.waymarkedtrails.org/cycling/{z}/{x}/{y}.png"
      }
     },
     "43b9d71e628f4ccb8317d3ab3570e9e0": {
      "model_module": "@jupyter-widgets/controls",
      "model_module_version": "1.5.0",
      "model_name": "RadioButtonsModel",
      "state": {
       "index": null,
       "layout": "IPY_MODEL_8c6cc1aaed104c9283cda88e68dbfd04",
       "style": "IPY_MODEL_4a62ca04ec4c4bc29a7f14ad5d3e45e7"
      }
     },
     "448f7347e9af4ff384fbaf68f42a339e": {
      "model_module": "@here/map-widget-for-jupyter",
      "model_module_version": "^1.1.3",
      "model_name": "DefaultLayersModel",
      "state": {
       "_model_module": "@here/map-widget-for-jupyter",
       "_model_module_version": "^1.1.3",
       "_view_count": null,
       "_view_module": "@here/map-widget-for-jupyter",
       "_view_module_version": "^1.1.3",
       "layer_name": "raster.satellite.map",
       "ppi": null
      }
     },
     "458457acce69431280def778e41e4ad5": {
      "model_module": "@jupyter-widgets/controls",
      "model_module_version": "1.5.0",
      "model_name": "DescriptionStyleModel",
      "state": {
       "description_width": ""
      }
     },
     "46e1aa39eaa944f081d8a4fb1825d4eb": {
      "model_module": "jupyter-leaflet",
      "model_module_version": "^0.15.0",
      "model_name": "LeafletTileLayerModel",
      "state": {
       "_model_module_version": "^0.15.0",
       "_view_module_version": "^0.15.0",
       "attribution": "Tiles courtesy of OpenStreetMap Sweden -- Map data (C) OpenStreetMap contributors",
       "max_native_zoom": 18,
       "max_zoom": 20,
       "min_native_zoom": 0,
       "name": "Hydda.RoadsAndLabels",
       "options": [
        "attribution",
        "detect_retina",
        "max_native_zoom",
        "max_zoom",
        "min_native_zoom",
        "min_zoom",
        "no_wrap",
        "tile_size",
        "tms"
       ],
       "url": "https://a.tile.openstreetmap.se/hydda/roads_and_labels/{z}/{x}/{y}.png"
      }
     },
     "470d5b1cf58342d5ac2399a470635fc3": {
      "model_module": "@jupyter-widgets/base",
      "model_module_version": "1.2.0",
      "model_name": "LayoutModel",
      "state": {
       "height": "auto",
       "padding": "0px 0px 0px 4px",
       "width": "auto"
      }
     },
     "471bfd9231fc4054a77f41ddbfb371b2": {
      "model_module": "@jupyter-widgets/controls",
      "model_module_version": "1.5.0",
      "model_name": "DescriptionStyleModel",
      "state": {
       "description_width": ""
      }
     },
     "47c39af6f9f243cba79dafb8de9aee5a": {
      "model_module": "@jupyter-widgets/controls",
      "model_module_version": "1.5.0",
      "model_name": "ToggleButtonModel",
      "state": {
       "button_style": "primary",
       "icon": "retweet",
       "layout": "IPY_MODEL_d04cc4613a934c69ad0089c9bc59e44a",
       "style": "IPY_MODEL_0654be91e24345c086b55a5b201bf103",
       "tooltip": "Convert Earth Engine JavaScript to Python"
      }
     },
     "493b4c028e934fb9bdb384013c57e876": {
      "model_module": "@jupyter-widgets/controls",
      "model_module_version": "1.5.0",
      "model_name": "DescriptionStyleModel",
      "state": {
       "description_width": ""
      }
     },
     "4a3bfd20b42a4825ad9545c3b07ea4bb": {
      "model_module": "jupyter-leaflet",
      "model_module_version": "^0.15.0",
      "model_name": "LeafletTileLayerModel",
      "state": {
       "_model_module_version": "^0.15.0",
       "_view_module_version": "^0.15.0",
       "attribution": "Map data: (C) OpenStreetMap contributors | Map style: (C) OpenFireMap (CC-BY-SA)",
       "max_native_zoom": 18,
       "max_zoom": 19,
       "min_native_zoom": 0,
       "name": "OpenFireMap",
       "options": [
        "attribution",
        "detect_retina",
        "max_native_zoom",
        "max_zoom",
        "min_native_zoom",
        "min_zoom",
        "no_wrap",
        "tile_size",
        "tms"
       ],
       "url": "http://openfiremap.org/hytiles/{z}/{x}/{y}.png"
      }
     },
     "4a62ca04ec4c4bc29a7f14ad5d3e45e7": {
      "model_module": "@jupyter-widgets/controls",
      "model_module_version": "1.5.0",
      "model_name": "DescriptionStyleModel",
      "state": {
       "description_width": ""
      }
     },
     "4ba4384ddaf944269571de4dcdabcd72": {
      "model_module": "jupyter-leaflet",
      "model_module_version": "^0.15.0",
      "model_name": "LeafletZoomControlModel",
      "state": {
       "_model_module_version": "^0.15.0",
       "_view_module_version": "^0.15.0",
       "options": [
        "position",
        "zoom_in_text",
        "zoom_in_title",
        "zoom_out_text",
        "zoom_out_title"
       ]
      }
     },
     "4c35667869ac40308d16555ec46680ee": {
      "model_module": "jupyter-leaflet",
      "model_module_version": "^0.15.0",
      "model_name": "LeafletWMSLayerModel",
      "state": {
       "_model_module_version": "^0.15.0",
       "_view_module_version": "^0.15.0",
       "attribution": "USGS",
       "crs": {
        "custom": false,
        "name": "EPSG3857"
       },
       "format": "image/png",
       "layers": "0",
       "max_native_zoom": 18,
       "min_native_zoom": 0,
       "name": "USGS Hydrography",
       "options": [
        "attribution",
        "detect_retina",
        "format",
        "layers",
        "max_native_zoom",
        "max_zoom",
        "min_native_zoom",
        "min_zoom",
        "no_wrap",
        "styles",
        "tile_size",
        "tms",
        "transparent",
        "uppercase"
       ],
       "transparent": true,
       "url": "https://basemap.nationalmap.gov/arcgis/services/USGSHydroCached/MapServer/WMSServer?"
      }
     },
     "4ccc225f831c41cbbcdb285e0c3b8469": {
      "model_module": "@jupyter-widgets/base",
      "model_module_version": "1.2.0",
      "model_name": "LayoutModel",
      "state": {
       "height": "auto",
       "padding": "0px 0px 0px 4px",
       "width": "auto"
      }
     },
     "4d210317e0a34e7e99457310b7569354": {
      "model_module": "@jupyter-widgets/base",
      "model_module_version": "1.2.0",
      "model_name": "LayoutModel",
      "state": {
       "min_width": "6em",
       "width": "6em"
      }
     },
     "4d4ee63132124793a366990cf7c9efe2": {
      "model_module": "@jupyter-widgets/controls",
      "model_module_version": "1.5.0",
      "model_name": "DescriptionStyleModel",
      "state": {
       "description_width": ""
      }
     },
     "4d7ce735930746dda3e7cf4cfd51e374": {
      "model_module": "@jupyter-widgets/base",
      "model_module_version": "1.2.0",
      "model_name": "LayoutModel",
      "state": {
       "height": "auto",
       "padding": "0px 0px 0px 4px",
       "width": "auto"
      }
     },
     "4e31bb2ff7c041bdae7c279eee0c1f5e": {
      "model_module": "jupyter-leaflet",
      "model_module_version": "^0.15.0",
      "model_name": "LeafletTileLayerModel",
      "state": {
       "_model_module_version": "^0.15.0",
       "_view_module_version": "^0.15.0",
       "attribution": "Map tiles by Stamen Design, CC BY 3.0 -- Map data (C) OpenStreetMap contributors",
       "max_native_zoom": 18,
       "max_zoom": 20,
       "min_native_zoom": 0,
       "name": "Stamen.Toner",
       "options": [
        "attribution",
        "detect_retina",
        "max_native_zoom",
        "max_zoom",
        "min_native_zoom",
        "min_zoom",
        "no_wrap",
        "tile_size",
        "tms"
       ],
       "url": "https://stamen-tiles-a.a.ssl.fastly.net/toner/{z}/{x}/{y}.png"
      }
     },
     "4e64b40f8213407784abac3acd19574c": {
      "model_module": "@jupyter-widgets/controls",
      "model_module_version": "1.5.0",
      "model_name": "ButtonStyleModel",
      "state": {}
     },
     "4e9207880bca40c09f9c963d718cab6b": {
      "model_module": "@jupyter-widgets/base",
      "model_module_version": "1.2.0",
      "model_name": "LayoutModel",
      "state": {
       "height": "auto",
       "padding": "0px 0px 0px 4px",
       "width": "auto"
      }
     },
     "4ec02376063a4f42a33d03839efe1e40": {
      "model_module": "@jupyter-widgets/base",
      "model_module_version": "1.2.0",
      "model_name": "LayoutModel",
      "state": {
       "height": "auto",
       "padding": "0px 0px 0px 4px",
       "width": "auto"
      }
     },
     "4ec91965140d4a7e85124fcb80380ce0": {
      "model_module": "jupyter-leaflet",
      "model_module_version": "^0.15.0",
      "model_name": "LeafletTileLayerModel",
      "state": {
       "_model_module_version": "^0.15.0",
       "_view_module_version": "^0.15.0",
       "attribution": "(C) OpenStreetMap contributors (C) CARTO",
       "max_native_zoom": 18,
       "max_zoom": 20,
       "min_native_zoom": 0,
       "name": "CartoDB.DarkMatterOnlyLabels",
       "options": [
        "attribution",
        "detect_retina",
        "max_native_zoom",
        "max_zoom",
        "min_native_zoom",
        "min_zoom",
        "no_wrap",
        "tile_size",
        "tms"
       ],
       "url": "https://a.basemaps.cartocdn.com/dark_only_labels/{z}/{x}/{y}.png"
      }
     },
     "4f31fbe1b1d74517bb901376712dd950": {
      "model_module": "@jupyter-widgets/controls",
      "model_module_version": "1.5.0",
      "model_name": "ToggleButtonModel",
      "state": {
       "button_style": "primary",
       "icon": "gears",
       "layout": "IPY_MODEL_5a018e4be48942c6a42743a9e91d795b",
       "style": "IPY_MODEL_2902f1f6b4d94872ba3597318d0a4df5",
       "tooltip": "WhiteboxTools for local geoprocessing"
      }
     },
     "50011bd2a8b34afb800f3583a1c538a5": {
      "model_module": "jupyter-leaflet",
      "model_module_version": "^0.15.0",
      "model_name": "LeafletTileLayerModel",
      "state": {
       "_model_module_version": "^0.15.0",
       "_view_module_version": "^0.15.0",
       "attribution": "Imagery provided by services from the Global Imagery Browse Services (GIBS), operated by the NASA/GSFC/Earth Science Data and Information System (ESDIS) with funding provided by NASA/HQ.",
       "max_native_zoom": 18,
       "max_zoom": 7,
       "min_native_zoom": 0,
       "name": "NASAGIBS.ModisTerraChlorophyll",
       "options": [
        "attribution",
        "detect_retina",
        "max_native_zoom",
        "max_zoom",
        "min_native_zoom",
        "min_zoom",
        "no_wrap",
        "tile_size",
        "tms"
       ],
       "url": "https://map1.vis.earthdata.nasa.gov/wmts-webmerc/MODIS_Terra_Chlorophyll_A/default//GoogleMapsCompatible_Level7/{z}/{y}/{x}.png"
      }
     },
     "503e6e5dbc544c3b9010710dd3c4666f": {
      "model_module": "@jupyter-widgets/controls",
      "model_module_version": "1.5.0",
      "model_name": "ToggleButtonsStyleModel",
      "state": {
       "button_width": "",
       "description_width": ""
      }
     },
     "5064a5eacec94e21b7ecb77ce31f8d84": {
      "model_module": "jupyter-leaflet",
      "model_module_version": "^0.15.0",
      "model_name": "LeafletScaleControlModel",
      "state": {
       "_model_module_version": "^0.15.0",
       "_view_module_version": "^0.15.0",
       "imperial": true,
       "max_width": 100,
       "metric": true,
       "options": [
        "imperial",
        "max_width",
        "metric",
        "position",
        "update_when_idle"
       ],
       "position": "bottomleft",
       "update_when_idle": false
      }
     },
     "5082951598734785b90884db07b66970": {
      "model_module": "@jupyter-widgets/controls",
      "model_module_version": "1.5.0",
      "model_name": "ToggleButtonModel",
      "state": {
       "button_style": "primary",
       "icon": "spinner",
       "layout": "IPY_MODEL_116df497a038434db316e076834d9ce0",
       "style": "IPY_MODEL_9a2574c4117f4d11bf9cd54fe7fb4193",
       "tooltip": "This is a placehold"
      }
     },
     "50c83735b33a438e8e3e743304f3c590": {
      "model_module": "jupyter-leaflet",
      "model_module_version": "^0.15.0",
      "model_name": "LeafletMarkerModel",
      "state": {
       "_model_module_version": "^0.15.0",
       "_view_module_version": "^0.15.0",
       "icon": "IPY_MODEL_0fcca2856fe648e6921ce1e52353219c",
       "options": [
        "alt",
        "draggable",
        "keyboard",
        "rise_offset",
        "rise_on_hover",
        "rotation_angle",
        "rotation_origin",
        "title",
        "z_index_offset"
       ]
      }
     },
     "51134ff18cfa48008534509371ee1510": {
      "model_module": "jupyter-leaflet",
      "model_module_version": "^0.15.0",
      "model_name": "LeafletTileLayerModel",
      "state": {
       "_model_module_version": "^0.15.0",
       "_view_module_version": "^0.15.0",
       "attribution": "Google Earth Engine",
       "max_native_zoom": 18,
       "max_zoom": 24,
       "min_native_zoom": 0,
       "name": "Topobathy",
       "options": [
        "attribution",
        "detect_retina",
        "max_native_zoom",
        "max_zoom",
        "min_native_zoom",
        "min_zoom",
        "no_wrap",
        "tile_size",
        "tms"
       ],
       "url": "https://earthengine.googleapis.com/v1alpha/projects/earthengine-legacy/maps/15c3d87ffcb4c33e003ac98ebb79971f-413fb0f09dcbec94cf1b677251b888c0/tiles/{z}/{x}/{y}"
      }
     },
     "51e00c5dd52245499269664c941480da": {
      "model_module": "@jupyter-widgets/base",
      "model_module_version": "1.2.0",
      "model_name": "LayoutModel",
      "state": {}
     },
     "526ce4789e494124b5155a7364817f93": {
      "model_module": "jupyter-leaflet",
      "model_module_version": "^0.15.0",
      "model_name": "LeafletWMSLayerModel",
      "state": {
       "_model_module_version": "^0.15.0",
       "_view_module_version": "^0.15.0",
       "attribution": "MRLC",
       "crs": {
        "custom": false,
        "name": "EPSG3857"
       },
       "format": "image/png",
       "layers": "NLCD_2011_Land_Cover_L48",
       "max_native_zoom": 18,
       "min_native_zoom": 0,
       "name": "NLCD 2011 CONUS Land Cover",
       "options": [
        "attribution",
        "detect_retina",
        "format",
        "layers",
        "max_native_zoom",
        "max_zoom",
        "min_native_zoom",
        "min_zoom",
        "no_wrap",
        "styles",
        "tile_size",
        "tms",
        "transparent",
        "uppercase"
       ],
       "transparent": true,
       "url": "https://www.mrlc.gov/geoserver/mrlc_display/NLCD_2011_Land_Cover_L48/wms?"
      }
     },
     "528a3592788b41e2b891895599519487": {
      "model_module": "jupyter-leaflet",
      "model_module_version": "^0.15.0",
      "model_name": "LeafletTileLayerModel",
      "state": {
       "_model_module_version": "^0.15.0",
       "_view_module_version": "^0.15.0",
       "attribution": "Google Earth Engine",
       "max_native_zoom": 18,
       "max_zoom": 24,
       "min_native_zoom": 0,
       "name": "Topobathy",
       "options": [
        "attribution",
        "detect_retina",
        "max_native_zoom",
        "max_zoom",
        "min_native_zoom",
        "min_zoom",
        "no_wrap",
        "tile_size",
        "tms"
       ],
       "url": "https://earthengine.googleapis.com/v1alpha/projects/earthengine-legacy/maps/16e4f503555453643fb1b5ff5fe2b9bd-b4a0b41b2917e731b5f58bc703706965/tiles/{z}/{x}/{y}"
      }
     },
     "53a555ee12a74440ad83b7898f18d664": {
      "model_module": "@jupyter-widgets/base",
      "model_module_version": "1.2.0",
      "model_name": "LayoutModel",
      "state": {
       "height": "auto",
       "padding": "0px 0px 0px 4px",
       "width": "auto"
      }
     },
     "541bc9ef219242a6a2493059114c77a3": {
      "model_module": "@jupyter-widgets/controls",
      "model_module_version": "1.5.0",
      "model_name": "HTMLModel",
      "state": {
       "layout": "IPY_MODEL_9e658d0405b04594a3cc365ac354627a",
       "placeholder": "",
       "style": "IPY_MODEL_003696bc4a5449139dc4542ebfa24039",
       "value": "<span style=\"color:black;\">No selection</span>"
      }
     },
     "5527ce220cfd4ec3a3300be9e58110c8": {
      "model_module": "@jupyter-widgets/controls",
      "model_module_version": "1.5.0",
      "model_name": "DescriptionStyleModel",
      "state": {
       "description_width": ""
      }
     },
     "552f85931a524e639816597adbafaccb": {
      "model_module": "@jupyter-widgets/base",
      "model_module_version": "1.2.0",
      "model_name": "LayoutModel",
      "state": {
       "height": "auto",
       "padding": "0px 0px 0px 4px",
       "width": "auto"
      }
     },
     "55389e3880c04000b729e18296cf78df": {
      "model_module": "@jupyter-widgets/controls",
      "model_module_version": "1.5.0",
      "model_name": "VBoxModel",
      "state": {
       "_view_count": 2,
       "children": [
        "IPY_MODEL_e8e44a2212b04789ae61889b3f16220c"
       ],
       "layout": "IPY_MODEL_b94b5f2449114bae99f586c862ae590d"
      }
     },
     "55988ba4c8a24db9b746655a15170c1a": {
      "model_module": "@jupyter-widgets/base",
      "model_module_version": "1.2.0",
      "model_name": "LayoutModel",
      "state": {
       "width": "auto"
      }
     },
     "55b52e7280244e7a8ae84183daecab82": {
      "model_module": "jupyter-leaflet",
      "model_module_version": "^0.15.0",
      "model_name": "LeafletWMSLayerModel",
      "state": {
       "_model_module_version": "^0.15.0",
       "_view_module_version": "^0.15.0",
       "attribution": "MRLC",
       "crs": {
        "custom": false,
        "name": "EPSG3857"
       },
       "format": "image/png",
       "layers": "NLCD_2006_Land_Cover_L48",
       "max_native_zoom": 18,
       "min_native_zoom": 0,
       "name": "NLCD 2006 CONUS Land Cover",
       "options": [
        "attribution",
        "detect_retina",
        "format",
        "layers",
        "max_native_zoom",
        "max_zoom",
        "min_native_zoom",
        "min_zoom",
        "no_wrap",
        "styles",
        "tile_size",
        "tms",
        "transparent",
        "uppercase"
       ],
       "transparent": true,
       "url": "https://www.mrlc.gov/geoserver/mrlc_display/NLCD_2006_Land_Cover_L48/wms?"
      }
     },
     "55e9da0fdc794025b39276d0f1ef555a": {
      "model_module": "jupyter-leaflet",
      "model_module_version": "^0.15.0",
      "model_name": "LeafletTileLayerModel",
      "state": {
       "_model_module_version": "^0.15.0",
       "_view_module_version": "^0.15.0",
       "attribution": "(C) OpenStreetMap contributors (C) CARTO",
       "max_native_zoom": 18,
       "max_zoom": 20,
       "min_native_zoom": 0,
       "name": "CartoDB.DarkMatterNoLabels",
       "options": [
        "attribution",
        "detect_retina",
        "max_native_zoom",
        "max_zoom",
        "min_native_zoom",
        "min_zoom",
        "no_wrap",
        "tile_size",
        "tms"
       ],
       "url": "https://a.basemaps.cartocdn.com/dark_nolabels/{z}/{x}/{y}.png"
      }
     },
     "562abfa2a48f436da0c48e7a65a8ae01": {
      "model_module": "@jupyter-widgets/controls",
      "model_module_version": "1.5.0",
      "model_name": "ToggleButtonModel",
      "state": {
       "button_style": "primary",
       "icon": "hand-o-up",
       "layout": "IPY_MODEL_3da111bc015b4862848d6d97c1c55ad9",
       "style": "IPY_MODEL_945640554bc6490085f46733affba363",
       "tooltip": "Collect training samples"
      }
     },
     "56735019f2c04ca99509497dc2f4d2ea": {
      "model_module": "@jupyter-widgets/controls",
      "model_module_version": "1.5.0",
      "model_name": "VBoxModel",
      "state": {
       "children": [
        "IPY_MODEL_2f14ea8d3de245e0ad3a2aef9c3d4fea",
        "IPY_MODEL_3fb2fe09e11243a088bad91a89f65a75"
       ],
       "layout": "IPY_MODEL_f9d5f47c9fc643caa23095972f4bfb7e"
      }
     },
     "56c0a84a44c74a9dba0d5448c00f0d8f": {
      "model_module": "jupyter-leaflet",
      "model_module_version": "^0.15.0",
      "model_name": "LeafletTileLayerModel",
      "state": {
       "_model_module_version": "^0.15.0",
       "_view_module_version": "^0.15.0",
       "attribution": "(C) Stadia Maps, (C) OpenMapTiles (C) OpenStreetMap contributors",
       "max_native_zoom": 18,
       "max_zoom": 20,
       "min_native_zoom": 0,
       "name": "Stadia.OSMBright",
       "options": [
        "attribution",
        "detect_retina",
        "max_native_zoom",
        "max_zoom",
        "min_native_zoom",
        "min_zoom",
        "no_wrap",
        "tile_size",
        "tms"
       ],
       "url": "https://tiles.stadiamaps.com/tiles/osm_bright/{z}/{x}/{y}.png"
      }
     },
     "56c856a9972046a889b12b27c6a53d0c": {
      "model_module": "jupyter-leaflet",
      "model_module_version": "^0.15.0",
      "model_name": "LeafletTileLayerModel",
      "state": {
       "_model_module_version": "^0.15.0",
       "_view_module_version": "^0.15.0",
       "attribution": "Justice Map",
       "max_native_zoom": 18,
       "max_zoom": 22,
       "min_native_zoom": 0,
       "name": "JusticeMap.plurality",
       "options": [
        "attribution",
        "detect_retina",
        "max_native_zoom",
        "max_zoom",
        "min_native_zoom",
        "min_zoom",
        "no_wrap",
        "tile_size",
        "tms"
       ],
       "url": "https://www.justicemap.org/tile/county/plural/{z}/{x}/{y}.png"
      }
     },
     "56e1c8dd9ac44815b4c3d78ab53d0604": {
      "model_module": "@jupyter-widgets/base",
      "model_module_version": "1.2.0",
      "model_name": "LayoutModel",
      "state": {
       "border": "1px solid black"
      }
     },
     "56f169718c6741c393b9547373e88f2e": {
      "model_module": "@jupyter-widgets/base",
      "model_module_version": "1.2.0",
      "model_name": "LayoutModel",
      "state": {}
     },
     "5731ba5ce49749b9a2d5ec048bfd8086": {
      "model_module": "@jupyter-widgets/controls",
      "model_module_version": "1.5.0",
      "model_name": "ToggleButtonModel",
      "state": {
       "button_style": "primary",
       "icon": "fast-forward",
       "layout": "IPY_MODEL_f85ebd117e7a47e18f83c39ba8f47780",
       "style": "IPY_MODEL_b1e8c6146a174526ab836f57c9f8153e",
       "tooltip": "Activate timeslider"
      }
     },
     "575eb41e27e140ec960e0d7e1700a341": {
      "model_module": "@here/map-widget-for-jupyter",
      "model_module_version": "^1.1.3",
      "model_name": "DefaultLayersModel",
      "state": {
       "_model_module": "@here/map-widget-for-jupyter",
       "_model_module_version": "^1.1.3",
       "_view_count": null,
       "_view_module": "@here/map-widget-for-jupyter",
       "_view_module_version": "^1.1.3",
       "layer_name": "raster.satellite.base",
       "ppi": null
      }
     },
     "581e4a2ab8ee4d64a5ee5ed8caa7a0f2": {
      "model_module": "jupyter-matplotlib",
      "model_module_version": "^0.10.5",
      "model_name": "MPLCanvasModel",
      "state": {
       "_cursor": "default",
       "_data_url": "data:image/png;base64,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",
       "_figure_label": "Figure 1",
       "_image_mode": "diff",
       "_size": [
        1000,
        600
       ],
       "layout": "IPY_MODEL_805ec83c7b354e4f8caae50b18d181bb",
       "toolbar": "IPY_MODEL_7e69431e07984970899fdfb1194ef232",
       "toolbar_position": "left"
      }
     },
     "5874ea6800cd47a5bb756cc5844c24a7": {
      "model_module": "jupyter-leaflet",
      "model_module_version": "^0.15.0",
      "model_name": "LeafletTileLayerModel",
      "state": {
       "_model_module_version": "^0.15.0",
       "_view_module_version": "^0.15.0",
       "attribution": "Imagery provided by services from the Global Imagery Browse Services (GIBS), operated by the NASA/GSFC/Earth Science Data and Information System (<a href=\"https://earthdata.nasa.gov\">ESDIS</a>) with funding provided by NASA/HQ.",
       "max_native_zoom": 18,
       "max_zoom": 9,
       "min_native_zoom": 0,
       "name": "NASAGIBS.ViirsTrueColorCR",
       "options": [
        "attribution",
        "detect_retina",
        "max_native_zoom",
        "max_zoom",
        "min_native_zoom",
        "min_zoom",
        "no_wrap",
        "tile_size",
        "tms"
       ],
       "url": "https://gibs.earthdata.nasa.gov/wmts/epsg3857/best/VIIRS_SNPP_CorrectedReflectance_TrueColor/default//GoogleMapsCompatible_Level9/{z}/{y}/{x}.jpg"
      }
     },
     "587ab1f12147457f8b53bb2a3fce3619": {
      "model_module": "jupyter-leaflet",
      "model_module_version": "^0.15.0",
      "model_name": "LeafletWMSLayerModel",
      "state": {
       "_model_module_version": "^0.15.0",
       "_view_module_version": "^0.15.0",
       "attribution": "MRLC",
       "crs": {
        "custom": false,
        "name": "EPSG3857"
       },
       "format": "image/png",
       "layers": "NLCD_2004_Land_Cover_L48",
       "max_native_zoom": 18,
       "min_native_zoom": 0,
       "name": "NLCD 2004 CONUS Land Cover",
       "options": [
        "attribution",
        "detect_retina",
        "format",
        "layers",
        "max_native_zoom",
        "max_zoom",
        "min_native_zoom",
        "min_zoom",
        "no_wrap",
        "styles",
        "tile_size",
        "tms",
        "transparent",
        "uppercase"
       ],
       "transparent": true,
       "url": "https://www.mrlc.gov/geoserver/mrlc_display/NLCD_2004_Land_Cover_L48/wms?"
      }
     },
     "5a018e4be48942c6a42743a9e91d795b": {
      "model_module": "@jupyter-widgets/base",
      "model_module_version": "1.2.0",
      "model_name": "LayoutModel",
      "state": {
       "height": "auto",
       "padding": "0px 0px 0px 4px",
       "width": "auto"
      }
     },
     "5ab99808d0264c0e97aab4d9e8c521f4": {
      "model_module": "@jupyter-widgets/controls",
      "model_module_version": "1.5.0",
      "model_name": "DescriptionStyleModel",
      "state": {
       "description_width": ""
      }
     },
     "5af13d9097504d20b41f67640e674b70": {
      "model_module": "@jupyter-widgets/base",
      "model_module_version": "1.2.0",
      "model_name": "LayoutModel",
      "state": {
       "margin": "0 0 0 1em"
      }
     },
     "5b108254156c4b66b5c531d2859b7957": {
      "model_module": "@jupyter-widgets/controls",
      "model_module_version": "1.5.0",
      "model_name": "DescriptionStyleModel",
      "state": {
       "description_width": ""
      }
     },
     "5b1b9071dbc04d31bbd88d521b28a20f": {
      "model_module": "@jupyter-widgets/controls",
      "model_module_version": "1.5.0",
      "model_name": "TextModel",
      "state": {
       "layout": "IPY_MODEL_6b982c19d8074245990cdf76be8b3ee3",
       "placeholder": "output filename",
       "style": "IPY_MODEL_5527ce220cfd4ec3a3300be9e58110c8",
       "value": "my_map.html"
      }
     },
     "5b67d58f1b1148fb9a9c87209e7f83d7": {
      "model_module": "jupyter-leaflet",
      "model_module_version": "^0.15.0",
      "model_name": "LeafletTileLayerModel",
      "state": {
       "_model_module_version": "^0.15.0",
       "_view_module_version": "^0.15.0",
       "attribution": "![](https://docs.onemap.sg/maps/images/oneMap64-01.png) New OneMap | Map data (C) contributors, Singapore Land Authority",
       "max_native_zoom": 18,
       "min_native_zoom": 0,
       "name": "OneMapSG.Default",
       "options": [
        "attribution",
        "detect_retina",
        "max_native_zoom",
        "max_zoom",
        "min_native_zoom",
        "min_zoom",
        "no_wrap",
        "tile_size",
        "tms"
       ],
       "url": "https://maps-a.onemap.sg/v3/Default/{z}/{x}/{y}.png"
      }
     },
     "5bd9df5c6c6c4dc7ba436489b453a945": {
      "model_module": "@jupyter-widgets/controls",
      "model_module_version": "1.5.0",
      "model_name": "ToggleButtonModel",
      "state": {
       "button_style": "primary",
       "icon": "map",
       "layout": "IPY_MODEL_f08c6e50b33144768dfc4e48d292b651",
       "style": "IPY_MODEL_18201dd10e134ae3b3f76bffa8e14fd4",
       "tooltip": "Change basemap"
      }
     },
     "5d65b8a10bbe4b35bfd4ac9644881362": {
      "model_module": "@jupyter-widgets/base",
      "model_module_version": "1.2.0",
      "model_name": "LayoutModel",
      "state": {}
     },
     "5d9917f8a70b46f7b5a9ee4b5e346a4e": {
      "model_module": "@jupyter-widgets/base",
      "model_module_version": "1.2.0",
      "model_name": "LayoutModel",
      "state": {
       "max_height": "250px",
       "max_width": "340px",
       "overflow": "scroll"
      }
     },
     "5de740a804f14337b86dedde8f5b4a20": {
      "model_module": "@jupyter-widgets/controls",
      "model_module_version": "1.5.0",
      "model_name": "VBoxModel",
      "state": {
       "children": [
        "IPY_MODEL_eea2c0ecf4e041358ede8751c537f73e",
        "IPY_MODEL_f0d5ca666d0845dc8420cce2a3733fd8"
       ],
       "layout": "IPY_MODEL_20a4459ef1a54f2cb99bba003e4c8906"
      }
     },
     "5deeb8ab6f184d00ab5de010100e381d": {
      "model_module": "jupyter-leaflet",
      "model_module_version": "^0.15.0",
      "model_name": "LeafletTileLayerModel",
      "state": {
       "_model_module_version": "^0.15.0",
       "_view_module_version": "^0.15.0",
       "attribution": "(C) OpenStreetMap contributors",
       "max_native_zoom": 18,
       "max_zoom": 19,
       "min_native_zoom": 0,
       "name": "HikeBike.HikeBike",
       "options": [
        "attribution",
        "detect_retina",
        "max_native_zoom",
        "max_zoom",
        "min_native_zoom",
        "min_zoom",
        "no_wrap",
        "tile_size",
        "tms"
       ],
       "url": "https://tiles.wmflabs.org/hikebike/{z}/{x}/{y}.png"
      }
     },
     "5e4316f75f6441c99edaf57c60fb9a3b": {
      "model_module": "jupyter-leaflet",
      "model_module_version": "^0.15.0",
      "model_name": "LeafletTileLayerModel",
      "state": {
       "_model_module_version": "^0.15.0",
       "_view_module_version": "^0.15.0",
       "attribution": "Map data: (C) OpenStreetMap contributors | Map style: (C) waymarkedtrails.org (CC-BY-SA)",
       "max_native_zoom": 18,
       "min_native_zoom": 0,
       "name": "WaymarkedTrails.slopes",
       "options": [
        "attribution",
        "detect_retina",
        "max_native_zoom",
        "max_zoom",
        "min_native_zoom",
        "min_zoom",
        "no_wrap",
        "tile_size",
        "tms"
       ],
       "url": "https://tile.waymarkedtrails.org/slopes/{z}/{x}/{y}.png"
      }
     },
     "5ea448e3f54f4f64b7b611a61b2350a8": {
      "model_module": "@jupyter-widgets/controls",
      "model_module_version": "1.5.0",
      "model_name": "ToggleButtonModel",
      "state": {
       "button_style": "primary",
       "icon": "globe",
       "layout": "IPY_MODEL_ae9d3f9521254ffe81d41daef6cff2b8",
       "style": "IPY_MODEL_d9dd6159f1184f5299d6c007c67358b8",
       "tooltip": "Create timelapse"
      }
     },
     "5f0517da41034c599f4bbfa74888693c": {
      "model_module": "jupyter-leaflet",
      "model_module_version": "^0.15.0",
      "model_name": "LeafletTileLayerModel",
      "state": {
       "_model_module_version": "^0.15.0",
       "_view_module_version": "^0.15.0",
       "attribution": "Tiles &copy; Esri &mdash; Esri, DeLorme, NAVTEQ, TomTom, Intermap, iPC, USGS, FAO, NPS, NRCAN, GeoBase, Kadaster NL, Ordnance Survey, Esri Japan, METI, Esri China (Hong Kong), and the GIS User Community",
       "max_native_zoom": 18,
       "max_zoom": 24,
       "min_native_zoom": 0,
       "name": "Esri.ArcticOceanReference",
       "options": [
        "attribution",
        "detect_retina",
        "max_native_zoom",
        "max_zoom",
        "min_native_zoom",
        "min_zoom",
        "no_wrap",
        "tile_size",
        "tms"
       ],
       "url": "http://server.arcgisonline.com/ArcGIS/rest/services/Polar/Arctic_Ocean_Reference/MapServer/tile/{z}/{y}/{x}"
      }
     },
     "5ffd4315981b43e29e53c4a7ecaa3a8f": {
      "model_module": "@here/map-widget-for-jupyter",
      "model_module_version": "^1.1.3",
      "model_name": "DefaultLayersModel",
      "state": {
       "_model_module": "@here/map-widget-for-jupyter",
       "_model_module_version": "^1.1.3",
       "_view_count": null,
       "_view_module": "@here/map-widget-for-jupyter",
       "_view_module_version": "^1.1.3",
       "layer_name": "raster.normal.basenight",
       "ppi": null
      }
     },
     "602fe4d4e7fb47c880418f2f5c134a79": {
      "model_module": "jupyter-leaflet",
      "model_module_version": "^0.15.0",
      "model_name": "LeafletTileLayerModel",
      "state": {
       "_model_module_version": "^0.15.0",
       "_view_module_version": "^0.15.0",
       "attribution": "© swisstopo",
       "max_native_zoom": 18,
       "min_native_zoom": 0,
       "name": "SwissFederalGeoportal.NationalMapColor",
       "options": [
        "attribution",
        "detect_retina",
        "max_native_zoom",
        "max_zoom",
        "min_native_zoom",
        "min_zoom",
        "no_wrap",
        "tile_size",
        "tms"
       ],
       "url": "https://wmts.geo.admin.ch/1.0.0/ch.swisstopo.pixelkarte-farbe/default/current/3857/{z}/{x}/{y}.jpeg"
      }
     },
     "60504d3881b74752a143489a4c55451d": {
      "model_module": "jupyter-leaflet",
      "model_module_version": "^0.15.0",
      "model_name": "LeafletDrawControlModel",
      "state": {
       "_model_module_version": "^0.15.0",
       "_view_module_version": "^0.15.0",
       "circle": {
        "shapeOptions": {
         "color": "#3388ff"
        }
       },
       "marker": {
        "shapeOptions": {
         "color": "#3388ff"
        }
       },
       "options": [
        "position"
       ],
       "rectangle": {
        "shapeOptions": {
         "color": "#3388ff"
        }
       }
      }
     },
     "615cdfad16ae401ca8aef4dd51218b0d": {
      "model_module": "jupyter-leaflet",
      "model_module_version": "^0.15.0",
      "model_name": "LeafletTileLayerModel",
      "state": {
       "_model_module_version": "^0.15.0",
       "_view_module_version": "^0.15.0",
       "attribution": "&copy; <a href=\"http://www.gaode.com/\">Gaode.com</a>",
       "max_native_zoom": 18,
       "max_zoom": 19,
       "min_native_zoom": 0,
       "name": "Gaode.Normal",
       "options": [
        "attribution",
        "detect_retina",
        "max_native_zoom",
        "max_zoom",
        "min_native_zoom",
        "min_zoom",
        "no_wrap",
        "tile_size",
        "tms"
       ],
       "url": "http://webrd01.is.autonavi.com/appmaptile?lang=zh_cn&size=1&scale=1&style=7&x={x}&y={y}&z={z}"
      }
     },
     "6202b1a41ce14624a1cb1f849fb6adb8": {
      "model_module": "@jupyter-widgets/base",
      "model_module_version": "1.2.0",
      "model_name": "LayoutModel",
      "state": {
       "height": "auto",
       "padding": "0px 0px 0px 4px",
       "width": "auto"
      }
     },
     "62655e9136d34bf882b0b867f93feaa5": {
      "model_module": "@jupyter-widgets/controls",
      "model_module_version": "1.5.0",
      "model_name": "DescriptionStyleModel",
      "state": {
       "description_width": ""
      }
     },
     "6280585f2e5c46e4a4fbe11291a25226": {
      "model_module": "jupyter-leaflet",
      "model_module_version": "^0.15.0",
      "model_name": "LeafletTileLayerModel",
      "state": {
       "_model_module_version": "^0.15.0",
       "_view_module_version": "^0.15.0",
       "attribution": "(C) OpenStreetMap contributors (C) CARTO",
       "max_native_zoom": 18,
       "max_zoom": 20,
       "min_native_zoom": 0,
       "name": "CartoDB.DarkMatter",
       "options": [
        "attribution",
        "detect_retina",
        "max_native_zoom",
        "max_zoom",
        "min_native_zoom",
        "min_zoom",
        "no_wrap",
        "tile_size",
        "tms"
       ],
       "url": "https://a.basemaps.cartocdn.com/dark_all/{z}/{x}/{y}.png"
      }
     },
     "631cccdcdbaa49a5963ab8cb8127f69f": {
      "model_module": "@jupyter-widgets/base",
      "model_module_version": "1.2.0",
      "model_name": "LayoutModel",
      "state": {
       "height": "auto",
       "padding": "0px 0px 0px 4px",
       "width": "auto"
      }
     },
     "636a3e1c3c3842fb9190053d774ed32b": {
      "model_module": "@jupyter-widgets/controls",
      "model_module_version": "1.5.0",
      "model_name": "GridBoxModel",
      "state": {
       "children": [
        "IPY_MODEL_a5d374bbe8de4f81b40b92267fa482aa",
        "IPY_MODEL_5b1b9071dbc04d31bbd88d521b28a20f",
        "IPY_MODEL_8941634d47b44b3c931a76a62dd57fcb"
       ],
       "layout": "IPY_MODEL_dd01c373314047c8ababc8e39f126969"
      }
     },
     "636b9e136331420791411f0144a79d65": {
      "model_module": "@jupyter-widgets/controls",
      "model_module_version": "1.5.0",
      "model_name": "ToggleButtonsModel",
      "state": {
       "_options_labels": [
        "HTML",
        "PNG",
        "JPG"
       ],
       "button_style": "",
       "icons": [],
       "index": 0,
       "layout": "IPY_MODEL_d3bb379176eb47989c4771a663b57913",
       "style": "IPY_MODEL_3ae7f4a138a34b99b493d96f63feabbf",
       "tooltips": [
        "Save the map as an HTML file",
        "Take a screenshot and save as a PNG file",
        "Take a screenshot and save as a JPG file"
       ]
      }
     },
     "643239362a774f4aada41234ffdedc0a": {
      "model_module": "@jupyter-widgets/controls",
      "model_module_version": "1.5.0",
      "model_name": "DescriptionStyleModel",
      "state": {
       "description_width": ""
      }
     },
     "65011446291e4f23a300304ca77f85d9": {
      "model_module": "jupyter-leaflet",
      "model_module_version": "^0.15.0",
      "model_name": "LeafletTileLayerModel",
      "state": {
       "_model_module_version": "^0.15.0",
       "_view_module_version": "^0.15.0",
       "attribution": "Tiles (C) Esri -- Copyright: (C)2012 DeLorme",
       "max_native_zoom": 18,
       "max_zoom": 11,
       "min_native_zoom": 0,
       "name": "Esri.DeLorme",
       "options": [
        "attribution",
        "detect_retina",
        "max_native_zoom",
        "max_zoom",
        "min_native_zoom",
        "min_zoom",
        "no_wrap",
        "tile_size",
        "tms"
       ],
       "url": "https://server.arcgisonline.com/ArcGIS/rest/services/Specialty/DeLorme_World_Base_Map/MapServer/tile/{z}/{y}/{x}"
      }
     },
     "65372893c9d643a29790170d283297f3": {
      "model_module": "@jupyter-widgets/output",
      "model_module_version": "1.0.0",
      "model_name": "OutputModel",
      "state": {
       "layout": "IPY_MODEL_5d9917f8a70b46f7b5a9ee4b5e346a4e"
      }
     },
     "657e9e106cda4507b1df52a71dd777ee": {
      "model_module": "jupyter-leaflet",
      "model_module_version": "^0.15.0",
      "model_name": "LeafletTileLayerModel",
      "state": {
       "_model_module_version": "^0.15.0",
       "_view_module_version": "^0.15.0",
       "attribution": "(C) OpenStreetMap contributors",
       "max_native_zoom": 18,
       "max_zoom": 15,
       "min_native_zoom": 0,
       "name": "HikeBike.HillShading",
       "options": [
        "attribution",
        "detect_retina",
        "max_native_zoom",
        "max_zoom",
        "min_native_zoom",
        "min_zoom",
        "no_wrap",
        "tile_size",
        "tms"
       ],
       "url": "https://tiles.wmflabs.org/hillshading/{z}/{x}/{y}.png"
      }
     },
     "66dccdaadda74957a28ea9c8c2efb4c8": {
      "model_module": "jupyter-leaflet",
      "model_module_version": "^0.15.0",
      "model_name": "LeafletTileLayerModel",
      "state": {
       "_model_module_version": "^0.15.0",
       "_view_module_version": "^0.15.0",
       "attribution": "Google",
       "max_native_zoom": 18,
       "max_zoom": 22,
       "min_native_zoom": 0,
       "name": "Google Satellite",
       "options": [
        "attribution",
        "detect_retina",
        "max_native_zoom",
        "max_zoom",
        "min_native_zoom",
        "min_zoom",
        "no_wrap",
        "tile_size",
        "tms"
       ],
       "url": "https://mt1.google.com/vt/lyrs=y&x={x}&y={y}&z={z}"
      }
     },
     "670c18e139754a27825ce3235e79add8": {
      "model_module": "@jupyter-widgets/base",
      "model_module_version": "1.2.0",
      "model_name": "LayoutModel",
      "state": {}
     },
     "671942eb4f3043ffa89937a1e3f758ef": {
      "model_module": "jupyter-leaflet",
      "model_module_version": "^0.15.0",
      "model_name": "LeafletMapStyleModel",
      "state": {
       "_model_module_version": "^0.15.0"
      }
     },
     "6726b01977804cc295bd0367318363e5": {
      "model_module": "jupyter-leaflet",
      "model_module_version": "^0.15.0",
      "model_name": "LeafletTileLayerModel",
      "state": {
       "_model_module_version": "^0.15.0",
       "_view_module_version": "^0.15.0",
       "attribution": "Datenquelle: basemap.at",
       "max_native_zoom": 18,
       "max_zoom": 19,
       "min_native_zoom": 0,
       "name": "BasemapAT.highdpi",
       "options": [
        "attribution",
        "detect_retina",
        "max_native_zoom",
        "max_zoom",
        "min_native_zoom",
        "min_zoom",
        "no_wrap",
        "tile_size",
        "tms"
       ],
       "url": "https://maps.wien.gv.at/basemap/bmaphidpi/normal/google3857/{z}/{y}/{x}.jpeg"
      }
     },
     "675ad31555b5431ca2f9f3b2876dfd65": {
      "model_module": "jupyter-leaflet",
      "model_module_version": "^0.15.0",
      "model_name": "LeafletTileLayerModel",
      "state": {
       "_model_module_version": "^0.15.0",
       "_view_module_version": "^0.15.0",
       "attribution": "Map tiles by Stamen Design, CC BY 3.0 -- Map data (C) OpenStreetMap contributors",
       "max_native_zoom": 18,
       "min_native_zoom": 0,
       "name": "Stamen.TerrainLabels",
       "options": [
        "attribution",
        "detect_retina",
        "max_native_zoom",
        "max_zoom",
        "min_native_zoom",
        "min_zoom",
        "no_wrap",
        "tile_size",
        "tms"
       ],
       "url": "https://stamen-tiles-a.a.ssl.fastly.net/terrain-labels/{z}/{x}/{y}.png"
      }
     },
     "679325ec18154a3dbfbca31579e722ab": {
      "model_module": "jupyter-leaflet",
      "model_module_version": "^0.15.0",
      "model_name": "LeafletTileLayerModel",
      "state": {
       "_model_module_version": "^0.15.0",
       "_view_module_version": "^0.15.0",
       "attribution": "© swisstopo",
       "max_native_zoom": 18,
       "min_native_zoom": 0,
       "name": "SwissFederalGeoportal.JourneyThroughTime",
       "options": [
        "attribution",
        "detect_retina",
        "max_native_zoom",
        "max_zoom",
        "min_native_zoom",
        "min_zoom",
        "no_wrap",
        "tile_size",
        "tms"
       ],
       "url": "https://wmts.geo.admin.ch/1.0.0/ch.swisstopo.zeitreihen/default/18641231/3857/{z}/{x}/{y}.png"
      }
     },
     "6819aab21f854235840b479da8b54588": {
      "model_module": "@jupyter-widgets/base",
      "model_module_version": "1.2.0",
      "model_name": "LayoutModel",
      "state": {
       "overflow": "auto"
      }
     },
     "6937c3b6492e49aeb0144cad24ef9d8e": {
      "model_module": "@here/map-widget-for-jupyter",
      "model_module_version": "^1.1.3",
      "model_name": "DefaultLayersModel",
      "state": {
       "_model_module": "@here/map-widget-for-jupyter",
       "_model_module_version": "^1.1.3",
       "_view_count": null,
       "_view_module": "@here/map-widget-for-jupyter",
       "_view_module_version": "^1.1.3",
       "layer_name": "raster.terrain.labels",
       "ppi": null
      }
     },
     "6a53c8f8edeb491086fc351d8b3174d8": {
      "model_module": "@jupyter-widgets/controls",
      "model_module_version": "1.5.0",
      "model_name": "DescriptionStyleModel",
      "state": {
       "description_width": ""
      }
     },
     "6b03348639164dff997c14980190be09": {
      "model_module": "@jupyter-widgets/base",
      "model_module_version": "1.2.0",
      "model_name": "LayoutModel",
      "state": {
       "height": "auto",
       "padding": "0px 0px 0px 4px",
       "width": "auto"
      }
     },
     "6b37e6d122924dcdae2a7919816b8206": {
      "model_module": "@jupyter-widgets/base",
      "model_module_version": "1.2.0",
      "model_name": "LayoutModel",
      "state": {
       "grid_area": "pathlist",
       "width": "auto"
      }
     },
     "6b4cc23aca9b4dc890108dbc6c7b5b66": {
      "model_module": "jupyter-leaflet",
      "model_module_version": "^0.15.0",
      "model_name": "LeafletTileLayerModel",
      "state": {
       "_model_module_version": "^0.15.0",
       "_view_module_version": "^0.15.0",
       "attribution": "Datenquelle: basemap.at",
       "max_native_zoom": 18,
       "max_zoom": 19,
       "min_native_zoom": 0,
       "name": "BasemapAT.overlay",
       "options": [
        "attribution",
        "detect_retina",
        "max_native_zoom",
        "max_zoom",
        "min_native_zoom",
        "min_zoom",
        "no_wrap",
        "tile_size",
        "tms"
       ],
       "url": "https://maps.wien.gv.at/basemap/bmapoverlay/normal/google3857/{z}/{y}/{x}.png"
      }
     },
     "6b982c19d8074245990cdf76be8b3ee3": {
      "model_module": "@jupyter-widgets/base",
      "model_module_version": "1.2.0",
      "model_name": "LayoutModel",
      "state": {
       "grid_area": "filename",
       "width": "auto"
      }
     },
     "6ca37b5ea0da4c7f897c24bce0096cf4": {
      "model_module": "@jupyter-widgets/base",
      "model_module_version": "1.2.0",
      "model_name": "LayoutModel",
      "state": {}
     },
     "6e97a24400f746c7bbcf5503b7913b67": {
      "model_module": "@jupyter-widgets/base",
      "model_module_version": "1.2.0",
      "model_name": "LayoutModel",
      "state": {
       "grid_area": "dircontent",
       "width": "auto"
      }
     },
     "6ed16480d1fb48e7a755f5d70c5c76aa": {
      "model_module": "jupyter-leaflet",
      "model_module_version": "^0.15.0",
      "model_name": "LeafletZoomControlModel",
      "state": {
       "_model_module_version": "^0.15.0",
       "_view_module_version": "^0.15.0",
       "options": [
        "position",
        "zoom_in_text",
        "zoom_in_title",
        "zoom_out_text",
        "zoom_out_title"
       ]
      }
     },
     "6f17cdb804854999805dfb12eaf936b0": {
      "model_module": "jupyter-leaflet",
      "model_module_version": "^0.15.0",
      "model_name": "LeafletTileLayerModel",
      "state": {
       "_model_module_version": "^0.15.0",
       "_view_module_version": "^0.15.0",
       "attribution": "Map tiles by <a href=\"https://labs.strava.com/heatmap\">Strava 2021</a>",
       "max_native_zoom": 18,
       "max_zoom": 15,
       "min_native_zoom": 0,
       "name": "Strava.All",
       "options": [
        "attribution",
        "detect_retina",
        "max_native_zoom",
        "max_zoom",
        "min_native_zoom",
        "min_zoom",
        "no_wrap",
        "tile_size",
        "tms"
       ],
       "url": "https://heatmap-external-a.strava.com/tiles/all/hot/{z}/{x}/{y}.png"
      }
     },
     "6f6c09471f484020818bbe08bacf2378": {
      "model_module": "@jupyter-widgets/base",
      "model_module_version": "1.2.0",
      "model_name": "LayoutModel",
      "state": {
       "height": "auto",
       "padding": "0px 0px 0px 4px",
       "width": "auto"
      }
     },
     "6f722afaafe54b20ac5e651312acbb21": {
      "model_module": "jupyter-leaflet",
      "model_module_version": "^0.15.0",
      "model_name": "LeafletTileLayerModel",
      "state": {
       "_model_module_version": "^0.15.0",
       "_view_module_version": "^0.15.0",
       "attribution": "(C) OpenStreetMap contributors (C) CARTO",
       "max_native_zoom": 18,
       "max_zoom": 20,
       "min_native_zoom": 0,
       "name": "CartoDB.VoyagerOnlyLabels",
       "options": [
        "attribution",
        "detect_retina",
        "max_native_zoom",
        "max_zoom",
        "min_native_zoom",
        "min_zoom",
        "no_wrap",
        "tile_size",
        "tms"
       ],
       "url": "https://a.basemaps.cartocdn.com/rastertiles/voyager_only_labels/{z}/{x}/{y}.png"
      }
     },
     "6ff21004331e446cb8b7c6602e74a491": {
      "model_module": "@jupyter-widgets/controls",
      "model_module_version": "1.5.0",
      "model_name": "HTMLModel",
      "state": {
       "layout": "IPY_MODEL_56f169718c6741c393b9547373e88f2e",
       "style": "IPY_MODEL_458457acce69431280def778e41e4ad5"
      }
     },
     "7092392f2f724d85a729513efde2c54f": {
      "model_module": "jupyter-leaflet",
      "model_module_version": "^0.15.0",
      "model_name": "LeafletTileLayerModel",
      "state": {
       "_model_module_version": "^0.15.0",
       "_view_module_version": "^0.15.0",
       "attribution": "(C) OpenStreetMap contributors",
       "max_native_zoom": 18,
       "min_native_zoom": 0,
       "name": "OpenStreetMap.BlackAndWhite",
       "options": [
        "attribution",
        "detect_retina",
        "max_native_zoom",
        "max_zoom",
        "min_native_zoom",
        "min_zoom",
        "no_wrap",
        "tile_size",
        "tms"
       ],
       "url": "http://a.tiles.wmflabs.org/bw-mapnik/{z}/{x}/{y}.png"
      }
     },
     "71cbb2968ca64c498cd3dfa35a156c71": {
      "model_module": "@jupyter-widgets/controls",
      "model_module_version": "1.5.0",
      "model_name": "ToggleButtonModel",
      "state": {
       "button_style": "primary",
       "icon": "info",
       "layout": "IPY_MODEL_4e9207880bca40c09f9c963d718cab6b",
       "style": "IPY_MODEL_dd197a8adbbb4b34b9364abb84e41e88",
       "tooltip": "Inspector"
      }
     },
     "71cbf0ab9c9445aa9b9d2c60c8d31d40": {
      "model_module": "@jupyter-widgets/controls",
      "model_module_version": "1.5.0",
      "model_name": "DescriptionStyleModel",
      "state": {
       "description_width": ""
      }
     },
     "723da9cf3fb44fa29c550a24151a776f": {
      "model_module": "@jupyter-widgets/controls",
      "model_module_version": "1.5.0",
      "model_name": "ToggleButtonModel",
      "state": {
       "icon": "globe",
       "layout": "IPY_MODEL_c8d28715fe024ccabc54048c735a1d6a",
       "style": "IPY_MODEL_3288701a0a7a4358a6544f1d3d4a2a80",
       "tooltip": "Search location/data"
      }
     },
     "724458d54a424eedbe36b22443d8dc73": {
      "model_module": "@jupyter-widgets/base",
      "model_module_version": "1.2.0",
      "model_name": "LayoutModel",
      "state": {
       "height": "auto",
       "padding": "0px 0px 0px 4px",
       "width": "auto"
      }
     },
     "733cd561e31c468fbe89ec2666ae5632": {
      "model_module": "jupyter-leaflet",
      "model_module_version": "^0.15.0",
      "model_name": "LeafletDrawControlModel",
      "state": {
       "_model_module_version": "^0.15.0",
       "_view_module_version": "^0.15.0",
       "circle": {
        "shapeOptions": {
         "color": "#3388ff"
        }
       },
       "edit": false,
       "options": [
        "position"
       ],
       "polygon": {},
       "polyline": {},
       "rectangle": {
        "shapeOptions": {
         "color": "#3388ff"
        }
       },
       "remove": false
      }
     },
     "73a18639c58348ff9eb5572851396f63": {
      "model_module": "@jupyter-widgets/controls",
      "model_module_version": "1.5.0",
      "model_name": "ToggleButtonModel",
      "state": {
       "icon": "server",
       "layout": "IPY_MODEL_e696bbcdc8404833bb6c73fd0ed95f35",
       "style": "IPY_MODEL_bc13b4b70bc1421b8b07b291057bda42",
       "tooltip": "Layers"
      }
     },
     "7435d07781ae4443857c383edbdbc062": {
      "model_module": "@jupyter-widgets/controls",
      "model_module_version": "1.5.0",
      "model_name": "VBoxModel",
      "state": {
       "children": [
        "IPY_MODEL_636b9e136331420791411f0144a79d65",
        "IPY_MODEL_e2bd5b6bafb94a7ea244ba70453aa75d"
       ],
       "layout": "IPY_MODEL_83acc445b1a44e289b5b9359d05cb017"
      }
     },
     "7495cb26f4484fc08f3d1218236ec30b": {
      "model_module": "jupyter-leaflet",
      "model_module_version": "^0.15.0",
      "model_name": "LeafletTileLayerModel",
      "state": {
       "_model_module_version": "^0.15.0",
       "_view_module_version": "^0.15.0",
       "attribution": "Tiles (C) Esri -- Source: Esri, i-cubed, USDA, USGS, AEX, GeoEye, Getmapping, Aerogrid, IGN, IGP, UPR-EGP, and the GIS User Community",
       "max_native_zoom": 18,
       "max_zoom": 22,
       "min_native_zoom": 0,
       "name": "Esri.WorldImagery",
       "options": [
        "attribution",
        "detect_retina",
        "max_native_zoom",
        "max_zoom",
        "min_native_zoom",
        "min_zoom",
        "no_wrap",
        "tile_size",
        "tms"
       ],
       "url": "https://server.arcgisonline.com/ArcGIS/rest/services/World_Imagery/MapServer/tile/{z}/{y}/{x}"
      }
     },
     "7597a6faef8a44f1aa2fd60db5c1d912": {
      "model_module": "jupyter-leaflet",
      "model_module_version": "^0.15.0",
      "model_name": "LeafletTileLayerModel",
      "state": {
       "_model_module_version": "^0.15.0",
       "_view_module_version": "^0.15.0",
       "attribution": "Map tiles by Stamen Design, CC BY 3.0 -- Map data (C) OpenStreetMap contributors",
       "max_native_zoom": 18,
       "max_zoom": 20,
       "min_native_zoom": 0,
       "name": "Stamen.TonerBackground",
       "options": [
        "attribution",
        "detect_retina",
        "max_native_zoom",
        "max_zoom",
        "min_native_zoom",
        "min_zoom",
        "no_wrap",
        "tile_size",
        "tms"
       ],
       "url": "https://stamen-tiles-a.a.ssl.fastly.net/toner-background/{z}/{x}/{y}.png"
      }
     },
     "75cefa07d7cb4acabfdeb557d4e830ae": {
      "model_module": "@jupyter-widgets/base",
      "model_module_version": "1.2.0",
      "model_name": "LayoutModel",
      "state": {}
     },
     "769eaf8a493642ab91b55e8e3df0319c": {
      "model_module": "jupyter-leaflet",
      "model_module_version": "^0.15.0",
      "model_name": "LeafletTileLayerModel",
      "state": {
       "_model_module_version": "^0.15.0",
       "_view_module_version": "^0.15.0",
       "attribution": "Map tiles by Stamen Design, CC BY 3.0 -- Map data (C) OpenStreetMap contributors",
       "max_native_zoom": 18,
       "min_native_zoom": 0,
       "name": "Stamen.Terrain",
       "options": [
        "attribution",
        "detect_retina",
        "max_native_zoom",
        "max_zoom",
        "min_native_zoom",
        "min_zoom",
        "no_wrap",
        "tile_size",
        "tms"
       ],
       "url": "https://stamen-tiles-a.a.ssl.fastly.net/terrain/{z}/{x}/{y}.png"
      }
     },
     "773b11936afe4d5f80c883e6a2af159d": {
      "model_module": "@jupyter-widgets/base",
      "model_module_version": "1.2.0",
      "model_name": "LayoutModel",
      "state": {
       "grid_gap": "1px 1px",
       "grid_template_columns": "32px 32px 32px ",
       "grid_template_rows": "32px 32px 32px 32px 32px 32px ",
       "padding": "5px",
       "width": "109px"
      }
     },
     "77945c69b1bc4d48b8e83e187fbbfb90": {
      "model_module": "jupyter-leaflet",
      "model_module_version": "^0.15.0",
      "model_name": "LeafletTileLayerModel",
      "state": {
       "_model_module_version": "^0.15.0",
       "_view_module_version": "^0.15.0",
       "attribution": "Tiles (C) Esri -- Source: Esri, DeLorme, NAVTEQ, USGS, Intermap, iPC, NRCAN, Esri Japan, METI, Esri China (Hong Kong), Esri (Thailand), TomTom, 2012",
       "max_native_zoom": 18,
       "max_zoom": 22,
       "min_native_zoom": 0,
       "name": "Esri.WorldStreetMap",
       "options": [
        "attribution",
        "detect_retina",
        "max_native_zoom",
        "max_zoom",
        "min_native_zoom",
        "min_zoom",
        "no_wrap",
        "tile_size",
        "tms"
       ],
       "url": "https://server.arcgisonline.com/ArcGIS/rest/services/World_Street_Map/MapServer/tile/{z}/{y}/{x}"
      }
     },
     "77f40ca9a7cb4c00b4f615f1d3a92dbe": {
      "model_module": "@jupyter-widgets/controls",
      "model_module_version": "1.5.0",
      "model_name": "ToggleButtonModel",
      "state": {
       "icon": "server",
       "layout": "IPY_MODEL_9ad6accfdd8a4bd1bfee56d3cbb7c40b",
       "style": "IPY_MODEL_95a86823631d43a7aa796fbf4477834a",
       "tooltip": "Layers"
      }
     },
     "78e1ad47577748d6a6d1cc0c589734e9": {
      "model_module": "@jupyter-widgets/controls",
      "model_module_version": "1.5.0",
      "model_name": "DescriptionStyleModel",
      "state": {
       "description_width": ""
      }
     },
     "7901c33bdb5443d5ae805d6322447c32": {
      "model_module": "jupyter-leaflet",
      "model_module_version": "^0.15.0",
      "model_name": "LeafletTileLayerModel",
      "state": {
       "_model_module_version": "^0.15.0",
       "_view_module_version": "^0.15.0",
       "attribution": "Datenquelle: basemap.at",
       "max_native_zoom": 18,
       "max_zoom": 19,
       "min_native_zoom": 0,
       "name": "BasemapAT.surface",
       "options": [
        "attribution",
        "detect_retina",
        "max_native_zoom",
        "max_zoom",
        "min_native_zoom",
        "min_zoom",
        "no_wrap",
        "tile_size",
        "tms"
       ],
       "url": "https://maps.wien.gv.at/basemap/bmapoberflaeche/grau/google3857/{z}/{y}/{x}.jpeg"
      }
     },
     "7a260480a53840d0bf4c435f9fd50da8": {
      "model_module": "@jupyter-widgets/controls",
      "model_module_version": "1.5.0",
      "model_name": "ToggleButtonModel",
      "state": {
       "button_style": "primary",
       "icon": "random",
       "layout": "IPY_MODEL_b8100106136d4fedb379fb94bed5a348",
       "style": "IPY_MODEL_5b108254156c4b66b5c531d2859b7957",
       "tooltip": "Sankey plots"
      }
     },
     "7a7c757d2ec44c2a890ea16cec0354b2": {
      "model_module": "@jupyter-widgets/controls",
      "model_module_version": "1.5.0",
      "model_name": "ToggleButtonModel",
      "state": {
       "button_style": "primary",
       "icon": "google",
       "layout": "IPY_MODEL_6f6c09471f484020818bbe08bacf2378",
       "style": "IPY_MODEL_b329cfdf5bfd428fb20daec38e635c63",
       "tooltip": "GEE Toolbox for cloud computing"
      }
     },
     "7a89a89a4d504fa48a7faebfcce0aa5a": {
      "model_module": "@jupyter-widgets/base",
      "model_module_version": "1.2.0",
      "model_name": "LayoutModel",
      "state": {}
     },
     "7a954e0bac0a465c9b99f0655085a663": {
      "model_module": "jupyter-leaflet",
      "model_module_version": "^0.15.0",
      "model_name": "LeafletTileLayerModel",
      "state": {
       "_model_module_version": "^0.15.0",
       "_view_module_version": "^0.15.0",
       "attribution": "Map tiles by Stamen Design, CC BY 3.0 -- Map data (C) OpenStreetMap contributors",
       "max_native_zoom": 18,
       "max_zoom": 20,
       "min_native_zoom": 0,
       "name": "Stamen.TonerLines",
       "options": [
        "attribution",
        "detect_retina",
        "max_native_zoom",
        "max_zoom",
        "min_native_zoom",
        "min_zoom",
        "no_wrap",
        "tile_size",
        "tms"
       ],
       "url": "https://stamen-tiles-a.a.ssl.fastly.net/toner-lines/{z}/{x}/{y}.png"
      }
     },
     "7ab0ef048b084bd0b7108151e522ad10": {
      "model_module": "@jupyter-widgets/controls",
      "model_module_version": "1.5.0",
      "model_name": "HBoxModel",
      "state": {
       "children": [
        "IPY_MODEL_77f40ca9a7cb4c00b4f615f1d3a92dbe",
        "IPY_MODEL_e8e44a2212b04789ae61889b3f16220c"
       ],
       "layout": "IPY_MODEL_7a89a89a4d504fa48a7faebfcce0aa5a"
      }
     },
     "7d3e568844324a29b4825975c6de3a75": {
      "model_module": "@jupyter-widgets/controls",
      "model_module_version": "1.5.0",
      "model_name": "HBoxModel",
      "state": {
       "children": [
        "IPY_MODEL_e7626108b2334cd5a9f530a486fad22a",
        "IPY_MODEL_878e596aa6c7430ebb8b7bb4daf6d966",
        "IPY_MODEL_ea45f46ed5ca4904bb3662f67c5ffe10"
       ],
       "layout": "IPY_MODEL_55988ba4c8a24db9b746655a15170c1a"
      }
     },
     "7e141a57851c460e881705d2ff0ae218": {
      "model_module": "@jupyter-widgets/output",
      "model_module_version": "1.0.0",
      "model_name": "OutputModel",
      "state": {
       "layout": "IPY_MODEL_0c08b68a6dae462e9df9396868b15019"
      }
     },
     "7e69431e07984970899fdfb1194ef232": {
      "model_module": "jupyter-matplotlib",
      "model_module_version": "^0.10.5",
      "model_name": "ToolbarModel",
      "state": {
       "collapsed": true,
       "layout": "IPY_MODEL_51e00c5dd52245499269664c941480da",
       "orientation": "vertical",
       "toolitems": [
        [
         "Home",
         "Reset original view",
         "home",
         "home"
        ],
        [
         "Back",
         "Back to previous view",
         "arrow-left",
         "back"
        ],
        [
         "Forward",
         "Forward to next view",
         "arrow-right",
         "forward"
        ],
        [
         "Pan",
         "Left button pans, Right button zooms\nx/y fixes axis, CTRL fixes aspect",
         "arrows",
         "pan"
        ],
        [
         "Zoom",
         "Zoom to rectangle\nx/y fixes axis",
         "square-o",
         "zoom"
        ],
        [
         "Download",
         "Download plot",
         "floppy-o",
         "save_figure"
        ]
       ]
      }
     },
     "7ea15733b9c344f9a5131809815a7f1f": {
      "model_module": "@jupyter-widgets/base",
      "model_module_version": "1.2.0",
      "model_name": "LayoutModel",
      "state": {
       "height": "auto",
       "padding": "0px 0px 0px 4px",
       "width": "auto"
      }
     },
     "7fa0c95c029648ec857a12ea409d073f": {
      "model_module": "@jupyter-widgets/base",
      "model_module_version": "1.2.0",
      "model_name": "LayoutModel",
      "state": {
       "width": "340px"
      }
     },
     "800c1b03cdc1448ebbfc78051ae9f6bd": {
      "model_module": "jupyter-leaflet",
      "model_module_version": "^0.15.0",
      "model_name": "LeafletAttributionControlModel",
      "state": {
       "_model_module_version": "^0.15.0",
       "_view_module_version": "^0.15.0",
       "options": [
        "position",
        "prefix"
       ],
       "position": "bottomright",
       "prefix": "ipyleaflet"
      }
     },
     "805ec83c7b354e4f8caae50b18d181bb": {
      "model_module": "@jupyter-widgets/base",
      "model_module_version": "1.2.0",
      "model_name": "LayoutModel",
      "state": {}
     },
     "8066a326a4be40b1aed8f07c757d8542": {
      "model_module": "jupyter-leaflet",
      "model_module_version": "^0.15.0",
      "model_name": "LeafletTileLayerModel",
      "state": {
       "_model_module_version": "^0.15.0",
       "_view_module_version": "^0.15.0",
       "attribution": "(C) OpenStreetMap contributors, vizualization CC-By-SA 2.0 Freemap.sk",
       "max_native_zoom": 18,
       "max_zoom": 16,
       "min_native_zoom": 0,
       "name": "FreeMapSK",
       "options": [
        "attribution",
        "detect_retina",
        "max_native_zoom",
        "max_zoom",
        "min_native_zoom",
        "min_zoom",
        "no_wrap",
        "tile_size",
        "tms"
       ],
       "url": "https://a.freemap.sk/T/{z}/{x}/{y}.jpeg"
      }
     },
     "814c13380431479388c0f8d77a42f3a9": {
      "model_module": "@jupyter-widgets/base",
      "model_module_version": "1.2.0",
      "model_name": "LayoutModel",
      "state": {
       "grid_gap": "1px 1px",
       "grid_template_columns": "32px 32px 32px ",
       "grid_template_rows": "32px 32px 32px 32px 32px 32px ",
       "padding": "5px",
       "width": "109px"
      }
     },
     "8317d1c35af64f1d88fd0f82343518b5": {
      "model_module": "@jupyter-widgets/controls",
      "model_module_version": "1.5.0",
      "model_name": "DescriptionStyleModel",
      "state": {
       "description_width": ""
      }
     },
     "83acc445b1a44e289b5b9359d05cb017": {
      "model_module": "@jupyter-widgets/base",
      "model_module_version": "1.2.0",
      "model_name": "LayoutModel",
      "state": {}
     },
     "8557ade46d0a485f814aaff71fd4e90c": {
      "model_module": "@jupyter-widgets/controls",
      "model_module_version": "1.5.0",
      "model_name": "HTMLModel",
      "state": {
       "layout": "IPY_MODEL_1b9d2340220c410da23ff834b396bdff",
       "style": "IPY_MODEL_13a45068f4cc4ecca4bdc4fd3e78de7d"
      }
     },
     "85e29c01e8d94e0b8aeedb8e9a6f8389": {
      "model_module": "@here/map-widget-for-jupyter",
      "model_module_version": "^1.1.3",
      "model_name": "DefaultLayersModel",
      "state": {
       "_model_module": "@here/map-widget-for-jupyter",
       "_model_module_version": "^1.1.3",
       "_view_count": null,
       "_view_module": "@here/map-widget-for-jupyter",
       "_view_module_version": "^1.1.3",
       "layer_name": "raster.normal.xbase",
       "ppi": null
      }
     },
     "8648bc51271449c18849034ac1a657b1": {
      "model_module": "jupyter-leaflet",
      "model_module_version": "^0.15.0",
      "model_name": "LeafletWMSLayerModel",
      "state": {
       "_model_module_version": "^0.15.0",
       "_view_module_version": "^0.15.0",
       "attribution": "USGS",
       "crs": {
        "custom": false,
        "name": "EPSG3857"
       },
       "format": "image/png",
       "layers": "0",
       "max_native_zoom": 18,
       "min_native_zoom": 0,
       "name": "USGS NAIP Imagery",
       "options": [
        "attribution",
        "detect_retina",
        "format",
        "layers",
        "max_native_zoom",
        "max_zoom",
        "min_native_zoom",
        "min_zoom",
        "no_wrap",
        "styles",
        "tile_size",
        "tms",
        "transparent",
        "uppercase"
       ],
       "transparent": true,
       "url": "https://services.nationalmap.gov/arcgis/services/USGSNAIPImagery/ImageServer/WMSServer?"
      }
     },
     "868f428c48294b91bedbdb2b1bb7bcf8": {
      "model_module": "@jupyter-widgets/controls",
      "model_module_version": "1.5.0",
      "model_name": "DescriptionStyleModel",
      "state": {
       "description_width": ""
      }
     },
     "8700f229f13a4f19859834598e6183f6": {
      "model_module": "jupyter-leaflet",
      "model_module_version": "^0.15.0",
      "model_name": "LeafletSearchControlModel",
      "state": {
       "_model_module_version": "^0.15.0",
       "_view_module_version": "^0.15.0",
       "marker": "IPY_MODEL_359e7fd33cf84cd188febe545f65ca12",
       "options": [
        "animate_location",
        "auto_collapse",
        "auto_type",
        "found_style",
        "jsonp_param",
        "position",
        "property_loc",
        "property_name",
        "url",
        "zoom"
       ],
       "url": "https://nominatim.openstreetmap.org/search?format=json&q={s}",
       "zoom": 5
      }
     },
     "878e596aa6c7430ebb8b7bb4daf6d966": {
      "model_module": "@jupyter-widgets/controls",
      "model_module_version": "1.5.0",
      "model_name": "ButtonModel",
      "state": {
       "description": "Cancel",
       "layout": "IPY_MODEL_b050c97dc2be46ad91665280f7a162ce",
       "style": "IPY_MODEL_24a9cb6e6c8e43c8ac8e2c3432753f77"
      }
     },
     "885488378abb41f8a56a35b631f7d996": {
      "model_module": "@jupyter-widgets/base",
      "model_module_version": "1.2.0",
      "model_name": "LayoutModel",
      "state": {
       "display": "none"
      }
     },
     "887bf1d91e3248da9853b13f09083888": {
      "model_module": "jupyter-leaflet",
      "model_module_version": "^0.15.0",
      "model_name": "LeafletTileLayerModel",
      "state": {
       "_model_module_version": "^0.15.0",
       "_view_module_version": "^0.15.0",
       "attribution": "Imagery provided by services from the Global Imagery Browse Services (GIBS), operated by the NASA/GSFC/Earth Science Data and Information System (<a href=\"https://earthdata.nasa.gov\">ESDIS</a>) with funding provided by NASA/HQ.",
       "max_native_zoom": 18,
       "max_zoom": 9,
       "min_native_zoom": 0,
       "name": "NASAGIBS.ModisAquaBands721CR",
       "options": [
        "attribution",
        "detect_retina",
        "max_native_zoom",
        "max_zoom",
        "min_native_zoom",
        "min_zoom",
        "no_wrap",
        "tile_size",
        "tms"
       ],
       "url": "https://gibs.earthdata.nasa.gov/wmts/epsg3857/best/MODIS_Aqua_CorrectedReflectance_Bands721/default//GoogleMapsCompatible_Level9/{z}/{y}/{x}.jpg"
      }
     },
     "88891bbe160147d2b44a5b6a37dab846": {
      "model_module": "jupyter-leaflet",
      "model_module_version": "^0.15.0",
      "model_name": "LeafletTileLayerModel",
      "state": {
       "_model_module_version": "^0.15.0",
       "_view_module_version": "^0.15.0",
       "attribution": "openAIP Data (CC-BY-NC-SA)",
       "max_native_zoom": 18,
       "max_zoom": 14,
       "min_native_zoom": 0,
       "name": "OpenAIP",
       "options": [
        "attribution",
        "detect_retina",
        "max_native_zoom",
        "max_zoom",
        "min_native_zoom",
        "min_zoom",
        "no_wrap",
        "tile_size",
        "tms"
       ],
       "url": "https://1.tile.maps.openaip.net/geowebcache/service/tms/1.0.0/openaip_basemap@EPSG%3A900913@png/{z}/{x}/{y}.png"
      }
     },
     "8894576757234b1d8e991763b6081736": {
      "model_module": "jupyter-leaflet",
      "model_module_version": "^0.15.0",
      "model_name": "LeafletTileLayerModel",
      "state": {
       "_model_module_version": "^0.15.0",
       "_view_module_version": "^0.15.0",
       "attribution": "National Library of Scotland Historic Maps",
       "max_native_zoom": 18,
       "min_native_zoom": 0,
       "name": "NLS",
       "options": [
        "attribution",
        "detect_retina",
        "max_native_zoom",
        "max_zoom",
        "min_native_zoom",
        "min_zoom",
        "no_wrap",
        "tile_size",
        "tms"
       ],
       "url": "https://nls-0.tileserver.com/nls/{z}/{x}/{y}.jpg"
      }
     },
     "891063cc11e7441db90daf3f41bae240": {
      "model_module": "jupyter-leaflet",
      "model_module_version": "^0.15.0",
      "model_name": "LeafletMapStyleModel",
      "state": {
       "_model_module_version": "^0.15.0"
      }
     },
     "8941634d47b44b3c931a76a62dd57fcb": {
      "model_module": "@jupyter-widgets/controls",
      "model_module_version": "1.5.0",
      "model_name": "SelectModel",
      "state": {
       "_options_labels": [
        "📁 ..",
        "📁 data",
        "AK_topobathy_vis.ipynb",
        "OpenAltimetry_example.ipynb",
        "README.txt",
        "SlideRule_example.ipynb",
        "SlideRule_getData.ipynb",
        "geemap_tutorial_exercise1.jpg",
        "white_mountain_2019-11-01.jpg"
       ],
       "index": null,
       "layout": "IPY_MODEL_6e97a24400f746c7bbcf5503b7913b67",
       "rows": 8,
       "style": "IPY_MODEL_f4a080d51ea2498aa0edb2131b7f6dae"
      }
     },
     "894bf6e62dbe4ae590590e351517659c": {
      "model_module": "@jupyter-widgets/controls",
      "model_module_version": "1.5.0",
      "model_name": "ToggleButtonModel",
      "state": {
       "button_style": "primary",
       "icon": "adjust",
       "layout": "IPY_MODEL_00418583d25c4d24b30144d4d71a4506",
       "style": "IPY_MODEL_62655e9136d34bf882b0b867f93feaa5",
       "tooltip": "Planet imagery"
      }
     },
     "896165f8d79847028da7c86817f10d05": {
      "model_module": "@jupyter-widgets/base",
      "model_module_version": "1.2.0",
      "model_name": "LayoutModel",
      "state": {
       "display": "none",
       "min_width": "6em",
       "width": "6em"
      }
     },
     "89f1e380c4284f9f84eb189b2fdb9ee9": {
      "model_module": "@jupyter-widgets/controls",
      "model_module_version": "1.5.0",
      "model_name": "HBoxModel",
      "state": {
       "children": [
        "IPY_MODEL_e5ff0972d6da4880adc8bb0b1b08da4a",
        "IPY_MODEL_fa30dfaa7cbf41d698f4e86bf489a5b9"
       ],
       "layout": "IPY_MODEL_2d5afd5e47db45caada71906e8425b53"
      }
     },
     "8c6cc1aaed104c9283cda88e68dbfd04": {
      "model_module": "@jupyter-widgets/base",
      "model_module_version": "1.2.0",
      "model_name": "LayoutModel",
      "state": {}
     },
     "8c8a475635d3498f8572c7975127cab3": {
      "model_module": "jupyter-leaflet",
      "model_module_version": "^0.15.0",
      "model_name": "LeafletAttributionControlModel",
      "state": {
       "_model_module_version": "^0.15.0",
       "_view_module_version": "^0.15.0",
       "options": [
        "position",
        "prefix"
       ],
       "position": "bottomright",
       "prefix": "ipyleaflet"
      }
     },
     "8d2dcf1cd2984570b570a4d3016498bf": {
      "model_module": "jupyter-leaflet",
      "model_module_version": "^0.15.0",
      "model_name": "LeafletAttributionControlModel",
      "state": {
       "_model_module_version": "^0.15.0",
       "_view_module_version": "^0.15.0",
       "options": [
        "position",
        "prefix"
       ],
       "position": "bottomright",
       "prefix": "ipyleaflet"
      }
     },
     "8e56e2ef1b564641a4992a4fa2e03aaa": {
      "model_module": "@jupyter-widgets/base",
      "model_module_version": "1.2.0",
      "model_name": "LayoutModel",
      "state": {
       "grid_area": "pathlist",
       "width": "auto"
      }
     },
     "8e9063880fe1488f9117dbded017b577": {
      "model_module": "jupyter-leaflet",
      "model_module_version": "^0.15.0",
      "model_name": "LeafletTileLayerModel",
      "state": {
       "_model_module_version": "^0.15.0",
       "_view_module_version": "^0.15.0",
       "attribution": "![](https://docs.onemap.sg/maps/images/oneMap64-01.png) New OneMap | Map data (C) contributors, Singapore Land Authority",
       "max_native_zoom": 18,
       "min_native_zoom": 0,
       "name": "OneMapSG.Night",
       "options": [
        "attribution",
        "detect_retina",
        "max_native_zoom",
        "max_zoom",
        "min_native_zoom",
        "min_zoom",
        "no_wrap",
        "tile_size",
        "tms"
       ],
       "url": "https://maps-a.onemap.sg/v3/Night/{z}/{x}/{y}.png"
      }
     },
     "8ed6555ef7434b02a7dea8ba30fdec7a": {
      "model_module": "@jupyter-widgets/controls",
      "model_module_version": "1.5.0",
      "model_name": "DescriptionStyleModel",
      "state": {
       "description_width": ""
      }
     },
     "9035a1c35c3042b39437d0138d993d8d": {
      "model_module": "jupyter-leaflet",
      "model_module_version": "^0.15.0",
      "model_name": "LeafletWMSLayerModel",
      "state": {
       "_model_module_version": "^0.15.0",
       "_view_module_version": "^0.15.0",
       "attribution": "MRLC",
       "crs": {
        "custom": false,
        "name": "EPSG3857"
       },
       "format": "image/png",
       "layers": "NLCD_2001_Land_Cover_L48",
       "max_native_zoom": 18,
       "min_native_zoom": 0,
       "name": "NLCD 2001 CONUS Land Cover",
       "options": [
        "attribution",
        "detect_retina",
        "format",
        "layers",
        "max_native_zoom",
        "max_zoom",
        "min_native_zoom",
        "min_zoom",
        "no_wrap",
        "styles",
        "tile_size",
        "tms",
        "transparent",
        "uppercase"
       ],
       "transparent": true,
       "url": "https://www.mrlc.gov/geoserver/mrlc_display/NLCD_2001_Land_Cover_L48/wms?"
      }
     },
     "904a69c67126459ba9a1bdb6dfb2ab4a": {
      "model_module": "@jupyter-widgets/controls",
      "model_module_version": "1.5.0",
      "model_name": "DescriptionStyleModel",
      "state": {
       "description_width": ""
      }
     },
     "9059520e71f7451783f153f6c9a22b38": {
      "model_module": "@jupyter-widgets/base",
      "model_module_version": "1.2.0",
      "model_name": "LayoutModel",
      "state": {
       "height": "auto",
       "padding": "0px 0px 0px 4px",
       "width": "auto"
      }
     },
     "905b4290ebd44348a38eabf56c7d4560": {
      "model_module": "jupyter-leaflet",
      "model_module_version": "^0.15.0",
      "model_name": "LeafletTileLayerModel",
      "state": {
       "_model_module_version": "^0.15.0",
       "_view_module_version": "^0.15.0",
       "attribution": "(C) Stadia Maps, (C) OpenMapTiles (C) OpenStreetMap contributors",
       "max_native_zoom": 18,
       "max_zoom": 20,
       "min_native_zoom": 0,
       "name": "Stadia.AlidadeSmoothDark",
       "options": [
        "attribution",
        "detect_retina",
        "max_native_zoom",
        "max_zoom",
        "min_native_zoom",
        "min_zoom",
        "no_wrap",
        "tile_size",
        "tms"
       ],
       "url": "https://tiles.stadiamaps.com/tiles/alidade_smooth_dark/{z}/{x}/{y}.png"
      }
     },
     "90c2afa21ea04f81a8b069f40ac58dbd": {
      "model_module": "@jupyter-widgets/base",
      "model_module_version": "1.2.0",
      "model_name": "LayoutModel",
      "state": {
       "height": "auto",
       "padding": "0px 0px 0px 4px",
       "width": "auto"
      }
     },
     "90d4265bce124d3a86b4a43d2031ac03": {
      "model_module": "@here/map-widget-for-jupyter",
      "model_module_version": "^1.1.3",
      "model_name": "DefaultLayersModel",
      "state": {
       "_model_module": "@here/map-widget-for-jupyter",
       "_model_module_version": "^1.1.3",
       "_view_count": null,
       "_view_module": "@here/map-widget-for-jupyter",
       "_view_module_version": "^1.1.3",
       "layer_name": "vector.normal.truck",
       "ppi": null
      }
     },
     "913cee026b81447bbb931e29b54742fd": {
      "model_module": "@jupyter-widgets/base",
      "model_module_version": "1.2.0",
      "model_name": "LayoutModel",
      "state": {
       "height": "auto",
       "padding": "0px 0px 0px 4px",
       "width": "auto"
      }
     },
     "915b7b6ae5d4473bba0211c498d7166a": {
      "model_module": "jupyter-leaflet",
      "model_module_version": "^0.15.0",
      "model_name": "LeafletTileLayerModel",
      "state": {
       "_model_module_version": "^0.15.0",
       "_view_module_version": "^0.15.0",
       "attribution": "Imagery provided by services from the Global Imagery Browse Services (GIBS), operated by the NASA/GSFC/Earth Science Data and Information System (<a href=\"https://earthdata.nasa.gov\">ESDIS</a>) with funding provided by NASA/HQ.",
       "max_native_zoom": 18,
       "max_zoom": 5,
       "min_native_zoom": 0,
       "name": "NASAGIBS.BlueMarble3413",
       "options": [
        "attribution",
        "detect_retina",
        "max_native_zoom",
        "max_zoom",
        "min_native_zoom",
        "min_zoom",
        "no_wrap",
        "tile_size",
        "tms"
       ],
       "url": "https://gibs.earthdata.nasa.gov/wmts/epsg3413/best/BlueMarble_NextGeneration/default/EPSG3413_500m/{z}/{y}/{x}.jpeg"
      }
     },
     "919ce771eaa04256b28b30554b9ca7a0": {
      "model_module": "jupyter-leaflet",
      "model_module_version": "^0.15.0",
      "model_name": "LeafletTileLayerModel",
      "state": {
       "_model_module_version": "^0.15.0",
       "_view_module_version": "^0.15.0",
       "attribution": "Geoportail France",
       "max_native_zoom": 18,
       "min_native_zoom": 0,
       "name": "GeoportailFrance.plan",
       "options": [
        "attribution",
        "detect_retina",
        "max_native_zoom",
        "max_zoom",
        "min_native_zoom",
        "min_zoom",
        "no_wrap",
        "tile_size",
        "tms"
       ],
       "url": "https://wxs.ign.fr/choisirgeoportail/geoportail/wmts?REQUEST=GetTile&SERVICE=WMTS&VERSION=1.0.0&STYLE=normal&TILEMATRIXSET=PM&FORMAT=image/png&LAYER=GEOGRAPHICALGRIDSYSTEMS.PLANIGNV2&TILEMATRIX={z}&TILEROW={y}&TILECOL={x}"
      }
     },
     "921ee416525f408da8fa79dd0306e41a": {
      "model_module": "jupyter-leaflet",
      "model_module_version": "^0.15.0",
      "model_name": "LeafletTileLayerModel",
      "state": {
       "_model_module_version": "^0.15.0",
       "_view_module_version": "^0.15.0",
       "attribution": "© swisstopo",
       "max_native_zoom": 18,
       "max_zoom": 19,
       "min_native_zoom": 0,
       "name": "SwissFederalGeoportal.SWISSIMAGE",
       "options": [
        "attribution",
        "detect_retina",
        "max_native_zoom",
        "max_zoom",
        "min_native_zoom",
        "min_zoom",
        "no_wrap",
        "tile_size",
        "tms"
       ],
       "url": "https://wmts.geo.admin.ch/1.0.0/ch.swisstopo.swissimage/default/current/3857/{z}/{x}/{y}.jpeg"
      }
     },
     "9233d728069c404e98be90704e72148d": {
      "model_module": "@jupyter-widgets/controls",
      "model_module_version": "1.5.0",
      "model_name": "HBoxModel",
      "state": {
       "_view_count": 1,
       "children": [
        "IPY_MODEL_723da9cf3fb44fa29c550a24151a776f"
       ],
       "layout": "IPY_MODEL_fe10ef0d1ff1450c801487b9f4aa6d6b"
      }
     },
     "92909f44ddee445e9621f5e3657fc25e": {
      "model_module": "@jupyter-widgets/base",
      "model_module_version": "1.2.0",
      "model_name": "LayoutModel",
      "state": {}
     },
     "9315674f76b14c8ba42aca0a28652cdc": {
      "model_module": "@jupyter-widgets/controls",
      "model_module_version": "1.5.0",
      "model_name": "ToggleButtonModel",
      "state": {
       "button_style": "primary",
       "icon": "question",
       "layout": "IPY_MODEL_631cccdcdbaa49a5963ab8cb8127f69f",
       "style": "IPY_MODEL_f470e7e1720c4f728562b5db42588337",
       "tooltip": "Get help"
      }
     },
     "93f8201653bc4c089a285a3e4d733629": {
      "model_module": "@jupyter-widgets/controls",
      "model_module_version": "1.5.0",
      "model_name": "ToggleButtonModel",
      "state": {
       "button_style": "primary",
       "icon": "bar-chart",
       "layout": "IPY_MODEL_90c2afa21ea04f81a8b069f40ac58dbd",
       "style": "IPY_MODEL_c817932fb0304b708652f0cafea78953",
       "tooltip": "Plotting"
      }
     },
     "942d55bdbd154cd4b6198b53171fbb27": {
      "model_module": "@jupyter-widgets/base",
      "model_module_version": "1.2.0",
      "model_name": "LayoutModel",
      "state": {
       "max_height": "250px",
       "max_width": "340px",
       "overflow": "scroll"
      }
     },
     "945640554bc6490085f46733affba363": {
      "model_module": "@jupyter-widgets/controls",
      "model_module_version": "1.5.0",
      "model_name": "DescriptionStyleModel",
      "state": {
       "description_width": ""
      }
     },
     "957d3d22c62c4632b5b728676bf9cf41": {
      "model_module": "@jupyter-widgets/controls",
      "model_module_version": "1.5.0",
      "model_name": "TextModel",
      "state": {
       "layout": "IPY_MODEL_1417dc96405c43e9a28cda47350215bc",
       "placeholder": "output filename",
       "style": "IPY_MODEL_904a69c67126459ba9a1bdb6dfb2ab4a",
       "value": "my_map.html"
      }
     },
     "95a86823631d43a7aa796fbf4477834a": {
      "model_module": "@jupyter-widgets/controls",
      "model_module_version": "1.5.0",
      "model_name": "DescriptionStyleModel",
      "state": {
       "description_width": ""
      }
     },
     "95f87bc3221c4d1584b7412612fe520e": {
      "model_module": "jupyter-leaflet",
      "model_module_version": "^0.15.0",
      "model_name": "LeafletTileLayerModel",
      "state": {
       "_model_module_version": "^0.15.0",
       "_view_module_version": "^0.15.0",
       "attribution": "Imagery provided by NOAA National Centers for Environmental Information (NCEI); International Bathymetric Chart of the Southern Ocean (IBCSO); General Bathymetric Chart of the Oceans (GEBCO).",
       "max_native_zoom": 18,
       "max_zoom": 9,
       "min_native_zoom": 0,
       "name": "Esri.AntarcticBasemap",
       "options": [
        "attribution",
        "detect_retina",
        "max_native_zoom",
        "max_zoom",
        "min_native_zoom",
        "min_zoom",
        "no_wrap",
        "tile_size",
        "tms"
       ],
       "url": "https://tiles.arcgis.com/tiles/C8EMgrsFcRFL6LrL/arcgis/rest/services/Antarctic_Basemap/MapServer/tile/{z}/{y}/{x}"
      }
     },
     "9733f335b55c48d6a8ec4a82ac9d489f": {
      "model_module": "jupyter-leaflet",
      "model_module_version": "^0.15.0",
      "model_name": "LeafletTileLayerModel",
      "state": {
       "_model_module_version": "^0.15.0",
       "_view_module_version": "^0.15.0",
       "attribution": "Map tiles by <a href=\"https://labs.strava.com/heatmap\">Strava 2021</a>",
       "max_native_zoom": 18,
       "max_zoom": 15,
       "min_native_zoom": 0,
       "name": "Strava.Run",
       "options": [
        "attribution",
        "detect_retina",
        "max_native_zoom",
        "max_zoom",
        "min_native_zoom",
        "min_zoom",
        "no_wrap",
        "tile_size",
        "tms"
       ],
       "url": "https://heatmap-external-a.strava.com/tiles/run/bluered/{z}/{x}/{y}.png"
      }
     },
     "982e9ac943ec46f598b1f70132946466": {
      "model_module": "jupyter-leaflet",
      "model_module_version": "^0.15.0",
      "model_name": "LeafletTileLayerModel",
      "state": {
       "_model_module_version": "^0.15.0",
       "_view_module_version": "^0.15.0",
       "attribution": "OpenStreetMap",
       "max_native_zoom": 18,
       "max_zoom": 22,
       "min_native_zoom": 0,
       "name": "OpenStreetMap",
       "options": [
        "attribution",
        "detect_retina",
        "max_native_zoom",
        "max_zoom",
        "min_native_zoom",
        "min_zoom",
        "no_wrap",
        "tile_size",
        "tms"
       ]
      }
     },
     "9862d7b8baef4da7b703bad48a37cb87": {
      "model_module": "jupyter-leaflet",
      "model_module_version": "^0.15.0",
      "model_name": "LeafletTileLayerModel",
      "state": {
       "_model_module_version": "^0.15.0",
       "_view_module_version": "^0.15.0",
       "attribution": "CyclOSM | Map data: (C) OpenStreetMap contributors",
       "max_native_zoom": 18,
       "max_zoom": 20,
       "min_native_zoom": 0,
       "name": "CyclOSM",
       "options": [
        "attribution",
        "detect_retina",
        "max_native_zoom",
        "max_zoom",
        "min_native_zoom",
        "min_zoom",
        "no_wrap",
        "tile_size",
        "tms"
       ],
       "url": "https://a.tile-cyclosm.openstreetmap.fr/cyclosm/{z}/{x}/{y}.png"
      }
     },
     "9a21c75ba792477eb2122ff2864851da": {
      "model_module": "jupyter-leaflet",
      "model_module_version": "^0.15.0",
      "model_name": "LeafletMapStyleModel",
      "state": {
       "_model_module_version": "^0.15.0"
      }
     },
     "9a2574c4117f4d11bf9cd54fe7fb4193": {
      "model_module": "@jupyter-widgets/controls",
      "model_module_version": "1.5.0",
      "model_name": "DescriptionStyleModel",
      "state": {
       "description_width": ""
      }
     },
     "9ad6accfdd8a4bd1bfee56d3cbb7c40b": {
      "model_module": "@jupyter-widgets/base",
      "model_module_version": "1.2.0",
      "model_name": "LayoutModel",
      "state": {
       "height": "28px",
       "width": "72px"
      }
     },
     "9ae790816bb54093a770720ea5eeae6f": {
      "model_module": "jupyter-leaflet",
      "model_module_version": "^0.15.0",
      "model_name": "LeafletWMSLayerModel",
      "state": {
       "_model_module_version": "^0.15.0",
       "_view_module_version": "^0.15.0",
       "attribution": "MRLC",
       "crs": {
        "custom": false,
        "name": "EPSG3857"
       },
       "format": "image/png",
       "layers": "NLCD_2016_Land_Cover_L48",
       "max_native_zoom": 18,
       "min_native_zoom": 0,
       "name": "NLCD 2016 CONUS Land Cover",
       "options": [
        "attribution",
        "detect_retina",
        "format",
        "layers",
        "max_native_zoom",
        "max_zoom",
        "min_native_zoom",
        "min_zoom",
        "no_wrap",
        "styles",
        "tile_size",
        "tms",
        "transparent",
        "uppercase"
       ],
       "transparent": true,
       "url": "https://www.mrlc.gov/geoserver/mrlc_display/NLCD_2016_Land_Cover_L48/wms?"
      }
     },
     "9b3dd0699de04c77b7f25d69032ab779": {
      "model_module": "jupyter-leaflet",
      "model_module_version": "^0.15.0",
      "model_name": "LeafletTileLayerModel",
      "state": {
       "_model_module_version": "^0.15.0",
       "_view_module_version": "^0.15.0",
       "attribution": "Kaartgegevens (C) Kadaster",
       "max_native_zoom": 18,
       "max_zoom": 19,
       "min_native_zoom": 0,
       "name": "nlmaps.luchtfoto",
       "options": [
        "attribution",
        "detect_retina",
        "max_native_zoom",
        "max_zoom",
        "min_native_zoom",
        "min_zoom",
        "no_wrap",
        "tile_size",
        "tms"
       ],
       "url": "https://service.pdok.nl/hwh/luchtfotorgb/wmts/v1_0/Actueel_ortho25/EPSG:3857/{z}/{x}/{y}.jpeg"
      }
     },
     "9b7ef8a4e0404e2295057e0897e80c7c": {
      "model_module": "@jupyter-widgets/controls",
      "model_module_version": "1.5.0",
      "model_name": "BoxModel",
      "state": {
       "children": [
        "IPY_MODEL_29e00e6f7bcc495c90ed5c20dd7dd370"
       ],
       "layout": "IPY_MODEL_6819aab21f854235840b479da8b54588"
      }
     },
     "9bab39537ab144988dca0252992b29f2": {
      "model_module": "jupyter-leaflet",
      "model_module_version": "^0.15.0",
      "model_name": "LeafletTileLayerModel",
      "state": {
       "_model_module_version": "^0.15.0",
       "_view_module_version": "^0.15.0",
       "attribution": "Map tiles by <a href=\"https://labs.strava.com/heatmap\">Strava 2021</a>",
       "max_native_zoom": 18,
       "max_zoom": 15,
       "min_native_zoom": 0,
       "name": "Strava.Water",
       "options": [
        "attribution",
        "detect_retina",
        "max_native_zoom",
        "max_zoom",
        "min_native_zoom",
        "min_zoom",
        "no_wrap",
        "tile_size",
        "tms"
       ],
       "url": "https://heatmap-external-a.strava.com/tiles/water/blue/{z}/{x}/{y}.png"
      }
     },
     "9c23ca2b48544d4eb6ef64fa9e5d3784": {
      "model_module": "jupyter-leaflet",
      "model_module_version": "^0.15.0",
      "model_name": "LeafletTileLayerModel",
      "state": {
       "_model_module_version": "^0.15.0",
       "_view_module_version": "^0.15.0",
       "attribution": "Map tiles by Stamen Design, CC BY 3.0 -- Map data (C) OpenStreetMap contributors",
       "max_native_zoom": 18,
       "max_zoom": 20,
       "min_native_zoom": 0,
       "name": "Stamen.TonerHybrid",
       "options": [
        "attribution",
        "detect_retina",
        "max_native_zoom",
        "max_zoom",
        "min_native_zoom",
        "min_zoom",
        "no_wrap",
        "tile_size",
        "tms"
       ],
       "url": "https://stamen-tiles-a.a.ssl.fastly.net/toner-hybrid/{z}/{x}/{y}.png"
      }
     },
     "9c693c39cb0048b7b11cd0f9c6b6397d": {
      "model_module": "jupyter-leaflet",
      "model_module_version": "^0.15.0",
      "model_name": "LeafletTileLayerModel",
      "state": {
       "_model_module_version": "^0.15.0",
       "_view_module_version": "^0.15.0",
       "attribution": "Tiles courtesy of the U.S. Geological Survey",
       "max_native_zoom": 18,
       "max_zoom": 20,
       "min_native_zoom": 0,
       "name": "USGS.USImageryTopo",
       "options": [
        "attribution",
        "detect_retina",
        "max_native_zoom",
        "max_zoom",
        "min_native_zoom",
        "min_zoom",
        "no_wrap",
        "tile_size",
        "tms"
       ],
       "url": "https://basemap.nationalmap.gov/arcgis/rest/services/USGSImageryTopo/MapServer/tile/{z}/{y}/{x}"
      }
     },
     "9c9bec76b1f74d789479236d7ced127d": {
      "model_module": "@jupyter-widgets/base",
      "model_module_version": "1.2.0",
      "model_name": "LayoutModel",
      "state": {
       "max_width": "279px",
       "min_width": "279px"
      }
     },
     "9cb47f16eef949758a66f66a900eca8d": {
      "model_module": "jupyter-leaflet",
      "model_module_version": "^0.15.0",
      "model_name": "LeafletTileLayerModel",
      "state": {
       "_model_module_version": "^0.15.0",
       "_view_module_version": "^0.15.0",
       "attribution": "Map tiles by <a href=\"https://labs.strava.com/heatmap\">Strava 2021</a>",
       "max_native_zoom": 18,
       "max_zoom": 15,
       "min_native_zoom": 0,
       "name": "Strava.Winter",
       "options": [
        "attribution",
        "detect_retina",
        "max_native_zoom",
        "max_zoom",
        "min_native_zoom",
        "min_zoom",
        "no_wrap",
        "tile_size",
        "tms"
       ],
       "url": "https://heatmap-external-a.strava.com/tiles/winter/hot/{z}/{x}/{y}.png"
      }
     },
     "9d178ff3bac244c689505e3517897d3f": {
      "model_module": "@jupyter-widgets/controls",
      "model_module_version": "1.5.0",
      "model_name": "ToggleButtonModel",
      "state": {
       "button_style": "primary",
       "icon": "folder-open",
       "layout": "IPY_MODEL_3c6335674f43415cb63757a14282708b",
       "style": "IPY_MODEL_f184668f81dc4fdd981ef51caa1f170e",
       "tooltip": "Open local vector/raster data"
      }
     },
     "9dc00eb46a7e4f778955c589a32637c1": {
      "model_module": "@jupyter-widgets/output",
      "model_module_version": "1.0.0",
      "model_name": "OutputModel",
      "state": {
       "layout": "IPY_MODEL_c5a834c15a654999a4cc680d069e5bb2"
      }
     },
     "9e5ae68abc514ad2b9fda3b1e0602194": {
      "model_module": "@jupyter-widgets/controls",
      "model_module_version": "1.5.0",
      "model_name": "ToggleButtonsStyleModel",
      "state": {
       "button_width": "",
       "description_width": ""
      }
     },
     "9e658d0405b04594a3cc365ac354627a": {
      "model_module": "@jupyter-widgets/base",
      "model_module_version": "1.2.0",
      "model_name": "LayoutModel",
      "state": {
       "margin": "0 0 0 1em"
      }
     },
     "a006cd0b45bf41d3a838c0a8d97d4c95": {
      "model_module": "@jupyter-widgets/controls",
      "model_module_version": "1.5.0",
      "model_name": "ToggleButtonModel",
      "state": {
       "icon": "wrench",
       "layout": "IPY_MODEL_38b3df0dc76e4ac6acfa02c8b1904aa3",
       "style": "IPY_MODEL_d49d677caa5b44b29d9ab9d59bc3cd06",
       "tooltip": "Toolbar"
      }
     },
     "a03f9113c5544b3890f6e404be030b6c": {
      "model_module": "@jupyter-widgets/base",
      "model_module_version": "1.2.0",
      "model_name": "LayoutModel",
      "state": {
       "max_width": "57px",
       "min_width": "57px"
      }
     },
     "a06899e4e7874ae294a17e4cdb7d08b7": {
      "model_module": "jupyter-leaflet",
      "model_module_version": "^0.15.0",
      "model_name": "LeafletTileLayerModel",
      "state": {
       "_model_module_version": "^0.15.0",
       "_view_module_version": "^0.15.0",
       "attribution": "Datenquelle: basemap.at",
       "max_native_zoom": 18,
       "max_zoom": 19,
       "min_native_zoom": 0,
       "name": "BasemapAT.terrain",
       "options": [
        "attribution",
        "detect_retina",
        "max_native_zoom",
        "max_zoom",
        "min_native_zoom",
        "min_zoom",
        "no_wrap",
        "tile_size",
        "tms"
       ],
       "url": "https://maps.wien.gv.at/basemap/bmapgelaende/grau/google3857/{z}/{y}/{x}.jpeg"
      }
     },
     "a0a47a37cbd843a0b4cd7bb0a1ae42ab": {
      "model_module": "jupyter-leaflet",
      "model_module_version": "^0.15.0",
      "model_name": "LeafletDrawControlModel",
      "state": {
       "_model_module_version": "^0.15.0",
       "_view_module_version": "^0.15.0",
       "circle": {
        "shapeOptions": {
         "color": "#3388ff"
        }
       },
       "marker": {
        "shapeOptions": {
         "color": "#3388ff"
        }
       },
       "options": [
        "position"
       ],
       "rectangle": {
        "shapeOptions": {
         "color": "#3388ff"
        }
       }
      }
     },
     "a12569b37b3b4d4b89f15e8a56f3567e": {
      "model_module": "jupyter-leaflet",
      "model_module_version": "^0.15.0",
      "model_name": "LeafletMapStyleModel",
      "state": {
       "_model_module_version": "^0.15.0",
       "cursor": "move"
      }
     },
     "a126b6f12ddb4170aa3d0a4177e0fda4": {
      "model_module": "jupyter-leaflet",
      "model_module_version": "^0.15.0",
      "model_name": "LeafletTileLayerModel",
      "state": {
       "_model_module_version": "^0.15.0",
       "_view_module_version": "^0.15.0",
       "attribution": "Map data: (C) OpenStreetMap contributors & ODbL, (C) www.opensnowmap.org CC-BY-SA",
       "max_native_zoom": 18,
       "min_native_zoom": 0,
       "name": "OpenSnowMap.pistes",
       "options": [
        "attribution",
        "detect_retina",
        "max_native_zoom",
        "max_zoom",
        "min_native_zoom",
        "min_zoom",
        "no_wrap",
        "tile_size",
        "tms"
       ],
       "url": "https://tiles.opensnowmap.org/pistes/{z}/{x}/{y}.png"
      }
     },
     "a12ed07bc3374bafad6dc104fef790b1": {
      "model_module": "@jupyter-widgets/base",
      "model_module_version": "1.2.0",
      "model_name": "LayoutModel",
      "state": {
       "height": "auto",
       "padding": "0px 0px 0px 4px",
       "width": "auto"
      }
     },
     "a158406bac874b9287fa691dbe5e75b3": {
      "model_module": "jupyter-leaflet",
      "model_module_version": "^0.15.0",
      "model_name": "LeafletTileLayerModel",
      "state": {
       "_model_module_version": "^0.15.0",
       "_view_module_version": "^0.15.0",
       "attribution": "Google Earth Engine",
       "max_native_zoom": 18,
       "max_zoom": 24,
       "min_native_zoom": 0,
       "name": "White Mountain, AK",
       "opacity": 0.6,
       "options": [
        "attribution",
        "detect_retina",
        "max_native_zoom",
        "max_zoom",
        "min_native_zoom",
        "min_zoom",
        "no_wrap",
        "tile_size",
        "tms"
       ],
       "url": "https://earthengine.googleapis.com/v1alpha/projects/earthengine-legacy/maps/f7846933b39db9f2357b6d598dc4eb3a-0c78497e8fcb289e464a1346653b61e6/tiles/{z}/{x}/{y}"
      }
     },
     "a1e7455ee3dd417b9c52a1b9ed6ced9b": {
      "model_module": "@here/map-widget-for-jupyter",
      "model_module_version": "^1.1.3",
      "model_name": "DefaultLayersModel",
      "state": {
       "_model_module": "@here/map-widget-for-jupyter",
       "_model_module_version": "^1.1.3",
       "_view_count": null,
       "_view_module": "@here/map-widget-for-jupyter",
       "_view_module_version": "^1.1.3",
       "layer_name": "raster.satellite.xbase",
       "ppi": null
      }
     },
     "a1fbd9b2afb2401c8b8a3f437839f593": {
      "model_module": "@jupyter-widgets/controls",
      "model_module_version": "1.5.0",
      "model_name": "DescriptionStyleModel",
      "state": {
       "description_width": ""
      }
     },
     "a3475e753c1d4c0e90992ece5ec43ba4": {
      "model_module": "@jupyter-widgets/controls",
      "model_module_version": "1.5.0",
      "model_name": "HTMLModel",
      "state": {
       "layout": "IPY_MODEL_885488378abb41f8a56a35b631f7d996",
       "style": "IPY_MODEL_643239362a774f4aada41234ffdedc0a"
      }
     },
     "a3ac6ce967e14cceb9c984cdce172ca1": {
      "model_module": "jupyter-leaflet",
      "model_module_version": "^0.15.0",
      "model_name": "LeafletZoomControlModel",
      "state": {
       "_model_module_version": "^0.15.0",
       "_view_module_version": "^0.15.0",
       "options": [
        "position",
        "zoom_in_text",
        "zoom_in_title",
        "zoom_out_text",
        "zoom_out_title"
       ]
      }
     },
     "a4090c5b4c2a45808cd415ea5840ea13": {
      "model_module": "jupyter-leaflet",
      "model_module_version": "^0.15.0",
      "model_name": "LeafletTileLayerModel",
      "state": {
       "_model_module_version": "^0.15.0",
       "_view_module_version": "^0.15.0",
       "attribution": "Map tiles by Stamen Design, CC BY 3.0 -- Map data (C) OpenStreetMap contributors",
       "max_native_zoom": 18,
       "max_zoom": 20,
       "min_native_zoom": 0,
       "name": "Stamen.TopOSMRelief",
       "options": [
        "attribution",
        "detect_retina",
        "max_native_zoom",
        "max_zoom",
        "min_native_zoom",
        "min_zoom",
        "no_wrap",
        "tile_size",
        "tms"
       ],
       "url": "https://stamen-tiles-a.a.ssl.fastly.net/toposm-color-relief/{z}/{x}/{y}.jpg"
      }
     },
     "a4173875c05742019295f9e541d0c133": {
      "model_module": "ipyevents",
      "model_module_version": "2.0.1",
      "model_name": "EventModel",
      "state": {
       "_supported_key_events": [
        "keydown",
        "keyup"
       ],
       "_supported_mouse_events": [
        "click",
        "auxclick",
        "dblclick",
        "mouseenter",
        "mouseleave",
        "mousedown",
        "mouseup",
        "mousemove",
        "wheel",
        "contextmenu",
        "dragstart",
        "drag",
        "dragend",
        "dragenter",
        "dragover",
        "dragleave",
        "drop"
       ],
       "_supported_touch_events": [
        "touchstart",
        "touchend",
        "touchmove",
        "touchcancel"
       ],
       "_view_module": "@jupyter-widgets/controls",
       "_view_module_version": "1.5.0",
       "source": "IPY_MODEL_194b2eb779084d4c893ae5c6e628e2bd",
       "throttle_or_debounce": "",
       "watched_events": [
        "mouseenter",
        "mouseleave"
       ],
       "xy_coordinate_system": ""
      }
     },
     "a43c6d2c7a084d1f87befdcdd7b56e03": {
      "model_module": "jupyter-leaflet",
      "model_module_version": "^0.15.0",
      "model_name": "LeafletTileLayerModel",
      "state": {
       "_model_module_version": "^0.15.0",
       "_view_module_version": "^0.15.0",
       "attribution": "Datenquelle: basemap.at",
       "max_native_zoom": 18,
       "max_zoom": 20,
       "min_native_zoom": 0,
       "name": "BasemapAT.orthofoto",
       "options": [
        "attribution",
        "detect_retina",
        "max_native_zoom",
        "max_zoom",
        "min_native_zoom",
        "min_zoom",
        "no_wrap",
        "tile_size",
        "tms"
       ],
       "url": "https://maps.wien.gv.at/basemap/bmaporthofoto30cm/normal/google3857/{z}/{y}/{x}.jpeg"
      }
     },
     "a4a3602e64d0469681543cd538b0c01e": {
      "model_module": "@jupyter-widgets/base",
      "model_module_version": "1.2.0",
      "model_name": "LayoutModel",
      "state": {
       "height": "28px",
       "padding": "0px 0px 0px 4px",
       "width": "28px"
      }
     },
     "a5accbb2c54a46bc93477048583ab7fe": {
      "model_module": "jupyter-leaflet",
      "model_module_version": "^0.15.0",
      "model_name": "LeafletTileLayerModel",
      "state": {
       "_model_module_version": "^0.15.0",
       "_view_module_version": "^0.15.0",
       "attribution": "Tiles courtesy of OpenStreetMap Sweden -- Map data (C) OpenStreetMap contributors",
       "max_native_zoom": 18,
       "max_zoom": 20,
       "min_native_zoom": 0,
       "name": "Hydda.Full",
       "options": [
        "attribution",
        "detect_retina",
        "max_native_zoom",
        "max_zoom",
        "min_native_zoom",
        "min_zoom",
        "no_wrap",
        "tile_size",
        "tms"
       ],
       "url": "https://a.tile.openstreetmap.se/hydda/full/{z}/{x}/{y}.png"
      }
     },
     "a5d374bbe8de4f81b40b92267fa482aa": {
      "model_module": "@jupyter-widgets/controls",
      "model_module_version": "1.5.0",
      "model_name": "DropdownModel",
      "state": {
       "_options_labels": [
        "/home/jovyan/coastal_topobathy/examples",
        "/home/jovyan/coastal_topobathy",
        "/home/jovyan",
        "/home",
        "/"
       ],
       "index": 0,
       "layout": "IPY_MODEL_8e56e2ef1b564641a4992a4fa2e03aaa",
       "style": "IPY_MODEL_090ff616b34942e0b587c1a191a482b8"
      }
     },
     "a6db96e4df56417e8e04f23c65c1bd2a": {
      "model_module": "@jupyter-widgets/controls",
      "model_module_version": "1.5.0",
      "model_name": "VBoxModel",
      "state": {
       "children": [
        "IPY_MODEL_d528b6d7805447218dc7091dc330b141"
       ],
       "layout": "IPY_MODEL_5d65b8a10bbe4b35bfd4ac9644881362"
      }
     },
     "a74072d1ee4a4a359a1396896363ed0b": {
      "model_module": "@jupyter-widgets/base",
      "model_module_version": "1.2.0",
      "model_name": "LayoutModel",
      "state": {
       "height": "auto",
       "padding": "0px 0px 0px 4px",
       "width": "auto"
      }
     },
     "a7c2c92d346f48539b6cff0884335f80": {
      "model_module": "@here/map-widget-for-jupyter",
      "model_module_version": "^1.1.3",
      "model_name": "DefaultLayersModel",
      "state": {
       "_model_module": "@here/map-widget-for-jupyter",
       "_model_module_version": "^1.1.3",
       "_view_count": null,
       "_view_module": "@here/map-widget-for-jupyter",
       "_view_module_version": "^1.1.3",
       "layer_name": "raster.terrain.xbase",
       "ppi": null
      }
     },
     "a8d9aa966b214c819d92a8dd051124cd": {
      "model_module": "@jupyter-widgets/controls",
      "model_module_version": "1.5.0",
      "model_name": "ButtonStyleModel",
      "state": {}
     },
     "aaab2fc5244e4ff7ac1bd2bec5750ebb": {
      "model_module": "jupyter-leaflet",
      "model_module_version": "^0.15.0",
      "model_name": "LeafletTileLayerModel",
      "state": {
       "_model_module_version": "^0.15.0",
       "_view_module_version": "^0.15.0",
       "attribution": "Google",
       "max_native_zoom": 18,
       "max_zoom": 22,
       "min_native_zoom": 0,
       "name": "Google Maps",
       "options": [
        "attribution",
        "detect_retina",
        "max_native_zoom",
        "max_zoom",
        "min_native_zoom",
        "min_zoom",
        "no_wrap",
        "tile_size",
        "tms"
       ],
       "url": "https://mt1.google.com/vt/lyrs=m&x={x}&y={y}&z={z}"
      }
     },
     "ac097ef36a2c49c296f04cb2a6c53bd1": {
      "model_module": "@jupyter-widgets/controls",
      "model_module_version": "1.5.0",
      "model_name": "DescriptionStyleModel",
      "state": {
       "description_width": ""
      }
     },
     "adfd05847ddc464a939dd234befad594": {
      "model_module": "jupyter-leaflet",
      "model_module_version": "^0.15.0",
      "model_name": "LeafletTileLayerModel",
      "state": {
       "_model_module_version": "^0.15.0",
       "_view_module_version": "^0.15.0",
       "attribution": "Map data: (C) OpenStreetMap contributors | Map style: (C) waymarkedtrails.org (CC-BY-SA)",
       "max_native_zoom": 18,
       "min_native_zoom": 0,
       "name": "WaymarkedTrails.riding",
       "options": [
        "attribution",
        "detect_retina",
        "max_native_zoom",
        "max_zoom",
        "min_native_zoom",
        "min_zoom",
        "no_wrap",
        "tile_size",
        "tms"
       ],
       "url": "https://tile.waymarkedtrails.org/riding/{z}/{x}/{y}.png"
      }
     },
     "ae189cbd26bd4bdd8bc929b03d1cc1e8": {
      "model_module": "jupyter-leaflet",
      "model_module_version": "^0.15.0",
      "model_name": "LeafletScaleControlModel",
      "state": {
       "_model_module_version": "^0.15.0",
       "_view_module_version": "^0.15.0",
       "imperial": true,
       "max_width": 100,
       "metric": true,
       "options": [
        "imperial",
        "max_width",
        "metric",
        "position",
        "update_when_idle"
       ],
       "position": "bottomleft",
       "update_when_idle": false
      }
     },
     "ae24f40a48f14f3781fe6afa4a974809": {
      "model_module": "@jupyter-widgets/controls",
      "model_module_version": "1.5.0",
      "model_name": "ToggleButtonModel",
      "state": {
       "button_style": "primary",
       "icon": "hand-o-up",
       "layout": "IPY_MODEL_6202b1a41ce14624a1cb1f849fb6adb8",
       "style": "IPY_MODEL_2e2972213645492fa32f2284a888a0a8",
       "tooltip": "Collect training samples"
      }
     },
     "ae9d3f9521254ffe81d41daef6cff2b8": {
      "model_module": "@jupyter-widgets/base",
      "model_module_version": "1.2.0",
      "model_name": "LayoutModel",
      "state": {
       "height": "auto",
       "padding": "0px 0px 0px 4px",
       "width": "auto"
      }
     },
     "aec7555ea8da4486ae7cf7965fce466e": {
      "model_module": "jupyter-leaflet",
      "model_module_version": "^0.15.0",
      "model_name": "LeafletMapModel",
      "state": {
       "_model_module_version": "^0.15.0",
       "_view_module_version": "^0.15.0",
       "bottom": 614,
       "center": [
        64.58021590637387,
        -163.0222151036337
       ],
       "default_style": "IPY_MODEL_1f71c7af8c814c4d974e9012b41732cc",
       "dragging_style": "IPY_MODEL_d100be1dbb9647b3ad2b2e64b74f4616",
       "east": -149.76562500000003,
       "fullscreen": false,
       "interpolation": "bilinear",
       "layers": [
        "IPY_MODEL_aaab2fc5244e4ff7ac1bd2bec5750ebb"
       ],
       "layout": "IPY_MODEL_d0ea4f464ea6419eafbfffdabbc418d2",
       "left": 22,
       "modisdate": "2022-04-04",
       "north": 69.65708627301174,
       "options": [
        "bounce_at_zoom_limits",
        "box_zoom",
        "center",
        "close_popup_on_click",
        "double_click_zoom",
        "dragging",
        "fullscreen",
        "inertia",
        "inertia_deceleration",
        "inertia_max_speed",
        "interpolation",
        "keyboard",
        "keyboard_pan_offset",
        "keyboard_zoom_offset",
        "max_zoom",
        "min_zoom",
        "prefer_canvas",
        "scroll_wheel_zoom",
        "tap",
        "tap_tolerance",
        "touch_zoom",
        "world_copy_jump",
        "zoom",
        "zoom_animation_threshold",
        "zoom_delta",
        "zoom_snap",
        "zoom_start"
       ],
       "prefer_canvas": false,
       "right": 172,
       "south": 58.263287052486035,
       "style": "IPY_MODEL_9a21c75ba792477eb2122ff2864851da",
       "top": 464,
       "west": -176.13281250000003,
       "window_url": "https://uwhackweeks.2i2c.cloud/user/eeholmes/lab/tree/coastal_topobathy/examples/AK_topobathy_vis.ipynb",
       "zoom": 3
      }
     },
     "aef6fec4d7174702a4383fa3d9a69ceb": {
      "model_module": "jupyter-leaflet",
      "model_module_version": "^0.15.0",
      "model_name": "LeafletMapStyleModel",
      "state": {
       "_model_module_version": "^0.15.0",
       "cursor": "move"
      }
     },
     "b050c97dc2be46ad91665280f7a162ce": {
      "model_module": "@jupyter-widgets/base",
      "model_module_version": "1.2.0",
      "model_name": "LayoutModel",
      "state": {
       "display": "none",
       "min_width": "6em",
       "width": "6em"
      }
     },
     "b0ca52a10aa74bcd9af45802f559ac0f": {
      "model_module": "jupyter-leaflet",
      "model_module_version": "^0.15.0",
      "model_name": "LeafletTileLayerModel",
      "state": {
       "_model_module_version": "^0.15.0",
       "_view_module_version": "^0.15.0",
       "attribution": "(C) OpenStreetMap contributors (C) CARTO",
       "max_native_zoom": 18,
       "max_zoom": 20,
       "min_native_zoom": 0,
       "name": "CartoDB.PositronNoLabels",
       "options": [
        "attribution",
        "detect_retina",
        "max_native_zoom",
        "max_zoom",
        "min_native_zoom",
        "min_zoom",
        "no_wrap",
        "tile_size",
        "tms"
       ],
       "url": "https://a.basemaps.cartocdn.com/light_nolabels/{z}/{x}/{y}.png"
      }
     },
     "b145c3f8c64a41419ee165bffba9ab11": {
      "model_module": "@jupyter-widgets/controls",
      "model_module_version": "1.5.0",
      "model_name": "DescriptionStyleModel",
      "state": {
       "description_width": ""
      }
     },
     "b1729042623c410db5dfc875d0daacb7": {
      "model_module": "ipyevents",
      "model_module_version": "2.0.1",
      "model_name": "EventModel",
      "state": {
       "_supported_key_events": [
        "keydown",
        "keyup"
       ],
       "_supported_mouse_events": [
        "click",
        "auxclick",
        "dblclick",
        "mouseenter",
        "mouseleave",
        "mousedown",
        "mouseup",
        "mousemove",
        "wheel",
        "contextmenu",
        "dragstart",
        "drag",
        "dragend",
        "dragenter",
        "dragover",
        "dragleave",
        "drop"
       ],
       "_supported_touch_events": [
        "touchstart",
        "touchend",
        "touchmove",
        "touchcancel"
       ],
       "_view_module": "@jupyter-widgets/controls",
       "_view_module_version": "1.5.0",
       "source": "IPY_MODEL_1121448a50ed40b0b908fbbee6106cd5",
       "throttle_or_debounce": "",
       "watched_events": [
        "mouseenter",
        "mouseleave"
       ],
       "xy_coordinate_system": ""
      }
     },
     "b1e8c6146a174526ab836f57c9f8153e": {
      "model_module": "@jupyter-widgets/controls",
      "model_module_version": "1.5.0",
      "model_name": "DescriptionStyleModel",
      "state": {
       "description_width": ""
      }
     },
     "b329cfdf5bfd428fb20daec38e635c63": {
      "model_module": "@jupyter-widgets/controls",
      "model_module_version": "1.5.0",
      "model_name": "DescriptionStyleModel",
      "state": {
       "description_width": ""
      }
     },
     "b355baea4e3d4a7a933902f4155b77f4": {
      "model_module": "jupyter-leaflet",
      "model_module_version": "^0.15.0",
      "model_name": "LeafletTileLayerModel",
      "state": {
       "_model_module_version": "^0.15.0",
       "_view_module_version": "^0.15.0",
       "attribution": "Kaartgegevens (C) Kadaster",
       "max_native_zoom": 18,
       "max_zoom": 19,
       "min_native_zoom": 0,
       "name": "nlmaps.pastel",
       "options": [
        "attribution",
        "detect_retina",
        "max_native_zoom",
        "max_zoom",
        "min_native_zoom",
        "min_zoom",
        "no_wrap",
        "tile_size",
        "tms"
       ],
       "url": "https://service.pdok.nl/brt/achtergrondkaart/wmts/v2_0/pastel/EPSG:3857/{z}/{x}/{y}.png"
      }
     },
     "b56e2a1192ed483288caa3d15bc2d120": {
      "model_module": "jupyter-leaflet",
      "model_module_version": "^0.15.0",
      "model_name": "LeafletWMSLayerModel",
      "state": {
       "_model_module_version": "^0.15.0",
       "_view_module_version": "^0.15.0",
       "attribution": "USGS",
       "crs": {
        "custom": false,
        "name": "EPSG3857"
       },
       "format": "image/png",
       "layers": "33DEPElevation:Hillshade Elevation Tinted",
       "max_native_zoom": 18,
       "min_native_zoom": 0,
       "name": "USGS 3DEP Elevation",
       "options": [
        "attribution",
        "detect_retina",
        "format",
        "layers",
        "max_native_zoom",
        "max_zoom",
        "min_native_zoom",
        "min_zoom",
        "no_wrap",
        "styles",
        "tile_size",
        "tms",
        "transparent",
        "uppercase"
       ],
       "transparent": true,
       "url": "https://elevation.nationalmap.gov/arcgis/services/3DEPElevation/ImageServer/WMSServer?"
      }
     },
     "b5cc1a9b6e9f4d159c54fdf2896c2ade": {
      "model_module": "jupyter-leaflet",
      "model_module_version": "^0.15.0",
      "model_name": "LeafletTileLayerModel",
      "state": {
       "_model_module_version": "^0.15.0",
       "_view_module_version": "^0.15.0",
       "attribution": "(C) OpenStreetMap contributors & USGS",
       "max_native_zoom": 18,
       "max_zoom": 22,
       "min_native_zoom": 0,
       "name": "MtbMap",
       "options": [
        "attribution",
        "detect_retina",
        "max_native_zoom",
        "max_zoom",
        "min_native_zoom",
        "min_zoom",
        "no_wrap",
        "tile_size",
        "tms"
       ],
       "url": "http://tile.mtbmap.cz/mtbmap_tiles/{z}/{x}/{y}.png"
      }
     },
     "b63d1381694241f6870eb756b7cddbab": {
      "model_module": "jupyter-leaflet",
      "model_module_version": "^0.15.0",
      "model_name": "LeafletWMSLayerModel",
      "state": {
       "_model_module_version": "^0.15.0",
       "_view_module_version": "^0.15.0",
       "attribution": "MRLC",
       "crs": {
        "custom": false,
        "name": "EPSG3857"
       },
       "format": "image/png",
       "layers": "NLCD_2008_Land_Cover_L48",
       "max_native_zoom": 18,
       "min_native_zoom": 0,
       "name": "NLCD 2008 CONUS Land Cover",
       "options": [
        "attribution",
        "detect_retina",
        "format",
        "layers",
        "max_native_zoom",
        "max_zoom",
        "min_native_zoom",
        "min_zoom",
        "no_wrap",
        "styles",
        "tile_size",
        "tms",
        "transparent",
        "uppercase"
       ],
       "transparent": true,
       "url": "https://www.mrlc.gov/geoserver/mrlc_display/NLCD_2008_Land_Cover_L48/wms?"
      }
     },
     "b76aec419917417e8bb7fdaa92912247": {
      "model_module": "@jupyter-widgets/controls",
      "model_module_version": "1.5.0",
      "model_name": "ToggleButtonsModel",
      "state": {
       "_options_labels": [
        "name/address",
        "lat-lon",
        "data"
       ],
       "button_style": "",
       "icons": [],
       "index": 0,
       "layout": "IPY_MODEL_dadf4f036be54e0ba1eb098c4be45ee4",
       "style": "IPY_MODEL_e5374201e86649dd9723e669c358ca26",
       "tooltips": [
        "Search by place name or address",
        "Search by lat-lon coordinates",
        "Search Earth Engine data catalog"
       ]
      }
     },
     "b80711b132884f4283ed884461bb6ec2": {
      "model_module": "@jupyter-widgets/base",
      "model_module_version": "1.2.0",
      "model_name": "LayoutModel",
      "state": {
       "height": "auto",
       "padding": "0px 0px 0px 4px",
       "width": "auto"
      }
     },
     "b8100106136d4fedb379fb94bed5a348": {
      "model_module": "@jupyter-widgets/base",
      "model_module_version": "1.2.0",
      "model_name": "LayoutModel",
      "state": {
       "height": "auto",
       "padding": "0px 0px 0px 4px",
       "width": "auto"
      }
     },
     "b94b5f2449114bae99f586c862ae590d": {
      "model_module": "@jupyter-widgets/base",
      "model_module_version": "1.2.0",
      "model_name": "LayoutModel",
      "state": {}
     },
     "b992ee8da16f49a3a2eff8da72d41709": {
      "model_module": "@jupyter-widgets/base",
      "model_module_version": "1.2.0",
      "model_name": "LayoutModel",
      "state": {
       "height": "600px"
      }
     },
     "b9ac117f985148a689976964240d004f": {
      "model_module": "@jupyter-widgets/controls",
      "model_module_version": "1.5.0",
      "model_name": "ToggleButtonModel",
      "state": {
       "button_style": "primary",
       "icon": "retweet",
       "layout": "IPY_MODEL_9059520e71f7451783f153f6c9a22b38",
       "style": "IPY_MODEL_e2ff092d252c4ef4a58431ceca2b7210",
       "tooltip": "Convert Earth Engine JavaScript to Python"
      }
     },
     "b9c0f932bd80404792357228a7c78d2d": {
      "model_module": "@jupyter-widgets/controls",
      "model_module_version": "1.5.0",
      "model_name": "VBoxModel",
      "state": {
       "children": [
        "IPY_MODEL_b76aec419917417e8bb7fdaa92912247",
        "IPY_MODEL_0a0c7ac691e64367afca23d8a257b72c"
       ],
       "layout": "IPY_MODEL_050197e1f1b24b69a2fbccf770ee54cc"
      }
     },
     "ba6971dd35f84f67bf4827914fbc7dd8": {
      "model_module": "@here/map-widget-for-jupyter",
      "model_module_version": "^1.1.3",
      "model_name": "DefaultLayersModel",
      "state": {
       "_model_module": "@here/map-widget-for-jupyter",
       "_model_module_version": "^1.1.3",
       "_view_count": null,
       "_view_module": "@here/map-widget-for-jupyter",
       "_view_module_version": "^1.1.3",
       "layer_name": "raster.terrain.map",
       "ppi": null
      }
     },
     "ba8bd43f12e7469b93a80d85a3233fac": {
      "model_module": "@jupyter-widgets/controls",
      "model_module_version": "1.5.0",
      "model_name": "HBoxModel",
      "state": {
       "children": [
        "IPY_MODEL_0b00ddad966a4492a25b4fdf3833b8a5",
        "IPY_MODEL_362555d8cc544d72b83195ebb8a11eb0",
        "IPY_MODEL_9b7ef8a4e0404e2295057e0897e80c7c"
       ],
       "layout": "IPY_MODEL_32bc08301a3a4d6fbc2106944e53eda6"
      }
     },
     "baa6dfe01ec04f418554de22c3416912": {
      "model_module": "jupyter-leaflet",
      "model_module_version": "^0.15.0",
      "model_name": "LeafletMeasureControlModel",
      "state": {
       "_model_module_version": "^0.15.0",
       "_view_module_version": "^0.15.0",
       "active_color": "orange",
       "options": [
        "active_color",
        "capture_z_index",
        "completed_color",
        "popup_options",
        "position",
        "primary_area_unit",
        "primary_length_unit",
        "secondary_area_unit",
        "secondary_length_unit"
       ],
       "position": "bottomleft",
       "primary_length_unit": "kilometers",
       "secondary_area_unit": null,
       "secondary_length_unit": null
      }
     },
     "bae2d1a5ec054f01b3e7120702941900": {
      "model_module": "@jupyter-widgets/controls",
      "model_module_version": "1.5.0",
      "model_name": "ToggleButtonModel",
      "state": {
       "button_style": "primary",
       "icon": "globe",
       "layout": "IPY_MODEL_724458d54a424eedbe36b22443d8dc73",
       "style": "IPY_MODEL_0fbd4e037d944e099bceb12dfccf65db",
       "tooltip": "Create timelapse"
      }
     },
     "bb05f7f8655c461f8b156ae714998966": {
      "model_module": "@jupyter-widgets/base",
      "model_module_version": "1.2.0",
      "model_name": "LayoutModel",
      "state": {
       "min_width": "6em",
       "width": "6em"
      }
     },
     "bb6c59bdfe9b4795aedc0d2dad00ad77": {
      "model_module": "jupyter-leaflet",
      "model_module_version": "^0.15.0",
      "model_name": "LeafletMapStyleModel",
      "state": {
       "_model_module_version": "^0.15.0"
      }
     },
     "bbbc932e1f1b4ffaaeb94735821c9f65": {
      "model_module": "@jupyter-widgets/output",
      "model_module_version": "1.0.0",
      "model_name": "OutputModel",
      "state": {
       "layout": "IPY_MODEL_56e1c8dd9ac44815b4c3d78ab53d0604"
      }
     },
     "bc13b4b70bc1421b8b07b291057bda42": {
      "model_module": "@jupyter-widgets/controls",
      "model_module_version": "1.5.0",
      "model_name": "DescriptionStyleModel",
      "state": {
       "description_width": ""
      }
     },
     "bc3dfebd4d234781ab6f4623db0b723c": {
      "model_module": "jupyter-leaflet",
      "model_module_version": "^0.15.0",
      "model_name": "LeafletTileLayerModel",
      "state": {
       "_model_module_version": "^0.15.0",
       "_view_module_version": "^0.15.0",
       "attribution": "Map data: (C) OpenStreetMap contributors | Map style: (C) SafeCast (CC-BY-SA)",
       "max_native_zoom": 18,
       "max_zoom": 16,
       "min_native_zoom": 0,
       "name": "SafeCast",
       "options": [
        "attribution",
        "detect_retina",
        "max_native_zoom",
        "max_zoom",
        "min_native_zoom",
        "min_zoom",
        "no_wrap",
        "tile_size",
        "tms"
       ],
       "url": "https://s3.amazonaws.com/te512.safecast.org/{z}/{x}/{y}.png"
      }
     },
     "bc44fb225cca4e3d8701ab141ffe0ffb": {
      "model_module": "@jupyter-widgets/controls",
      "model_module_version": "1.5.0",
      "model_name": "ToggleButtonModel",
      "state": {
       "button_style": "primary",
       "icon": "info",
       "layout": "IPY_MODEL_6b03348639164dff997c14980190be09",
       "style": "IPY_MODEL_f9619fdaa22f4cfbb1cc166d7ef04535",
       "tooltip": "Inspector"
      }
     },
     "bc8b4cbd79e94a5eb629b8325c0292a9": {
      "model_module": "@jupyter-widgets/controls",
      "model_module_version": "1.5.0",
      "model_name": "ToggleButtonModel",
      "state": {
       "button_style": "primary",
       "icon": "info-circle",
       "layout": "IPY_MODEL_fa6fe347c1a245948a325498c7269909",
       "style": "IPY_MODEL_315e02e1f0ee424c8e2f518be32a08db",
       "tooltip": "Get COG/STAC pixel value"
      }
     },
     "bce9983041a0423c8c41b1d5eea7d2a9": {
      "model_module": "jupyter-leaflet",
      "model_module_version": "^0.15.0",
      "model_name": "LeafletMeasureControlModel",
      "state": {
       "_model_module_version": "^0.15.0",
       "_view_module_version": "^0.15.0",
       "active_color": "orange",
       "options": [
        "active_color",
        "capture_z_index",
        "completed_color",
        "popup_options",
        "position",
        "primary_area_unit",
        "primary_length_unit",
        "secondary_area_unit",
        "secondary_length_unit"
       ],
       "position": "bottomleft",
       "primary_length_unit": "kilometers",
       "secondary_area_unit": null,
       "secondary_length_unit": null
      }
     },
     "bcef92dbffff431f82502467a7a3e067": {
      "model_module": "@jupyter-widgets/base",
      "model_module_version": "1.2.0",
      "model_name": "LayoutModel",
      "state": {}
     },
     "bcf5aacb674d4125a4cd965700fbd0a6": {
      "model_module": "@jupyter-widgets/base",
      "model_module_version": "1.2.0",
      "model_name": "LayoutModel",
      "state": {}
     },
     "bd7dd1ae512f4faa8a5c25706de64907": {
      "model_module": "jupyter-leaflet",
      "model_module_version": "^0.15.0",
      "model_name": "LeafletTileLayerModel",
      "state": {
       "_model_module_version": "^0.15.0",
       "_view_module_version": "^0.15.0",
       "attribution": "Map data: (C) OpenStreetMap contributors | Map style: (C) waymarkedtrails.org (CC-BY-SA)",
       "max_native_zoom": 18,
       "min_native_zoom": 0,
       "name": "WaymarkedTrails.skating",
       "options": [
        "attribution",
        "detect_retina",
        "max_native_zoom",
        "max_zoom",
        "min_native_zoom",
        "min_zoom",
        "no_wrap",
        "tile_size",
        "tms"
       ],
       "url": "https://tile.waymarkedtrails.org/skating/{z}/{x}/{y}.png"
      }
     },
     "c2878e1cec3b4945a211c9ba656bdd06": {
      "model_module": "@jupyter-widgets/controls",
      "model_module_version": "1.5.0",
      "model_name": "ToggleButtonModel",
      "state": {
       "button_style": "primary",
       "icon": "map",
       "layout": "IPY_MODEL_4ccc225f831c41cbbcdb285e0c3b8469",
       "style": "IPY_MODEL_237a63e71bb44c4b9752aea650825694",
       "tooltip": "Change basemap"
      }
     },
     "c2e9efa2cd4841a28bb06215dd646847": {
      "model_module": "@jupyter-widgets/controls",
      "model_module_version": "1.5.0",
      "model_name": "DescriptionStyleModel",
      "state": {
       "description_width": ""
      }
     },
     "c3b6c09edf1a45bbb79e3e9990a62dc7": {
      "model_module": "@jupyter-widgets/base",
      "model_module_version": "1.2.0",
      "model_name": "LayoutModel",
      "state": {}
     },
     "c47462a6bb2242978f17fd77611799e3": {
      "model_module": "jupyter-leaflet",
      "model_module_version": "^0.15.0",
      "model_name": "LeafletTileLayerModel",
      "state": {
       "_model_module_version": "^0.15.0",
       "_view_module_version": "^0.15.0",
       "attribution": "(C) Stadia Maps, (C) OpenMapTiles (C) OpenStreetMap contributors",
       "max_native_zoom": 18,
       "max_zoom": 20,
       "min_native_zoom": 0,
       "name": "Stadia.AlidadeSmooth",
       "options": [
        "attribution",
        "detect_retina",
        "max_native_zoom",
        "max_zoom",
        "min_native_zoom",
        "min_zoom",
        "no_wrap",
        "tile_size",
        "tms"
       ],
       "url": "https://tiles.stadiamaps.com/tiles/alidade_smooth/{z}/{x}/{y}.png"
      }
     },
     "c5a834c15a654999a4cc680d069e5bb2": {
      "model_module": "@jupyter-widgets/base",
      "model_module_version": "1.2.0",
      "model_name": "LayoutModel",
      "state": {
       "border": "1px solid black"
      }
     },
     "c64a5cd7b8bc4fddb34ca9d53d86f8d8": {
      "model_module": "@jupyter-widgets/base",
      "model_module_version": "1.2.0",
      "model_name": "LayoutModel",
      "state": {}
     },
     "c718a40b6976473dbbaa68dde058822d": {
      "model_module": "jupyter-leaflet",
      "model_module_version": "^0.15.0",
      "model_name": "LeafletMarkerClusterModel",
      "state": {
       "_model_module_version": "^0.15.0",
       "_view_module_version": "^0.15.0",
       "disable_clustering_at_zoom": 18,
       "max_cluster_radius": 80,
       "name": "Marker Cluster",
       "options": [
        "disable_clustering_at_zoom",
        "max_cluster_radius"
       ]
      }
     },
     "c817932fb0304b708652f0cafea78953": {
      "model_module": "@jupyter-widgets/controls",
      "model_module_version": "1.5.0",
      "model_name": "DescriptionStyleModel",
      "state": {
       "description_width": ""
      }
     },
     "c8d28715fe024ccabc54048c735a1d6a": {
      "model_module": "@jupyter-widgets/base",
      "model_module_version": "1.2.0",
      "model_name": "LayoutModel",
      "state": {
       "height": "28px",
       "padding": "0px 0px 0px 4px",
       "width": "28px"
      }
     },
     "c9cadc8060fc4a7b884e1c86f55d3be5": {
      "model_module": "jupyter-leaflet",
      "model_module_version": "^0.15.0",
      "model_name": "LeafletTileLayerModel",
      "state": {
       "_model_module_version": "^0.15.0",
       "_view_module_version": "^0.15.0",
       "attribution": "© swisstopo",
       "max_native_zoom": 18,
       "min_native_zoom": 0,
       "name": "SwissFederalGeoportal.NationalMapGrey",
       "options": [
        "attribution",
        "detect_retina",
        "max_native_zoom",
        "max_zoom",
        "min_native_zoom",
        "min_zoom",
        "no_wrap",
        "tile_size",
        "tms"
       ],
       "url": "https://wmts.geo.admin.ch/1.0.0/ch.swisstopo.pixelkarte-grau/default/current/3857/{z}/{x}/{y}.jpeg"
      }
     },
     "ca975da7b1b940aea49ae585fe79d180": {
      "model_module": "@jupyter-widgets/controls",
      "model_module_version": "1.5.0",
      "model_name": "DropdownModel",
      "state": {
       "index": null,
       "layout": "IPY_MODEL_9c9bec76b1f74d789479236d7ced127d",
       "style": "IPY_MODEL_a1fbd9b2afb2401c8b8a3f437839f593"
      }
     },
     "caa52a5ba77b48f6a878268ce9fdfa1f": {
      "model_module": "@here/map-widget-for-jupyter",
      "model_module_version": "^1.1.3",
      "model_name": "DefaultLayersModel",
      "state": {
       "_model_module": "@here/map-widget-for-jupyter",
       "_model_module_version": "^1.1.3",
       "_view_count": null,
       "_view_module": "@here/map-widget-for-jupyter",
       "_view_module_version": "^1.1.3",
       "ppi": null
      }
     },
     "cb4dc0f06d894de8ace738a4e96cf660": {
      "model_module": "@jupyter-widgets/controls",
      "model_module_version": "1.5.0",
      "model_name": "ToggleButtonModel",
      "state": {
       "button_style": "primary",
       "icon": "question",
       "layout": "IPY_MODEL_470d5b1cf58342d5ac2399a470635fc3",
       "style": "IPY_MODEL_1e8eff3f732d4899ac9801864ec85cc5",
       "tooltip": "Get help"
      }
     },
     "cc6492bdc8e84f6b8b8705f06afd3b1b": {
      "model_module": "jupyter-leaflet",
      "model_module_version": "^0.15.0",
      "model_name": "LeafletMapModel",
      "state": {
       "_model_module_version": "^0.15.0",
       "_view_module_version": "^0.15.0",
       "bottom": 8917,
       "center": [
        64.58021590637387,
        -163.0222151036337
       ],
       "controls": [
        "IPY_MODEL_00dd356ea2294d47b364e561bb525f00",
        "IPY_MODEL_a3ac6ce967e14cceb9c984cdce172ca1",
        "IPY_MODEL_5064a5eacec94e21b7ecb77ce31f8d84",
        "IPY_MODEL_020866fd4207494494abfab71d3a22da",
        "IPY_MODEL_bce9983041a0423c8c41b1d5eea7d2a9",
        "IPY_MODEL_800c1b03cdc1448ebbfc78051ae9f6bd",
        "IPY_MODEL_60504d3881b74752a143489a4c55451d",
        "IPY_MODEL_dbe8abef9c874efa953a11f0d4a61173",
        "IPY_MODEL_099a1583b2f242b4bc7e8778f2a349d7"
       ],
       "default_style": "IPY_MODEL_2a90abfae5034ec0991a694f0ccd1972",
       "dragging_style": "IPY_MODEL_aef6fec4d7174702a4383fa3d9a69ceb",
       "east": -159.56542968750003,
       "fullscreen": false,
       "interpolation": "bilinear",
       "layers": [
        "IPY_MODEL_2aa21d21ef5d4785ae03b5ec5d022ddf",
        "IPY_MODEL_aaab2fc5244e4ff7ac1bd2bec5750ebb",
        "IPY_MODEL_3776df3a5d3640ffa2dbf9da36cd377f",
        "IPY_MODEL_528a3592788b41e2b891895599519487"
       ],
       "layout": "IPY_MODEL_b992ee8da16f49a3a2eff8da72d41709",
       "left": 1231,
       "max_zoom": 24,
       "modisdate": "2022-04-04",
       "north": 65.95990199878392,
       "options": [
        "bounce_at_zoom_limits",
        "box_zoom",
        "center",
        "close_popup_on_click",
        "double_click_zoom",
        "dragging",
        "fullscreen",
        "inertia",
        "inertia_deceleration",
        "inertia_max_speed",
        "interpolation",
        "keyboard",
        "keyboard_pan_offset",
        "keyboard_zoom_offset",
        "max_zoom",
        "min_zoom",
        "prefer_canvas",
        "scroll_wheel_zoom",
        "tap",
        "tap_tolerance",
        "touch_zoom",
        "world_copy_jump",
        "zoom",
        "zoom_animation_threshold",
        "zoom_delta",
        "zoom_snap",
        "zoom_start"
       ],
       "prefer_canvas": false,
       "right": 1860,
       "scroll_wheel_zoom": true,
       "south": 63.12953808848443,
       "style": "IPY_MODEL_bb6c59bdfe9b4795aedc0d2dad00ad77",
       "top": 8317,
       "west": -166.47583007812503,
       "window_url": "https://uwhackweeks.2i2c.cloud/user/eeholmes/lab/tree/coastal_topobathy/examples/AK_topobathy_vis.ipynb",
       "zoom": 7
      }
     },
     "cc66925f0adf44e799fed6546c8f68a9": {
      "model_module": "jupyter-leaflet",
      "model_module_version": "^0.15.0",
      "model_name": "LeafletTileLayerModel",
      "state": {
       "_model_module_version": "^0.15.0",
       "_view_module_version": "^0.15.0",
       "attribution": "Tiles courtesy of OpenStreetMap Sweden -- Map data (C) OpenStreetMap contributors",
       "max_native_zoom": 18,
       "max_zoom": 20,
       "min_native_zoom": 0,
       "name": "Hydda.Base",
       "options": [
        "attribution",
        "detect_retina",
        "max_native_zoom",
        "max_zoom",
        "min_native_zoom",
        "min_zoom",
        "no_wrap",
        "tile_size",
        "tms"
       ],
       "url": "https://a.tile.openstreetmap.se/hydda/base/{z}/{x}/{y}.png"
      }
     },
     "cd71ec1624234d359cc4b8643ce00b6e": {
      "model_module": "jupyter-leaflet",
      "model_module_version": "^0.15.0",
      "model_name": "LeafletTileLayerModel",
      "state": {
       "_model_module_version": "^0.15.0",
       "_view_module_version": "^0.15.0",
       "attribution": "Imagery provided by services from the Global Imagery Browse Services (GIBS), operated by the NASA/GSFC/Earth Science Data and Information System (ESDIS) with funding provided by NASA/HQ.",
       "max_native_zoom": 18,
       "max_zoom": 7,
       "min_native_zoom": 0,
       "name": "NASAGIBS.ModisTerraLSTDay",
       "options": [
        "attribution",
        "detect_retina",
        "max_native_zoom",
        "max_zoom",
        "min_native_zoom",
        "min_zoom",
        "no_wrap",
        "tile_size",
        "tms"
       ],
       "url": "https://map1.vis.earthdata.nasa.gov/wmts-webmerc/MODIS_Terra_Land_Surface_Temp_Day/default//GoogleMapsCompatible_Level7/{z}/{y}/{x}.png"
      }
     },
     "cdb436c29c384e5fa38cb163b06c3134": {
      "model_module": "jupyter-leaflet",
      "model_module_version": "^0.15.0",
      "model_name": "LeafletTileLayerModel",
      "state": {
       "_model_module_version": "^0.15.0",
       "_view_module_version": "^0.15.0",
       "attribution": "(C) OpenStreetMap contributors (C) CARTO",
       "max_native_zoom": 18,
       "max_zoom": 20,
       "min_native_zoom": 0,
       "name": "CartoDB.VoyagerLabelsUnder",
       "options": [
        "attribution",
        "detect_retina",
        "max_native_zoom",
        "max_zoom",
        "min_native_zoom",
        "min_zoom",
        "no_wrap",
        "tile_size",
        "tms"
       ],
       "url": "https://a.basemaps.cartocdn.com/rastertiles/voyager_labels_under/{z}/{x}/{y}.png"
      }
     },
     "cdcc5c8d499d411dbf5d32c19b2b72c5": {
      "model_module": "jupyter-leaflet",
      "model_module_version": "^0.15.0",
      "model_name": "LeafletTileLayerModel",
      "state": {
       "_model_module_version": "^0.15.0",
       "_view_module_version": "^0.15.0",
       "attribution": "(C) OpenStreetMap France | (C) OpenStreetMap contributors",
       "max_native_zoom": 18,
       "max_zoom": 20,
       "min_native_zoom": 0,
       "name": "OpenStreetMap.France",
       "options": [
        "attribution",
        "detect_retina",
        "max_native_zoom",
        "max_zoom",
        "min_native_zoom",
        "min_zoom",
        "no_wrap",
        "tile_size",
        "tms"
       ],
       "url": "https://a.tile.openstreetmap.fr/osmfr/{z}/{x}/{y}.png"
      }
     },
     "ce31a43f87cd4e9aa716da988cff5a7f": {
      "model_module": "@jupyter-widgets/controls",
      "model_module_version": "1.5.0",
      "model_name": "DescriptionStyleModel",
      "state": {
       "description_width": ""
      }
     },
     "cfac136a6c534aba8a03cc492b017b16": {
      "model_module": "jupyter-leaflet",
      "model_module_version": "^0.15.0",
      "model_name": "LeafletAttributionControlModel",
      "state": {
       "_model_module_version": "^0.15.0",
       "_view_module_version": "^0.15.0",
       "options": [
        "position",
        "prefix"
       ],
       "position": "bottomright",
       "prefix": "ipyleaflet"
      }
     },
     "d04cc4613a934c69ad0089c9bc59e44a": {
      "model_module": "@jupyter-widgets/base",
      "model_module_version": "1.2.0",
      "model_name": "LayoutModel",
      "state": {
       "height": "auto",
       "padding": "0px 0px 0px 4px",
       "width": "auto"
      }
     },
     "d0ea4f464ea6419eafbfffdabbc418d2": {
      "model_module": "@jupyter-widgets/base",
      "model_module_version": "1.2.0",
      "model_name": "LayoutModel",
      "state": {
       "height": "150px",
       "width": "150px"
      }
     },
     "d0eb187e20f747d3be7583344697917c": {
      "model_module": "jupyter-leaflet",
      "model_module_version": "^0.15.0",
      "model_name": "LeafletTileLayerModel",
      "state": {
       "_model_module_version": "^0.15.0",
       "_view_module_version": "^0.15.0",
       "attribution": "Tiles courtesy of the U.S. Geological Survey",
       "max_native_zoom": 18,
       "max_zoom": 20,
       "min_native_zoom": 0,
       "name": "USGS.USImagery",
       "options": [
        "attribution",
        "detect_retina",
        "max_native_zoom",
        "max_zoom",
        "min_native_zoom",
        "min_zoom",
        "no_wrap",
        "tile_size",
        "tms"
       ],
       "url": "https://basemap.nationalmap.gov/arcgis/rest/services/USGSImageryOnly/MapServer/tile/{z}/{y}/{x}"
      }
     },
     "d100be1dbb9647b3ad2b2e64b74f4616": {
      "model_module": "jupyter-leaflet",
      "model_module_version": "^0.15.0",
      "model_name": "LeafletMapStyleModel",
      "state": {
       "_model_module_version": "^0.15.0",
       "cursor": "move"
      }
     },
     "d12a4707d80841dda914c3e4a0ea3382": {
      "model_module": "jupyter-leaflet",
      "model_module_version": "^0.15.0",
      "model_name": "LeafletTileLayerModel",
      "state": {
       "_model_module_version": "^0.15.0",
       "_view_module_version": "^0.15.0",
       "attribution": "Imagery provided by services from the Global Imagery Browse Services (GIBS), operated by the NASA/GSFC/Earth Science Data and Information System (ESDIS) with funding provided by NASA/HQ.",
       "max_native_zoom": 18,
       "max_zoom": 9,
       "min_native_zoom": 0,
       "name": "NASAGIBS.ModisTerraBands367CR",
       "options": [
        "attribution",
        "detect_retina",
        "max_native_zoom",
        "max_zoom",
        "min_native_zoom",
        "min_zoom",
        "no_wrap",
        "tile_size",
        "tms"
       ],
       "url": "https://map1.vis.earthdata.nasa.gov/wmts-webmerc/MODIS_Terra_CorrectedReflectance_Bands367/default//GoogleMapsCompatible_Level9/{z}/{y}/{x}.jpg"
      }
     },
     "d1a9c8c694494628a45891ce28af4fb4": {
      "model_module": "jupyter-leaflet",
      "model_module_version": "^0.15.0",
      "model_name": "LeafletMarkerClusterModel",
      "state": {
       "_model_module_version": "^0.15.0",
       "_view_module_version": "^0.15.0",
       "disable_clustering_at_zoom": 18,
       "max_cluster_radius": 80,
       "name": "Marker Cluster",
       "options": [
        "disable_clustering_at_zoom",
        "max_cluster_radius"
       ]
      }
     },
     "d2062104953b4a1a93fd4a3840d5e421": {
      "model_module": "@jupyter-widgets/controls",
      "model_module_version": "1.5.0",
      "model_name": "ToggleButtonModel",
      "state": {
       "button_style": "primary",
       "icon": "fast-forward",
       "layout": "IPY_MODEL_3603bc310cd74b3baa0bec7f28fe7799",
       "style": "IPY_MODEL_d2ab7fb05b5b4f64a7e0929be3d4efb7",
       "tooltip": "Activate timeslider"
      }
     },
     "d24c017b668a4b5aba5239441d341bf6": {
      "model_module": "@jupyter-widgets/controls",
      "model_module_version": "1.5.0",
      "model_name": "ButtonStyleModel",
      "state": {}
     },
     "d2ab7fb05b5b4f64a7e0929be3d4efb7": {
      "model_module": "@jupyter-widgets/controls",
      "model_module_version": "1.5.0",
      "model_name": "DescriptionStyleModel",
      "state": {
       "description_width": ""
      }
     },
     "d355610b60684a6184fd81a8f53da6c8": {
      "model_module": "@jupyter-widgets/controls",
      "model_module_version": "1.5.0",
      "model_name": "DescriptionStyleModel",
      "state": {
       "description_width": ""
      }
     },
     "d3bb379176eb47989c4771a663b57913": {
      "model_module": "@jupyter-widgets/base",
      "model_module_version": "1.2.0",
      "model_name": "LayoutModel",
      "state": {}
     },
     "d4401aa69ef94d9696aef88ac24adb64": {
      "model_module": "jupyter-leaflet",
      "model_module_version": "^0.15.0",
      "model_name": "LeafletWidgetControlModel",
      "state": {
       "_model_module": "jupyter-leaflet",
       "_model_module_version": "^0.15.0",
       "_view_count": null,
       "_view_module": "jupyter-leaflet",
       "_view_module_version": "^0.15.0",
       "options": [
        "position",
        "transparent_bg"
       ],
       "position": "topright",
       "widget": "IPY_MODEL_9dc00eb46a7e4f778955c589a32637c1"
      }
     },
     "d4866115923e4499ad3a7fefa13da8cb": {
      "model_module": "jupyter-leaflet",
      "model_module_version": "^0.15.0",
      "model_name": "LeafletTileLayerModel",
      "state": {
       "_model_module_version": "^0.15.0",
       "_view_module_version": "^0.15.0",
       "attribution": "Map tiles by Stamen Design, CC BY 3.0 -- Map data (C) OpenStreetMap contributors",
       "max_native_zoom": 18,
       "min_native_zoom": 0,
       "name": "Stamen.TerrainBackground",
       "options": [
        "attribution",
        "detect_retina",
        "max_native_zoom",
        "max_zoom",
        "min_native_zoom",
        "min_zoom",
        "no_wrap",
        "tile_size",
        "tms"
       ],
       "url": "https://stamen-tiles-a.a.ssl.fastly.net/terrain-background/{z}/{x}/{y}.png"
      }
     },
     "d49d677caa5b44b29d9ab9d59bc3cd06": {
      "model_module": "@jupyter-widgets/controls",
      "model_module_version": "1.5.0",
      "model_name": "DescriptionStyleModel",
      "state": {
       "description_width": ""
      }
     },
     "d4ab2f4968d3469cae2f7639b85265d0": {
      "model_module": "@jupyter-widgets/controls",
      "model_module_version": "1.5.0",
      "model_name": "ToggleButtonModel",
      "state": {
       "button_style": "primary",
       "icon": "bar-chart",
       "layout": "IPY_MODEL_b80711b132884f4283ed884461bb6ec2",
       "style": "IPY_MODEL_d8f0214914e34684ad3e324c5785ba56",
       "tooltip": "Plotting"
      }
     },
     "d528b6d7805447218dc7091dc330b141": {
      "model_module": "@jupyter-widgets/controls",
      "model_module_version": "1.5.0",
      "model_name": "GridBoxModel",
      "state": {
       "children": [
        "IPY_MODEL_bc44fb225cca4e3d8701ab141ffe0ffb",
        "IPY_MODEL_93f8201653bc4c089a285a3e4d733629",
        "IPY_MODEL_1b176e13152d4949a9120c857cf61571",
        "IPY_MODEL_1b9c124841bf4743a22888cba07fb022",
        "IPY_MODEL_1b2c5c79259a470da225b5364e0f035e",
        "IPY_MODEL_b9ac117f985148a689976964240d004f",
        "IPY_MODEL_4f31fbe1b1d74517bb901376712dd950",
        "IPY_MODEL_7a7c757d2ec44c2a890ea16cec0354b2",
        "IPY_MODEL_c2878e1cec3b4945a211c9ba656bdd06",
        "IPY_MODEL_bae2d1a5ec054f01b3e7120702941900",
        "IPY_MODEL_5731ba5ce49749b9a2d5ec048bfd8086",
        "IPY_MODEL_562abfa2a48f436da0c48e7a65a8ae01",
        "IPY_MODEL_25dfbb2362cd4f9f9e853e188635b0b4",
        "IPY_MODEL_7a260480a53840d0bf4c435f9fd50da8",
        "IPY_MODEL_894bf6e62dbe4ae590590e351517659c",
        "IPY_MODEL_bc8b4cbd79e94a5eb629b8325c0292a9",
        "IPY_MODEL_5082951598734785b90884db07b66970",
        "IPY_MODEL_cb4dc0f06d894de8ace738a4e96cf660"
       ],
       "layout": "IPY_MODEL_773b11936afe4d5f80c883e6a2af159d"
      }
     },
     "d5acad7f9d914bc59fa28a24e415ddac": {
      "model_module": "jupyter-leaflet",
      "model_module_version": "^0.15.0",
      "model_name": "LeafletTileLayerModel",
      "state": {
       "_model_module_version": "^0.15.0",
       "_view_module_version": "^0.15.0",
       "attribution": "Map tiles by <a href=\"https://labs.strava.com/heatmap\">Strava 2021</a>",
       "max_native_zoom": 18,
       "max_zoom": 15,
       "min_native_zoom": 0,
       "name": "Strava.Ride",
       "options": [
        "attribution",
        "detect_retina",
        "max_native_zoom",
        "max_zoom",
        "min_native_zoom",
        "min_zoom",
        "no_wrap",
        "tile_size",
        "tms"
       ],
       "url": "https://heatmap-external-a.strava.com/tiles/ride/hot/{z}/{x}/{y}.png"
      }
     },
     "d6bf956ba6a04d31985742e73e30fb4a": {
      "model_module": "jupyter-leaflet",
      "model_module_version": "^0.15.0",
      "model_name": "LeafletTileLayerModel",
      "state": {
       "_model_module_version": "^0.15.0",
       "_view_module_version": "^0.15.0",
       "attribution": "Imagery provided by services from the Global Imagery Browse Services (GIBS), operated by the NASA/GSFC/Earth Science Data and Information System (<a href=\"https://earthdata.nasa.gov\">ESDIS</a>) with funding provided by NASA/HQ.",
       "max_native_zoom": 18,
       "max_zoom": 8,
       "min_native_zoom": 0,
       "name": "NASAGIBS.BlueMarble",
       "options": [
        "attribution",
        "detect_retina",
        "max_native_zoom",
        "max_zoom",
        "min_native_zoom",
        "min_zoom",
        "no_wrap",
        "tile_size",
        "tms"
       ],
       "url": "https://gibs.earthdata.nasa.gov/wmts/epsg3857/best/BlueMarble_NextGeneration/default/EPSG3857_500m/{z}/{y}/{x}.jpeg"
      }
     },
     "d6c7773511dd4577bafd16c7470b7eb2": {
      "model_module": "jupyter-leaflet",
      "model_module_version": "^0.15.0",
      "model_name": "LeafletTileLayerModel",
      "state": {
       "_model_module_version": "^0.15.0",
       "_view_module_version": "^0.15.0",
       "attribution": "Tiles (C) Esri -- Source: USGS, Esri, TANA, DeLorme, and NPS",
       "max_native_zoom": 18,
       "max_zoom": 13,
       "min_native_zoom": 0,
       "name": "Esri.WorldTerrain",
       "options": [
        "attribution",
        "detect_retina",
        "max_native_zoom",
        "max_zoom",
        "min_native_zoom",
        "min_zoom",
        "no_wrap",
        "tile_size",
        "tms"
       ],
       "url": "https://server.arcgisonline.com/ArcGIS/rest/services/World_Terrain_Base/MapServer/tile/{z}/{y}/{x}"
      }
     },
     "d70363a7e57b445f954150596af05ce4": {
      "model_module": "jupyter-leaflet",
      "model_module_version": "^0.15.0",
      "model_name": "LeafletTileLayerModel",
      "state": {
       "_model_module_version": "^0.15.0",
       "_view_module_version": "^0.15.0",
       "attribution": "(C) OpenStreetMap contributors",
       "max_native_zoom": 18,
       "min_native_zoom": 0,
       "name": "OpenStreetMap.DE",
       "options": [
        "attribution",
        "detect_retina",
        "max_native_zoom",
        "max_zoom",
        "min_native_zoom",
        "min_zoom",
        "no_wrap",
        "tile_size",
        "tms"
       ],
       "url": "https://a.tile.openstreetmap.de/tiles/osmde/{z}/{x}/{y}.png"
      }
     },
     "d7987eb96084446d8f16ef3641fbdcb4": {
      "model_module": "jupyter-leaflet",
      "model_module_version": "^0.15.0",
      "model_name": "LeafletTileLayerModel",
      "state": {
       "_model_module_version": "^0.15.0",
       "_view_module_version": "^0.15.0",
       "attribution": "Imagery provided by services from the Global Imagery Browse Services (GIBS), operated by the NASA/GSFC/Earth Science Data and Information System (ESDIS) with funding provided by NASA/HQ.",
       "max_native_zoom": 18,
       "max_zoom": 6,
       "min_native_zoom": 0,
       "name": "NASAGIBS.ModisTerraAOD",
       "options": [
        "attribution",
        "detect_retina",
        "max_native_zoom",
        "max_zoom",
        "min_native_zoom",
        "min_zoom",
        "no_wrap",
        "tile_size",
        "tms"
       ],
       "url": "https://map1.vis.earthdata.nasa.gov/wmts-webmerc/MODIS_Terra_Aerosol/default//GoogleMapsCompatible_Level6/{z}/{y}/{x}.png"
      }
     },
     "d8413c3ba7214db1a5d90f3e2d8b6f0b": {
      "model_module": "jupyter-leaflet",
      "model_module_version": "^0.15.0",
      "model_name": "LeafletTileLayerModel",
      "state": {
       "_model_module_version": "^0.15.0",
       "_view_module_version": "^0.15.0",
       "attribution": "Tiles (C) Esri -- Esri, DeLorme, NAVTEQ, TomTom, Intermap, iPC, USGS, FAO, NPS, NRCAN, GeoBase, Kadaster NL, Ordnance Survey, Esri Japan, METI, Esri China (Hong Kong), and the GIS User Community",
       "max_native_zoom": 18,
       "max_zoom": 22,
       "min_native_zoom": 0,
       "name": "Esri.WorldTopoMap",
       "options": [
        "attribution",
        "detect_retina",
        "max_native_zoom",
        "max_zoom",
        "min_native_zoom",
        "min_zoom",
        "no_wrap",
        "tile_size",
        "tms"
       ],
       "url": "https://server.arcgisonline.com/ArcGIS/rest/services/World_Topo_Map/MapServer/tile/{z}/{y}/{x}"
      }
     },
     "d8f0214914e34684ad3e324c5785ba56": {
      "model_module": "@jupyter-widgets/controls",
      "model_module_version": "1.5.0",
      "model_name": "DescriptionStyleModel",
      "state": {
       "description_width": ""
      }
     },
     "d933c78d522d459c8dc36ff12c5bf7ea": {
      "model_module": "jupyter-leaflet",
      "model_module_version": "^0.15.0",
      "model_name": "LeafletMapStyleModel",
      "state": {
       "_model_module_version": "^0.15.0",
       "cursor": "move"
      }
     },
     "d97f7f4ef8d045f2b345e2bcc5aff343": {
      "model_module": "jupyter-leaflet",
      "model_module_version": "^0.15.0",
      "model_name": "LeafletTileLayerModel",
      "state": {
       "_model_module_version": "^0.15.0",
       "_view_module_version": "^0.15.0",
       "attribution": "Justice Map",
       "max_native_zoom": 18,
       "max_zoom": 22,
       "min_native_zoom": 0,
       "name": "JusticeMap.income",
       "options": [
        "attribution",
        "detect_retina",
        "max_native_zoom",
        "max_zoom",
        "min_native_zoom",
        "min_zoom",
        "no_wrap",
        "tile_size",
        "tms"
       ],
       "url": "https://www.justicemap.org/tile/county/income/{z}/{x}/{y}.png"
      }
     },
     "d9b1b32855be4abf9058aab390458b2b": {
      "model_module": "@jupyter-widgets/controls",
      "model_module_version": "1.5.0",
      "model_name": "HBoxModel",
      "state": {
       "children": [
        "IPY_MODEL_ea3ecdd5566347af9c65deeffd278b6a",
        "IPY_MODEL_ca975da7b1b940aea49ae585fe79d180"
       ],
       "layout": "IPY_MODEL_bcef92dbffff431f82502467a7a3e067"
      }
     },
     "d9dd6159f1184f5299d6c007c67358b8": {
      "model_module": "@jupyter-widgets/controls",
      "model_module_version": "1.5.0",
      "model_name": "DescriptionStyleModel",
      "state": {
       "description_width": ""
      }
     },
     "dadf4f036be54e0ba1eb098c4be45ee4": {
      "model_module": "@jupyter-widgets/base",
      "model_module_version": "1.2.0",
      "model_name": "LayoutModel",
      "state": {}
     },
     "db13b2bfddc84245ae2db224ae41d1de": {
      "model_module": "jupyter-leaflet",
      "model_module_version": "^0.15.0",
      "model_name": "LeafletFullScreenControlModel",
      "state": {
       "_model_module_version": "^0.15.0",
       "_view_module_version": "^0.15.0",
       "options": [
        "position"
       ]
      }
     },
     "db2c5fa79d4e4686bd4e75186a85bd45": {
      "model_module": "jupyter-leaflet",
      "model_module_version": "^0.15.0",
      "model_name": "LeafletTileLayerModel",
      "state": {
       "_model_module_version": "^0.15.0",
       "_view_module_version": "^0.15.0",
       "attribution": "(C) OpenStreetMap contributors",
       "max_native_zoom": 18,
       "min_native_zoom": 0,
       "name": "OpenStreetMap.CH",
       "options": [
        "attribution",
        "detect_retina",
        "max_native_zoom",
        "max_zoom",
        "min_native_zoom",
        "min_zoom",
        "no_wrap",
        "tile_size",
        "tms"
       ],
       "url": "https://tile.osm.ch/switzerland/{z}/{x}/{y}.png"
      }
     },
     "dbe8abef9c874efa953a11f0d4a61173": {
      "model_module": "jupyter-leaflet",
      "model_module_version": "^0.15.0",
      "model_name": "LeafletWidgetControlModel",
      "state": {
       "_model_module": "jupyter-leaflet",
       "_model_module_version": "^0.15.0",
       "_view_count": null,
       "_view_module": "jupyter-leaflet",
       "_view_module_version": "^0.15.0",
       "options": [
        "position",
        "transparent_bg"
       ],
       "position": "topright",
       "widget": "IPY_MODEL_194b2eb779084d4c893ae5c6e628e2bd"
      }
     },
     "dc848ba6c1be491d848d16d77c98c1e6": {
      "model_module": "@jupyter-widgets/controls",
      "model_module_version": "1.5.0",
      "model_name": "ToggleButtonModel",
      "state": {
       "button_style": "primary",
       "icon": "spinner",
       "layout": "IPY_MODEL_14cd10dd708147338f1300b54f568cf4",
       "style": "IPY_MODEL_005fbda7424b401bb5ac6217a316dcca",
       "tooltip": "This is a placehold"
      }
     },
     "dd01c373314047c8ababc8e39f126969": {
      "model_module": "@jupyter-widgets/base",
      "model_module_version": "1.2.0",
      "model_name": "LayoutModel",
      "state": {
       "display": "none",
       "grid_gap": "0px 0px",
       "grid_template_areas": "\n                    'pathlist filename'\n                    'dircontent dircontent'\n                    ",
       "grid_template_columns": "60% 40%",
       "grid_template_rows": "auto auto",
       "width": "auto"
      }
     },
     "dd197a8adbbb4b34b9364abb84e41e88": {
      "model_module": "@jupyter-widgets/controls",
      "model_module_version": "1.5.0",
      "model_name": "DescriptionStyleModel",
      "state": {
       "description_width": ""
      }
     },
     "de7e8ee873364e8c89692c4d2e787a17": {
      "model_module": "@jupyter-widgets/base",
      "model_module_version": "1.2.0",
      "model_name": "LayoutModel",
      "state": {
       "grid_area": "dircontent",
       "width": "auto"
      }
     },
     "df417d74ba044ca5ae2b645ce512a9f9": {
      "model_module": "jupyter-leaflet",
      "model_module_version": "^0.15.0",
      "model_name": "LeafletTileLayerModel",
      "state": {
       "_model_module_version": "^0.15.0",
       "_view_module_version": "^0.15.0",
       "attribution": "![](https://docs.onemap.sg/maps/images/oneMap64-01.png) New OneMap | Map data (C) contributors, Singapore Land Authority",
       "max_native_zoom": 18,
       "min_native_zoom": 0,
       "name": "OneMapSG.Grey",
       "options": [
        "attribution",
        "detect_retina",
        "max_native_zoom",
        "max_zoom",
        "min_native_zoom",
        "min_zoom",
        "no_wrap",
        "tile_size",
        "tms"
       ],
       "url": "https://maps-a.onemap.sg/v3/Grey/{z}/{x}/{y}.png"
      }
     },
     "e001cde2e0b7422aa4ac5d7d0c9780f6": {
      "model_module": "@jupyter-widgets/base",
      "model_module_version": "1.2.0",
      "model_name": "LayoutModel",
      "state": {
       "max_width": "279px",
       "min_width": "279px"
      }
     },
     "e12b8f8eccbb4ef0a974c142ec4507ea": {
      "model_module": "jupyter-leaflet",
      "model_module_version": "^0.15.0",
      "model_name": "LeafletTileLayerModel",
      "state": {
       "_model_module_version": "^0.15.0",
       "_view_module_version": "^0.15.0",
       "attribution": "Map tiles by Stamen Design, CC BY 3.0 -- Map data (C) OpenStreetMap contributors",
       "max_native_zoom": 18,
       "max_zoom": 20,
       "min_native_zoom": 0,
       "name": "Stamen.TonerLite",
       "options": [
        "attribution",
        "detect_retina",
        "max_native_zoom",
        "max_zoom",
        "min_native_zoom",
        "min_zoom",
        "no_wrap",
        "tile_size",
        "tms"
       ],
       "url": "https://stamen-tiles-a.a.ssl.fastly.net/toner-lite/{z}/{x}/{y}.png"
      }
     },
     "e16c4bd3621c4a599f98c2b9cf848e9d": {
      "model_module": "@jupyter-widgets/controls",
      "model_module_version": "1.5.0",
      "model_name": "DropdownModel",
      "state": {
       "_options_labels": [
        "/home/jovyan/coastal_topobathy/examples",
        "/home/jovyan/coastal_topobathy",
        "/home/jovyan",
        "/home",
        "/"
       ],
       "index": 0,
       "layout": "IPY_MODEL_6b37e6d122924dcdae2a7919816b8206",
       "style": "IPY_MODEL_ac097ef36a2c49c296f04cb2a6c53bd1"
      }
     },
     "e2bd5b6bafb94a7ea244ba70453aa75d": {
      "model_module": "@jupyter-widgets/controls",
      "model_module_version": "1.5.0",
      "model_name": "VBoxModel",
      "state": {
       "children": [
        "IPY_MODEL_f4b5b8f087a44d27b5f348fad7557a66",
        "IPY_MODEL_636a3e1c3c3842fb9190053d774ed32b",
        "IPY_MODEL_7d3e568844324a29b4825975c6de3a75"
       ],
       "layout": "IPY_MODEL_305b00ec2bbd491e8ee033978d04b59e"
      }
     },
     "e2ff092d252c4ef4a58431ceca2b7210": {
      "model_module": "@jupyter-widgets/controls",
      "model_module_version": "1.5.0",
      "model_name": "DescriptionStyleModel",
      "state": {
       "description_width": ""
      }
     },
     "e33f14c0ac2741f7af248078d5f3e88a": {
      "model_module": "@jupyter-widgets/controls",
      "model_module_version": "1.5.0",
      "model_name": "ToggleButtonsStyleModel",
      "state": {
       "button_width": "110px",
       "description_width": ""
      }
     },
     "e43e7b89640e4473938b104f896e35ac": {
      "model_module": "@jupyter-widgets/controls",
      "model_module_version": "1.5.0",
      "model_name": "ToggleButtonsStyleModel",
      "state": {
       "button_width": "",
       "description_width": ""
      }
     },
     "e4bfd79b80f84b54a8fce91a8d9d9b95": {
      "model_module": "@jupyter-widgets/controls",
      "model_module_version": "1.5.0",
      "model_name": "DescriptionStyleModel",
      "state": {
       "description_width": ""
      }
     },
     "e4d77256453a4e8fb76a09a82f1ff697": {
      "model_module": "@here/map-widget-for-jupyter",
      "model_module_version": "^1.1.3",
      "model_name": "DefaultLayersModel",
      "state": {
       "_model_module": "@here/map-widget-for-jupyter",
       "_model_module_version": "^1.1.3",
       "_view_count": null,
       "_view_module": "@here/map-widget-for-jupyter",
       "_view_module_version": "^1.1.3",
       "layer_name": "raster.normal.base",
       "ppi": null
      }
     },
     "e52710f14f7d485eb894fd1439977d4b": {
      "model_module": "jupyter-leaflet",
      "model_module_version": "^0.15.0",
      "model_name": "LeafletTileLayerModel",
      "state": {
       "_model_module_version": "^0.15.0",
       "_view_module_version": "^0.15.0",
       "attribution": "Justice Map",
       "max_native_zoom": 18,
       "max_zoom": 22,
       "min_native_zoom": 0,
       "name": "JusticeMap.asian",
       "options": [
        "attribution",
        "detect_retina",
        "max_native_zoom",
        "max_zoom",
        "min_native_zoom",
        "min_zoom",
        "no_wrap",
        "tile_size",
        "tms"
       ],
       "url": "https://www.justicemap.org/tile/county/asian/{z}/{x}/{y}.png"
      }
     },
     "e5374201e86649dd9723e669c358ca26": {
      "model_module": "@jupyter-widgets/controls",
      "model_module_version": "1.5.0",
      "model_name": "ToggleButtonsStyleModel",
      "state": {
       "button_width": "110px",
       "description_width": ""
      }
     },
     "e5cdfc1084a2426d840bc0e8f23f94e6": {
      "model_module": "jupyter-leaflet",
      "model_module_version": "^0.15.0",
      "model_name": "LeafletTileLayerModel",
      "state": {
       "_model_module_version": "^0.15.0",
       "_view_module_version": "^0.15.0",
       "attribution": "(C) OpenStreetMap contributors",
       "max_native_zoom": 18,
       "max_zoom": 19,
       "min_native_zoom": 0,
       "name": "OpenStreetMap.Mapnik",
       "options": [
        "attribution",
        "detect_retina",
        "max_native_zoom",
        "max_zoom",
        "min_native_zoom",
        "min_zoom",
        "no_wrap",
        "tile_size",
        "tms"
       ],
       "url": "https://a.tile.openstreetmap.org/{z}/{x}/{y}.png"
      }
     },
     "e5ff0972d6da4880adc8bb0b1b08da4a": {
      "model_module": "@jupyter-widgets/controls",
      "model_module_version": "1.5.0",
      "model_name": "ButtonModel",
      "state": {
       "button_style": "primary",
       "description": "import",
       "layout": "IPY_MODEL_a03f9113c5544b3890f6e404be030b6c",
       "style": "IPY_MODEL_d24c017b668a4b5aba5239441d341bf6",
       "tooltip": "Click to import the selected asset"
      }
     },
     "e696bbcdc8404833bb6c73fd0ed95f35": {
      "model_module": "@jupyter-widgets/base",
      "model_module_version": "1.2.0",
      "model_name": "LayoutModel",
      "state": {
       "height": "28px",
       "width": "72px"
      }
     },
     "e6ae85b49c864dee8e73bb0a7629cbec": {
      "model_module": "@jupyter-widgets/base",
      "model_module_version": "1.2.0",
      "model_name": "LayoutModel",
      "state": {}
     },
     "e7626108b2334cd5a9f530a486fad22a": {
      "model_module": "@jupyter-widgets/controls",
      "model_module_version": "1.5.0",
      "model_name": "ButtonModel",
      "state": {
       "description": "Select",
       "layout": "IPY_MODEL_4d210317e0a34e7e99457310b7569354",
       "style": "IPY_MODEL_a8d9aa966b214c819d92a8dd051124cd"
      }
     },
     "e76c67c9c6d44497b98a4defdaa5e039": {
      "model_module": "@here/map-widget-for-jupyter",
      "model_module_version": "^1.1.3",
      "model_name": "DefaultLayersModel",
      "state": {
       "_model_module": "@here/map-widget-for-jupyter",
       "_model_module_version": "^1.1.3",
       "_view_count": null,
       "_view_module": "@here/map-widget-for-jupyter",
       "_view_module_version": "^1.1.3",
       "layer_name": "raster.normal.transit",
       "ppi": null
      }
     },
     "e7f9e9ce17cb4546bf58a05f9dc12959": {
      "model_module": "@jupyter-widgets/base",
      "model_module_version": "1.2.0",
      "model_name": "LayoutModel",
      "state": {
       "width": "340px"
      }
     },
     "e831002483df4de8ba1e73958e888d9a": {
      "model_module": "@jupyter-widgets/controls",
      "model_module_version": "1.5.0",
      "model_name": "ToggleButtonModel",
      "state": {
       "button_style": "primary",
       "icon": "camera",
       "layout": "IPY_MODEL_53a555ee12a74440ad83b7898f18d664",
       "style": "IPY_MODEL_78e1ad47577748d6a6d1cc0c589734e9",
       "tooltip": "Save map as HTML or image"
      }
     },
     "e840195f136549738822932e093c2b74": {
      "model_module": "jupyter-leaflet",
      "model_module_version": "^0.15.0",
      "model_name": "LeafletTileLayerModel",
      "state": {
       "_model_module_version": "^0.15.0",
       "_view_module_version": "^0.15.0",
       "attribution": "Tiles (C) Esri -- Sources: GEBCO, NOAA, CHS, OSU, UNH, CSUMB, National Geographic, DeLorme, NAVTEQ, and Esri",
       "max_native_zoom": 18,
       "max_zoom": 13,
       "min_native_zoom": 0,
       "name": "Esri.OceanBasemap",
       "options": [
        "attribution",
        "detect_retina",
        "max_native_zoom",
        "max_zoom",
        "min_native_zoom",
        "min_zoom",
        "no_wrap",
        "tile_size",
        "tms"
       ],
       "url": "https://server.arcgisonline.com/ArcGIS/rest/services/Ocean_Basemap/MapServer/tile/{z}/{y}/{x}"
      }
     },
     "e84781d53a47404ab25785235963a068": {
      "model_module": "jupyter-leaflet",
      "model_module_version": "^0.15.0",
      "model_name": "LeafletTileLayerModel",
      "state": {
       "_model_module_version": "^0.15.0",
       "_view_module_version": "^0.15.0",
       "attribution": "Map memomaps.de CC-BY-SA, map data (C) OpenStreetMap contributors",
       "max_native_zoom": 18,
       "min_native_zoom": 0,
       "name": "OPNVKarte",
       "options": [
        "attribution",
        "detect_retina",
        "max_native_zoom",
        "max_zoom",
        "min_native_zoom",
        "min_zoom",
        "no_wrap",
        "tile_size",
        "tms"
       ],
       "url": "https://tileserver.memomaps.de/tilegen/{z}/{x}/{y}.png"
      }
     },
     "e8b9a557653c4498a72d823d3c3c2eb0": {
      "model_module": "@jupyter-widgets/base",
      "model_module_version": "1.2.0",
      "model_name": "LayoutModel",
      "state": {
       "overflow": "auto"
      }
     },
     "e8e44a2212b04789ae61889b3f16220c": {
      "model_module": "@jupyter-widgets/controls",
      "model_module_version": "1.5.0",
      "model_name": "ToggleButtonModel",
      "state": {
       "icon": "wrench",
       "layout": "IPY_MODEL_e97b0a264eb0438e842eb4babc8334d9",
       "style": "IPY_MODEL_493b4c028e934fb9bdb384013c57e876",
       "tooltip": "Toolbar"
      }
     },
     "e8fb6a2128d24cb095f547a3ba5bc9b1": {
      "model_module": "jupyter-leaflet",
      "model_module_version": "^0.15.0",
      "model_name": "LeafletMapStyleModel",
      "state": {
       "_model_module_version": "^0.15.0"
      }
     },
     "e97b0a264eb0438e842eb4babc8334d9": {
      "model_module": "@jupyter-widgets/base",
      "model_module_version": "1.2.0",
      "model_name": "LayoutModel",
      "state": {
       "height": "28px",
       "padding": "0px 0px 0px 4px",
       "width": "28px"
      }
     },
     "e97d199890d84aa1b12afa88c764d0fa": {
      "model_module": "@jupyter-widgets/controls",
      "model_module_version": "1.5.0",
      "model_name": "ToggleButtonModel",
      "state": {
       "button_style": "primary",
       "icon": "info-circle",
       "layout": "IPY_MODEL_7ea15733b9c344f9a5131809815a7f1f",
       "style": "IPY_MODEL_8ed6555ef7434b02a7dea8ba30fdec7a",
       "tooltip": "Get COG/STAC pixel value"
      }
     },
     "ea3ecdd5566347af9c65deeffd278b6a": {
      "model_module": "@jupyter-widgets/controls",
      "model_module_version": "1.5.0",
      "model_name": "ButtonModel",
      "state": {
       "button_style": "primary",
       "description": "import",
       "layout": "IPY_MODEL_09429a537c1b43b48d3c2d2a5bc5ca77",
       "style": "IPY_MODEL_4e64b40f8213407784abac3acd19574c",
       "tooltip": "Click to import the selected asset"
      }
     },
     "ea45f46ed5ca4904bb3662f67c5ffe10": {
      "model_module": "@jupyter-widgets/controls",
      "model_module_version": "1.5.0",
      "model_name": "BoxModel",
      "state": {
       "children": [
        "IPY_MODEL_541bc9ef219242a6a2493059114c77a3"
       ],
       "layout": "IPY_MODEL_e8b9a557653c4498a72d823d3c3c2eb0"
      }
     },
     "eb424c598eea48c6aada437b631f2e21": {
      "model_module": "@jupyter-widgets/base",
      "model_module_version": "1.2.0",
      "model_name": "LayoutModel",
      "state": {
       "height": "auto",
       "padding": "0px 0px 0px 4px",
       "width": "auto"
      }
     },
     "ec13dd268f344fe5823ab5082ceadc88": {
      "model_module": "jupyter-leaflet",
      "model_module_version": "^0.15.0",
      "model_name": "LeafletTileLayerModel",
      "state": {
       "_model_module_version": "^0.15.0",
       "_view_module_version": "^0.15.0",
       "attribution": "Map tiles by Stamen Design, CC BY 3.0 -- Map data (C) OpenStreetMap contributors",
       "max_native_zoom": 18,
       "max_zoom": 16,
       "min_native_zoom": 0,
       "name": "Stamen.Watercolor",
       "options": [
        "attribution",
        "detect_retina",
        "max_native_zoom",
        "max_zoom",
        "min_native_zoom",
        "min_zoom",
        "no_wrap",
        "tile_size",
        "tms"
       ],
       "url": "https://stamen-tiles-a.a.ssl.fastly.net/watercolor/{z}/{x}/{y}.jpg"
      }
     },
     "ec68fdeefbad4b1b87d10dc92d725d89": {
      "model_module": "jupyter-leaflet",
      "model_module_version": "^0.15.0",
      "model_name": "LeafletTileLayerModel",
      "state": {
       "_model_module_version": "^0.15.0",
       "_view_module_version": "^0.15.0",
       "attribution": "(C) OpenStreetMap contributors (C) CARTO",
       "max_native_zoom": 18,
       "max_zoom": 20,
       "min_native_zoom": 0,
       "name": "CartoDB.Voyager",
       "options": [
        "attribution",
        "detect_retina",
        "max_native_zoom",
        "max_zoom",
        "min_native_zoom",
        "min_zoom",
        "no_wrap",
        "tile_size",
        "tms"
       ],
       "url": "https://a.basemaps.cartocdn.com/rastertiles/voyager/{z}/{x}/{y}.png"
      }
     },
     "ec85b83f5bd042cab89a388a5fb4b630": {
      "model_module": "@jupyter-widgets/controls",
      "model_module_version": "1.5.0",
      "model_name": "ToggleButtonModel",
      "state": {
       "button_style": "primary",
       "icon": "gears",
       "layout": "IPY_MODEL_4d7ce735930746dda3e7cf4cfd51e374",
       "style": "IPY_MODEL_8317d1c35af64f1d88fd0f82343518b5",
       "tooltip": "WhiteboxTools for local geoprocessing"
      }
     },
     "ecf0431675874e6396f1683fdef021c3": {
      "model_module": "@jupyter-widgets/controls",
      "model_module_version": "1.5.0",
      "model_name": "DescriptionStyleModel",
      "state": {
       "description_width": ""
      }
     },
     "ed4a12ce23d84a9b93e6b4d7545993b3": {
      "model_module": "@jupyter-widgets/controls",
      "model_module_version": "1.5.0",
      "model_name": "ToggleButtonModel",
      "state": {
       "button_style": "primary",
       "icon": "random",
       "layout": "IPY_MODEL_f309fcbb349c4faabe6d57a2595cc1ac",
       "style": "IPY_MODEL_b145c3f8c64a41419ee165bffba9ab11",
       "tooltip": "Sankey plots"
      }
     },
     "ee647dcdd444490ab0598a66ccc6f4d2": {
      "model_module": "jupyter-leaflet",
      "model_module_version": "^0.15.0",
      "model_name": "LeafletWidgetControlModel",
      "state": {
       "_model_module": "jupyter-leaflet",
       "_model_module_version": "^0.15.0",
       "_view_count": null,
       "_view_module": "jupyter-leaflet",
       "_view_module_version": "^0.15.0",
       "options": [
        "position",
        "transparent_bg"
       ],
       "position": "topright",
       "widget": "IPY_MODEL_bbbc932e1f1b4ffaaeb94735821c9f65"
      }
     },
     "eea2c0ecf4e041358ede8751c537f73e": {
      "model_module": "@jupyter-widgets/controls",
      "model_module_version": "1.5.0",
      "model_name": "ToggleButtonsModel",
      "state": {
       "_options_labels": [
        "name/address",
        "lat-lon",
        "data"
       ],
       "button_style": "",
       "icons": [],
       "index": 0,
       "layout": "IPY_MODEL_92909f44ddee445e9621f5e3657fc25e",
       "style": "IPY_MODEL_e33f14c0ac2741f7af248078d5f3e88a",
       "tooltips": [
        "Search by place name or address",
        "Search by lat-lon coordinates",
        "Search Earth Engine data catalog"
       ]
      }
     },
     "eeb70b3ea57b4afdab199d2bdf1f91d9": {
      "model_module": "jupyter-leaflet",
      "model_module_version": "^0.15.0",
      "model_name": "LeafletTileLayerModel",
      "state": {
       "_model_module_version": "^0.15.0",
       "_view_module_version": "^0.15.0",
       "attribution": "Map data: (C) OpenStreetMap contributors | Map style: (C) OpenRailwayMap (CC-BY-SA)",
       "max_native_zoom": 18,
       "max_zoom": 19,
       "min_native_zoom": 0,
       "name": "OpenRailwayMap",
       "options": [
        "attribution",
        "detect_retina",
        "max_native_zoom",
        "max_zoom",
        "min_native_zoom",
        "min_zoom",
        "no_wrap",
        "tile_size",
        "tms"
       ],
       "url": "https://a.tiles.openrailwaymap.org/standard/{z}/{x}/{y}.png"
      }
     },
     "f08c6e50b33144768dfc4e48d292b651": {
      "model_module": "@jupyter-widgets/base",
      "model_module_version": "1.2.0",
      "model_name": "LayoutModel",
      "state": {
       "height": "auto",
       "padding": "0px 0px 0px 4px",
       "width": "auto"
      }
     },
     "f0d5ca666d0845dc8420cce2a3733fd8": {
      "model_module": "@jupyter-widgets/controls",
      "model_module_version": "1.5.0",
      "model_name": "TextModel",
      "state": {
       "layout": "IPY_MODEL_7fa0c95c029648ec857a12ea409d073f",
       "placeholder": "Search by place name or address",
       "style": "IPY_MODEL_00117a9f30d8431bbd7b25b99141a814"
      }
     },
     "f0e0335c83074b92b03b3004ecd8e28f": {
      "model_module": "jupyter-leaflet",
      "model_module_version": "^0.15.0",
      "model_name": "LeafletTileLayerModel",
      "state": {
       "_model_module_version": "^0.15.0",
       "_view_module_version": "^0.15.0",
       "attribution": "&copy; <a href=\"http://www.gaode.com/\">Gaode.com</a>",
       "max_native_zoom": 18,
       "max_zoom": 19,
       "min_native_zoom": 0,
       "name": "Gaode.Satellite",
       "options": [
        "attribution",
        "detect_retina",
        "max_native_zoom",
        "max_zoom",
        "min_native_zoom",
        "min_zoom",
        "no_wrap",
        "tile_size",
        "tms"
       ],
       "url": "http://webst01.is.autonavi.com/appmaptile?style=6&x={x}&y={y}&z={z}"
      }
     },
     "f0ef85ed1ac747d188fad44f60477adc": {
      "model_module": "@jupyter-widgets/controls",
      "model_module_version": "1.5.0",
      "model_name": "GridBoxModel",
      "state": {
       "children": [
        "IPY_MODEL_71cbb2968ca64c498cd3dfa35a156c71",
        "IPY_MODEL_d4ab2f4968d3469cae2f7639b85265d0",
        "IPY_MODEL_e831002483df4de8ba1e73958e888d9a",
        "IPY_MODEL_14b96a03a48b4434a9f1877a98f7521e",
        "IPY_MODEL_9d178ff3bac244c689505e3517897d3f",
        "IPY_MODEL_47c39af6f9f243cba79dafb8de9aee5a",
        "IPY_MODEL_ec85b83f5bd042cab89a388a5fb4b630",
        "IPY_MODEL_16d8f39a1585493f8966dd62eb691ab8",
        "IPY_MODEL_5bd9df5c6c6c4dc7ba436489b453a945",
        "IPY_MODEL_5ea448e3f54f4f64b7b611a61b2350a8",
        "IPY_MODEL_d2062104953b4a1a93fd4a3840d5e421",
        "IPY_MODEL_ae24f40a48f14f3781fe6afa4a974809",
        "IPY_MODEL_23f944c002bf45f489b9139661afde75",
        "IPY_MODEL_ed4a12ce23d84a9b93e6b4d7545993b3",
        "IPY_MODEL_00daee0927314096835fb5ffdb02a868",
        "IPY_MODEL_e97d199890d84aa1b12afa88c764d0fa",
        "IPY_MODEL_dc848ba6c1be491d848d16d77c98c1e6",
        "IPY_MODEL_9315674f76b14c8ba42aca0a28652cdc"
       ],
       "layout": "IPY_MODEL_814c13380431479388c0f8d77a42f3a9"
      }
     },
     "f184668f81dc4fdd981ef51caa1f170e": {
      "model_module": "@jupyter-widgets/controls",
      "model_module_version": "1.5.0",
      "model_name": "DescriptionStyleModel",
      "state": {
       "description_width": ""
      }
     },
     "f1de013608424118aeff1a8b85273d78": {
      "model_module": "@jupyter-widgets/base",
      "model_module_version": "1.2.0",
      "model_name": "LayoutModel",
      "state": {}
     },
     "f2f09265deeb445b92761782ad8164bf": {
      "model_module": "ipyevents",
      "model_module_version": "2.0.1",
      "model_name": "EventModel",
      "state": {
       "_supported_key_events": [
        "keydown",
        "keyup"
       ],
       "_supported_mouse_events": [
        "click",
        "auxclick",
        "dblclick",
        "mouseenter",
        "mouseleave",
        "mousedown",
        "mouseup",
        "mousemove",
        "wheel",
        "contextmenu",
        "dragstart",
        "drag",
        "dragend",
        "dragenter",
        "dragover",
        "dragleave",
        "drop"
       ],
       "_supported_touch_events": [
        "touchstart",
        "touchend",
        "touchmove",
        "touchcancel"
       ],
       "_view_module": "@jupyter-widgets/controls",
       "_view_module_version": "1.5.0",
       "source": "IPY_MODEL_9233d728069c404e98be90704e72148d",
       "throttle_or_debounce": "",
       "watched_events": [
        "mouseenter",
        "mouseleave"
       ],
       "xy_coordinate_system": ""
      }
     },
     "f309fcbb349c4faabe6d57a2595cc1ac": {
      "model_module": "@jupyter-widgets/base",
      "model_module_version": "1.2.0",
      "model_name": "LayoutModel",
      "state": {
       "height": "auto",
       "padding": "0px 0px 0px 4px",
       "width": "auto"
      }
     },
     "f40adbd825804383b513b2265c6c34bc": {
      "model_module": "jupyter-leaflet",
      "model_module_version": "^0.15.0",
      "model_name": "LeafletSearchControlModel",
      "state": {
       "_model_module_version": "^0.15.0",
       "_view_module_version": "^0.15.0",
       "marker": "IPY_MODEL_50c83735b33a438e8e3e743304f3c590",
       "options": [
        "animate_location",
        "auto_collapse",
        "auto_type",
        "found_style",
        "jsonp_param",
        "position",
        "property_loc",
        "property_name",
        "url",
        "zoom"
       ],
       "url": "https://nominatim.openstreetmap.org/search?format=json&q={s}",
       "zoom": 5
      }
     },
     "f470e7e1720c4f728562b5db42588337": {
      "model_module": "@jupyter-widgets/controls",
      "model_module_version": "1.5.0",
      "model_name": "DescriptionStyleModel",
      "state": {
       "description_width": ""
      }
     },
     "f499f602e15a41efa5f1ab2dc81da942": {
      "model_module": "jupyter-leaflet",
      "model_module_version": "^0.15.0",
      "model_name": "LeafletWMSLayerModel",
      "state": {
       "_model_module_version": "^0.15.0",
       "_view_module_version": "^0.15.0",
       "attribution": "MRLC",
       "crs": {
        "custom": false,
        "name": "EPSG3857"
       },
       "format": "image/png",
       "layers": "NLCD_2013_Land_Cover_L48",
       "max_native_zoom": 18,
       "min_native_zoom": 0,
       "name": "NLCD 2013 CONUS Land Cover",
       "options": [
        "attribution",
        "detect_retina",
        "format",
        "layers",
        "max_native_zoom",
        "max_zoom",
        "min_native_zoom",
        "min_zoom",
        "no_wrap",
        "styles",
        "tile_size",
        "tms",
        "transparent",
        "uppercase"
       ],
       "transparent": true,
       "url": "https://www.mrlc.gov/geoserver/mrlc_display/NLCD_2013_Land_Cover_L48/wms?"
      }
     },
     "f4a080d51ea2498aa0edb2131b7f6dae": {
      "model_module": "@jupyter-widgets/controls",
      "model_module_version": "1.5.0",
      "model_name": "DescriptionStyleModel",
      "state": {
       "description_width": ""
      }
     },
     "f4b5b8f087a44d27b5f348fad7557a66": {
      "model_module": "@jupyter-widgets/controls",
      "model_module_version": "1.5.0",
      "model_name": "HTMLModel",
      "state": {
       "layout": "IPY_MODEL_2c1659e02dfa47b0ae040438c9912eb6",
       "style": "IPY_MODEL_e4bfd79b80f84b54a8fce91a8d9d9b95"
      }
     },
     "f50d7ce13d614e69bea0ae5800fe6d9f": {
      "model_module": "@here/map-widget-for-jupyter",
      "model_module_version": "^1.1.3",
      "model_name": "DefaultLayersModel",
      "state": {
       "_model_module": "@here/map-widget-for-jupyter",
       "_model_module_version": "^1.1.3",
       "_view_count": null,
       "_view_module": "@here/map-widget-for-jupyter",
       "_view_module_version": "^1.1.3",
       "layer_name": "raster.normal.xbasenight",
       "ppi": null
      }
     },
     "f5dba10ed5e248b6ac77521d6b700ead": {
      "model_module": "jupyter-leaflet",
      "model_module_version": "^0.15.0",
      "model_name": "LeafletTileLayerModel",
      "state": {
       "_model_module_version": "^0.15.0",
       "_view_module_version": "^0.15.0",
       "attribution": "Geoportail France",
       "max_native_zoom": 18,
       "max_zoom": 20,
       "min_native_zoom": 0,
       "name": "GeoportailFrance.parcels",
       "options": [
        "attribution",
        "detect_retina",
        "max_native_zoom",
        "max_zoom",
        "min_native_zoom",
        "min_zoom",
        "no_wrap",
        "tile_size",
        "tms"
       ],
       "url": "https://wxs.ign.fr/choisirgeoportail/geoportail/wmts?REQUEST=GetTile&SERVICE=WMTS&VERSION=1.0.0&STYLE=PCI vecteur&TILEMATRIXSET=PM&FORMAT=image/png&LAYER=CADASTRALPARCELS.PARCELLAIRE_EXPRESS&TILEMATRIX={z}&TILEROW={y}&TILECOL={x}"
      }
     },
     "f63c8a050f384f2ba299c144eec337af": {
      "model_module": "jupyter-leaflet",
      "model_module_version": "^0.15.0",
      "model_name": "LeafletTileLayerModel",
      "state": {
       "_model_module_version": "^0.15.0",
       "_view_module_version": "^0.15.0",
       "attribution": "Map data: (C) OpenStreetMap contributors | Map style: (C) waymarkedtrails.org (CC-BY-SA)",
       "max_native_zoom": 18,
       "min_native_zoom": 0,
       "name": "WaymarkedTrails.hiking",
       "options": [
        "attribution",
        "detect_retina",
        "max_native_zoom",
        "max_zoom",
        "min_native_zoom",
        "min_zoom",
        "no_wrap",
        "tile_size",
        "tms"
       ],
       "url": "https://tile.waymarkedtrails.org/hiking/{z}/{x}/{y}.png"
      }
     },
     "f63cdc4176cb48e990b68755d79fe780": {
      "model_module": "jupyter-leaflet",
      "model_module_version": "^0.15.0",
      "model_name": "LeafletTileLayerModel",
      "state": {
       "_model_module_version": "^0.15.0",
       "_view_module_version": "^0.15.0",
       "attribution": "Imagery provided by services from the Global Imagery Browse Services (GIBS), operated by the NASA/GSFC/Earth Science Data and Information System (<a href=\"https://earthdata.nasa.gov\">ESDIS</a>) with funding provided by NASA/HQ.",
       "max_native_zoom": 18,
       "max_zoom": 9,
       "min_native_zoom": 0,
       "name": "NASAGIBS.ModisAquaTrueColorCR",
       "options": [
        "attribution",
        "detect_retina",
        "max_native_zoom",
        "max_zoom",
        "min_native_zoom",
        "min_zoom",
        "no_wrap",
        "tile_size",
        "tms"
       ],
       "url": "https://gibs.earthdata.nasa.gov/wmts/epsg3857/best/MODIS_Aqua_CorrectedReflectance_TrueColor/default//GoogleMapsCompatible_Level9/{z}/{y}/{x}.jpg"
      }
     },
     "f69cf57a4e2b4748a409ac6001b1b914": {
      "model_module": "jupyter-leaflet",
      "model_module_version": "^0.15.0",
      "model_name": "LeafletTileLayerModel",
      "state": {
       "_model_module_version": "^0.15.0",
       "_view_module_version": "^0.15.0",
       "attribution": "Map data: (C) OpenSeaMap contributors",
       "max_native_zoom": 18,
       "max_zoom": 22,
       "min_native_zoom": 0,
       "name": "OpenSeaMap",
       "options": [
        "attribution",
        "detect_retina",
        "max_native_zoom",
        "max_zoom",
        "min_native_zoom",
        "min_zoom",
        "no_wrap",
        "tile_size",
        "tms"
       ],
       "url": "https://tiles.openseamap.org/seamark/{z}/{x}/{y}.png"
      }
     },
     "f6b8fd844fd54c8eb5fb3efca8028ad8": {
      "model_module": "@jupyter-widgets/base",
      "model_module_version": "1.2.0",
      "model_name": "LayoutModel",
      "state": {
       "height": "600px"
      }
     },
     "f73f1551de5f401fb62947c25e6fee69": {
      "model_module": "jupyter-leaflet",
      "model_module_version": "^0.15.0",
      "model_name": "LeafletWMSLayerModel",
      "state": {
       "_model_module_version": "^0.15.0",
       "_view_module_version": "^0.15.0",
       "attribution": "FWS",
       "crs": {
        "custom": false,
        "name": "EPSG3857"
       },
       "format": "image/png",
       "layers": "1",
       "max_native_zoom": 18,
       "min_native_zoom": 0,
       "name": "FWS NWI Wetlands",
       "options": [
        "attribution",
        "detect_retina",
        "format",
        "layers",
        "max_native_zoom",
        "max_zoom",
        "min_native_zoom",
        "min_zoom",
        "no_wrap",
        "styles",
        "tile_size",
        "tms",
        "transparent",
        "uppercase"
       ],
       "transparent": true,
       "url": "https://www.fws.gov/wetlands/arcgis/services/Wetlands/MapServer/WMSServer?"
      }
     },
     "f7e788fbd5a34e7386525325f800a994": {
      "model_module": "@jupyter-widgets/output",
      "model_module_version": "1.0.0",
      "model_name": "OutputModel",
      "state": {
       "layout": "IPY_MODEL_942d55bdbd154cd4b6198b53171fbb27"
      }
     },
     "f80be128b2e44268b10e3aa2df3b75e5": {
      "model_module": "jupyter-leaflet",
      "model_module_version": "^0.15.0",
      "model_name": "LeafletTileLayerModel",
      "state": {
       "_model_module_version": "^0.15.0",
       "_view_module_version": "^0.15.0",
       "attribution": "Kaartgegevens (C) Kadaster",
       "max_native_zoom": 18,
       "max_zoom": 19,
       "min_native_zoom": 0,
       "name": "nlmaps.standaard",
       "options": [
        "attribution",
        "detect_retina",
        "max_native_zoom",
        "max_zoom",
        "min_native_zoom",
        "min_zoom",
        "no_wrap",
        "tile_size",
        "tms"
       ],
       "url": "https://service.pdok.nl/brt/achtergrondkaart/wmts/v2_0/standaard/EPSG:3857/{z}/{x}/{y}.png"
      }
     },
     "f85ebd117e7a47e18f83c39ba8f47780": {
      "model_module": "@jupyter-widgets/base",
      "model_module_version": "1.2.0",
      "model_name": "LayoutModel",
      "state": {
       "height": "auto",
       "padding": "0px 0px 0px 4px",
       "width": "auto"
      }
     },
     "f9619fdaa22f4cfbb1cc166d7ef04535": {
      "model_module": "@jupyter-widgets/controls",
      "model_module_version": "1.5.0",
      "model_name": "DescriptionStyleModel",
      "state": {
       "description_width": ""
      }
     },
     "f96a1ff87cee4c89b238d41f261be3b6": {
      "model_module": "jupyter-leaflet",
      "model_module_version": "^0.15.0",
      "model_name": "LeafletWidgetControlModel",
      "state": {
       "_model_module": "jupyter-leaflet",
       "_model_module_version": "^0.15.0",
       "_view_count": null,
       "_view_module": "jupyter-leaflet",
       "_view_module_version": "^0.15.0",
       "options": [
        "position",
        "transparent_bg"
       ],
       "position": "bottomright",
       "widget": "IPY_MODEL_aec7555ea8da4486ae7cf7965fce466e"
      }
     },
     "f996dc8bcbe442368e95d08b32280229": {
      "model_module": "@jupyter-widgets/base",
      "model_module_version": "1.2.0",
      "model_name": "LayoutModel",
      "state": {}
     },
     "f9cd6fb6aa61481ca33461450b6cfff1": {
      "model_module": "jupyter-leaflet",
      "model_module_version": "^0.15.0",
      "model_name": "LeafletWidgetControlModel",
      "state": {
       "_model_module": "jupyter-leaflet",
       "_model_module_version": "^0.15.0",
       "_view_count": null,
       "_view_module": "jupyter-leaflet",
       "_view_module_version": "^0.15.0",
       "options": [
        "position",
        "transparent_bg"
       ],
       "position": "topright",
       "widget": "IPY_MODEL_55389e3880c04000b729e18296cf78df"
      }
     },
     "f9d5f47c9fc643caa23095972f4bfb7e": {
      "model_module": "@jupyter-widgets/base",
      "model_module_version": "1.2.0",
      "model_name": "LayoutModel",
      "state": {}
     },
     "fa30dfaa7cbf41d698f4e86bf489a5b9": {
      "model_module": "@jupyter-widgets/controls",
      "model_module_version": "1.5.0",
      "model_name": "DropdownModel",
      "state": {
       "index": null,
       "layout": "IPY_MODEL_e001cde2e0b7422aa4ac5d7d0c9780f6",
       "style": "IPY_MODEL_5ab99808d0264c0e97aab4d9e8c521f4"
      }
     },
     "fa57a3c17e474a77a67f4f6ec755c6de": {
      "model_module": "jupyter-leaflet",
      "model_module_version": "^0.15.0",
      "model_name": "LeafletWMSLayerModel",
      "state": {
       "_model_module_version": "^0.15.0",
       "_view_module_version": "^0.15.0",
       "attribution": "FWS",
       "crs": {
        "custom": false,
        "name": "EPSG3857"
       },
       "format": "image/png",
       "layers": "0",
       "max_native_zoom": 18,
       "min_native_zoom": 0,
       "name": "FWS NWI Wetlands Raster",
       "options": [
        "attribution",
        "detect_retina",
        "format",
        "layers",
        "max_native_zoom",
        "max_zoom",
        "min_native_zoom",
        "min_zoom",
        "no_wrap",
        "styles",
        "tile_size",
        "tms",
        "transparent",
        "uppercase"
       ],
       "transparent": true,
       "url": "https://www.fws.gov/wetlands/arcgis/services/Wetlands_Raster/ImageServer/WMSServer?"
      }
     },
     "fa6fe347c1a245948a325498c7269909": {
      "model_module": "@jupyter-widgets/base",
      "model_module_version": "1.2.0",
      "model_name": "LayoutModel",
      "state": {
       "height": "auto",
       "padding": "0px 0px 0px 4px",
       "width": "auto"
      }
     },
     "fc9e31aea94e44fab5fe34be79528549": {
      "model_module": "jupyter-leaflet",
      "model_module_version": "^0.15.0",
      "model_name": "LeafletTileLayerModel",
      "state": {
       "_model_module_version": "^0.15.0",
       "_view_module_version": "^0.15.0",
       "attribution": "Tiles (C) Esri -- Source: Esri",
       "max_native_zoom": 18,
       "max_zoom": 13,
       "min_native_zoom": 0,
       "name": "Esri.WorldShadedRelief",
       "options": [
        "attribution",
        "detect_retina",
        "max_native_zoom",
        "max_zoom",
        "min_native_zoom",
        "min_zoom",
        "no_wrap",
        "tile_size",
        "tms"
       ],
       "url": "https://server.arcgisonline.com/ArcGIS/rest/services/World_Shaded_Relief/MapServer/tile/{z}/{y}/{x}"
      }
     },
     "fcd356a931ba44fd88acd57b5a829d85": {
      "model_module": "ipyevents",
      "model_module_version": "2.0.1",
      "model_name": "EventModel",
      "state": {
       "_supported_key_events": [
        "keydown",
        "keyup"
       ],
       "_supported_mouse_events": [
        "click",
        "auxclick",
        "dblclick",
        "mouseenter",
        "mouseleave",
        "mousedown",
        "mouseup",
        "mousemove",
        "wheel",
        "contextmenu",
        "dragstart",
        "drag",
        "dragend",
        "dragenter",
        "dragover",
        "dragleave",
        "drop"
       ],
       "_supported_touch_events": [
        "touchstart",
        "touchend",
        "touchmove",
        "touchcancel"
       ],
       "_view_module": "@jupyter-widgets/controls",
       "_view_module_version": "1.5.0",
       "source": "IPY_MODEL_55389e3880c04000b729e18296cf78df",
       "throttle_or_debounce": "",
       "watched_events": [
        "mouseenter",
        "mouseleave"
       ],
       "xy_coordinate_system": ""
      }
     },
     "fdd355730ddb450f8266b64660459c15": {
      "model_module": "jupyter-leaflet",
      "model_module_version": "^0.15.0",
      "model_name": "LeafletTileLayerModel",
      "state": {
       "_model_module_version": "^0.15.0",
       "_view_module_version": "^0.15.0",
       "attribution": "Map tiles by Stamen Design, CC BY 3.0 -- Map data (C) OpenStreetMap contributors",
       "max_native_zoom": 18,
       "max_zoom": 20,
       "min_native_zoom": 0,
       "name": "Stamen.TopOSMFeatures",
       "options": [
        "attribution",
        "detect_retina",
        "max_native_zoom",
        "max_zoom",
        "min_native_zoom",
        "min_zoom",
        "no_wrap",
        "tile_size",
        "tms"
       ],
       "url": "https://stamen-tiles-a.a.ssl.fastly.net/toposm-features/{z}/{x}/{y}.png"
      }
     },
     "fe10ef0d1ff1450c801487b9f4aa6d6b": {
      "model_module": "@jupyter-widgets/base",
      "model_module_version": "1.2.0",
      "model_name": "LayoutModel",
      "state": {}
     },
     "fe6100c8ea2947b9aae1141c386ad517": {
      "model_module": "@here/map-widget-for-jupyter",
      "model_module_version": "^1.1.3",
      "model_name": "DefaultLayersModel",
      "state": {
       "_model_module": "@here/map-widget-for-jupyter",
       "_model_module_version": "^1.1.3",
       "_view_count": null,
       "_view_module": "@here/map-widget-for-jupyter",
       "_view_module_version": "^1.1.3",
       "layer_name": "raster.satellite.labels",
       "ppi": null
      }
     },
     "fe9214109b1240ae800311d4945c74d8": {
      "model_module": "jupyter-leaflet",
      "model_module_version": "^0.15.0",
      "model_name": "LeafletTileLayerModel",
      "state": {
       "_model_module_version": "^0.15.0",
       "_view_module_version": "^0.15.0",
       "attribution": "&copy; <a href=\"https://www.openstreetmap.org/copyright\">OpenStreetMap</a> contributors",
       "base": true,
       "max_native_zoom": 18,
       "max_zoom": 19,
       "min_native_zoom": 0,
       "min_zoom": 1,
       "name": "OpenStreetMap.Mapnik",
       "options": [
        "attribution",
        "detect_retina",
        "max_native_zoom",
        "max_zoom",
        "min_native_zoom",
        "min_zoom",
        "no_wrap",
        "tile_size",
        "tms"
       ],
       "url": "https://a.tile.openstreetmap.org/{z}/{x}/{y}.png"
      }
     },
     "feb0e36889f0431fa703f769e5c58b7d": {
      "model_module": "@jupyter-widgets/controls",
      "model_module_version": "1.5.0",
      "model_name": "GridBoxModel",
      "state": {
       "children": [
        "IPY_MODEL_e16c4bd3621c4a599f98c2b9cf848e9d",
        "IPY_MODEL_957d3d22c62c4632b5b728676bf9cf41",
        "IPY_MODEL_3a3d96b85a6f4696bc7306d17ac1547d"
       ],
       "layout": "IPY_MODEL_09be6fa40c6c44a3885b62f035f60cc3"
      }
     },
     "ff90d45235614ec4a03ef60ea97b357d": {
      "model_module": "@jupyter-widgets/controls",
      "model_module_version": "1.5.0",
      "model_name": "VBoxModel",
      "state": {
       "children": [
        "IPY_MODEL_f0ef85ed1ac747d188fad44f60477adc"
       ],
       "layout": "IPY_MODEL_bcf5aacb674d4125a4cd965700fbd0a6"
      }
     }
    },
    "version_major": 2,
    "version_minor": 0
   }
  }
 },
 "nbformat": 4,
 "nbformat_minor": 5
}
