{
 "cells": [
  {
   "cell_type": "markdown",
   "id": "suffering-union",
   "metadata": {
    "tags": []
   },
   "source": [
    "# Comparison ATL03, ATL08, ATL12, and ATL13\n",
    "\n",
    "## Data downloaded with Open Altimetry"
   ]
  },
  {
   "cell_type": "markdown",
   "id": "649d863c-5ad1-4b9f-9fa0-416ff04396a4",
   "metadata": {},
   "source": [
    "## Computing environment\n",
    "\n",
    "We'll be using the following Python libraries in this notebook:"
   ]
  },
  {
   "cell_type": "code",
   "execution_count": 1,
   "id": "2a5720d5-d805-4c24-a92e-a2238805cdbf",
   "metadata": {},
   "outputs": [],
   "source": [
    "%matplotlib widget\n",
    "# import os\n",
    "# import ee\n",
    "# import geemap\n",
    "# import requests\n",
    "# import numpy as np\n",
    "# import pandas as pd\n",
    "# import matplotlib.pylab as plt\n",
    "# from datetime import datetime\n",
    "# from datetime import timedelta\n",
    "# import rasterio as rio\n",
    "# from rasterio import plot\n",
    "# from rasterio import warp"
   ]
  },
  {
   "cell_type": "code",
   "execution_count": 2,
   "id": "2b33feaf-2101-44e6-82f0-d3bbdf87a5b4",
   "metadata": {},
   "outputs": [],
   "source": [
    "import sys\n",
    "sys.path.append('../')"
   ]
  },
  {
   "cell_type": "code",
   "execution_count": 3,
   "id": "c61044c3-4c36-4fe5-a6a8-31acf89d2a06",
   "metadata": {},
   "outputs": [],
   "source": [
    "from coastal.plot import plot_from_oa_url"
   ]
  },
  {
   "cell_type": "markdown",
   "id": "854c2d0e-b10c-4b18-a81a-dca7e14e9ac4",
   "metadata": {},
   "source": [
    "    \n",
    "The import below is a class that the organizers wrote. It helps us read and store data from the OpenAltimetry API.  This line is importing the class `dataCollector` in the file `oa.py` in the `utils` folder."
   ]
  },
  {
   "cell_type": "code",
   "execution_count": 4,
   "id": "15a93f7d-eb10-43a0-bff1-4185f483b152",
   "metadata": {},
   "outputs": [
    {
     "ename": "ModuleNotFoundError",
     "evalue": "No module named 'utils'",
     "output_type": "error",
     "traceback": [
      "\u001b[0;31m---------------------------------------------------------------------------\u001b[0m",
      "\u001b[0;31mModuleNotFoundError\u001b[0m                       Traceback (most recent call last)",
      "Input \u001b[0;32mIn [4]\u001b[0m, in \u001b[0;36m<cell line: 1>\u001b[0;34m()\u001b[0m\n\u001b[0;32m----> 1\u001b[0m \u001b[38;5;28;01mfrom\u001b[39;00m \u001b[38;5;21;01mutils\u001b[39;00m\u001b[38;5;21;01m.\u001b[39;00m\u001b[38;5;21;01moa\u001b[39;00m \u001b[38;5;28;01mimport\u001b[39;00m dataCollector\n",
      "\u001b[0;31mModuleNotFoundError\u001b[0m: No module named 'utils'"
     ]
    }
   ],
   "source": [
    "from utils.oa import dataCollector"
   ]
  },
  {
   "cell_type": "markdown",
   "id": "775cdba2-3411-4f86-a254-cf9842d6a200",
   "metadata": {},
   "source": [
    "## Get data URL from the OpenAltimetry API\n",
    "\n",
    "* Go to [openaltimetry.org](https://openaltimetry.org/)\n",
    "* Select **BROWSE ICESAT-2 DATA**. \n",
    "* Select **ATL 08** on the left\n",
    "* Select a date\n",
    "* Click **SELECT A REGION** on the top left, and drew a rectangle\n",
    "* Right click on the rectangle and select **View Elevation profile**. This opens a pop up, and shows ATL06 and ATL08 elevations. \n",
    "* Scroll to the **bottom** and select **Get API URL**. Copy it."
   ]
  },
  {
   "cell_type": "markdown",
   "id": "45d5b63c-c41d-448a-949d-09680e5b45e4",
   "metadata": {
    "tags": []
   },
   "source": [
    "We can now initialize a `dataCollector` object, using the copy-pasted OpenAltimetry API URL, and the beam we would like to look at. \n",
    "\n",
    "Note, we don't need EarthData credentials for this."
   ]
  },
  {
   "cell_type": "code",
   "execution_count": null,
   "id": "99d0fe7a-bd9e-4e61-92c4-51940e033a49",
   "metadata": {},
   "outputs": [],
   "source": [
    "url = 'http://openaltimetry.org/data/api/icesat2/atl13?date=2020-12-15&minx=-77.858681&miny=25.728091&maxx=-77.831461&maxy=25.832559&trackId=1254&beamName=gt1r&beamName=gt1l&outputFormat=json'\n",
    "gtx = 'gt1r'\n",
    "is2data = dataCollector(oaurl=url, beam=gtx, verbose=True)"
   ]
  },
  {
   "cell_type": "markdown",
   "id": "9f8fc7cb-ad5a-429c-ba60-8a2fcd5e6d04",
   "metadata": {
    "tags": []
   },
   "source": [
    "### Another way to get the OA URL\n"
   ]
  },
  {
   "cell_type": "markdown",
   "id": "4fe1b4b5-273b-4083-8e06-24d383bb0775",
   "metadata": {},
   "source": [
    "Alternatively, we could use a date, track number, beam, and lat/lon bounding box as input to the `dataCollector`."
   ]
  },
  {
   "cell_type": "code",
   "execution_count": null,
   "id": "d934716a-7c38-428c-85d5-d81833e960c5",
   "metadata": {},
   "outputs": [],
   "source": [
    "latlims = [-70.34957, -70.24491]\n",
    "lonlims = [12.10769, 12.42636]\n",
    "rgt = 312 # track number\n",
    "gtx = 'gt2r' # The beam\n",
    "date = '2020-01-16'\n",
    "is2data = dataCollector(date=date, latlims=latlims, lonlims=lonlims, track=rgt, beam=gtx, verbose=True)"
   ]
  },
  {
   "cell_type": "markdown",
   "id": "f66b36e9-1d1f-4daf-9290-bfc11bf26f0f",
   "metadata": {},
   "source": [
    "Note that this also constructs the API url for us."
   ]
  },
  {
   "cell_type": "markdown",
   "id": "5a6116aa-1019-474f-a099-3248517f2fbb",
   "metadata": {},
   "source": [
    "### Requesting the data from the OpenAltimetry API\n",
    "Here we use the `requestData()` function of the `dataCollector` class, which is defined in `utils/oa.py`. It downloads ATL03, ATL06 and ATL08 data based on the inputs with which we initialized our `dataCollector`, and writes them to pandas dataframes."
   ]
  },
  {
   "cell_type": "code",
   "execution_count": null,
   "id": "ac7dbc12-4634-424f-a532-b7eaa12df3b9",
   "metadata": {},
   "outputs": [],
   "source": [
    "is2data.requestData(verbose=True)"
   ]
  },
  {
   "cell_type": "markdown",
   "id": "a99aba7d-e923-486c-92bc-f7b918949d7d",
   "metadata": {},
   "source": [
    "The data are now stored as pandas data frames in our `dataCollector` object. To verify this, we can run the cell below."
   ]
  },
  {
   "cell_type": "markdown",
   "id": "13cee4e0-1dd4-47a9-ad8a-8383af5d4590",
   "metadata": {},
   "source": [
    "## Plotting the data"
   ]
  },
  {
   "cell_type": "markdown",
   "id": "8b591354-c887-477c-86c7-4bdc708c8944",
   "metadata": {},
   "source": [
    "To make plots easier to produce, the `dataCollector` class in `utils/oa.py` has a method to plot the data that we downloaded. "
   ]
  },
  {
   "cell_type": "code",
   "execution_count": null,
   "id": "7f665878-80ee-4884-91da-ea975636cc66",
   "metadata": {
    "tags": []
   },
   "outputs": [],
   "source": [
    "%%capture\n",
    "fig = is2data.plotData()"
   ]
  },
  {
   "cell_type": "code",
   "execution_count": null,
   "id": "6e33950f-a9a7-4e9c-810d-a99386614774",
   "metadata": {},
   "outputs": [],
   "source": [
    "fig"
   ]
  },
  {
   "cell_type": "markdown",
   "id": "305e760a-a5f5-46e1-8ee6-2c4a0bdc5ce3",
   "metadata": {},
   "source": [
    "We can make a function to put all this together."
   ]
  },
  {
   "cell_type": "markdown",
   "id": "36b4b417-75bc-45b4-a6e8-89e857d58571",
   "metadata": {},
   "source": [
    "See the function `plot_from_oa_url` in `./coastal/plot.py`."
   ]
  },
  {
   "cell_type": "markdown",
   "id": "71019d21-9751-4cce-bd21-40d49d7aa11d",
   "metadata": {
    "tags": []
   },
   "source": [
    "## Examples"
   ]
  },
  {
   "cell_type": "code",
   "execution_count": null,
   "id": "c79b606c-8dd5-4aa5-bc27-320f4c05dc1f",
   "metadata": {},
   "outputs": [],
   "source": [
    "%%capture\n",
    "url = 'http://openaltimetry.org/data/api/icesat2/atl13?date=2020-12-15&minx=-77.858681&miny=25.728091&maxx=-77.831461&maxy=25.832559&trackId=1254&beamName=gt1r&beamName=gt1l&outputFormat=json'\n",
    "gtx = 'gt1r'\n",
    "myplot, mydata = plot_from_oa_url(url=url, gtx=gtx, title='Coastal Example')\n",
    "myplot.savefig('geemap_tutorial_exercise1.jpg', dpi=300)"
   ]
  },
  {
   "cell_type": "code",
   "execution_count": null,
   "id": "1f21871e-3d46-4390-8af4-46130b82e1e1",
   "metadata": {},
   "outputs": [],
   "source": [
    "myplot"
   ]
  },
  {
   "cell_type": "code",
   "execution_count": null,
   "id": "aa081fc3-6077-4804-85c3-bb27c5b4f434",
   "metadata": {},
   "outputs": [],
   "source": [
    "data = is2data.requestData()"
   ]
  },
  {
   "cell_type": "code",
   "execution_count": null,
   "id": "3fcb6efc-af0a-4d92-8387-495b54bdac72",
   "metadata": {},
   "outputs": [],
   "source": [
    "%%capture\n",
    "#use capture to prevent the plot\n",
    "url = 'http://openaltimetry.org/data/api/icesat2/atl12?date=2021-12-15&minx=-154.32381980236076&miny=56.873762230836434&maxx=-154.29895036037468&maxy=56.93202651616244&trackId=1280&beamName=gt1r&beamName=gt1l&outputFormat=json'\n",
    "gtx = 'gt1r'\n",
    "myplot, mydata = plot_from_oa_url(url=url, gtx=gtx, title='Alaska Coast')\n",
    "myplot.savefig('geemap_tutorial_exercise1.jpg', dpi=300)"
   ]
  },
  {
   "cell_type": "code",
   "execution_count": null,
   "id": "a3aaa302-aa98-4528-964c-ffd5ab5e5cd4",
   "metadata": {},
   "outputs": [],
   "source": [
    "myplot"
   ]
  },
  {
   "cell_type": "code",
   "execution_count": null,
   "id": "816c413d-ac88-4a00-a693-b31ea6e72976",
   "metadata": {},
   "outputs": [],
   "source": [
    "%%capture\n",
    "url = 'http://openaltimetry.org/data/api/icesat2/atl03?date=2020-01-16&minx=12.107692195781404&miny=-70.34956862465471&maxx=12.426364789894341&maxy=-70.2449105354736&trackId=312&beamName=gt3r&beamName=gt3l&beamName=gt2r&beamName=gt2l&beamName=gt1r&beamName=gt1l&outputFormat=json'\n",
    "gtx = 'gt2r'\n",
    "myplot, mydata = plot_from_oa_url(url=url, gtx=gtx, title='Lake Example')\n",
    "myplot.savefig('geemap_tutorial_exercise1.jpg', dpi=300)"
   ]
  },
  {
   "cell_type": "code",
   "execution_count": null,
   "id": "339fc7ce-dba0-4933-952c-2ae9bf690499",
   "metadata": {},
   "outputs": [],
   "source": [
    "myplot"
   ]
  },
  {
   "cell_type": "code",
   "execution_count": null,
   "id": "f04283c4-d722-480d-95e3-894101177f38",
   "metadata": {},
   "outputs": [],
   "source": []
  }
 ],
 "metadata": {
  "kernelspec": {
   "display_name": "Python 3 (ipykernel)",
   "language": "python",
   "name": "python3"
  },
  "language_info": {
   "codemirror_mode": {
    "name": "ipython",
    "version": 3
   },
   "file_extension": ".py",
   "mimetype": "text/x-python",
   "name": "python",
   "nbconvert_exporter": "python",
   "pygments_lexer": "ipython3",
   "version": "3.9.10"
  }
 },
 "nbformat": 4,
 "nbformat_minor": 5
}
