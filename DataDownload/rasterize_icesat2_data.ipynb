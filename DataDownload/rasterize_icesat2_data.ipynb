{
 "cells": [
  {
   "cell_type": "code",
   "execution_count": null,
   "id": "6ef0bca8",
   "metadata": {},
   "outputs": [],
   "source": [
    "#%matplotlib widget \n",
    "import numpy as np\n",
    "import time\n",
    "from datetime import datetime, timedelta\n",
    "import pandas as pd\n",
    "import geopandas as gpd\n",
    "import matplotlib.pyplot as plt\n",
    "from pyproj import Transformer, CRS\n",
    "from shapely.geometry import Polygon, Point\n",
    "from sliderule import sliderule\n",
    "from sliderule import icesat2\n",
    "from pyproj import Transformer, CRS\n",
    "import logging\n",
    "import requests\n",
    "import os\n",
    "import ipyleaflet\n",
    "from ipyleaflet import Map, GeoData, LayersControl,Rectangle, basemaps, basemap_to_tiles, TileLayer, SplitMapControl, Polygon\n",
    "from mpl_toolkits import mplot3d\n",
    "import rasterio\n",
    "from rasterio.plot import show\n",
    "from rasterio.transform import Affine"
   ]
  },
  {
   "cell_type": "code",
   "execution_count": null,
   "id": "13d96296",
   "metadata": {},
   "outputs": [],
   "source": [
    "url=\"icesat2sliderule.org\"\n",
    "icesat2.init(url, verbose=True, loglevel=logging.DEBUG)\n",
    "asset = \"nsidc-s3\""
   ]
  },
  {
   "cell_type": "markdown",
   "id": "76b29139-5a28-4744-9436-902d203bc792",
   "metadata": {},
   "source": [
    "## Introduction\n",
    "This notebook explores various ways of visualizing/manipulating/potentially rasterizing ATL03 data, with an emphasis on Arctic and Alaskan Coastal environments. NO CLAIMS ARE MADE ABOUT THE GEOLOCATION ACCURACY OF THE DATA, OR QUALITY OF THE CODE/METHODS.\n",
    "\n",
    "__To-Do__\n",
    "- Separate out strong/weak beams\n",
    "- Test YAPC and other signal instead of ATL03 land confidence (signal_conf_ph 3+)\n",
    "- Better account for CRS/Projections\n",
    "- Set realistic horizontal and vertical binning resolutions\n",
    "- Properly scale density values (set very high currently for viz/debugging)\n",
    "- Make sure non-square geotiffs don't break indexing\n",
    "- Figure out solution for writing cloud optimized geotiffs?\n",
    "- Improve speed of rasterizing/histogramming\n",
    "- Add no-data masks to geotiff\n",
    "\n",
    "__Author__: Jonathan Markel (jonathanmarkel@utexas.edu) March 23, 2022"
   ]
  },
  {
   "cell_type": "markdown",
   "id": "0c29474c-b649-4739-a3b7-308c1218f76b",
   "metadata": {
    "tags": []
   },
   "source": [
    "### Set query/download parameters\n",
    "Let's start with a bounding box GeoJSON and a time window, downloading all ICESat-2 ATL03 signal that matches our query."
   ]
  },
  {
   "cell_type": "code",
   "execution_count": null,
   "id": "4a9ccc9c-a994-40ad-a6e3-b8c53d277541",
   "metadata": {},
   "outputs": [],
   "source": [
    "# Find granules for the region of interest\n",
    "geo_bb = 'white_mountain.geojson'\n",
    "\n",
    "# Convert to Alaska polar stereo and EGM08 referenced heights\n",
    "#target_srs = \"EPSG:5396+EPSG:3855\" # not sure I'm doing this right later?\n",
    "\n",
    "# Convert white mountain bounding box to happy sliderule version polygon\n",
    "reg = icesat2.toregion(geo_bb) \n",
    "poly = reg['poly']\n",
    "\n",
    "# interactive plot from Eli/Erin example\n",
    "bb = [poly[0]['lon'], poly[0]['lat'], \n",
    "      poly[2]['lon'], poly[2]['lat']]\n",
    "\n",
    "# create polygon for plotting\n",
    "polygon = Polygon(\n",
    "    locations=poly,\n",
    "    color=\"green\"\n",
    ")\n",
    "\n",
    "# quick visualization - requires running the cell\n",
    "center = [poly[0]['lat'], poly[0]['lon']]\n",
    "zoom = 8\n",
    "m = Map(basemap=basemaps.Esri.WorldImagery, center=center, zoom=zoom)\n",
    "m.add_layer(polygon);\n",
    "m"
   ]
  },
  {
   "cell_type": "code",
   "execution_count": null,
   "id": "0fcd97d3-8480-47f2-8c32-5b2f95fc4ec5",
   "metadata": {},
   "outputs": [],
   "source": [
    "# Start time and end time for granule filtering\n",
    "time_start = \"2019-04-01T00:00:00Z\"\n",
    "time_end = \"2019-05-31T00:00:00Z\"\n",
    "\n",
    "granules_list = icesat2.cmr(polygon=poly, version='005', short_name='ATL03', \n",
    "                            time_start=time_start, \n",
    "                            time_end=time_end)\n",
    "granules_list"
   ]
  },
  {
   "cell_type": "code",
   "execution_count": null,
   "id": "e5bb3238-7cec-4b64-96dd-0443595cd1ef",
   "metadata": {},
   "outputs": [],
   "source": [
    "params = {}\n",
    "\n",
    "# Beam pair parameter - 0 default for all 3 reference beams\n",
    "track = 0\n",
    "\n",
    "# Reference ground track - default to all if not specified\n",
    "rgt = None\n",
    "\n",
    "# ICESat2 cycle 91 days\n",
    "cycle = None\n",
    "\n",
    "# Geographic region 1-14\n",
    "region = None\n",
    "\n",
    "# Compile parameters\n",
    "params['poly'] = poly\n",
    "#params['track'] = track\n",
    "#params['rgt'] = rgt\n",
    "#params['cycle'] = cycle\n",
    "#params['region'] = region\n",
    "#params['t0'] = t0\n",
    "#params['t1'] = t1\n",
    "\n",
    "# for now, lets just get med-high confidence land photons\n",
    "params['srt'] = 0\n",
    "params['cnf'] = 3\n",
    "\n",
    "#params['len'] = 20. # AT distance to consider groups\n",
    "#params['cnt'] = 10. # only return photons from AT len groups with at least this many photons\n",
    "#params['pass_invalid'] = True\n",
    "\n",
    "# ICESat-2 data release\n",
    "release = '005'"
   ]
  },
  {
   "cell_type": "markdown",
   "id": "e14ad051",
   "metadata": {
    "tags": []
   },
   "source": [
    "### Submitting Sliderule Request\n",
    "Now we will use the parameters specified above to submit our Sliderule request"
   ]
  },
  {
   "cell_type": "code",
   "execution_count": null,
   "id": "d2ecd817-5c84-4c29-a7a9-92d1fa620c75",
   "metadata": {},
   "outputs": [],
   "source": [
    "gdf = icesat2.atl03sp(params, asset=asset, version=release, resources=granules_list)\n",
    "gdf.head()"
   ]
  },
  {
   "cell_type": "code",
   "execution_count": null,
   "id": "522baa0c-1bc3-4a6f-9cf6-a34f98fab4de",
   "metadata": {},
   "outputs": [],
   "source": [
    "# remnant of testing different crs'\n",
    "data = gdf #.to_crs(target_srs)"
   ]
  },
  {
   "cell_type": "code",
   "execution_count": null,
   "id": "485ce8b3-aaec-4151-8578-addbcedc58cb",
   "metadata": {},
   "outputs": [],
   "source": [
    "# Read geojson with geopandas to plot alongside IS2 tracks\n",
    "pregion = gpd.read_file(geo_bb)#.to_crs(target_srs)"
   ]
  },
  {
   "cell_type": "code",
   "execution_count": null,
   "id": "189af400-4ebf-485e-86db-7c0143d707fa",
   "metadata": {},
   "outputs": [],
   "source": [
    "plt.figure(figsize=[8,6])\n",
    "\n",
    "# Plot bounding box\n",
    "f1 = pregion.boundary.plot()\n",
    "\n",
    "# Subsample photon data to reduce plotting chaos/memory load\n",
    "data.sample(10000).geometry.plot(ax=f1)"
   ]
  },
  {
   "cell_type": "code",
   "execution_count": null,
   "id": "ec149dc1-da08-4e02-98ef-106f91270360",
   "metadata": {},
   "outputs": [],
   "source": [
    "# Get plane data within a vertical bin\n",
    "v_bin = [0, 30] # bin ~30 meters above ~water to test viz\n",
    "data_plane = data.iloc[(data.height.values > v_bin[0]) & (data.height.values < v_bin[1])]"
   ]
  },
  {
   "cell_type": "markdown",
   "id": "f1a92058-2adc-494d-bd68-088014b6fa3b",
   "metadata": {},
   "source": [
    "Lets start with the case of rasterizing just one 'band' of ICESat-2 data, where the band consists of signal density in the range of 0-30m."
   ]
  },
  {
   "cell_type": "code",
   "execution_count": null,
   "id": "7d74a96b-09aa-4b25-b420-4acb3ab9b8ad",
   "metadata": {},
   "outputs": [],
   "source": [
    "# Define square grid to encapsulate entire bounding box\n",
    "x_plane = data_plane.geometry.x.values\n",
    "y_plane = data_plane.geometry.y.values\n",
    "# Multiple bands shouldnt have dynamically chan\n",
    "\n",
    "# Define horizontal bins (along/across track probably .5mx.5m)\n",
    "xbinedges = np.linspace(min(x_plane), max(x_plane), 100)\n",
    "ybinedges = np.linspace(min(y_plane), max(y_plane), 100)\n",
    "\n",
    "# Calculate rough histogram\n",
    "hist = np.histogram2d(data_plane.geometry.x.values, data_plane.geometry.y.values, [xbinedges, ybinedges])"
   ]
  },
  {
   "cell_type": "code",
   "execution_count": null,
   "id": "632f5e4c-ddf6-4a43-87f7-c94cf73e4c84",
   "metadata": {},
   "outputs": [],
   "source": [
    "plt.figure(figsize=[8,6])\n",
    "ax1 = plt.subplot(121)\n",
    "hist, _, _, fig = plt.hist2d(data_plane.geometry.x.values, data_plane.geometry.y.values, [xbinedges, ybinedges], cmap='binary')\n",
    "plt.title('Rasterized ATL03 Test')\n",
    "plt.xlabel('Longitude')\n",
    "plt.ylabel('Latitude')\n",
    "\n",
    "ax2 = plt.subplot(122, sharex=ax1, sharey=ax1)\n",
    "data.sample(10000).geometry.plot(ax=ax2)\n",
    "plt.title('Raw IS2 Data')\n",
    "plt.xlabel('Longitude')\n",
    "plt.ylabel('Latitude')"
   ]
  },
  {
   "cell_type": "code",
   "execution_count": null,
   "id": "c8b1b3af-4138-4f56-92c2-1986dbe3930c",
   "metadata": {},
   "outputs": [],
   "source": [
    "# Plot 3D data to get a sense of topography and scale\n",
    "# enable %matplotlib widget at top and rerun to make interactive\n",
    "\n",
    "fig = plt.figure()\n",
    "ax = plt.axes(projection='3d')\n",
    "ds = data.sample(10000)\n",
    "xdata = ds.geometry.x\n",
    "ydata = ds.geometry.y\n",
    "zdata = ds.height\n",
    "ax.scatter3D(xdata, ydata, zdata, c=zdata, cmap='viridis');"
   ]
  },
  {
   "cell_type": "code",
   "execution_count": null,
   "id": "26015500-c1f1-4a34-bcfa-02884b4b75bc",
   "metadata": {},
   "outputs": [],
   "source": [
    "len(vbins)"
   ]
  },
  {
   "cell_type": "markdown",
   "id": "3214addd",
   "metadata": {
    "tags": []
   },
   "source": [
    "### Converting Sliced ICESat-2 ATL03 into GeoTIFF\n",
    "\n",
    "Uses the slices of ICESat-2 data as bands of the Geotiff file"
   ]
  },
  {
   "cell_type": "code",
   "execution_count": null,
   "id": "351f27b3-f91c-4aa0-b21d-2b20a677a1d3",
   "metadata": {},
   "outputs": [],
   "source": [
    "# convert sliced icesat2 data into multi band geotiff\n",
    "# using part of https://stackoverflow.com/questions/33537599/how-do-i-write-create-a-geotiff-rgb-image-file-in-python\n",
    "\n",
    "# this scene looks to have some elevation change (0 - 300+ m), so we'll choose according vertical bin sizes to test with\n",
    "vbins = [(-50, 50), (50, 200), (200, 1000)]\n",
    "n = len(vbins)\n",
    "\n",
    "# define the x, y resolution at which to rasterize the icesat2 data\n",
    "# using square for now for quick testing - not checked for non-square arrays\n",
    "x_im = 400\n",
    "y_im = x_im\n",
    "\n",
    "image_size = (n, x_im, y_im)\n",
    "\n",
    "# use the max limits of the input bounding box to define the bounds of the resulting image\n",
    "# print('Overall bounding box of input geojson', reg['raster']['bbox'])\n",
    "\n",
    "lat = [reg['raster']['bbox'][1], reg['raster']['bbox'][3]]\n",
    "lon = [reg['raster']['bbox'][0],reg['raster']['bbox'][2]]\n",
    "\n",
    "#  preallocating channel array\n",
    "pixels = np.zeros((image_size), dtype=np.uint8)\n",
    "\n",
    "# defining edges of histogramming bins\n",
    "xbinedges = np.linspace(lon[0], lon[1], x_im+1)\n",
    "ybinedges = np.linspace(lat[0], lat[1], y_im+1)\n",
    "\n",
    "# look at each slice (vertical bin) of the icesat2 data\n",
    "for i in range(n):\n",
    "    \n",
    "    # Get data within a vertical bin\n",
    "    bin_bot = vbins[i][0]\n",
    "    bin_top = vbins[i][1]\n",
    "    #print(bin_bot, bin_top)\n",
    "    data_plane = data.iloc[(data.height.values > bin_bot) & (data.height.values < bin_top)]\n",
    "    \n",
    "    # count up how many photons fall in each lat/lon bucket\n",
    "    # hmm, this is not a particularly fast function here even with coarse values...\n",
    "    hist_i = np.histogram2d(data_plane.geometry.x.values, data_plane.geometry.y.values, [xbinedges, ybinedges])\n",
    "    \n",
    "    # RESCALING IMAGE INTENSITY FOR EASIER VISUALIZATION/DEBUGGING\n",
    "    # REMOVE THIS STEP IN LATER ANALYSIS\n",
    "    pixels[i, :, :] = hist_i[0] / hist_i[0].max() * 255\n",
    "    \n",
    "    #pixels[i, :, :] = hist_i[0]\n",
    "    "
   ]
  },
  {
   "cell_type": "markdown",
   "id": "ed467ef6-781f-4a54-ad8f-b574ed5d45ec",
   "metadata": {},
   "source": [
    "### Writing the multi-'band' GeoTIFF"
   ]
  },
  {
   "cell_type": "markdown",
   "id": "800edc2a-f406-448b-ab09-ce840bc356b3",
   "metadata": {},
   "source": [
    "Note: GDAL drivers for __cloud optimized geotiffs__ dont support writing."
   ]
  },
  {
   "cell_type": "code",
   "execution_count": null,
   "id": "b8da7a9d-c615-4912-8096-687a610889d5",
   "metadata": {},
   "outputs": [],
   "source": [
    "# using rasterio\n",
    "# https://rasterio.readthedocs.io/en/latest/quickstart.html#creating-data\n",
    "\n",
    "output_raster_filename = 'sample_is2_multiband_raster.tif'\n",
    "\n",
    "# coordinate transformation\n",
    "# verify this is right with better GIS folks and coffee\n",
    "res = (lon[1] - lon[0]) / x_im\n",
    "transform = Affine.translation(lon[0] - res / 2, lat[0] - res / 2) * Affine.scale(res, res)\n",
    "\n",
    "# writing geotiff file\n",
    "Z = np.transpose(pixels[:, :, :], [0, 2, 1])\n",
    "with rasterio.open(\n",
    "    output_raster_filename,\n",
    "    'w',\n",
    "    driver='GTiff',\n",
    "    height=Z.shape[1],\n",
    "    width=Z.shape[2],\n",
    "    count=Z.shape[0],\n",
    "    dtype=Z.dtype,\n",
    "    crs=\"+proj=longlat +ellps=WGS84 +datum=WGS84 +no_defs\",\n",
    "    transform=transform) as dst:\n",
    "    dst.write(Z)"
   ]
  },
  {
   "cell_type": "code",
   "execution_count": null,
   "id": "3b2428a5-04ea-4855-a1f0-1017ed54c4bc",
   "metadata": {},
   "outputs": [],
   "source": [
    "# Check that rasterio is able to open the file and that referencing looks right\n",
    "\n",
    "fp = r'sample_is2_multiband_raster.tif'\n",
    "src = rasterio.open(fp)\n",
    "show(src)\n",
    "# note inverted latitude because of how matplotlib plots 2d arrays starting in upper left corner"
   ]
  },
  {
   "cell_type": "code",
   "execution_count": null,
   "id": "b543e274-73ca-44bc-96df-bd9c6f5ec454",
   "metadata": {},
   "outputs": [],
   "source": [
    "# Compare each of the bands stored in the geotiff file\n",
    "\n",
    "fig, (axr, axg, axb) = plt.subplots(1,3, figsize=(21,7))\n",
    "show((src, 1), ax=axr, cmap='Spectral', title='-50 to 50m photon density')\n",
    "show((src, 2), ax=axg, cmap='Spectral', title='50 to 200m photon density')\n",
    "show((src, 3), ax=axb, cmap='Spectral', title='200m+ photon density')\n",
    "plt.show()"
   ]
  }
 ],
 "metadata": {
  "kernelspec": {
   "display_name": "Python 3 (ipykernel)",
   "language": "python",
   "name": "python3"
  },
  "language_info": {
   "codemirror_mode": {
    "name": "ipython",
    "version": 3
   },
   "file_extension": ".py",
   "mimetype": "text/x-python",
   "name": "python",
   "nbconvert_exporter": "python",
   "pygments_lexer": "ipython3",
   "version": "3.8.12"
  }
 },
 "nbformat": 4,
 "nbformat_minor": 5
}
