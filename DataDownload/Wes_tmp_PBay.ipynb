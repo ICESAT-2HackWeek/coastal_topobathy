{
 "cells": [
  {
   "cell_type": "code",
   "execution_count": null,
   "id": "92bdf0b1-9494-4366-b952-a26923d21893",
   "metadata": {},
   "outputs": [],
   "source": [
    "!git clone https://github.com/ICESat2-SlideRule/sliderule-python.git"
   ]
  },
  {
   "cell_type": "code",
   "execution_count": null,
   "id": "0458fd82-4292-49b0-83ee-3a5ef89c1176",
   "metadata": {},
   "outputs": [],
   "source": [
    "ls-l"
   ]
  },
  {
   "cell_type": "code",
   "execution_count": 2,
   "id": "e1539579-ca0e-4710-8246-bb707c272d2c",
   "metadata": {},
   "outputs": [],
   "source": [
    "import numpy as np\n",
    "import time\n",
    "from datetime import datetime, timedelta\n",
    "import pandas as pd\n",
    "import geopandas as gpd\n",
    "import matplotlib.pyplot as plt\n",
    "from pyproj import Transformer, CRS\n",
    "from shapely.geometry import Polygon, Point\n",
    "from sliderule import sliderule\n",
    "from sliderule import icesat2\n",
    "from pyproj import Transformer, CRS\n",
    "import requests\n",
    "import ipyleaflet\n",
    "from ipyleaflet import Map, GeoData, LayersControl,Rectangle, basemaps, basemap_to_tiles, TileLayer, SplitMapControl, Polygon"
   ]
  },
  {
   "cell_type": "code",
   "execution_count": 3,
   "id": "5bd1f191-9763-4742-879d-e3802602d91c",
   "metadata": {},
   "outputs": [],
   "source": [
    "icesat2.init(\"icesat2sliderule.org\", verbose=True)"
   ]
  },
  {
   "cell_type": "code",
   "execution_count": 4,
   "id": "043f78df-e6cb-4819-8af3-2ae766461e8b",
   "metadata": {},
   "outputs": [],
   "source": [
    "spatialExtent = icesat2.toregion('PBay_GeoJSON.geojson')[\"poly\"]"
   ]
  },
  {
   "cell_type": "code",
   "execution_count": null,
   "id": "019f9453-20a2-4f0c-993d-ce6b47416c61",
   "metadata": {},
   "outputs": [],
   "source": [
    "!cd sliderule-python"
   ]
  },
  {
   "cell_type": "code",
   "execution_count": null,
   "id": "6e190e2a-4727-4a2a-95cd-b12c8b5994c7",
   "metadata": {},
   "outputs": [],
   "source": [
    "pwd\n"
   ]
  },
  {
   "cell_type": "code",
   "execution_count": 3,
   "id": "44431dd0-3214-4e27-b1f6-d83f20d42c7e",
   "metadata": {},
   "outputs": [
    {
     "name": "stdout",
     "output_type": "stream",
     "text": [
      "/home/jovyan/Wes_tmp/sliderule-python\n"
     ]
    }
   ],
   "source": [
    "cd sliderule-python"
   ]
  },
  {
   "cell_type": "code",
   "execution_count": 4,
   "id": "75842197-4395-4e78-8218-9d0331687285",
   "metadata": {},
   "outputs": [
    {
     "name": "stdout",
     "output_type": "stream",
     "text": [
      "Collecting package metadata (repodata.json): done\n",
      "Solving environment: done\n",
      "\n",
      "\n",
      "==> WARNING: A newer version of conda exists. <==\n",
      "  current version: 4.11.0\n",
      "  latest version: 4.12.0\n",
      "\n",
      "Please update conda by running\n",
      "\n",
      "    $ conda update -n base conda\n",
      "\n",
      "\n",
      "\n",
      "Downloading and Extracting Packages\n",
      "hdf4-4.2.15          | 950 KB    | ##################################### | 100% \n",
      "libnghttp2-1.47.0    | 808 KB    | ##################################### | 100% \n",
      "pandas-1.4.1         | 13.3 MB   | ##################################### | 100% \n",
      "boost-cpp-1.74.0     | 16.3 MB   | ##################################### | 100% \n",
      "dbus-1.13.6          | 604 KB    | ##################################### | 100% \n",
      "python_abi-3.8       | 4 KB      | ##################################### | 100% \n",
      "networkx-2.7.1       | 1.5 MB    | ##################################### | 100% \n",
      "libxkbcommon-1.0.3   | 581 KB    | ##################################### | 100% \n",
      "nss-3.76             | 2.1 MB    | ##################################### | 100% \n",
      "nbclient-0.5.13      | 64 KB     | ##################################### | 100% \n",
      "backcall-0.2.0       | 13 KB     | ##################################### | 100% \n",
      "pyzmq-22.3.0         | 515 KB    | ##################################### | 100% \n",
      "tk-8.6.12            | 3.3 MB    | ##################################### | 100% \n",
      "jpeg-9e              | 269 KB    | ##################################### | 100% \n",
      "fonts-conda-forge-1  | 4 KB      | ##################################### | 100% \n",
      "xorg-libx11-1.7.2    | 941 KB    | ##################################### | 100% \n",
      "anyio-3.5.0          | 151 KB    | ##################################### | 100% \n",
      "poppler-22.01.0      | 18.2 MB   | ##################################### | 100% \n",
      "stack_data-0.2.0     | 21 KB     | ##################################### | 100% \n",
      "ld_impl_linux-64-2.3 | 667 KB    | ##################################### | 100% \n",
      "pandoc-2.17.1.1      | 11.9 MB   | ##################################### | 100% \n",
      "xorg-xextproto-7.3.0 | 28 KB     | ##################################### | 100% \n",
      "six-1.16.0           | 14 KB     | ##################################### | 100% \n",
      "markupsafe-2.1.1     | 22 KB     | ##################################### | 100% \n",
      "libwebp-base-1.2.2   | 824 KB    | ##################################### | 100% \n",
      "jupyterlab_server-2. | 47 KB     | ##################################### | 100% \n",
      "pthread-stubs-0.4    | 5 KB      | ##################################### | 100% \n",
      "libnetcdf-4.8.1      | 1.5 MB    | ##################################### | 100% \n",
      "libspatialite-5.0.1  | 4.5 MB    | ##################################### | 100% \n",
      "libpq-14.2           | 3.0 MB    | ##################################### | 100% \n",
      "libbrotlienc-1.0.9   | 286 KB    | ##################################### | 100% \n",
      "jupyter_server-1.15. | 241 KB    | ##################################### | 100% \n",
      "ca-certificates-2021 | 139 KB    | ##################################### | 100% \n",
      "executing-0.8.3      | 18 KB     | ##################################### | 100% \n",
      "libpng-1.6.37        | 306 KB    | ##################################### | 100% \n",
      "kiwisolver-1.4.0     | 73 KB     | ##################################### | 100% \n",
      "readline-8.1         | 295 KB    | ##################################### | 100% \n",
      "krb5-1.19.3          | 1.4 MB    | ##################################### | 100% \n",
      "libbrotlidec-1.0.9   | 33 KB     | ##################################### | 100% \n",
      "libglib-2.70.2       | 3.1 MB    | ##################################### | 100% \n",
      "liblapack-3.9.0      | 12 KB     | ##################################### | 100% \n",
      "proj-9.0.0           | 3.0 MB    | ##################################### | 100% \n",
      "tzcode-2022a         | 69 KB     | ##################################### | 100% \n",
      "fonts-conda-ecosyste | 4 KB      | ##################################### | 100% \n",
      "libllvm13-13.0.1     | 33.6 MB   | ##################################### | 100% \n",
      "pygments-2.11.2      | 796 KB    | ##################################### | 100% \n",
      "nbclassic-0.3.7      | 14 KB     | ##################################### | 100% \n",
      "lz4-c-1.9.3          | 179 KB    | ##################################### | 100% \n",
      "prometheus_client-0. | 47 KB     | ##################################### | 100% \n",
      "tiledb-2.7.1         | 3.3 MB    | ##################################### | 100% \n",
      "pytables-3.7.0       | 2.0 MB    | ##################################### | 100% \n",
      "geopandas-base-0.10. | 982 KB    | ##################################### | 100% \n",
      "gstreamer-1.20.1     | 2.0 MB    | ##################################### | 100% \n",
      "numpy-1.22.3         | 6.8 MB    | ##################################### | 100% \n",
      "xorg-xproto-7.0.31   | 73 KB     | ##################################### | 100% \n",
      "geopandas-0.10.2     | 5 KB      | ##################################### | 100% \n",
      "alsa-lib-1.2.3       | 560 KB    | ##################################### | 100% \n",
      "blosc-1.21.0         | 841 KB    | ##################################### | 100% \n",
      "zeromq-4.3.4         | 351 KB    | ##################################### | 100% \n",
      "asttokens-2.0.5      | 21 KB     | ##################################### | 100% \n",
      "json5-0.9.5          | 20 KB     | ##################################### | 100% \n",
      "nomkl-1.0            | 4 KB      | ##################################### | 100% \n",
      "requests-2.27.1      | 53 KB     | ##################################### | 100% \n",
      "setuptools-scm-6.4.2 | 31 KB     | ##################################### | 100% \n",
      "libdap4-3.20.6       | 11.3 MB   | ##################################### | 100% \n",
      "ptyprocess-0.7.0     | 16 KB     | ##################################### | 100% \n",
      "python-3.8.12        | 26.2 MB   | ##################################### | 100% \n",
      "xorg-libxrender-0.9. | 32 KB     | ##################################### | 100% \n",
      "jsonschema-4.4.0     | 57 KB     | ##################################### | 100% \n",
      "wheel-0.37.1         | 31 KB     | ##################################### | 100% \n",
      "cligj-0.7.2          | 10 KB     | ##################################### | 100% \n",
      "send2trash-1.8.0     | 17 KB     | ##################################### | 100% \n",
      "pyopenssl-22.0.0     | 49 KB     | ##################################### | 100% \n",
      "joblib-1.1.0         | 210 KB    | ##################################### | 100% \n",
      "libgfortran-ng-11.2. | 20 KB     | ##################################### | 100% \n",
      "libsodium-1.0.18     | 366 KB    | ##################################### | 100% \n",
      "h5py-3.6.0           | 1.4 MB    | ##################################### | 100% \n",
      "matplotlib-3.5.1     | 6 KB      | ##################################### | 100% \n",
      "font-ttf-source-code | 684 KB    | ##################################### | 100% \n",
      "munkres-1.1.4        | 12 KB     | ##################################### | 100% \n",
      "prompt-toolkit-3.0.2 | 252 KB    | ##################################### | 100% \n",
      "libxml2-2.9.12       | 760 KB    | ##################################### | 100% \n",
      "sniffio-1.2.0        | 15 KB     | ##################################### | 100% \n",
      "libdeflate-1.10      | 77 KB     | ##################################### | 100% \n",
      "xz-5.2.5             | 343 KB    | ##################################### | 100% \n",
      "libspatialindex-1.9. | 4.6 MB    | ##################################### | 100% \n",
      "argon2-cffi-21.3.0   | 15 KB     | ##################################### | 100% \n",
      "setuptools_scm-6.4.2 | 4 KB      | ##################################### | 100% \n",
      "urllib3-1.26.9       | 100 KB    | ##################################### | 100% \n",
      "mysql-common-8.0.28  | 1.8 MB    | ##################################### | 100% \n",
      "notebook-6.4.10      | 6.3 MB    | ##################################### | 100% \n",
      "font-ttf-inconsolata | 94 KB     | ##################################### | 100% \n",
      "jupyter_core-4.9.2   | 81 KB     | ##################################### | 100% \n",
      "json-c-0.15          | 274 KB    | ##################################### | 100% \n",
      "font-ttf-dejavu-sans | 388 KB    | ##################################### | 100% \n",
      "entrypoints-0.4      | 9 KB      | ##################################### | 100% \n",
      "mistune-0.8.4        | 54 KB     | ##################################### | 100% \n",
      "websocket-client-1.3 | 41 KB     | ##################################### | 100% \n",
      "curl-7.82.0          | 90 KB     | ##################################### | 100% \n",
      "certifi-2021.10.8    | 145 KB    | ##################################### | 100% \n",
      "pixman-0.40.0        | 627 KB    | ##################################### | 100% \n",
      "xerces-c-3.2.3       | 1.8 MB    | ##################################### | 100% \n",
      "libtiff-4.3.0        | 638 KB    | ##################################### | 100% \n",
      "libssh2-1.10.0       | 233 KB    | ##################################### | 100% \n",
      "fiona-1.8.21         | 1.0 MB    | ##################################### | 100% \n",
      "icu-69.1             | 13.2 MB   | ##################################### | 100% \n",
      "cycler-0.11.0        | 10 KB     | ##################################### | 100% \n",
      "pcre-8.45            | 253 KB    | ##################################### | 100% \n",
      "libgomp-11.2.0       | 429 KB    | ##################################### | 100% \n",
      "lerc-3.0             | 216 KB    | ##################################### | 100% \n",
      "pytz-2022.1          | 242 KB    | ##################################### | 100% \n",
      "libiconv-1.16        | 1.4 MB    | ##################################### | 100% \n",
      "matplotlib-base-3.5. | 7.4 MB    | ##################################### | 100% \n",
      "pyqtwebengine-5.12.1 | 175 KB    | ##################################### | 100% \n",
      "terminado-0.13.3     | 27 KB     | ##################################### | 100% \n",
      "ncurses-6.3          | 1012 KB   | ##################################### | 100% \n",
      "importlib_resources- | 21 KB     | ##################################### | 100% \n",
      "lcms2-2.12           | 443 KB    | ##################################### | 100% \n",
      "pyrsistent-0.18.1    | 91 KB     | ##################################### | 100% \n",
      "wcwidth-0.2.5        | 33 KB     | ##################################### | 100% \n",
      "pickleshare-0.7.5    | 9 KB      | ##################################### | 100% \n",
      "keyutils-1.6.1       | 115 KB    | ##################################### | 100% \n",
      "rtree-0.9.7          | 45 KB     | ##################################### | 100% \n",
      "mysql-libs-8.0.28    | 1.9 MB    | ##################################### | 100% \n",
      "libogg-1.3.4         | 206 KB    | ##################################### | 100% \n",
      "ipykernel-6.9.2      | 184 KB    | ##################################### | 100% \n",
      "openjpeg-2.4.0       | 444 KB    | ##################################### | 100% \n",
      "packaging-21.3       | 36 KB     | ##################################### | 100% \n",
      "_libgcc_mutex-0.1    | 3 KB      | ##################################### | 100% \n",
      "geos-3.10.2          | 1.6 MB    | ##################################### | 100% \n",
      "libcblas-3.9.0       | 12 KB     | ##################################### | 100% \n",
      "nest-asyncio-1.5.4   | 9 KB      | ##################################### | 100% \n",
      "pexpect-4.8.0        | 47 KB     | ##################################### | 100% \n",
      "pandocfilters-1.5.0  | 11 KB     | ##################################### | 100% \n",
      "numexpr-2.8.0        | 135 KB    | ##################################### | 100% \n",
      "jbig-2.1             | 43 KB     | ##################################### | 100% \n",
      "traittypes-0.2.1     | 10 KB     | ##################################### | 100% \n",
      "zstd-1.5.2           | 458 KB    | ##################################### | 100% \n",
      "jupyter_client-7.1.2 | 90 KB     | ##################################### | 100% \n",
      "flit-core-3.7.1      | 44 KB     | ##################################### | 100% \n",
      "sqlite-3.37.1        | 1.5 MB    | ##################################### | 100% \n",
      "xorg-libxext-1.3.4   | 54 KB     | ##################################### | 100% \n",
      "qt-5.12.9            | 98.6 MB   | ##################################### | 100% \n",
      "libgcc-ng-11.2.0     | 906 KB    | ##################################### | 100% \n",
      "libopus-1.3.1        | 255 KB    | ##################################### | 100% \n",
      "freetype-2.10.4      | 890 KB    | ##################################### | 100% \n",
      "gettext-0.19.8.1     | 3.6 MB    | ##################################### | 100% \n",
      "testpath-0.6.0       | 85 KB     | ##################################### | 100% \n",
      "nbconvert-6.4.4      | 528 KB    | ##################################### | 100% \n",
      "webencodings-0.5.1   | 12 KB     | ##################################### | 100% \n",
      "libzlib-1.2.11       | 59 KB     | ##################################### | 100% \n",
      "librttopo-1.1.0      | 235 KB    | ##################################### | 100% \n",
      "libvorbis-1.3.7      | 280 KB    | ##################################### | 100% \n",
      "zipp-3.7.0           | 12 KB     | ##################################### | 100% \n",
      "poppler-data-0.4.11  | 3.6 MB    | ##################################### | 100% \n",
      "libxcb-1.13          | 391 KB    | ##################################### | 100% \n",
      "brotli-1.0.9         | 18 KB     | ##################################### | 100% \n",
      "unicodedata2-14.0.0  | 504 KB    | ##################################### | 100% \n",
      "giflib-5.2.1         | 77 KB     | ##################################### | 100% \n",
      "freexl-1.0.6         | 48 KB     | ##################################### | 100% \n",
      "xorg-libsm-1.2.3     | 26 KB     | ##################################### | 100% \n",
      "backports-1.0        | 4 KB      | ##################################### | 100% \n",
      "ipympl-0.8.8         | 344 KB    | ##################################### | 100% \n",
      "xorg-kbproto-1.0.7   | 27 KB     | ##################################### | 100% \n",
      "libwebp-1.2.2        | 85 KB     | ##################################### | 100% \n",
      "babel-2.9.1          | 6.2 MB    | ##################################### | 100% \n",
      "nspr-4.32            | 233 KB    | ##################################### | 100% \n",
      "ipython_genutils-0.2 | 21 KB     | ##################################### | 100% \n",
      "libev-4.33           | 104 KB    | ##################################### | 100% \n",
      "setuptools-60.10.0   | 1.2 MB    | ##################################### | 100% \n",
      "libblas-3.9.0        | 12 KB     | ##################################### | 100% \n",
      "pip-22.0.4           | 1.5 MB    | ##################################### | 100% \n",
      "branca-0.4.2         | 26 KB     | ##################################### | 100% \n",
      "libstdcxx-ng-11.2.0  | 4.2 MB    | ##################################### | 100% \n",
      "libgdal-3.4.2        | 13.9 MB   | ##################################### | 100% \n",
      "attrs-21.4.0         | 49 KB     | ##################################### | 100% \n",
      "threadpoolctl-3.1.0  | 18 KB     | ##################################### | 100% \n",
      "xorg-libxau-1.0.9    | 13 KB     | ##################################### | 100% \n",
      "libkml-1.3.0         | 591 KB    | ##################################### | 100% \n",
      "widgetsnbextension-3 | 1.2 MB    | ##################################### | 100% \n",
      "xyzservices-2022.3.0 | 29 KB     | ##################################### | 100% \n",
      "xorg-libxdmcp-1.1.3  | 19 KB     | ##################################### | 100% \n",
      "cached_property-1.5. | 11 KB     | ##################################### | 100% \n",
      "cached-property-1.5. | 4 KB      | ##################################### | 100% \n",
      "shapely-1.8.0        | 375 KB    | ##################################### | 100% \n",
      "geotiff-1.7.1        | 305 KB    | ##################################### | 100% \n",
      "libuuid-2.32.1       | 28 KB     | ##################################### | 100% \n",
      "tomli-2.0.1          | 16 KB     | ##################################### | 100% \n",
      "ipywidgets-7.7.0     | 103 KB    | ##################################### | 100% \n",
      "libcurl-7.82.0       | 341 KB    | ##################################### | 100% \n",
      "hdf5-1.12.1          | 3.5 MB    | ##################################### | 100% \n",
      "pyqt5-sip-4.19.18    | 311 KB    | ##################################### | 100% \n",
      "parso-0.8.3          | 69 KB     | ##################################### | 100% \n",
      "jupyterlab-3.3.2     | 6.0 MB    | ##################################### | 100% \n",
      "libgfortran5-11.2.0  | 1.7 MB    | ##################################### | 100% \n",
      "c-ares-1.18.1        | 113 KB    | ##################################### | 100% \n",
      "idna-3.3             | 55 KB     | ##################################### | 100% \n",
      "jupyterlab_widgets-1 | 133 KB    | ##################################### | 100% \n",
      "expat-2.4.7          | 187 KB    | ##################################### | 100% \n",
      "pycparser-2.21       | 100 KB    | ##################################### | 100% \n",
      "libbrotlicommon-1.0. | 65 KB     | ##################################### | 100% \n",
      "munch-2.5.0          | 12 KB     | ##################################### | 100% \n",
      "folium-0.12.1.post1  | 64 KB     | ##################################### | 100% \n",
      "cfitsio-4.1.0        | 1.3 MB    | ##################################### | 100% \n",
      "backports.functools_ | 9 KB      | ##################################### | 100% \n",
      "fonttools-4.31.2     | 1.6 MB    | ##################################### | 100% \n",
      "gst-plugins-base-1.2 | 2.8 MB    | ##################################### | 100% \n",
      "mapclassify-2.4.3    | 36 KB     | ##################################### | 100% \n",
      "lzo-2.10             | 314 KB    | ##################################### | 100% \n",
      "matplotlib-inline-0. | 11 KB     | ##################################### | 100% \n",
      "defusedxml-0.7.1     | 23 KB     | ##################################### | 100% \n",
      "pyqt-impl-5.12.3     | 5.9 MB    | ##################################### | 100% \n",
      "pyqtchart-5.12       | 257 KB    | ##################################### | 100% \n",
      "cffi-1.15.0          | 226 KB    | ##################################### | 100% \n",
      "_openmp_mutex-4.5    | 22 KB     | ##################################### | 100% \n",
      "libopenblas-0.3.18   | 9.6 MB    | ##################################### | 100% \n",
      "decorator-5.1.1      | 12 KB     | ##################################### | 100% \n",
      "importlib-metadata-4 | 33 KB     | ##################################### | 100% \n",
      "pysocks-1.7.1        | 28 KB     | ##################################### | 100% \n",
      "nbformat-5.2.0       | 105 KB    | ##################################### | 100% \n",
      "click-8.0.4          | 146 KB    | ##################################### | 100% \n",
      "notebook-shim-0.1.0  | 15 KB     | ##################################### | 100% \n",
      "cryptography-36.0.2  | 1.6 MB    | ##################################### | 100% \n",
      "postgresql-14.2      | 5.5 MB    | ##################################### | 100% \n",
      "cairo-1.16.0         | 1.5 MB    | ##################################### | 100% \n",
      "libzip-1.8.0         | 126 KB    | ##################################### | 100% \n",
      "scikit-learn-1.0.2   | 8.0 MB    | ##################################### | 100% \n",
      "psutil-5.9.0         | 346 KB    | ##################################### | 100% \n",
      "beautifulsoup4-4.10. | 77 KB     | ##################################### | 100% \n",
      "pillow-9.0.1         | 44.5 MB   | ##################################### | 100% \n",
      "ipython-8.1.1        | 1.1 MB    | ##################################### | 100% \n",
      "zlib-1.2.11          | 86 KB     | ##################################### | 100% \n",
      "scipy-1.8.0          | 23.6 MB   | ##################################### | 100% \n",
      "xorg-libice-1.0.10   | 58 KB     | ##################################### | 100% \n",
      "ipyleaflet-0.15.0    | 2.3 MB    | ##################################### | 100% \n",
      "openssl-1.1.1n       | 2.1 MB    | ##################################### | 100% \n",
      "brotlipy-0.7.0       | 342 KB    | ##################################### | 100% \n",
      "pyproj-3.3.0         | 504 KB    | ##################################### | 100% \n",
      "tornado-6.1          | 647 KB    | ##################################### | 100% \n",
      "font-ttf-ubuntu-0.83 | 1.9 MB    | ##################################### | 100% \n",
      "click-plugins-1.1.1  | 9 KB      | ##################################### | 100% \n",
      "pyparsing-3.0.7      | 79 KB     | ##################################### | 100% \n",
      "fontconfig-2.13.96   | 306 KB    | ##################################### | 100% \n",
      "libffi-3.4.2         | 57 KB     | ##################################### | 100% \n",
      "pyqt-5.12.3          | 22 KB     | ##################################### | 100% \n",
      "soupsieve-2.3.1      | 33 KB     | ##################################### | 100% \n",
      "bzip2-1.0.8          | 484 KB    | ##################################### | 100% \n",
      "traitlets-5.1.1      | 82 KB     | ##################################### | 100% \n",
      "libevent-2.1.10      | 1.1 MB    | ##################################### | 100% \n",
      "gdal-3.4.2           | 1.8 MB    | ##################################### | 100% \n",
      "tzdata-2022a         | 121 KB    | ##################################### | 100% \n",
      "debugpy-1.5.1        | 2.0 MB    | ##################################### | 100% \n",
      "argon2-cffi-bindings | 34 KB     | ##################################### | 100% \n",
      "libclang-13.0.1      | 11.1 MB   | ##################################### | 100% \n",
      "libedit-3.1.20191231 | 121 KB    | ##################################### | 100% \n",
      "charset-normalizer-2 | 35 KB     | ##################################### | 100% \n",
      "jedi-0.18.1          | 1010 KB   | ##################################### | 100% \n",
      "brotli-bin-1.0.9     | 19 KB     | ##################################### | 100% \n",
      "kealib-1.4.14        | 186 KB    | ##################################### | 100% \n",
      "jupyterlab_pygments- | 8 KB      | ##################################### | 100% \n",
      "xorg-renderproto-0.1 | 9 KB      | ##################################### | 100% \n",
      "pure_eval-0.2.2      | 14 KB     | ##################################### | 100% \n",
      "libnsl-2.0.0         | 31 KB     | ##################################### | 100% \n",
      "jinja2-3.1.0         | 98 KB     | ##################################### | 100% \n",
      "python-dateutil-2.8. | 240 KB    | ##################################### | 100% \n",
      "bleach-4.1.0         | 121 KB    | ##################################### | 100% \n",
      "Preparing transaction: done\n",
      "Verifying transaction: done\n",
      "Executing transaction: - Enabling notebook extension jupyter-js-widgets/extension...\n",
      "      - Validating: \u001b[32mOK\u001b[0m\n",
      "\n",
      "done\n",
      "Installing pip dependencies: \\ Ran pip subprocess with arguments:\n",
      "['/srv/conda/envs/sliderule/bin/python', '-m', 'pip', 'install', '-U', '-r', '/home/jovyan/Wes_tmp/sliderule-python/condaenv.0rwor10n.requirements.txt']\n",
      "Pip subprocess output:\n",
      "Obtaining file:///home/jovyan/Wes_tmp/sliderule-python (from -r /home/jovyan/Wes_tmp/sliderule-python/condaenv.0rwor10n.requirements.txt (line 1))\n",
      "  Preparing metadata (setup.py): started\n",
      "  Preparing metadata (setup.py): finished with status 'done'\n",
      "Requirement already satisfied: requests in /srv/conda/envs/sliderule/lib/python3.8/site-packages (from sliderule==1.4.0->-r /home/jovyan/Wes_tmp/sliderule-python/condaenv.0rwor10n.requirements.txt (line 1)) (2.27.1)\n",
      "Requirement already satisfied: numpy in /srv/conda/envs/sliderule/lib/python3.8/site-packages (from sliderule==1.4.0->-r /home/jovyan/Wes_tmp/sliderule-python/condaenv.0rwor10n.requirements.txt (line 1)) (1.22.3)\n",
      "Requirement already satisfied: geopandas in /srv/conda/envs/sliderule/lib/python3.8/site-packages (from sliderule==1.4.0->-r /home/jovyan/Wes_tmp/sliderule-python/condaenv.0rwor10n.requirements.txt (line 1)) (0.10.2)\n",
      "Requirement already satisfied: shapely in /srv/conda/envs/sliderule/lib/python3.8/site-packages (from sliderule==1.4.0->-r /home/jovyan/Wes_tmp/sliderule-python/condaenv.0rwor10n.requirements.txt (line 1)) (1.8.0)\n",
      "Requirement already satisfied: gdal in /srv/conda/envs/sliderule/lib/python3.8/site-packages (from sliderule==1.4.0->-r /home/jovyan/Wes_tmp/sliderule-python/condaenv.0rwor10n.requirements.txt (line 1)) (3.4.2)\n",
      "Requirement already satisfied: pandas>=0.25.0 in /srv/conda/envs/sliderule/lib/python3.8/site-packages (from geopandas->sliderule==1.4.0->-r /home/jovyan/Wes_tmp/sliderule-python/condaenv.0rwor10n.requirements.txt (line 1)) (1.4.1)\n",
      "Requirement already satisfied: pyproj>=2.2.0 in /srv/conda/envs/sliderule/lib/python3.8/site-packages (from geopandas->sliderule==1.4.0->-r /home/jovyan/Wes_tmp/sliderule-python/condaenv.0rwor10n.requirements.txt (line 1)) (3.3.0)\n",
      "Requirement already satisfied: fiona>=1.8 in /srv/conda/envs/sliderule/lib/python3.8/site-packages (from geopandas->sliderule==1.4.0->-r /home/jovyan/Wes_tmp/sliderule-python/condaenv.0rwor10n.requirements.txt (line 1)) (1.8.21)\n",
      "Requirement already satisfied: charset-normalizer~=2.0.0 in /srv/conda/envs/sliderule/lib/python3.8/site-packages (from requests->sliderule==1.4.0->-r /home/jovyan/Wes_tmp/sliderule-python/condaenv.0rwor10n.requirements.txt (line 1)) (2.0.12)\n",
      "Requirement already satisfied: certifi>=2017.4.17 in /srv/conda/envs/sliderule/lib/python3.8/site-packages (from requests->sliderule==1.4.0->-r /home/jovyan/Wes_tmp/sliderule-python/condaenv.0rwor10n.requirements.txt (line 1)) (2021.10.8)\n",
      "Requirement already satisfied: urllib3<1.27,>=1.21.1 in /srv/conda/envs/sliderule/lib/python3.8/site-packages (from requests->sliderule==1.4.0->-r /home/jovyan/Wes_tmp/sliderule-python/condaenv.0rwor10n.requirements.txt (line 1)) (1.26.9)\n",
      "Requirement already satisfied: idna<4,>=2.5 in /srv/conda/envs/sliderule/lib/python3.8/site-packages (from requests->sliderule==1.4.0->-r /home/jovyan/Wes_tmp/sliderule-python/condaenv.0rwor10n.requirements.txt (line 1)) (3.3)\n",
      "Requirement already satisfied: six>=1.7 in /srv/conda/envs/sliderule/lib/python3.8/site-packages (from fiona>=1.8->geopandas->sliderule==1.4.0->-r /home/jovyan/Wes_tmp/sliderule-python/condaenv.0rwor10n.requirements.txt (line 1)) (1.16.0)\n",
      "Requirement already satisfied: click>=4.0 in /srv/conda/envs/sliderule/lib/python3.8/site-packages (from fiona>=1.8->geopandas->sliderule==1.4.0->-r /home/jovyan/Wes_tmp/sliderule-python/condaenv.0rwor10n.requirements.txt (line 1)) (8.0.4)\n",
      "Requirement already satisfied: attrs>=17 in /srv/conda/envs/sliderule/lib/python3.8/site-packages (from fiona>=1.8->geopandas->sliderule==1.4.0->-r /home/jovyan/Wes_tmp/sliderule-python/condaenv.0rwor10n.requirements.txt (line 1)) (21.4.0)\n",
      "Requirement already satisfied: click-plugins>=1.0 in /srv/conda/envs/sliderule/lib/python3.8/site-packages (from fiona>=1.8->geopandas->sliderule==1.4.0->-r /home/jovyan/Wes_tmp/sliderule-python/condaenv.0rwor10n.requirements.txt (line 1)) (1.1.1)\n",
      "Requirement already satisfied: munch in /srv/conda/envs/sliderule/lib/python3.8/site-packages (from fiona>=1.8->geopandas->sliderule==1.4.0->-r /home/jovyan/Wes_tmp/sliderule-python/condaenv.0rwor10n.requirements.txt (line 1)) (2.5.0)\n",
      "Requirement already satisfied: setuptools in /srv/conda/envs/sliderule/lib/python3.8/site-packages (from fiona>=1.8->geopandas->sliderule==1.4.0->-r /home/jovyan/Wes_tmp/sliderule-python/condaenv.0rwor10n.requirements.txt (line 1)) (60.10.0)\n",
      "Requirement already satisfied: cligj>=0.5 in /srv/conda/envs/sliderule/lib/python3.8/site-packages (from fiona>=1.8->geopandas->sliderule==1.4.0->-r /home/jovyan/Wes_tmp/sliderule-python/condaenv.0rwor10n.requirements.txt (line 1)) (0.7.2)\n",
      "Requirement already satisfied: python-dateutil>=2.8.1 in /srv/conda/envs/sliderule/lib/python3.8/site-packages (from pandas>=0.25.0->geopandas->sliderule==1.4.0->-r /home/jovyan/Wes_tmp/sliderule-python/condaenv.0rwor10n.requirements.txt (line 1)) (2.8.2)\n",
      "Requirement already satisfied: pytz>=2020.1 in /srv/conda/envs/sliderule/lib/python3.8/site-packages (from pandas>=0.25.0->geopandas->sliderule==1.4.0->-r /home/jovyan/Wes_tmp/sliderule-python/condaenv.0rwor10n.requirements.txt (line 1)) (2022.1)\n",
      "Installing collected packages: sliderule\n",
      "  Running setup.py develop for sliderule\n",
      "Successfully installed sliderule-1.4.0\n",
      "\n",
      "done\n",
      "#\n",
      "# To activate this environment, use\n",
      "#\n",
      "#     $ conda activate sliderule\n",
      "#\n",
      "# To deactivate an active environment, use\n",
      "#\n",
      "#     $ conda deactivate\n",
      "\n"
     ]
    }
   ],
   "source": [
    "!conda env create -f environment.yml"
   ]
  },
  {
   "cell_type": "code",
   "execution_count": null,
   "id": "8ea346ee-039c-44fd-97a5-63bee394aef2",
   "metadata": {},
   "outputs": [],
   "source": [
    "ls -l"
   ]
  },
  {
   "cell_type": "code",
   "execution_count": 14,
   "id": "3bed551b-2548-4f60-abda-7f6c85a13d8a",
   "metadata": {},
   "outputs": [
    {
     "name": "stdout",
     "output_type": "stream",
     "text": [
      "/home/jovyan/Wes_tmp\n"
     ]
    }
   ],
   "source": [
    "cd /home/jovyan/Wes_tmp"
   ]
  },
  {
   "cell_type": "code",
   "execution_count": 7,
   "id": "03217bf9-f575-4bca-be44-0c8f03e9da59",
   "metadata": {},
   "outputs": [],
   "source": [
    "spatialExtent = icesat2.toregion('map.geojson')[\"poly\"]"
   ]
  },
  {
   "cell_type": "code",
   "execution_count": 8,
   "id": "c4ce9fde-9825-414a-a547-b9b0aeb6935c",
   "metadata": {
    "tags": []
   },
   "outputs": [],
   "source": [
    "# create polygon for plotting\n",
    "polygon = Polygon(\n",
    "    locations=spatialExtent,\n",
    "    color=\"green\"\n",
    ")"
   ]
  },
  {
   "cell_type": "code",
   "execution_count": 9,
   "id": "aadea3bf-6901-4dd3-8bb6-2a7cf54fdb0d",
   "metadata": {},
   "outputs": [
    {
     "data": {
      "application/vnd.jupyter.widget-view+json": {
       "model_id": "cccbb7c470774d869784c0c66669b818",
       "version_major": 2,
       "version_minor": 0
      },
      "text/plain": [
       "Map(center=[69.32607888625137, -152.16064453124997], controls=(ZoomControl(options=['position', 'zoom_in_text'…"
      ]
     },
     "metadata": {},
     "output_type": "display_data"
    }
   ],
   "source": [
    "center = [spatialExtent[0]['lat'], spatialExtent[0]['lon']]\n",
    "zoom = 8\n",
    "m = Map(basemap=basemaps.Esri.WorldImagery, center=center, zoom=zoom)\n",
    "m.add_layer(polygon);\n",
    "m"
   ]
  },
  {
   "cell_type": "code",
   "execution_count": 10,
   "id": "3404e687-8658-4773-a30c-c4845b30b99d",
   "metadata": {},
   "outputs": [
    {
     "name": "stdout",
     "output_type": "stream",
     "text": [
      "CPU times: user 5 µs, sys: 2 µs, total: 7 µs\n",
      "Wall time: 8.58 µs\n"
     ]
    }
   ],
   "source": [
    "%%time\n",
    "\n",
    "# build sliderule parameters for ATL03 subsetting request\n",
    "# SRT_LAND = 0\n",
    "# SRT_OCEAN = 1\n",
    "# SRT_SEA_ICE = 2\n",
    "# SRT_LAND_ICE = 3\n",
    "# SRT_INLAND_WATER = 4\n",
    "parms = {\n",
    "    # processing parameters\n",
    " #   \"srt\": icesat2.SRT_LAND,\n",
    "    \"srt\": icesat2.SRT_LAND,\n",
    "    \"len\": 20,\n",
    "    # classification and checks\n",
    "    # still return photon segments that fail checks\n",
    "    \"pass_invalid\": True, \n",
    "    # all photons\n",
    "    \"cnf\": -2, \n",
    "    # all land classification flags\n",
    "    \"atl08_class\": [\"atl08_noise\", \"atl08_ground\", \"atl08_canopy\", \"atl08_top_of_canopy\", \"atl08_unclassified\"],\n",
    "    # all photons\n",
    "    \"yapc\": dict(knn=0, win_h=2, win_x=6, min_ph=4, score=0), \n",
    "}"
   ]
  },
  {
   "cell_type": "code",
   "execution_count": 11,
   "id": "7e57c482-4da5-44c6-97aa-33708e140803",
   "metadata": {},
   "outputs": [],
   "source": [
    "# Set ICESat-2 data asset\n",
    "asset = \"nsidc-s3\"\n",
    "\n",
    "# ICESat-2 data release\n",
    "release = '005'\n",
    "\n",
    "# time bounds for CMR query\n",
    "time_start = '2019-07-10'\n",
    "time_end = '2019-07-20'"
   ]
  },
  {
   "cell_type": "code",
   "execution_count": 12,
   "id": "a5b31391-a706-436a-ad7a-0766c400ec82",
   "metadata": {},
   "outputs": [
    {
     "name": "stderr",
     "output_type": "stream",
     "text": [
      "INFO:sliderule.icesat2:Allocating 21 workers across 7 processing nodes\n",
      "ERROR:sliderule.sliderule:Unexpected termination of response from endpoint http://34.211.113.118/source/atl03s ... retrying request\n",
      "ERROR:sliderule.sliderule:Unexpected termination of response from endpoint http://18.237.166.164/source/atl03s ... retrying request\n",
      "CRITICAL:sliderule.sliderule:http://34.211.113.118 encountered consecutive error 1\n",
      "CRITICAL:sliderule.sliderule:http://18.237.166.164 encountered consecutive error 1\n",
      "ERROR:sliderule.sliderule:Unexpected termination of response from endpoint http://18.237.166.164/source/atl03s ... retrying request\n",
      "CRITICAL:sliderule.sliderule:http://18.237.166.164 encountered consecutive error 2\n",
      "ERROR:sliderule.sliderule:Unexpected termination of response from endpoint http://18.237.166.164/source/atl03s ... retrying request\n",
      "ERROR:sliderule.sliderule:Unexpected termination of response from endpoint http://34.221.248.245/source/atl03s ... retrying request\n",
      "CRITICAL:sliderule.sliderule:http://18.237.166.164 encountered consecutive error 3\n",
      "CRITICAL:sliderule.sliderule:http://34.221.248.245 encountered consecutive error 1\n",
      "ERROR:sliderule.sliderule:Unexpected termination of response from endpoint http://52.41.70.7/source/atl03s ... retrying request\n",
      "CRITICAL:sliderule.sliderule:http://52.41.70.7 encountered consecutive error 1\n",
      "ERROR:sliderule.sliderule:Unexpected termination of response from endpoint http://34.211.113.118/source/atl03s ... retrying request\n",
      "CRITICAL:sliderule.sliderule:http://34.211.113.118 encountered consecutive error 2\n",
      "ERROR:sliderule.sliderule:Unexpected termination of response from endpoint http://34.211.113.118/source/atl03s ... retrying request\n",
      "CRITICAL:sliderule.sliderule:http://34.211.113.118 encountered consecutive error 3\n"
     ]
    },
    {
     "ename": "KeyboardInterrupt",
     "evalue": "",
     "output_type": "error",
     "traceback": [
      "\u001b[0;31m---------------------------------------------------------------------------\u001b[0m",
      "\u001b[0;31mKeyboardInterrupt\u001b[0m                         Traceback (most recent call last)",
      "File \u001b[0;32m/srv/conda/envs/notebook/lib/python3.9/site-packages/sliderule/icesat2.py:532\u001b[0m, in \u001b[0;36m__parallelize\u001b[0;34m(max_workers, callback, function, parm, resources, *args)\u001b[0m\n\u001b[1;32m    531\u001b[0m result_cnt \u001b[38;5;241m=\u001b[39m \u001b[38;5;241m0\u001b[39m\n\u001b[0;32m--> 532\u001b[0m \u001b[38;5;28;01mfor\u001b[39;00m future \u001b[38;5;129;01min\u001b[39;00m concurrent\u001b[38;5;241m.\u001b[39mfutures\u001b[38;5;241m.\u001b[39mas_completed(futures):\n\u001b[1;32m    533\u001b[0m     result_cnt \u001b[38;5;241m+\u001b[39m\u001b[38;5;241m=\u001b[39m \u001b[38;5;241m1\u001b[39m\n",
      "File \u001b[0;32m/srv/conda/envs/notebook/lib/python3.9/concurrent/futures/_base.py:245\u001b[0m, in \u001b[0;36mas_completed\u001b[0;34m(fs, timeout)\u001b[0m\n\u001b[1;32m    241\u001b[0m         \u001b[38;5;28;01mraise\u001b[39;00m \u001b[38;5;167;01mTimeoutError\u001b[39;00m(\n\u001b[1;32m    242\u001b[0m                 \u001b[38;5;124m'\u001b[39m\u001b[38;5;132;01m%d\u001b[39;00m\u001b[38;5;124m (of \u001b[39m\u001b[38;5;132;01m%d\u001b[39;00m\u001b[38;5;124m) futures unfinished\u001b[39m\u001b[38;5;124m'\u001b[39m \u001b[38;5;241m%\u001b[39m (\n\u001b[1;32m    243\u001b[0m                 \u001b[38;5;28mlen\u001b[39m(pending), total_futures))\n\u001b[0;32m--> 245\u001b[0m \u001b[43mwaiter\u001b[49m\u001b[38;5;241;43m.\u001b[39;49m\u001b[43mevent\u001b[49m\u001b[38;5;241;43m.\u001b[39;49m\u001b[43mwait\u001b[49m\u001b[43m(\u001b[49m\u001b[43mwait_timeout\u001b[49m\u001b[43m)\u001b[49m\n\u001b[1;32m    247\u001b[0m \u001b[38;5;28;01mwith\u001b[39;00m waiter\u001b[38;5;241m.\u001b[39mlock:\n",
      "File \u001b[0;32m/srv/conda/envs/notebook/lib/python3.9/threading.py:574\u001b[0m, in \u001b[0;36mEvent.wait\u001b[0;34m(self, timeout)\u001b[0m\n\u001b[1;32m    573\u001b[0m \u001b[38;5;28;01mif\u001b[39;00m \u001b[38;5;129;01mnot\u001b[39;00m signaled:\n\u001b[0;32m--> 574\u001b[0m     signaled \u001b[38;5;241m=\u001b[39m \u001b[38;5;28;43mself\u001b[39;49m\u001b[38;5;241;43m.\u001b[39;49m\u001b[43m_cond\u001b[49m\u001b[38;5;241;43m.\u001b[39;49m\u001b[43mwait\u001b[49m\u001b[43m(\u001b[49m\u001b[43mtimeout\u001b[49m\u001b[43m)\u001b[49m\n\u001b[1;32m    575\u001b[0m \u001b[38;5;28;01mreturn\u001b[39;00m signaled\n",
      "File \u001b[0;32m/srv/conda/envs/notebook/lib/python3.9/threading.py:312\u001b[0m, in \u001b[0;36mCondition.wait\u001b[0;34m(self, timeout)\u001b[0m\n\u001b[1;32m    311\u001b[0m \u001b[38;5;28;01mif\u001b[39;00m timeout \u001b[38;5;129;01mis\u001b[39;00m \u001b[38;5;28;01mNone\u001b[39;00m:\n\u001b[0;32m--> 312\u001b[0m     \u001b[43mwaiter\u001b[49m\u001b[38;5;241;43m.\u001b[39;49m\u001b[43macquire\u001b[49m\u001b[43m(\u001b[49m\u001b[43m)\u001b[49m\n\u001b[1;32m    313\u001b[0m     gotit \u001b[38;5;241m=\u001b[39m \u001b[38;5;28;01mTrue\u001b[39;00m\n",
      "\u001b[0;31mKeyboardInterrupt\u001b[0m: ",
      "\nDuring handling of the above exception, another exception occurred:\n",
      "\u001b[0;31mKeyboardInterrupt\u001b[0m                         Traceback (most recent call last)",
      "Input \u001b[0;32mIn [12]\u001b[0m, in \u001b[0;36m<cell line: 8>\u001b[0;34m()\u001b[0m\n\u001b[1;32m      5\u001b[0m parms[\u001b[38;5;124m\"\u001b[39m\u001b[38;5;124mpoly\u001b[39m\u001b[38;5;124m\"\u001b[39m] \u001b[38;5;241m=\u001b[39m spatialExtent\n\u001b[1;32m      7\u001b[0m \u001b[38;5;66;03m# write output into geodataframe\u001b[39;00m\n\u001b[0;32m----> 8\u001b[0m gdf \u001b[38;5;241m=\u001b[39m \u001b[43micesat2\u001b[49m\u001b[38;5;241;43m.\u001b[39;49m\u001b[43matl03sp\u001b[49m\u001b[43m(\u001b[49m\u001b[43mparms\u001b[49m\u001b[43m,\u001b[49m\u001b[43m \u001b[49m\u001b[43masset\u001b[49m\u001b[38;5;241;43m=\u001b[39;49m\u001b[43masset\u001b[49m\u001b[43m,\u001b[49m\u001b[43m \u001b[49m\u001b[43mversion\u001b[49m\u001b[38;5;241;43m=\u001b[39;49m\u001b[43mrelease\u001b[49m\u001b[43m,\u001b[49m\u001b[43m \u001b[49m\u001b[43mresources\u001b[49m\u001b[38;5;241;43m=\u001b[39;49m\u001b[43mgranules_list\u001b[49m\u001b[43m)\u001b[49m\n",
      "File \u001b[0;32m/srv/conda/envs/notebook/lib/python3.9/site-packages/sliderule/icesat2.py:710\u001b[0m, in \u001b[0;36matl03sp\u001b[0;34m(parm, asset, max_workers, version, callback, resources)\u001b[0m\n\u001b[1;32m    708\u001b[0m         resources \u001b[38;5;241m=\u001b[39m __query_resources(parm, version)\n\u001b[1;32m    709\u001b[0m     max_workers \u001b[38;5;241m=\u001b[39m __query_servers(max_workers)\n\u001b[0;32m--> 710\u001b[0m     \u001b[38;5;28;01mreturn\u001b[39;00m \u001b[43m__parallelize\u001b[49m\u001b[43m(\u001b[49m\u001b[43mmax_workers\u001b[49m\u001b[43m,\u001b[49m\u001b[43m \u001b[49m\u001b[43mcallback\u001b[49m\u001b[43m,\u001b[49m\u001b[43m \u001b[49m\u001b[43m__atl03s\u001b[49m\u001b[43m,\u001b[49m\u001b[43m \u001b[49m\u001b[43mparm\u001b[49m\u001b[43m,\u001b[49m\u001b[43m \u001b[49m\u001b[43mresources\u001b[49m\u001b[43m,\u001b[49m\u001b[43m \u001b[49m\u001b[43masset\u001b[49m\u001b[43m)\u001b[49m\n\u001b[1;32m    711\u001b[0m \u001b[38;5;28;01mexcept\u001b[39;00m \u001b[38;5;167;01mRuntimeError\u001b[39;00m \u001b[38;5;28;01mas\u001b[39;00m e:\n\u001b[1;32m    712\u001b[0m     logger\u001b[38;5;241m.\u001b[39mcritical(e)\n",
      "File \u001b[0;32m/srv/conda/envs/notebook/lib/python3.9/site-packages/sliderule/icesat2.py:540\u001b[0m, in \u001b[0;36m__parallelize\u001b[0;34m(max_workers, callback, function, parm, resources, *args)\u001b[0m\n\u001b[1;32m    538\u001b[0m             \u001b[38;5;28;01melse\u001b[39;00m:\n\u001b[1;32m    539\u001b[0m                 callback(resource, result, result_cnt, total_resources)\n\u001b[0;32m--> 540\u001b[0m         logger\u001b[38;5;241m.\u001b[39minfo(\u001b[38;5;124m\"\u001b[39m\u001b[38;5;132;01m%d\u001b[39;00m\u001b[38;5;124m points returned for \u001b[39m\u001b[38;5;132;01m%s\u001b[39;00m\u001b[38;5;124m (\u001b[39m\u001b[38;5;132;01m%d\u001b[39;00m\u001b[38;5;124m out of \u001b[39m\u001b[38;5;132;01m%d\u001b[39;00m\u001b[38;5;124m resources)\u001b[39m\u001b[38;5;124m\"\u001b[39m, \u001b[38;5;28mlen\u001b[39m(result), resource, result_cnt, total_resources)\n\u001b[1;32m    542\u001b[0m \u001b[38;5;66;03m# Return Results\u001b[39;00m\n\u001b[1;32m    543\u001b[0m \u001b[38;5;28;01mif\u001b[39;00m callback \u001b[38;5;241m==\u001b[39m \u001b[38;5;28;01mNone\u001b[39;00m:\n",
      "File \u001b[0;32m/srv/conda/envs/notebook/lib/python3.9/concurrent/futures/_base.py:637\u001b[0m, in \u001b[0;36mExecutor.__exit__\u001b[0;34m(self, exc_type, exc_val, exc_tb)\u001b[0m\n\u001b[1;32m    636\u001b[0m \u001b[38;5;28;01mdef\u001b[39;00m \u001b[38;5;21m__exit__\u001b[39m(\u001b[38;5;28mself\u001b[39m, exc_type, exc_val, exc_tb):\n\u001b[0;32m--> 637\u001b[0m     \u001b[38;5;28;43mself\u001b[39;49m\u001b[38;5;241;43m.\u001b[39;49m\u001b[43mshutdown\u001b[49m\u001b[43m(\u001b[49m\u001b[43mwait\u001b[49m\u001b[38;5;241;43m=\u001b[39;49m\u001b[38;5;28;43;01mTrue\u001b[39;49;00m\u001b[43m)\u001b[49m\n\u001b[1;32m    638\u001b[0m     \u001b[38;5;28;01mreturn\u001b[39;00m \u001b[38;5;28;01mFalse\u001b[39;00m\n",
      "File \u001b[0;32m/srv/conda/envs/notebook/lib/python3.9/concurrent/futures/thread.py:235\u001b[0m, in \u001b[0;36mThreadPoolExecutor.shutdown\u001b[0;34m(self, wait, cancel_futures)\u001b[0m\n\u001b[1;32m    233\u001b[0m \u001b[38;5;28;01mif\u001b[39;00m wait:\n\u001b[1;32m    234\u001b[0m     \u001b[38;5;28;01mfor\u001b[39;00m t \u001b[38;5;129;01min\u001b[39;00m \u001b[38;5;28mself\u001b[39m\u001b[38;5;241m.\u001b[39m_threads:\n\u001b[0;32m--> 235\u001b[0m         \u001b[43mt\u001b[49m\u001b[38;5;241;43m.\u001b[39;49m\u001b[43mjoin\u001b[49m\u001b[43m(\u001b[49m\u001b[43m)\u001b[49m\n",
      "File \u001b[0;32m/srv/conda/envs/notebook/lib/python3.9/threading.py:1053\u001b[0m, in \u001b[0;36mThread.join\u001b[0;34m(self, timeout)\u001b[0m\n\u001b[1;32m   1050\u001b[0m     \u001b[38;5;28;01mraise\u001b[39;00m \u001b[38;5;167;01mRuntimeError\u001b[39;00m(\u001b[38;5;124m\"\u001b[39m\u001b[38;5;124mcannot join current thread\u001b[39m\u001b[38;5;124m\"\u001b[39m)\n\u001b[1;32m   1052\u001b[0m \u001b[38;5;28;01mif\u001b[39;00m timeout \u001b[38;5;129;01mis\u001b[39;00m \u001b[38;5;28;01mNone\u001b[39;00m:\n\u001b[0;32m-> 1053\u001b[0m     \u001b[38;5;28;43mself\u001b[39;49m\u001b[38;5;241;43m.\u001b[39;49m\u001b[43m_wait_for_tstate_lock\u001b[49m\u001b[43m(\u001b[49m\u001b[43m)\u001b[49m\n\u001b[1;32m   1054\u001b[0m \u001b[38;5;28;01melse\u001b[39;00m:\n\u001b[1;32m   1055\u001b[0m     \u001b[38;5;66;03m# the behavior of a negative timeout isn't documented, but\u001b[39;00m\n\u001b[1;32m   1056\u001b[0m     \u001b[38;5;66;03m# historically .join(timeout=x) for x<0 has acted as if timeout=0\u001b[39;00m\n\u001b[1;32m   1057\u001b[0m     \u001b[38;5;28mself\u001b[39m\u001b[38;5;241m.\u001b[39m_wait_for_tstate_lock(timeout\u001b[38;5;241m=\u001b[39m\u001b[38;5;28mmax\u001b[39m(timeout, \u001b[38;5;241m0\u001b[39m))\n",
      "File \u001b[0;32m/srv/conda/envs/notebook/lib/python3.9/threading.py:1073\u001b[0m, in \u001b[0;36mThread._wait_for_tstate_lock\u001b[0;34m(self, block, timeout)\u001b[0m\n\u001b[1;32m   1070\u001b[0m     \u001b[38;5;28;01mreturn\u001b[39;00m\n\u001b[1;32m   1072\u001b[0m \u001b[38;5;28;01mtry\u001b[39;00m:\n\u001b[0;32m-> 1073\u001b[0m     \u001b[38;5;28;01mif\u001b[39;00m \u001b[43mlock\u001b[49m\u001b[38;5;241;43m.\u001b[39;49m\u001b[43macquire\u001b[49m\u001b[43m(\u001b[49m\u001b[43mblock\u001b[49m\u001b[43m,\u001b[49m\u001b[43m \u001b[49m\u001b[43mtimeout\u001b[49m\u001b[43m)\u001b[49m:\n\u001b[1;32m   1074\u001b[0m         lock\u001b[38;5;241m.\u001b[39mrelease()\n\u001b[1;32m   1075\u001b[0m         \u001b[38;5;28mself\u001b[39m\u001b[38;5;241m.\u001b[39m_stop()\n",
      "\u001b[0;31mKeyboardInterrupt\u001b[0m: "
     ]
    },
    {
     "name": "stderr",
     "output_type": "stream",
     "text": [
      "ERROR:sliderule.sliderule:Unexpected termination of response from endpoint http://54.202.55.133/source/atl03s ... retrying request\n",
      "CRITICAL:sliderule.sliderule:http://54.202.55.133 encountered consecutive error 1\n",
      "ERROR:sliderule.sliderule:Unexpected termination of response from endpoint http://18.236.203.243/source/atl03s ... retrying request\n",
      "CRITICAL:sliderule.sliderule:http://18.236.203.243 encountered consecutive error 1\n",
      "ERROR:sliderule.sliderule:Unexpected termination of response from endpoint http://52.41.70.7/source/atl03s ... retrying request\n",
      "CRITICAL:sliderule.sliderule:http://52.41.70.7 encountered consecutive error 2\n"
     ]
    }
   ],
   "source": [
    "# find granule for each region of interest\n",
    "granules_list = icesat2.cmr(polygon=spatialExtent, time_start=time_start, time_end=time_end, version=release)\n",
    "\n",
    "# create an empty geodataframe\n",
    "parms[\"poly\"] = spatialExtent\n",
    "\n",
    "# write output into geodataframe\n",
    "gdf = icesat2.atl03sp(parms, asset=asset, version=release, resources=granules_list)"
   ]
  },
  {
   "cell_type": "code",
   "execution_count": 59,
   "id": "2df548b1-8c23-4296-9cc7-5d3de8a6b258",
   "metadata": {},
   "outputs": [
    {
     "data": {
      "text/html": [
       "<div>\n",
       "<style scoped>\n",
       "    .dataframe tbody tr th:only-of-type {\n",
       "        vertical-align: middle;\n",
       "    }\n",
       "\n",
       "    .dataframe tbody tr th {\n",
       "        vertical-align: top;\n",
       "    }\n",
       "\n",
       "    .dataframe thead th {\n",
       "        text-align: right;\n",
       "    }\n",
       "</style>\n",
       "<table border=\"1\" class=\"dataframe\">\n",
       "  <thead>\n",
       "    <tr style=\"text-align: right;\">\n",
       "      <th></th>\n",
       "      <th>cycle</th>\n",
       "      <th>segment_dist</th>\n",
       "      <th>segment_id</th>\n",
       "      <th>track</th>\n",
       "      <th>rgt</th>\n",
       "      <th>sc_orient</th>\n",
       "      <th>quality_ph</th>\n",
       "      <th>delta_time</th>\n",
       "      <th>height</th>\n",
       "      <th>atl03_cnf</th>\n",
       "      <th>yapc_score</th>\n",
       "      <th>atl08_class</th>\n",
       "      <th>distance</th>\n",
       "      <th>pair</th>\n",
       "      <th>geometry</th>\n",
       "    </tr>\n",
       "    <tr>\n",
       "      <th>time</th>\n",
       "      <th></th>\n",
       "      <th></th>\n",
       "      <th></th>\n",
       "      <th></th>\n",
       "      <th></th>\n",
       "      <th></th>\n",
       "      <th></th>\n",
       "      <th></th>\n",
       "      <th></th>\n",
       "      <th></th>\n",
       "      <th></th>\n",
       "      <th></th>\n",
       "      <th></th>\n",
       "      <th></th>\n",
       "      <th></th>\n",
       "    </tr>\n",
       "  </thead>\n",
       "  <tbody>\n",
       "    <tr>\n",
       "      <th>2019-07-14 01:41:43.864015240</th>\n",
       "      <td>4</td>\n",
       "      <td>1.286611e+07</td>\n",
       "      <td>642346</td>\n",
       "      <td>3</td>\n",
       "      <td>244</td>\n",
       "      <td>0</td>\n",
       "      <td>0</td>\n",
       "      <td>4.830370e+07</td>\n",
       "      <td>167.423950</td>\n",
       "      <td>0</td>\n",
       "      <td>0</td>\n",
       "      <td>4</td>\n",
       "      <td>-8.519688</td>\n",
       "      <td>0</td>\n",
       "      <td>POINT (-162.95389 64.62952)</td>\n",
       "    </tr>\n",
       "    <tr>\n",
       "      <th>2019-07-14 01:41:43.864015240</th>\n",
       "      <td>4</td>\n",
       "      <td>1.286611e+07</td>\n",
       "      <td>642346</td>\n",
       "      <td>3</td>\n",
       "      <td>244</td>\n",
       "      <td>0</td>\n",
       "      <td>0</td>\n",
       "      <td>4.830370e+07</td>\n",
       "      <td>-271.506531</td>\n",
       "      <td>0</td>\n",
       "      <td>1</td>\n",
       "      <td>4</td>\n",
       "      <td>3.715942</td>\n",
       "      <td>0</td>\n",
       "      <td>POINT (-162.95393 64.62941)</td>\n",
       "    </tr>\n",
       "    <tr>\n",
       "      <th>2019-07-14 01:41:43.864015240</th>\n",
       "      <td>4</td>\n",
       "      <td>1.286611e+07</td>\n",
       "      <td>642346</td>\n",
       "      <td>3</td>\n",
       "      <td>244</td>\n",
       "      <td>0</td>\n",
       "      <td>0</td>\n",
       "      <td>4.830370e+07</td>\n",
       "      <td>-0.217391</td>\n",
       "      <td>0</td>\n",
       "      <td>0</td>\n",
       "      <td>4</td>\n",
       "      <td>-3.846664</td>\n",
       "      <td>0</td>\n",
       "      <td>POINT (-162.95390 64.62948)</td>\n",
       "    </tr>\n",
       "    <tr>\n",
       "      <th>2019-07-14 01:41:43.864015240</th>\n",
       "      <td>4</td>\n",
       "      <td>1.286611e+07</td>\n",
       "      <td>642346</td>\n",
       "      <td>3</td>\n",
       "      <td>244</td>\n",
       "      <td>0</td>\n",
       "      <td>0</td>\n",
       "      <td>4.830370e+07</td>\n",
       "      <td>-187.967499</td>\n",
       "      <td>0</td>\n",
       "      <td>0</td>\n",
       "      <td>4</td>\n",
       "      <td>1.387081</td>\n",
       "      <td>0</td>\n",
       "      <td>POINT (-162.95392 64.62943)</td>\n",
       "    </tr>\n",
       "    <tr>\n",
       "      <th>2019-07-14 01:41:43.864015240</th>\n",
       "      <td>4</td>\n",
       "      <td>1.286611e+07</td>\n",
       "      <td>642346</td>\n",
       "      <td>3</td>\n",
       "      <td>244</td>\n",
       "      <td>0</td>\n",
       "      <td>0</td>\n",
       "      <td>4.830370e+07</td>\n",
       "      <td>-216.398285</td>\n",
       "      <td>0</td>\n",
       "      <td>0</td>\n",
       "      <td>4</td>\n",
       "      <td>2.179764</td>\n",
       "      <td>0</td>\n",
       "      <td>POINT (-162.95393 64.62943)</td>\n",
       "    </tr>\n",
       "  </tbody>\n",
       "</table>\n",
       "</div>"
      ],
      "text/plain": [
       "                               cycle  segment_dist  segment_id  track  rgt  \\\n",
       "time                                                                         \n",
       "2019-07-14 01:41:43.864015240      4  1.286611e+07      642346      3  244   \n",
       "2019-07-14 01:41:43.864015240      4  1.286611e+07      642346      3  244   \n",
       "2019-07-14 01:41:43.864015240      4  1.286611e+07      642346      3  244   \n",
       "2019-07-14 01:41:43.864015240      4  1.286611e+07      642346      3  244   \n",
       "2019-07-14 01:41:43.864015240      4  1.286611e+07      642346      3  244   \n",
       "\n",
       "                               sc_orient  quality_ph    delta_time  \\\n",
       "time                                                                 \n",
       "2019-07-14 01:41:43.864015240          0           0  4.830370e+07   \n",
       "2019-07-14 01:41:43.864015240          0           0  4.830370e+07   \n",
       "2019-07-14 01:41:43.864015240          0           0  4.830370e+07   \n",
       "2019-07-14 01:41:43.864015240          0           0  4.830370e+07   \n",
       "2019-07-14 01:41:43.864015240          0           0  4.830370e+07   \n",
       "\n",
       "                                   height  atl03_cnf  yapc_score  atl08_class  \\\n",
       "time                                                                            \n",
       "2019-07-14 01:41:43.864015240  167.423950          0           0            4   \n",
       "2019-07-14 01:41:43.864015240 -271.506531          0           1            4   \n",
       "2019-07-14 01:41:43.864015240   -0.217391          0           0            4   \n",
       "2019-07-14 01:41:43.864015240 -187.967499          0           0            4   \n",
       "2019-07-14 01:41:43.864015240 -216.398285          0           0            4   \n",
       "\n",
       "                               distance  pair                     geometry  \n",
       "time                                                                        \n",
       "2019-07-14 01:41:43.864015240 -8.519688     0  POINT (-162.95389 64.62952)  \n",
       "2019-07-14 01:41:43.864015240  3.715942     0  POINT (-162.95393 64.62941)  \n",
       "2019-07-14 01:41:43.864015240 -3.846664     0  POINT (-162.95390 64.62948)  \n",
       "2019-07-14 01:41:43.864015240  1.387081     0  POINT (-162.95392 64.62943)  \n",
       "2019-07-14 01:41:43.864015240  2.179764     0  POINT (-162.95393 64.62943)  "
      ]
     },
     "execution_count": 59,
     "metadata": {},
     "output_type": "execute_result"
    }
   ],
   "source": [
    "# look at the resulting geodataframe\n",
    "gdf.head()"
   ]
  },
  {
   "cell_type": "code",
   "execution_count": 37,
   "id": "42d8b2b3-6651-4045-83d0-d8870d1ad230",
   "metadata": {},
   "outputs": [
    {
     "name": "stdout",
     "output_type": "stream",
     "text": [
      "[244 305]\n"
     ]
    }
   ],
   "source": [
    "# get unique RGTs\n",
    "rgtValues = gdf['rgt'].unique()\n",
    "rgtValues.sort()\n",
    "print(rgtValues)"
   ]
  },
  {
   "cell_type": "code",
   "execution_count": 38,
   "id": "8fbf29bb-a550-4bfa-bb87-402f53a8e92a",
   "metadata": {},
   "outputs": [
    {
     "name": "stdout",
     "output_type": "stream",
     "text": [
      "[1 2 3]\n"
     ]
    }
   ],
   "source": [
    "#get unique cycles\n",
    "Tracks = gdf['track'].unique()\n",
    "Tracks.sort()\n",
    "print (Tracks)"
   ]
  },
  {
   "cell_type": "code",
   "execution_count": null,
   "id": "4cf82f11-b29e-4226-97e9-3d8995369aaa",
   "metadata": {},
   "outputs": [],
   "source": [
    "print (whiteMountain)"
   ]
  },
  {
   "cell_type": "code",
   "execution_count": 14,
   "id": "06c24398-c177-43e1-b71a-11315739470e",
   "metadata": {
    "tags": []
   },
   "outputs": [
    {
     "data": {
      "image/png": "[encoded data removed]",
      "text/plain": [
       "<Figure size 432x288 with 1 Axes>"
      ]
     },
     "metadata": {
      "needs_background": "light"
     },
     "output_type": "display_data"
    }
   ],
   "source": [
    "f, ax = plt.subplots()\n",
    "ax.set_title(\"ATL Points\")\n",
    "ax.set_aspect('equal')\n",
    "# FIX THIS TO SHOW EACH RGT value by color\n",
    "gdf.plot(ax=ax, column='rgt', label=\"RGT\")\n",
    "ax.legend(loc=\"upper left\")\n",
    "# Prepare coordinate lists for plotting the region of interest polygon\n",
    "region_lon = [e[\"lon\"] for e in spatialExtent]\n",
    "region_lat = [e[\"lat\"] for e in spatialExtent]\n",
    "ax.plot(region_lon, region_lat, linewidth=1, color='orange');"
   ]
  },
  {
   "cell_type": "code",
   "execution_count": 39,
   "id": "0f0e9758-2cd2-4770-83e3-40a120196423",
   "metadata": {
    "tags": []
   },
   "outputs": [],
   "source": [
    "geo_data = GeoData(geo_dataframe = gdf.sample(n=1000, replace=False, random_state=1),\n",
    "#    style={'color': 'red', 'radius':1, 'fillColor': '#3366cc', 'opacity':0.5, 'weight':1.9, 'dashArray':'2', 'fillOpacity':0.6},\n",
    "    style={'color': 'red', 'radius':1},\n",
    "#    hover_style={'fillColor': 'red' , 'fillOpacity': 0.2},\n",
    "#    point_style={'radius': 1, 'color': 'red', 'fillOpacity': 0.8, 'fillColor': 'blue', 'weight': 3},\n",
    "    point_style={'radius': 1, 'color': 'red', 'fillOpacity': 0.8},\n",
    "    name = 'rgt')\n",
    "m2 = m\n",
    "m2.add_layer(geo_data)"
   ]
  },
  {
   "cell_type": "code",
   "execution_count": 40,
   "id": "c71e70d4-34e2-4cc4-b66f-e2c56d9134c8",
   "metadata": {},
   "outputs": [
    {
     "data": {
      "application/vnd.jupyter.widget-view+json": {
       "model_id": "00527b4601d843289e3275f56b5d842e",
       "version_major": 2,
       "version_minor": 0
      },
      "text/plain": [
       "Map(bottom=17533.0, center=[64.34823209154665, -162.75421142578125], controls=(ZoomControl(options=['position'…"
      ]
     },
     "metadata": {},
     "output_type": "display_data"
    }
   ],
   "source": [
    "m2"
   ]
  },
  {
   "cell_type": "code",
   "execution_count": 60,
   "id": "d9b793f8-55fe-49ae-bb62-c1996ee0b531",
   "metadata": {},
   "outputs": [],
   "source": [
    "#Reduce GeoDataFrame to plot a single beam\n",
    "def reduce_dataframe(gdf, RGT=None, GT=None, track=None, pair=None, cycle=None, beam='', crs=4326):\n",
    "    # convert coordinate reference system\n",
    "    D3 = gdf.to_crs(crs)\n",
    "    # reduce to reference ground track\n",
    "    if RGT is not None:\n",
    "        D3 = D3[D3[\"rgt\"] == RGT]\n",
    "    # reduce to ground track (gt[123][lr]), track ([123]), or pair (l=0, r=1) \n",
    "    gtlookup = {icesat2.GT1L: 1, icesat2.GT1R: 1, icesat2.GT2L: 2, icesat2.GT2R: 2, icesat2.GT3L: 3, icesat2.GT3R: 3}\n",
    "    pairlookup = {icesat2.GT1L: 0, icesat2.GT1R: 1, icesat2.GT2L: 0, icesat2.GT2R: 1, icesat2.GT3L: 0, icesat2.GT3R: 1}\n",
    "    if GT is not None:\n",
    "        D3 = D3[(D3[\"track\"] == gtlookup[GT]) & (D3[\"pair\"] == pairlookup[GT])]\n",
    "    if track is not None:\n",
    "        D3 = D3[D3[\"track\"] == track]\n",
    "    if pair is not None:\n",
    "        D3 = D3[D3[\"pair\"] == pair]\n",
    "    # reduce to weak or strong beams\n",
    "    # tested on cycle 11, where the strong beam in the pair matches the spacecraft orientation.\n",
    "    # Need to check on other cycles\n",
    "    if (beam == 'strong'):\n",
    "        D3 = D3[D3['sc_orient'] == D3['pair']]\n",
    "    elif (beam == 'weak'):\n",
    "        D3 = D3[D3['sc_orient'] != D3['pair']]\n",
    "    # reduce to cycle\n",
    "    if cycle is not None:\n",
    "        D3 = D3[D3[\"cycle\"] == cycle]\n",
    "    # otherwise, return both beams\n",
    "    return D3"
   ]
  },
  {
   "cell_type": "code",
   "execution_count": 61,
   "id": "2b43b499-f597-48a7-a902-21624a9313a1",
   "metadata": {},
   "outputs": [],
   "source": [
    "D3 = reduce_dataframe(gdf, cycle=4, RGT=244, track=1, beam='strong', crs=4326)"
   ]
  },
  {
   "cell_type": "code",
   "execution_count": 62,
   "id": "361a4ee8-7299-446d-9c51-47faf5b48ef6",
   "metadata": {},
   "outputs": [
    {
     "data": {
      "text/plain": [
       "4    233306\n",
       "1     33367\n",
       "0      5574\n",
       "2      2305\n",
       "3       793\n",
       "Name: atl08_class, dtype: int64"
      ]
     },
     "execution_count": 62,
     "metadata": {},
     "output_type": "execute_result"
    }
   ],
   "source": [
    "D3[\"atl08_class\"].value_counts()"
   ]
  },
  {
   "cell_type": "code",
   "execution_count": 63,
   "id": "f0132e3e-8036-41f7-81eb-04f7fa44d22c",
   "metadata": {},
   "outputs": [],
   "source": [
    "def plot_atl08(df):\n",
    " plt.figure(figsize=[8,6])\n",
    "\n",
    " colors={0:['gray', 'noise'], \n",
    "        4:['pink','unclassified'],  \n",
    "        2:['green','canopy'], \n",
    "        3:['lime', 'canopy_top'], \n",
    "        1:['brown', 'ground']}\n",
    " d0=np.min(df['segment_dist'])\n",
    " for class_val, color_name in colors.items():\n",
    "    ii=df['atl08_class']==class_val\n",
    "    plt.plot(df['segment_dist'][ii]+df['distance'][ii]-d0, df['height'][ii],'o', \n",
    "         markersize=1, color=color_name[0], label=color_name[1])\n",
    " hl=plt.legend(loc=3, frameon=False, markerscale=5)\n",
    " #plt.gca().set_xlim([26000, 30000])\n",
    " #plt.gca().set_ylim([2950, 3150])\n",
    "\n",
    " plt.ylabel('height, m')\n",
    " plt.xlabel('$x_{ATC}$, m');"
   ]
  },
  {
   "cell_type": "code",
   "execution_count": 64,
   "id": "7d56c64e-df31-4e35-b3a3-01088ffc6dcd",
   "metadata": {},
   "outputs": [
    {
     "data": {
      "image/png": "[encoded data removed]",
      "text/plain": [
       "<Figure size 576x432 with 1 Axes>"
      ]
     },
     "metadata": {
      "needs_background": "light"
     },
     "output_type": "display_data"
    }
   ],
   "source": [
    "plot_atl08(D3)"
   ]
  },
  {
   "cell_type": "code",
   "execution_count": 54,
   "id": "f62dc96d-bc62-4a15-bec1-5ef4c3e34884",
   "metadata": {},
   "outputs": [],
   "source": [
    "D3 = reduce_dataframe(gdf, cycle=4, RGT=305, track=1, beam='strong', crs=4326)"
   ]
  },
  {
   "cell_type": "code",
   "execution_count": 65,
   "id": "276cc7ec-bb24-4d05-8456-3b37699ed702",
   "metadata": {},
   "outputs": [
    {
     "data": {
      "image/png": "[encoded data removed]",
      "text/plain": [
       "<Figure size 576x432 with 1 Axes>"
      ]
     },
     "metadata": {
      "needs_background": "light"
     },
     "output_type": "display_data"
    }
   ],
   "source": [
    "# Class 0 is noise and Class 4 is unclassified\n",
    "# Lets get rid of the unclassified\n",
    "plot_atl08(D3[D3[\"atl08_class\"] != 4])"
   ]
  },
  {
   "cell_type": "code",
   "execution_count": 2,
   "id": "0778c6cc-70eb-445c-8f89-044d980e53a2",
   "metadata": {},
   "outputs": [],
   "source": [
    "a = 2"
   ]
  },
  {
   "cell_type": "code",
   "execution_count": 3,
   "id": "96c00200-5768-4f53-9464-c62d5e8c4c2d",
   "metadata": {},
   "outputs": [
    {
     "name": "stdout",
     "output_type": "stream",
     "text": [
      "2\n"
     ]
    }
   ],
   "source": [
    "print (a)"
   ]
  },
  {
   "cell_type": "code",
   "execution_count": 23,
   "id": "e22595ad-d7e3-4202-a229-a7da60fb1761",
   "metadata": {},
   "outputs": [],
   "source": [
    "def plot_yapc(df, vmin=100, vmax=255):\n",
    "    plt.figure(figsize=[10,6])\n",
    "\n",
    "    d0=np.min(df['segment_dist'])\n",
    "    ii=np.argsort(df['yapc_score'])\n",
    "    plt.scatter(df['segment_dist'][ii]+df['distance'][ii]-d0,\n",
    "        df['height'][ii],2, c=df['yapc_score'][ii],\n",
    "        vmin=vmin, vmax=vmax, cmap='plasma_r')\n",
    "    plt.colorbar(label='YAPC score')\n",
    "    #plt.gca().set_xlim([26000, 30000])\n",
    "    #plt.gca().set_ylim([2950, 3150])\n",
    "\n",
    "    plt.ylabel('height, m')\n",
    "    plt.xlabel('$x_{ATC}$, m');"
   ]
  },
  {
   "cell_type": "code",
   "execution_count": 25,
   "id": "8d53d362-9e24-4599-be9d-f7caf8760929",
   "metadata": {},
   "outputs": [
    {
     "ename": "SyntaxError",
     "evalue": "invalid syntax (45665504.py, line 2)",
     "output_type": "error",
     "traceback": [
      "\u001b[0;36m  Input \u001b[0;32mIn [25]\u001b[0;36m\u001b[0m\n\u001b[0;31m    plot_yapc(D3, !=4)\u001b[0m\n\u001b[0m                  ^\u001b[0m\n\u001b[0;31mSyntaxError\u001b[0m\u001b[0;31m:\u001b[0m invalid syntax\n"
     ]
    }
   ],
   "source": [
    "plot_yapc(D3)\n",
    "plot_yapc(D3, !=4)"
   ]
  },
  {
   "cell_type": "code",
   "execution_count": 66,
   "id": "a11915e1-c41f-48e9-b771-3d51200b6d3b",
   "metadata": {},
   "outputs": [
    {
     "data": {
      "image/png": "[encoded data removed]",
      "text/plain": [
       "<Figure size 720x432 with 2 Axes>"
      ]
     },
     "metadata": {
      "needs_background": "light"
     },
     "output_type": "display_data"
    }
   ],
   "source": [
    "plot_yapc(D3[D3[\"atl08_class\"] !=4])"
   ]
  },
  {
   "cell_type": "code",
   "execution_count": 27,
   "id": "0f0d26fd-3cae-4af1-9118-97e4e1c6bcfe",
   "metadata": {},
   "outputs": [
    {
     "name": "stdout",
     "output_type": "stream",
     "text": [
      "{'srt': 0, 'len': 20, 'pass_invalid': True, 'cnf': -2, 'atl08_class': ['atl08_noise', 'atl08_ground', 'atl08_canopy', 'atl08_top_of_canopy', 'atl08_unclassified'], 'yapc': {'knn': 0, 'win_h': 6, 'win_x': 11, 'min_ph': 4, 'score': 0}, 'poly': [{'lon': -162.75421142578125, 'lat': 64.34823209154665}, {'lon': -162.77893066406247, 'lat': 64.54607936653424}, {'lon': -163.3062744140625, 'lat': 64.79518717004242}, {'lon': -163.69903564453122, 'lat': 64.69910544204765}, {'lon': -163.16619873046875, 'lat': 64.4064312702572}, {'lon': -162.75421142578125, 'lat': 64.34823209154665}]}\n"
     ]
    }
   ],
   "source": [
    "print (parms)"
   ]
  },
  {
   "cell_type": "code",
   "execution_count": 4,
   "id": "0595fab4-ccd9-4e56-95ec-a687c6dcec74",
   "metadata": {},
   "outputs": [],
   "source": [
    "cp /home/jovyan/coastal_topobathy/DataDownload/PBay_GeoJSON.geojson /home/jovyan/Wes_tmp"
   ]
  },
  {
   "cell_type": "code",
   "execution_count": null,
   "id": "53d63187-aed5-499d-bdee-0a4527b0a9b1",
   "metadata": {},
   "outputs": [
    {
     "ename": "SyntaxError",
     "evalue": "invalid syntax (3052261572.py, line 1)",
     "output_type": "error",
     "traceback": [
      "\u001b[0;36m  Input \u001b[0;32mIn [9]\u001b[0;36m\u001b[0m\n\u001b[0;31m    activate sliderule\u001b[0m\n\u001b[0m             ^\u001b[0m\n\u001b[0;31mSyntaxError\u001b[0m\u001b[0;31m:\u001b[0m invalid syntax\n"
     ]
    }
   ],
   "source": [
    "activate sliderule"
   ]
  },
  {
   "cell_type": "code",
   "execution_count": 1,
   "id": "9e9eae3b-17e6-4d9c-bc2d-83c1fbb7653f",
   "metadata": {},
   "outputs": [
    {
     "name": "stdout",
     "output_type": "stream",
     "text": [
      "\n",
      "CommandNotFoundError: Your shell has not been properly configured to use 'conda activate'.\n",
      "To initialize your shell, run\n",
      "\n",
      "    $ conda init <SHELL_NAME>\n",
      "\n",
      "Currently supported shells are:\n",
      "  - bash\n",
      "  - fish\n",
      "  - tcsh\n",
      "  - xonsh\n",
      "  - zsh\n",
      "  - powershell\n",
      "\n",
      "See 'conda init --help' for more information and options.\n",
      "\n",
      "IMPORTANT: You may need to close and restart your shell after running 'conda init'.\n",
      "\n",
      "\n",
      "\n",
      "Note: you may need to restart the kernel to use updated packages.\n"
     ]
    }
   ],
   "source": [
    "conda activate sliderule"
   ]
  },
  {
   "cell_type": "code",
   "execution_count": 5,
   "id": "5893440f-0d7b-4a73-81fd-3d41edb8481a",
   "metadata": {},
   "outputs": [
    {
     "data": {
      "text/plain": [
       "'/home/jovyan/Wes_tmp/sliderule-python'"
      ]
     },
     "execution_count": 5,
     "metadata": {},
     "output_type": "execute_result"
    }
   ],
   "source": [
    "pwd"
   ]
  },
  {
   "cell_type": "code",
   "execution_count": 6,
   "id": "3ef56cd6-d5c3-4f7a-9b8f-2828908111fe",
   "metadata": {},
   "outputs": [
    {
     "name": "stdout",
     "output_type": "stream",
     "text": [
      "/home/jovyan/Wes_tmp\n"
     ]
    }
   ],
   "source": [
    "cd /home/jovyan/Wes_tmp"
   ]
  },
  {
   "cell_type": "code",
   "execution_count": null,
   "id": "72f36a0e-aa6a-4316-86cf-d06266104655",
   "metadata": {},
   "outputs": [],
   "source": []
  }
 ],
 "metadata": {
  "kernelspec": {
   "display_name": "Python 3 (ipykernel)",
   "language": "python",
   "name": "python3"
  },
  "language_info": {
   "codemirror_mode": {
    "name": "ipython",
    "version": 3
   },
   "file_extension": ".py",
   "mimetype": "text/x-python",
   "name": "python",
   "nbconvert_exporter": "python",
   "pygments_lexer": "ipython3",
   "version": "3.9.10"
  }
 },
 "nbformat": 4,
 "nbformat_minor": 5
}
