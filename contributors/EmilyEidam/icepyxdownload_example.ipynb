{
 "cells": [
  {
   "cell_type": "code",
   "execution_count": null,
   "id": "53eccf70-25f6-45de-b503-31261a5fcb39",
   "metadata": {},
   "outputs": [],
   "source": [
    "import icepyx as ipx\n",
    "# import os\n",
    "# import shutil\n",
    "%matplotlib inline\n",
    "\n"
   ]
  },
  {
   "cell_type": "code",
   "execution_count": null,
   "id": "bfd51759-6b94-463f-8e48-d4449f4fc8a8",
   "metadata": {},
   "outputs": [],
   "source": [
    "# polygon vertices\n",
    "short_name = 'ATL13'\n",
    "# box: northern AK coast, AK/CA border\n",
    "spatial_extent = [(-141.4, 69.55), (-141.4,  69.8), (-139.9,  69.8), (-139.9,  69.55), (-141.4, 69.55)]\n",
    "date_range = ['2020-07-01','2020-08-31']\n",
    "# cycles=['03','04','05','06','07']\n",
    "# tracks=['98','540','982','1043']"
   ]
  },
  {
   "cell_type": "code",
   "execution_count": null,
   "id": "4fdaf458-96ea-4b4d-a028-777a3407bdd4",
   "metadata": {},
   "outputs": [],
   "source": [
    "# polygon geospatial file (metadata match but no subset match)\n",
    "# short_name = 'ATL06'\n",
    "# spatial_extent = './supporting_files/data-access_PineIsland/glims_polygons.kml'\n",
    "# date_range = ['2019-02-22','2019-02-28']\n",
    "\n",
    "# #polygon geospatial file (subset and metadata match)\n",
    "# short_name = 'ATL06'\n",
    "# spatial_extent = './supporting_files/data-access_PineIsland/glims_polygons.shp'\n",
    "# date_range = ['2019-10-01','2019-10-05']\n",
    "\n",
    "# #polygon geospatial file (same area as other examples; subset and metadata match)\n",
    "# short_name = 'ATL06'\n",
    "# spatial_extent = './supporting_files/simple_test_poly.gpkg'\n",
    "# date_range = ['2019-10-01','2019-10-05']"
   ]
  },
  {
   "cell_type": "code",
   "execution_count": null,
   "id": "b755bd31-d4d6-47d6-b8e9-69dc3d3d71a0",
   "metadata": {},
   "outputs": [],
   "source": [
    "region_a = ipx.Query(short_name, spatial_extent, date_range)"
   ]
  },
  {
   "cell_type": "code",
   "execution_count": null,
   "id": "7719b781-10b0-4adb-b733-f1ba8b5ecea0",
   "metadata": {},
   "outputs": [],
   "source": [
    "# # using orbital parameters with one of the above data products + spatial parameters\n",
    "# region_a = ipx.Query(short_name, spatial_extent, date_range,\n",
    "#    cycles=['03','04','05','06','07'], tracks=['98','540','982','1043'])\n",
    "\n",
    "# print(region_a.product)\n",
    "# print(region_a.product_version)\n",
    "# print(region_a.cycles)\n",
    "# print(region_a.tracks)"
   ]
  },
  {
   "cell_type": "code",
   "execution_count": null,
   "id": "130a8a2f-b528-47ca-aae6-c40acfdb4e41",
   "metadata": {},
   "outputs": [],
   "source": [
    "print(region_a.product)\n",
    "print(region_a.dates)\n",
    "print(region_a.start_time)\n",
    "print(region_a.end_time)\n",
    "print(region_a.cycles)\n",
    "print(region_a.tracks)\n",
    "print(region_a.product_version)\n",
    "# print(region_a.spatial_extent)\n",
    "region_a.visualize_spatial_extent()"
   ]
  },
  {
   "cell_type": "code",
   "execution_count": null,
   "id": "51887211-6c4f-4377-b12b-d51450ec5298",
   "metadata": {},
   "outputs": [],
   "source": [
    "# region_a = ipx.Query(short_name, spatial_extent, date_range, \\\n",
    "#    start_time='03:30:00', end_time='21:30:00', version='002')\n",
    "\n",
    "# print(region_a.product)\n",
    "# print(region_a.dates)\n",
    "# print(region_a.start_time)\n",
    "# print(region_a.end_time)\n",
    "# print(region_a.product_version)\n",
    "# print(region_a.spatial_extent)"
   ]
  },
  {
   "cell_type": "code",
   "execution_count": null,
   "id": "4e506e64-be25-4c34-981b-076025371d5a",
   "metadata": {},
   "outputs": [],
   "source": [
    "# region_a.CMRparams\n",
    "# region_a.avail_granules()\n",
    "# region_a.avail_granules(ids=True)\n",
    "# region_a.granules.avail"
   ]
  },
  {
   "cell_type": "code",
   "execution_count": null,
   "id": "67bba399-2f1b-4090-ac23-21f5b6bde60a",
   "metadata": {},
   "outputs": [],
   "source": [
    "earthdata_uid = 'efeidam'\n",
    "email = 'efe@unc.edu'\n",
    "region_a.earthdata_login(earthdata_uid, email)"
   ]
  },
  {
   "cell_type": "code",
   "execution_count": null,
   "id": "7c73cc76-a0dc-4ce9-b8ba-50a5612c11fd",
   "metadata": {},
   "outputs": [],
   "source": [
    "print(region_a.reqparams)\n",
    "# region_a.reqparams['page_size'] = 9\n",
    "# print(region_a.reqparams)"
   ]
  },
  {
   "cell_type": "code",
   "execution_count": null,
   "id": "2fa8e67b-f7a7-4e2d-bfb7-5750d1f0e431",
   "metadata": {},
   "outputs": [],
   "source": [
    "region_a.order_granules()"
   ]
  },
  {
   "cell_type": "code",
   "execution_count": null,
   "id": "d28ad690-6c7f-4eb3-949e-f0a0b100dd76",
   "metadata": {},
   "outputs": [],
   "source": [
    "region_a.granules.orderIDs"
   ]
  },
  {
   "cell_type": "code",
   "execution_count": null,
   "id": "cb3d8f53-005f-4dbc-abfb-bf2f1a73a199",
   "metadata": {},
   "outputs": [],
   "source": [
    "region_a.download_granules(\"/home/jovyan/coastaldata\")"
   ]
  },
  {
   "cell_type": "code",
   "execution_count": null,
   "id": "5dd9914a-202c-45d5-ab66-529e7e81d14b",
   "metadata": {},
   "outputs": [],
   "source": []
  }
 ],
 "metadata": {
  "kernelspec": {
   "display_name": "Python 3 (ipykernel)",
   "language": "python",
   "name": "python3"
  },
  "language_info": {
   "codemirror_mode": {
    "name": "ipython",
    "version": 3
   },
   "file_extension": ".py",
   "mimetype": "text/x-python",
   "name": "python",
   "nbconvert_exporter": "python",
   "pygments_lexer": "ipython3",
   "version": "3.9.10"
  }
 },
 "nbformat": 4,
 "nbformat_minor": 5
}
